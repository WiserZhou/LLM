{
  "nbformat": 4,
  "nbformat_minor": 0,
  "metadata": {
    "colab": {
      "provenance": [],
      "machine_shape": "hm"
    },
    "kernelspec": {
      "name": "python3",
      "display_name": "Python 3"
    },
    "accelerator": "GPU",
    "widgets": {
      "application/vnd.jupyter.widget-state+json": {
        "2c865516acc64642862cfee4a814a3ae": {
          "model_module": "@jupyter-widgets/output",
          "model_name": "OutputModel",
          "model_module_version": "1.0.0",
          "state": {
            "_dom_classes": [],
            "_model_module": "@jupyter-widgets/output",
            "_model_module_version": "1.0.0",
            "_model_name": "OutputModel",
            "_view_count": null,
            "_view_module": "@jupyter-widgets/output",
            "_view_module_version": "1.0.0",
            "_view_name": "OutputView",
            "layout": "IPY_MODEL_ea4e9e6cd3794596932e43e41caa30f9",
            "msg_id": "",
            "outputs": [
              {
                "output_type": "display_data",
                "data": {
                  "text/plain": "epoch progress \u001b[38;2;249;38;114m━━━━━━━━━━━━━━━━━━━━━━━━━━━━━━━━━━━━━━━\u001b[0m\u001b[38;2;249;38;114m╸\u001b[0m \u001b[35m100%\u001b[0m \u001b[36m0:00:10\u001b[0m \u001b[33m0:31:38\u001b[0m\nbatch_progress \u001b[38;2;249;38;114m━━━━━━━━━━━━━━━━━━━━━━━━━━━━━━━━━━━━━━━\u001b[0m\u001b[38;2;249;38;114m╸\u001b[0m \u001b[35m 99%\u001b[0m \u001b[36m0:00:01\u001b[0m \u001b[33m0:00:09\u001b[0m\n",
                  "text/html": "<pre style=\"white-space:pre;overflow-x:auto;line-height:normal;font-family:Menlo,'DejaVu Sans Mono',consolas,'Courier New',monospace\">epoch progress <span style=\"color: #f92672; text-decoration-color: #f92672\">━━━━━━━━━━━━━━━━━━━━━━━━━━━━━━━━━━━━━━━╸</span> <span style=\"color: #800080; text-decoration-color: #800080\">100%</span> <span style=\"color: #008080; text-decoration-color: #008080\">0:00:10</span> <span style=\"color: #808000; text-decoration-color: #808000\">0:31:38</span>\nbatch_progress <span style=\"color: #f92672; text-decoration-color: #f92672\">━━━━━━━━━━━━━━━━━━━━━━━━━━━━━━━━━━━━━━━╸</span> <span style=\"color: #800080; text-decoration-color: #800080\"> 99%</span> <span style=\"color: #008080; text-decoration-color: #008080\">0:00:01</span> <span style=\"color: #808000; text-decoration-color: #808000\">0:00:09</span>\n</pre>\n"
                },
                "metadata": {}
              }
            ]
          }
        },
        "ea4e9e6cd3794596932e43e41caa30f9": {
          "model_module": "@jupyter-widgets/base",
          "model_name": "LayoutModel",
          "model_module_version": "1.2.0",
          "state": {
            "_model_module": "@jupyter-widgets/base",
            "_model_module_version": "1.2.0",
            "_model_name": "LayoutModel",
            "_view_count": null,
            "_view_module": "@jupyter-widgets/base",
            "_view_module_version": "1.2.0",
            "_view_name": "LayoutView",
            "align_content": null,
            "align_items": null,
            "align_self": null,
            "border": null,
            "bottom": null,
            "display": null,
            "flex": null,
            "flex_flow": null,
            "grid_area": null,
            "grid_auto_columns": null,
            "grid_auto_flow": null,
            "grid_auto_rows": null,
            "grid_column": null,
            "grid_gap": null,
            "grid_row": null,
            "grid_template_areas": null,
            "grid_template_columns": null,
            "grid_template_rows": null,
            "height": null,
            "justify_content": null,
            "justify_items": null,
            "left": null,
            "margin": null,
            "max_height": null,
            "max_width": null,
            "min_height": null,
            "min_width": null,
            "object_fit": null,
            "object_position": null,
            "order": null,
            "overflow": null,
            "overflow_x": null,
            "overflow_y": null,
            "padding": null,
            "right": null,
            "top": null,
            "visibility": null,
            "width": null
          }
        },
        "33f2860c16b24fc2b00024c65762cdea": {
          "model_module": "@jupyter-widgets/output",
          "model_name": "OutputModel",
          "model_module_version": "1.0.0",
          "state": {
            "_dom_classes": [],
            "_model_module": "@jupyter-widgets/output",
            "_model_module_version": "1.0.0",
            "_model_name": "OutputModel",
            "_view_count": null,
            "_view_module": "@jupyter-widgets/output",
            "_view_module_version": "1.0.0",
            "_view_name": "OutputView",
            "layout": "IPY_MODEL_588fabe7b91542deb1c03fb01542f5b7",
            "msg_id": "",
            "outputs": [
              {
                "output_type": "display_data",
                "data": {
                  "text/plain": "inference progress \u001b[38;2;249;38;114m━━━━━━━━━━━━━━━━━━━━━━━━━━━━━━━━━━━━━━━\u001b[0m\u001b[38;2;249;38;114m╸\u001b[0m \u001b[35m100%\u001b[0m \u001b[36m0:00:01\u001b[0m \u001b[33m0:00:52\u001b[0m\n",
                  "text/html": "<pre style=\"white-space:pre;overflow-x:auto;line-height:normal;font-family:Menlo,'DejaVu Sans Mono',consolas,'Courier New',monospace\">inference progress <span style=\"color: #f92672; text-decoration-color: #f92672\">━━━━━━━━━━━━━━━━━━━━━━━━━━━━━━━━━━━━━━━╸</span> <span style=\"color: #800080; text-decoration-color: #800080\">100%</span> <span style=\"color: #008080; text-decoration-color: #008080\">0:00:01</span> <span style=\"color: #808000; text-decoration-color: #808000\">0:00:52</span>\n</pre>\n"
                },
                "metadata": {}
              }
            ]
          }
        },
        "588fabe7b91542deb1c03fb01542f5b7": {
          "model_module": "@jupyter-widgets/base",
          "model_name": "LayoutModel",
          "model_module_version": "1.2.0",
          "state": {
            "_model_module": "@jupyter-widgets/base",
            "_model_module_version": "1.2.0",
            "_model_name": "LayoutModel",
            "_view_count": null,
            "_view_module": "@jupyter-widgets/base",
            "_view_module_version": "1.2.0",
            "_view_name": "LayoutView",
            "align_content": null,
            "align_items": null,
            "align_self": null,
            "border": null,
            "bottom": null,
            "display": null,
            "flex": null,
            "flex_flow": null,
            "grid_area": null,
            "grid_auto_columns": null,
            "grid_auto_flow": null,
            "grid_auto_rows": null,
            "grid_column": null,
            "grid_gap": null,
            "grid_row": null,
            "grid_template_areas": null,
            "grid_template_columns": null,
            "grid_template_rows": null,
            "height": null,
            "justify_content": null,
            "justify_items": null,
            "left": null,
            "margin": null,
            "max_height": null,
            "max_width": null,
            "min_height": null,
            "min_width": null,
            "object_fit": null,
            "object_position": null,
            "order": null,
            "overflow": null,
            "overflow_x": null,
            "overflow_y": null,
            "padding": null,
            "right": null,
            "top": null,
            "visibility": null,
            "width": null
          }
        }
      }
    }
  },
  "cells": [
    {
      "cell_type": "markdown",
      "metadata": {
        "id": "b5cFq_TgWlQ_"
      },
      "source": [
        "# Homework 11 - Transfer Learning (Domain Adversarial Training)\n",
        "\n",
        "> Author: Howard Wang (b08902047@ntu.edu.tw)\n",
        "\n",
        "If there are any questions, please contact mlta-2023-spring@googlegroups.com"
      ]
    },
    {
      "cell_type": "markdown",
      "metadata": {
        "id": "vNiZCGrIYKdR"
      },
      "source": [
        "# Readme\n",
        "\n",
        "In homework 11, you will need to implement Domain Adversarial Training in Transfer Learning. As shown in the bottom left part of the figure.\n",
        "\n",
        "<img src=\"https://i.imgur.com/iMVIxCH.png\" width=\"500px\">\n",
        "\n",
        "> \n",
        "\n",
        "## Scenario and Why Domain Adversarial Training\n",
        "Now we have labeled source data and unlabeled target data, where source data might be relavent to the target data. We now want to train a model with source data only and test it on target data.\n",
        "\n",
        "What problem might occur if we do so? After we have learned Anomaly Detection, we now know that if we test the model with an abnormal data that have never appeared in source data, our trained model is likely to result in poor performance since it is not familiar with the abnormal data.\n",
        "\n",
        "For example, we have a model that contains Feature Extractor and Classifier:\n",
        "<img src=\"https://i.imgur.com/IL0PxCY.png\" width=\"500px\">\n",
        "\n",
        "When the model is trained with source data, the feature extractor \n",
        "will extract meaningful features since it is familiar with the distribution of it.It could be seen in the following figure that the blue dots, which is the distribution of source data, has already been clustered into different clusters. Therefore, the Classifier can predict the label based on these clusters.\n",
        "\n",
        "However, when test on the target data, the Feature Extractor will not be able to extract meaningful features that follow the distribution of the source feature distribution, which result in the classifier learned for the source domain will not be able to apply to the target domain.\n",
        "\n",
        "\n",
        "## Domain Adversarial Training of Nerural Networks (DaNN)\n",
        "\n",
        "Based on the above problems, DaNN approaches build mappings between the source (training-time) and the target (test-time) domains, so that the classifier learned for the source domain can also be applied to the target domain, when composed with the learned mapping between domains.\n",
        "\n",
        "<img src=\"https://i.imgur.com/vrOE5a6.png\" width=\"500px\">\n",
        "\n",
        "In DaNN, the authors added a Domain Classifier, which is a deep discriminatively-trained classifeir in the training framework to distinguish the data from different domain by the features extracted by the feature extractor. As the training progresses, the approach promotes a domain classifier that discriminates between the source and the target domains and a feature extractor that can extractor features that are discriminative for the main learning task on the source domain and indiscriminate with respect to the shift between the domains. \n",
        "\n",
        "\n",
        "The feature extractor are likely to outperform the domain classifier as its input are generated by the feature extractor and that the task of domain classification and label classification are not conflict.\n",
        "\n",
        "This method leads to the emergence of features that are domain-invariant and on the same feature distribution."
      ]
    },
    {
      "cell_type": "markdown",
      "metadata": {
        "id": "3-qnUkspmap3"
      },
      "source": [
        "# Data Introduce\n",
        "\n",
        "Our task contains source data: real photos, and target data: hand-drawn graffiti.\n",
        "\n",
        "We are going to train the model with the photos and the labels, and try to predict what the labels are for hand-drawn graffiti.\n",
        "\n",
        "The data could be downloaded [here](https://github.com/redxouls/ml2020spring-hw11-dataset/releases/download/v1.0.0/real_or_drawing.zip). The code below is for data downloading and visualization.\n",
        "\n",
        "Note that: **The source and target data are all balanced data, you can make use of this information.**"
      ]
    },
    {
      "cell_type": "code",
      "metadata": {
        "id": "DF-i0sVlnUbq",
        "colab": {
          "base_uri": "https://localhost:8080/"
        },
        "outputId": "db9c3dbb-22d6-4c72-d6d5-7fa18322a51e"
      },
      "source": [
        "# Download dataset\n",
        "!wget \"https://github.com/redxouls/ml2020spring-hw11-dataset/releases/download/v1.0.0/real_or_drawing.zip\" -O real_or_drawing.zip\n",
        "\n",
        "# Download from mirrored dataset link\n",
        "# !wget \"https://github.com/redxouls/ml2020spring-hw11-dataset/releases/download/v1.0.1/real_or_drawing.zip\" -O real_or_drawing.zip\n",
        "# !wget \"https://github.com/redxouls/ml2020spring-hw11-dataset/releases/download/v1.0.2/real_or_drawing.zip\" -O real_or_drawing.zip\n",
        "\n",
        "# Unzip the files\n",
        "!unzip real_or_drawing.zip"
      ],
      "execution_count": null,
      "outputs": [
        {
          "output_type": "stream",
          "name": "stdout",
          "text": [
            "\u001b[1;30;43mStreaming output truncated to the last 5000 lines.\u001b[0m\n",
            "  inflating: real_or_drawing/train_data/0/106.bmp  \n",
            "  inflating: real_or_drawing/train_data/0/107.bmp  \n",
            "  inflating: real_or_drawing/train_data/0/108.bmp  \n",
            "  inflating: real_or_drawing/train_data/0/109.bmp  \n",
            "  inflating: real_or_drawing/train_data/0/11.bmp  \n",
            "  inflating: real_or_drawing/train_data/0/110.bmp  \n",
            "  inflating: real_or_drawing/train_data/0/111.bmp  \n",
            "  inflating: real_or_drawing/train_data/0/112.bmp  \n",
            "  inflating: real_or_drawing/train_data/0/113.bmp  \n",
            "  inflating: real_or_drawing/train_data/0/114.bmp  \n",
            "  inflating: real_or_drawing/train_data/0/115.bmp  \n",
            "  inflating: real_or_drawing/train_data/0/116.bmp  \n",
            "  inflating: real_or_drawing/train_data/0/117.bmp  \n",
            "  inflating: real_or_drawing/train_data/0/118.bmp  \n",
            "  inflating: real_or_drawing/train_data/0/119.bmp  \n",
            "  inflating: real_or_drawing/train_data/0/12.bmp  \n",
            "  inflating: real_or_drawing/train_data/0/120.bmp  \n",
            "  inflating: real_or_drawing/train_data/0/121.bmp  \n",
            "  inflating: real_or_drawing/train_data/0/122.bmp  \n",
            "  inflating: real_or_drawing/train_data/0/123.bmp  \n",
            "  inflating: real_or_drawing/train_data/0/124.bmp  \n",
            "  inflating: real_or_drawing/train_data/0/125.bmp  \n",
            "  inflating: real_or_drawing/train_data/0/126.bmp  \n",
            "  inflating: real_or_drawing/train_data/0/127.bmp  \n",
            "  inflating: real_or_drawing/train_data/0/128.bmp  \n",
            "  inflating: real_or_drawing/train_data/0/129.bmp  \n",
            "  inflating: real_or_drawing/train_data/0/13.bmp  \n",
            "  inflating: real_or_drawing/train_data/0/130.bmp  \n",
            "  inflating: real_or_drawing/train_data/0/131.bmp  \n",
            "  inflating: real_or_drawing/train_data/0/132.bmp  \n",
            "  inflating: real_or_drawing/train_data/0/133.bmp  \n",
            "  inflating: real_or_drawing/train_data/0/134.bmp  \n",
            "  inflating: real_or_drawing/train_data/0/135.bmp  \n",
            "  inflating: real_or_drawing/train_data/0/136.bmp  \n",
            "  inflating: real_or_drawing/train_data/0/137.bmp  \n",
            "  inflating: real_or_drawing/train_data/0/138.bmp  \n",
            "  inflating: real_or_drawing/train_data/0/139.bmp  \n",
            "  inflating: real_or_drawing/train_data/0/14.bmp  \n",
            "  inflating: real_or_drawing/train_data/0/140.bmp  \n",
            "  inflating: real_or_drawing/train_data/0/141.bmp  \n",
            "  inflating: real_or_drawing/train_data/0/142.bmp  \n",
            "  inflating: real_or_drawing/train_data/0/143.bmp  \n",
            "  inflating: real_or_drawing/train_data/0/144.bmp  \n",
            "  inflating: real_or_drawing/train_data/0/145.bmp  \n",
            "  inflating: real_or_drawing/train_data/0/146.bmp  \n",
            "  inflating: real_or_drawing/train_data/0/147.bmp  \n",
            "  inflating: real_or_drawing/train_data/0/148.bmp  \n",
            "  inflating: real_or_drawing/train_data/0/149.bmp  \n",
            "  inflating: real_or_drawing/train_data/0/15.bmp  \n",
            "  inflating: real_or_drawing/train_data/0/150.bmp  \n",
            "  inflating: real_or_drawing/train_data/0/151.bmp  \n",
            "  inflating: real_or_drawing/train_data/0/152.bmp  \n",
            "  inflating: real_or_drawing/train_data/0/153.bmp  \n",
            "  inflating: real_or_drawing/train_data/0/154.bmp  \n",
            "  inflating: real_or_drawing/train_data/0/155.bmp  \n",
            "  inflating: real_or_drawing/train_data/0/156.bmp  \n",
            "  inflating: real_or_drawing/train_data/0/157.bmp  \n",
            "  inflating: real_or_drawing/train_data/0/158.bmp  \n",
            "  inflating: real_or_drawing/train_data/0/159.bmp  \n",
            "  inflating: real_or_drawing/train_data/0/16.bmp  \n",
            "  inflating: real_or_drawing/train_data/0/160.bmp  \n",
            "  inflating: real_or_drawing/train_data/0/161.bmp  \n",
            "  inflating: real_or_drawing/train_data/0/162.bmp  \n",
            "  inflating: real_or_drawing/train_data/0/163.bmp  \n",
            "  inflating: real_or_drawing/train_data/0/164.bmp  \n",
            "  inflating: real_or_drawing/train_data/0/165.bmp  \n",
            "  inflating: real_or_drawing/train_data/0/166.bmp  \n",
            "  inflating: real_or_drawing/train_data/0/167.bmp  \n",
            "  inflating: real_or_drawing/train_data/0/168.bmp  \n",
            "  inflating: real_or_drawing/train_data/0/169.bmp  \n",
            "  inflating: real_or_drawing/train_data/0/17.bmp  \n",
            "  inflating: real_or_drawing/train_data/0/170.bmp  \n",
            "  inflating: real_or_drawing/train_data/0/171.bmp  \n",
            "  inflating: real_or_drawing/train_data/0/172.bmp  \n",
            "  inflating: real_or_drawing/train_data/0/173.bmp  \n",
            "  inflating: real_or_drawing/train_data/0/174.bmp  \n",
            "  inflating: real_or_drawing/train_data/0/175.bmp  \n",
            "  inflating: real_or_drawing/train_data/0/176.bmp  \n",
            "  inflating: real_or_drawing/train_data/0/177.bmp  \n",
            "  inflating: real_or_drawing/train_data/0/178.bmp  \n",
            "  inflating: real_or_drawing/train_data/0/179.bmp  \n",
            "  inflating: real_or_drawing/train_data/0/18.bmp  \n",
            "  inflating: real_or_drawing/train_data/0/180.bmp  \n",
            "  inflating: real_or_drawing/train_data/0/181.bmp  \n",
            "  inflating: real_or_drawing/train_data/0/182.bmp  \n",
            "  inflating: real_or_drawing/train_data/0/183.bmp  \n",
            "  inflating: real_or_drawing/train_data/0/184.bmp  \n",
            "  inflating: real_or_drawing/train_data/0/185.bmp  \n",
            "  inflating: real_or_drawing/train_data/0/186.bmp  \n",
            "  inflating: real_or_drawing/train_data/0/187.bmp  \n",
            "  inflating: real_or_drawing/train_data/0/188.bmp  \n",
            "  inflating: real_or_drawing/train_data/0/189.bmp  \n",
            "  inflating: real_or_drawing/train_data/0/19.bmp  \n",
            "  inflating: real_or_drawing/train_data/0/190.bmp  \n",
            "  inflating: real_or_drawing/train_data/0/191.bmp  \n",
            "  inflating: real_or_drawing/train_data/0/192.bmp  \n",
            "  inflating: real_or_drawing/train_data/0/193.bmp  \n",
            "  inflating: real_or_drawing/train_data/0/194.bmp  \n",
            "  inflating: real_or_drawing/train_data/0/195.bmp  \n",
            "  inflating: real_or_drawing/train_data/0/196.bmp  \n",
            "  inflating: real_or_drawing/train_data/0/197.bmp  \n",
            "  inflating: real_or_drawing/train_data/0/198.bmp  \n",
            "  inflating: real_or_drawing/train_data/0/199.bmp  \n",
            "  inflating: real_or_drawing/train_data/0/2.bmp  \n",
            "  inflating: real_or_drawing/train_data/0/20.bmp  \n",
            "  inflating: real_or_drawing/train_data/0/200.bmp  \n",
            "  inflating: real_or_drawing/train_data/0/201.bmp  \n",
            "  inflating: real_or_drawing/train_data/0/202.bmp  \n",
            "  inflating: real_or_drawing/train_data/0/203.bmp  \n",
            "  inflating: real_or_drawing/train_data/0/204.bmp  \n",
            "  inflating: real_or_drawing/train_data/0/205.bmp  \n",
            "  inflating: real_or_drawing/train_data/0/206.bmp  \n",
            "  inflating: real_or_drawing/train_data/0/207.bmp  \n",
            "  inflating: real_or_drawing/train_data/0/208.bmp  \n",
            "  inflating: real_or_drawing/train_data/0/209.bmp  \n",
            "  inflating: real_or_drawing/train_data/0/21.bmp  \n",
            "  inflating: real_or_drawing/train_data/0/210.bmp  \n",
            "  inflating: real_or_drawing/train_data/0/211.bmp  \n",
            "  inflating: real_or_drawing/train_data/0/212.bmp  \n",
            "  inflating: real_or_drawing/train_data/0/213.bmp  \n",
            "  inflating: real_or_drawing/train_data/0/214.bmp  \n",
            "  inflating: real_or_drawing/train_data/0/215.bmp  \n",
            "  inflating: real_or_drawing/train_data/0/216.bmp  \n",
            "  inflating: real_or_drawing/train_data/0/217.bmp  \n",
            "  inflating: real_or_drawing/train_data/0/218.bmp  \n",
            "  inflating: real_or_drawing/train_data/0/219.bmp  \n",
            "  inflating: real_or_drawing/train_data/0/22.bmp  \n",
            "  inflating: real_or_drawing/train_data/0/220.bmp  \n",
            "  inflating: real_or_drawing/train_data/0/221.bmp  \n",
            "  inflating: real_or_drawing/train_data/0/222.bmp  \n",
            "  inflating: real_or_drawing/train_data/0/223.bmp  \n",
            "  inflating: real_or_drawing/train_data/0/224.bmp  \n",
            "  inflating: real_or_drawing/train_data/0/225.bmp  \n",
            "  inflating: real_or_drawing/train_data/0/226.bmp  \n",
            "  inflating: real_or_drawing/train_data/0/227.bmp  \n",
            "  inflating: real_or_drawing/train_data/0/228.bmp  \n",
            "  inflating: real_or_drawing/train_data/0/229.bmp  \n",
            "  inflating: real_or_drawing/train_data/0/23.bmp  \n",
            "  inflating: real_or_drawing/train_data/0/230.bmp  \n",
            "  inflating: real_or_drawing/train_data/0/231.bmp  \n",
            "  inflating: real_or_drawing/train_data/0/232.bmp  \n",
            "  inflating: real_or_drawing/train_data/0/233.bmp  \n",
            "  inflating: real_or_drawing/train_data/0/234.bmp  \n",
            "  inflating: real_or_drawing/train_data/0/235.bmp  \n",
            "  inflating: real_or_drawing/train_data/0/236.bmp  \n",
            "  inflating: real_or_drawing/train_data/0/237.bmp  \n",
            "  inflating: real_or_drawing/train_data/0/238.bmp  \n",
            "  inflating: real_or_drawing/train_data/0/239.bmp  \n",
            "  inflating: real_or_drawing/train_data/0/24.bmp  \n",
            "  inflating: real_or_drawing/train_data/0/240.bmp  \n",
            "  inflating: real_or_drawing/train_data/0/241.bmp  \n",
            "  inflating: real_or_drawing/train_data/0/242.bmp  \n",
            "  inflating: real_or_drawing/train_data/0/243.bmp  \n",
            "  inflating: real_or_drawing/train_data/0/244.bmp  \n",
            "  inflating: real_or_drawing/train_data/0/245.bmp  \n",
            "  inflating: real_or_drawing/train_data/0/246.bmp  \n",
            "  inflating: real_or_drawing/train_data/0/247.bmp  \n",
            "  inflating: real_or_drawing/train_data/0/248.bmp  \n",
            "  inflating: real_or_drawing/train_data/0/249.bmp  \n",
            "  inflating: real_or_drawing/train_data/0/25.bmp  \n",
            "  inflating: real_or_drawing/train_data/0/250.bmp  \n",
            "  inflating: real_or_drawing/train_data/0/251.bmp  \n",
            "  inflating: real_or_drawing/train_data/0/252.bmp  \n",
            "  inflating: real_or_drawing/train_data/0/253.bmp  \n",
            "  inflating: real_or_drawing/train_data/0/254.bmp  \n",
            "  inflating: real_or_drawing/train_data/0/255.bmp  \n",
            "  inflating: real_or_drawing/train_data/0/256.bmp  \n",
            "  inflating: real_or_drawing/train_data/0/257.bmp  \n",
            "  inflating: real_or_drawing/train_data/0/258.bmp  \n",
            "  inflating: real_or_drawing/train_data/0/259.bmp  \n",
            "  inflating: real_or_drawing/train_data/0/26.bmp  \n",
            "  inflating: real_or_drawing/train_data/0/260.bmp  \n",
            "  inflating: real_or_drawing/train_data/0/261.bmp  \n",
            "  inflating: real_or_drawing/train_data/0/262.bmp  \n",
            "  inflating: real_or_drawing/train_data/0/263.bmp  \n",
            "  inflating: real_or_drawing/train_data/0/264.bmp  \n",
            "  inflating: real_or_drawing/train_data/0/265.bmp  \n",
            "  inflating: real_or_drawing/train_data/0/266.bmp  \n",
            "  inflating: real_or_drawing/train_data/0/267.bmp  \n",
            "  inflating: real_or_drawing/train_data/0/268.bmp  \n",
            "  inflating: real_or_drawing/train_data/0/269.bmp  \n",
            "  inflating: real_or_drawing/train_data/0/27.bmp  \n",
            "  inflating: real_or_drawing/train_data/0/270.bmp  \n",
            "  inflating: real_or_drawing/train_data/0/271.bmp  \n",
            "  inflating: real_or_drawing/train_data/0/272.bmp  \n",
            "  inflating: real_or_drawing/train_data/0/273.bmp  \n",
            "  inflating: real_or_drawing/train_data/0/274.bmp  \n",
            "  inflating: real_or_drawing/train_data/0/275.bmp  \n",
            "  inflating: real_or_drawing/train_data/0/276.bmp  \n",
            "  inflating: real_or_drawing/train_data/0/277.bmp  \n",
            "  inflating: real_or_drawing/train_data/0/278.bmp  \n",
            "  inflating: real_or_drawing/train_data/0/279.bmp  \n",
            "  inflating: real_or_drawing/train_data/0/28.bmp  \n",
            "  inflating: real_or_drawing/train_data/0/280.bmp  \n",
            "  inflating: real_or_drawing/train_data/0/281.bmp  \n",
            "  inflating: real_or_drawing/train_data/0/282.bmp  \n",
            "  inflating: real_or_drawing/train_data/0/283.bmp  \n",
            "  inflating: real_or_drawing/train_data/0/284.bmp  \n",
            "  inflating: real_or_drawing/train_data/0/285.bmp  \n",
            "  inflating: real_or_drawing/train_data/0/286.bmp  \n",
            "  inflating: real_or_drawing/train_data/0/287.bmp  \n",
            "  inflating: real_or_drawing/train_data/0/288.bmp  \n",
            "  inflating: real_or_drawing/train_data/0/289.bmp  \n",
            "  inflating: real_or_drawing/train_data/0/29.bmp  \n",
            "  inflating: real_or_drawing/train_data/0/290.bmp  \n",
            "  inflating: real_or_drawing/train_data/0/291.bmp  \n",
            "  inflating: real_or_drawing/train_data/0/292.bmp  \n",
            "  inflating: real_or_drawing/train_data/0/293.bmp  \n",
            "  inflating: real_or_drawing/train_data/0/294.bmp  \n",
            "  inflating: real_or_drawing/train_data/0/295.bmp  \n",
            "  inflating: real_or_drawing/train_data/0/296.bmp  \n",
            "  inflating: real_or_drawing/train_data/0/297.bmp  \n",
            "  inflating: real_or_drawing/train_data/0/298.bmp  \n",
            "  inflating: real_or_drawing/train_data/0/299.bmp  \n",
            "  inflating: real_or_drawing/train_data/0/3.bmp  \n",
            "  inflating: real_or_drawing/train_data/0/30.bmp  \n",
            "  inflating: real_or_drawing/train_data/0/300.bmp  \n",
            "  inflating: real_or_drawing/train_data/0/301.bmp  \n",
            "  inflating: real_or_drawing/train_data/0/302.bmp  \n",
            "  inflating: real_or_drawing/train_data/0/303.bmp  \n",
            "  inflating: real_or_drawing/train_data/0/304.bmp  \n",
            "  inflating: real_or_drawing/train_data/0/305.bmp  \n",
            "  inflating: real_or_drawing/train_data/0/306.bmp  \n",
            "  inflating: real_or_drawing/train_data/0/307.bmp  \n",
            "  inflating: real_or_drawing/train_data/0/308.bmp  \n",
            "  inflating: real_or_drawing/train_data/0/309.bmp  \n",
            "  inflating: real_or_drawing/train_data/0/31.bmp  \n",
            "  inflating: real_or_drawing/train_data/0/310.bmp  \n",
            "  inflating: real_or_drawing/train_data/0/311.bmp  \n",
            "  inflating: real_or_drawing/train_data/0/312.bmp  \n",
            "  inflating: real_or_drawing/train_data/0/313.bmp  \n",
            "  inflating: real_or_drawing/train_data/0/314.bmp  \n",
            "  inflating: real_or_drawing/train_data/0/315.bmp  \n",
            "  inflating: real_or_drawing/train_data/0/316.bmp  \n",
            "  inflating: real_or_drawing/train_data/0/317.bmp  \n",
            "  inflating: real_or_drawing/train_data/0/318.bmp  \n",
            "  inflating: real_or_drawing/train_data/0/319.bmp  \n",
            "  inflating: real_or_drawing/train_data/0/32.bmp  \n",
            "  inflating: real_or_drawing/train_data/0/320.bmp  \n",
            "  inflating: real_or_drawing/train_data/0/321.bmp  \n",
            "  inflating: real_or_drawing/train_data/0/322.bmp  \n",
            "  inflating: real_or_drawing/train_data/0/323.bmp  \n",
            "  inflating: real_or_drawing/train_data/0/324.bmp  \n",
            "  inflating: real_or_drawing/train_data/0/325.bmp  \n",
            "  inflating: real_or_drawing/train_data/0/326.bmp  \n",
            "  inflating: real_or_drawing/train_data/0/327.bmp  \n",
            "  inflating: real_or_drawing/train_data/0/328.bmp  \n",
            "  inflating: real_or_drawing/train_data/0/329.bmp  \n",
            "  inflating: real_or_drawing/train_data/0/33.bmp  \n",
            "  inflating: real_or_drawing/train_data/0/330.bmp  \n",
            "  inflating: real_or_drawing/train_data/0/331.bmp  \n",
            "  inflating: real_or_drawing/train_data/0/332.bmp  \n",
            "  inflating: real_or_drawing/train_data/0/333.bmp  \n",
            "  inflating: real_or_drawing/train_data/0/334.bmp  \n",
            "  inflating: real_or_drawing/train_data/0/335.bmp  \n",
            "  inflating: real_or_drawing/train_data/0/336.bmp  \n",
            "  inflating: real_or_drawing/train_data/0/337.bmp  \n",
            "  inflating: real_or_drawing/train_data/0/338.bmp  \n",
            "  inflating: real_or_drawing/train_data/0/339.bmp  \n",
            "  inflating: real_or_drawing/train_data/0/34.bmp  \n",
            "  inflating: real_or_drawing/train_data/0/340.bmp  \n",
            "  inflating: real_or_drawing/train_data/0/341.bmp  \n",
            "  inflating: real_or_drawing/train_data/0/342.bmp  \n",
            "  inflating: real_or_drawing/train_data/0/343.bmp  \n",
            "  inflating: real_or_drawing/train_data/0/344.bmp  \n",
            "  inflating: real_or_drawing/train_data/0/345.bmp  \n",
            "  inflating: real_or_drawing/train_data/0/346.bmp  \n",
            "  inflating: real_or_drawing/train_data/0/347.bmp  \n",
            "  inflating: real_or_drawing/train_data/0/348.bmp  \n",
            "  inflating: real_or_drawing/train_data/0/349.bmp  \n",
            "  inflating: real_or_drawing/train_data/0/35.bmp  \n",
            "  inflating: real_or_drawing/train_data/0/350.bmp  \n",
            "  inflating: real_or_drawing/train_data/0/351.bmp  \n",
            "  inflating: real_or_drawing/train_data/0/352.bmp  \n",
            "  inflating: real_or_drawing/train_data/0/353.bmp  \n",
            "  inflating: real_or_drawing/train_data/0/354.bmp  \n",
            "  inflating: real_or_drawing/train_data/0/355.bmp  \n",
            "  inflating: real_or_drawing/train_data/0/356.bmp  \n",
            "  inflating: real_or_drawing/train_data/0/357.bmp  \n",
            "  inflating: real_or_drawing/train_data/0/358.bmp  \n",
            "  inflating: real_or_drawing/train_data/0/359.bmp  \n",
            "  inflating: real_or_drawing/train_data/0/36.bmp  \n",
            "  inflating: real_or_drawing/train_data/0/360.bmp  \n",
            "  inflating: real_or_drawing/train_data/0/361.bmp  \n",
            "  inflating: real_or_drawing/train_data/0/362.bmp  \n",
            "  inflating: real_or_drawing/train_data/0/363.bmp  \n",
            "  inflating: real_or_drawing/train_data/0/364.bmp  \n",
            "  inflating: real_or_drawing/train_data/0/365.bmp  \n",
            "  inflating: real_or_drawing/train_data/0/366.bmp  \n",
            "  inflating: real_or_drawing/train_data/0/367.bmp  \n",
            "  inflating: real_or_drawing/train_data/0/368.bmp  \n",
            "  inflating: real_or_drawing/train_data/0/369.bmp  \n",
            "  inflating: real_or_drawing/train_data/0/37.bmp  \n",
            "  inflating: real_or_drawing/train_data/0/370.bmp  \n",
            "  inflating: real_or_drawing/train_data/0/371.bmp  \n",
            "  inflating: real_or_drawing/train_data/0/372.bmp  \n",
            "  inflating: real_or_drawing/train_data/0/373.bmp  \n",
            "  inflating: real_or_drawing/train_data/0/374.bmp  \n",
            "  inflating: real_or_drawing/train_data/0/375.bmp  \n",
            "  inflating: real_or_drawing/train_data/0/376.bmp  \n",
            "  inflating: real_or_drawing/train_data/0/377.bmp  \n",
            "  inflating: real_or_drawing/train_data/0/378.bmp  \n",
            "  inflating: real_or_drawing/train_data/0/379.bmp  \n",
            "  inflating: real_or_drawing/train_data/0/38.bmp  \n",
            "  inflating: real_or_drawing/train_data/0/380.bmp  \n",
            "  inflating: real_or_drawing/train_data/0/381.bmp  \n",
            "  inflating: real_or_drawing/train_data/0/382.bmp  \n",
            "  inflating: real_or_drawing/train_data/0/383.bmp  \n",
            "  inflating: real_or_drawing/train_data/0/384.bmp  \n",
            "  inflating: real_or_drawing/train_data/0/385.bmp  \n",
            "  inflating: real_or_drawing/train_data/0/386.bmp  \n",
            "  inflating: real_or_drawing/train_data/0/387.bmp  \n",
            "  inflating: real_or_drawing/train_data/0/388.bmp  \n",
            "  inflating: real_or_drawing/train_data/0/389.bmp  \n",
            "  inflating: real_or_drawing/train_data/0/39.bmp  \n",
            "  inflating: real_or_drawing/train_data/0/390.bmp  \n",
            "  inflating: real_or_drawing/train_data/0/391.bmp  \n",
            "  inflating: real_or_drawing/train_data/0/392.bmp  \n",
            "  inflating: real_or_drawing/train_data/0/393.bmp  \n",
            "  inflating: real_or_drawing/train_data/0/394.bmp  \n",
            "  inflating: real_or_drawing/train_data/0/395.bmp  \n",
            "  inflating: real_or_drawing/train_data/0/396.bmp  \n",
            "  inflating: real_or_drawing/train_data/0/397.bmp  \n",
            "  inflating: real_or_drawing/train_data/0/398.bmp  \n",
            "  inflating: real_or_drawing/train_data/0/399.bmp  \n",
            "  inflating: real_or_drawing/train_data/0/4.bmp  \n",
            "  inflating: real_or_drawing/train_data/0/40.bmp  \n",
            "  inflating: real_or_drawing/train_data/0/400.bmp  \n",
            "  inflating: real_or_drawing/train_data/0/401.bmp  \n",
            "  inflating: real_or_drawing/train_data/0/402.bmp  \n",
            "  inflating: real_or_drawing/train_data/0/403.bmp  \n",
            "  inflating: real_or_drawing/train_data/0/404.bmp  \n",
            "  inflating: real_or_drawing/train_data/0/405.bmp  \n",
            "  inflating: real_or_drawing/train_data/0/406.bmp  \n",
            "  inflating: real_or_drawing/train_data/0/407.bmp  \n",
            "  inflating: real_or_drawing/train_data/0/408.bmp  \n",
            "  inflating: real_or_drawing/train_data/0/409.bmp  \n",
            "  inflating: real_or_drawing/train_data/0/41.bmp  \n",
            "  inflating: real_or_drawing/train_data/0/410.bmp  \n",
            "  inflating: real_or_drawing/train_data/0/411.bmp  \n",
            "  inflating: real_or_drawing/train_data/0/412.bmp  \n",
            "  inflating: real_or_drawing/train_data/0/413.bmp  \n",
            "  inflating: real_or_drawing/train_data/0/414.bmp  \n",
            "  inflating: real_or_drawing/train_data/0/415.bmp  \n",
            "  inflating: real_or_drawing/train_data/0/416.bmp  \n",
            "  inflating: real_or_drawing/train_data/0/417.bmp  \n",
            "  inflating: real_or_drawing/train_data/0/418.bmp  \n",
            "  inflating: real_or_drawing/train_data/0/419.bmp  \n",
            "  inflating: real_or_drawing/train_data/0/42.bmp  \n",
            "  inflating: real_or_drawing/train_data/0/420.bmp  \n",
            "  inflating: real_or_drawing/train_data/0/421.bmp  \n",
            "  inflating: real_or_drawing/train_data/0/422.bmp  \n",
            "  inflating: real_or_drawing/train_data/0/423.bmp  \n",
            "  inflating: real_or_drawing/train_data/0/424.bmp  \n",
            "  inflating: real_or_drawing/train_data/0/425.bmp  \n",
            "  inflating: real_or_drawing/train_data/0/426.bmp  \n",
            "  inflating: real_or_drawing/train_data/0/427.bmp  \n",
            "  inflating: real_or_drawing/train_data/0/428.bmp  \n",
            "  inflating: real_or_drawing/train_data/0/429.bmp  \n",
            "  inflating: real_or_drawing/train_data/0/43.bmp  \n",
            "  inflating: real_or_drawing/train_data/0/430.bmp  \n",
            "  inflating: real_or_drawing/train_data/0/431.bmp  \n",
            "  inflating: real_or_drawing/train_data/0/432.bmp  \n",
            "  inflating: real_or_drawing/train_data/0/433.bmp  \n",
            "  inflating: real_or_drawing/train_data/0/434.bmp  \n",
            "  inflating: real_or_drawing/train_data/0/435.bmp  \n",
            "  inflating: real_or_drawing/train_data/0/436.bmp  \n",
            "  inflating: real_or_drawing/train_data/0/437.bmp  \n",
            "  inflating: real_or_drawing/train_data/0/438.bmp  \n",
            "  inflating: real_or_drawing/train_data/0/439.bmp  \n",
            "  inflating: real_or_drawing/train_data/0/44.bmp  \n",
            "  inflating: real_or_drawing/train_data/0/440.bmp  \n",
            "  inflating: real_or_drawing/train_data/0/441.bmp  \n",
            "  inflating: real_or_drawing/train_data/0/442.bmp  \n",
            "  inflating: real_or_drawing/train_data/0/443.bmp  \n",
            "  inflating: real_or_drawing/train_data/0/444.bmp  \n",
            "  inflating: real_or_drawing/train_data/0/445.bmp  \n",
            "  inflating: real_or_drawing/train_data/0/446.bmp  \n",
            "  inflating: real_or_drawing/train_data/0/447.bmp  \n",
            "  inflating: real_or_drawing/train_data/0/448.bmp  \n",
            "  inflating: real_or_drawing/train_data/0/449.bmp  \n",
            "  inflating: real_or_drawing/train_data/0/45.bmp  \n",
            "  inflating: real_or_drawing/train_data/0/450.bmp  \n",
            "  inflating: real_or_drawing/train_data/0/451.bmp  \n",
            "  inflating: real_or_drawing/train_data/0/452.bmp  \n",
            "  inflating: real_or_drawing/train_data/0/453.bmp  \n",
            "  inflating: real_or_drawing/train_data/0/454.bmp  \n",
            "  inflating: real_or_drawing/train_data/0/455.bmp  \n",
            "  inflating: real_or_drawing/train_data/0/456.bmp  \n",
            "  inflating: real_or_drawing/train_data/0/457.bmp  \n",
            "  inflating: real_or_drawing/train_data/0/458.bmp  \n",
            "  inflating: real_or_drawing/train_data/0/459.bmp  \n",
            "  inflating: real_or_drawing/train_data/0/46.bmp  \n",
            "  inflating: real_or_drawing/train_data/0/460.bmp  \n",
            "  inflating: real_or_drawing/train_data/0/461.bmp  \n",
            "  inflating: real_or_drawing/train_data/0/462.bmp  \n",
            "  inflating: real_or_drawing/train_data/0/463.bmp  \n",
            "  inflating: real_or_drawing/train_data/0/464.bmp  \n",
            "  inflating: real_or_drawing/train_data/0/465.bmp  \n",
            "  inflating: real_or_drawing/train_data/0/466.bmp  \n",
            "  inflating: real_or_drawing/train_data/0/467.bmp  \n",
            "  inflating: real_or_drawing/train_data/0/468.bmp  \n",
            "  inflating: real_or_drawing/train_data/0/469.bmp  \n",
            "  inflating: real_or_drawing/train_data/0/47.bmp  \n",
            "  inflating: real_or_drawing/train_data/0/470.bmp  \n",
            "  inflating: real_or_drawing/train_data/0/471.bmp  \n",
            "  inflating: real_or_drawing/train_data/0/472.bmp  \n",
            "  inflating: real_or_drawing/train_data/0/473.bmp  \n",
            "  inflating: real_or_drawing/train_data/0/474.bmp  \n",
            "  inflating: real_or_drawing/train_data/0/475.bmp  \n",
            "  inflating: real_or_drawing/train_data/0/476.bmp  \n",
            "  inflating: real_or_drawing/train_data/0/477.bmp  \n",
            "  inflating: real_or_drawing/train_data/0/478.bmp  \n",
            "  inflating: real_or_drawing/train_data/0/479.bmp  \n",
            "  inflating: real_or_drawing/train_data/0/48.bmp  \n",
            "  inflating: real_or_drawing/train_data/0/480.bmp  \n",
            "  inflating: real_or_drawing/train_data/0/481.bmp  \n",
            "  inflating: real_or_drawing/train_data/0/482.bmp  \n",
            "  inflating: real_or_drawing/train_data/0/483.bmp  \n",
            "  inflating: real_or_drawing/train_data/0/484.bmp  \n",
            "  inflating: real_or_drawing/train_data/0/485.bmp  \n",
            "  inflating: real_or_drawing/train_data/0/486.bmp  \n",
            "  inflating: real_or_drawing/train_data/0/487.bmp  \n",
            "  inflating: real_or_drawing/train_data/0/488.bmp  \n",
            "  inflating: real_or_drawing/train_data/0/489.bmp  \n",
            "  inflating: real_or_drawing/train_data/0/49.bmp  \n",
            "  inflating: real_or_drawing/train_data/0/490.bmp  \n",
            "  inflating: real_or_drawing/train_data/0/491.bmp  \n",
            "  inflating: real_or_drawing/train_data/0/492.bmp  \n",
            "  inflating: real_or_drawing/train_data/0/493.bmp  \n",
            "  inflating: real_or_drawing/train_data/0/494.bmp  \n",
            "  inflating: real_or_drawing/train_data/0/495.bmp  \n",
            "  inflating: real_or_drawing/train_data/0/496.bmp  \n",
            "  inflating: real_or_drawing/train_data/0/497.bmp  \n",
            "  inflating: real_or_drawing/train_data/0/498.bmp  \n",
            "  inflating: real_or_drawing/train_data/0/499.bmp  \n",
            "  inflating: real_or_drawing/train_data/0/5.bmp  \n",
            "  inflating: real_or_drawing/train_data/0/50.bmp  \n",
            "  inflating: real_or_drawing/train_data/0/51.bmp  \n",
            "  inflating: real_or_drawing/train_data/0/52.bmp  \n",
            "  inflating: real_or_drawing/train_data/0/53.bmp  \n",
            "  inflating: real_or_drawing/train_data/0/54.bmp  \n",
            "  inflating: real_or_drawing/train_data/0/55.bmp  \n",
            "  inflating: real_or_drawing/train_data/0/56.bmp  \n",
            "  inflating: real_or_drawing/train_data/0/57.bmp  \n",
            "  inflating: real_or_drawing/train_data/0/58.bmp  \n",
            "  inflating: real_or_drawing/train_data/0/59.bmp  \n",
            "  inflating: real_or_drawing/train_data/0/6.bmp  \n",
            "  inflating: real_or_drawing/train_data/0/60.bmp  \n",
            "  inflating: real_or_drawing/train_data/0/61.bmp  \n",
            "  inflating: real_or_drawing/train_data/0/62.bmp  \n",
            "  inflating: real_or_drawing/train_data/0/63.bmp  \n",
            "  inflating: real_or_drawing/train_data/0/64.bmp  \n",
            "  inflating: real_or_drawing/train_data/0/65.bmp  \n",
            "  inflating: real_or_drawing/train_data/0/66.bmp  \n",
            "  inflating: real_or_drawing/train_data/0/67.bmp  \n",
            "  inflating: real_or_drawing/train_data/0/68.bmp  \n",
            "  inflating: real_or_drawing/train_data/0/69.bmp  \n",
            "  inflating: real_or_drawing/train_data/0/7.bmp  \n",
            "  inflating: real_or_drawing/train_data/0/70.bmp  \n",
            "  inflating: real_or_drawing/train_data/0/71.bmp  \n",
            "  inflating: real_or_drawing/train_data/0/72.bmp  \n",
            "  inflating: real_or_drawing/train_data/0/73.bmp  \n",
            "  inflating: real_or_drawing/train_data/0/74.bmp  \n",
            "  inflating: real_or_drawing/train_data/0/75.bmp  \n",
            "  inflating: real_or_drawing/train_data/0/76.bmp  \n",
            "  inflating: real_or_drawing/train_data/0/77.bmp  \n",
            "  inflating: real_or_drawing/train_data/0/78.bmp  \n",
            "  inflating: real_or_drawing/train_data/0/79.bmp  \n",
            "  inflating: real_or_drawing/train_data/0/8.bmp  \n",
            "  inflating: real_or_drawing/train_data/0/80.bmp  \n",
            "  inflating: real_or_drawing/train_data/0/81.bmp  \n",
            "  inflating: real_or_drawing/train_data/0/82.bmp  \n",
            "  inflating: real_or_drawing/train_data/0/83.bmp  \n",
            "  inflating: real_or_drawing/train_data/0/84.bmp  \n",
            "  inflating: real_or_drawing/train_data/0/85.bmp  \n",
            "  inflating: real_or_drawing/train_data/0/86.bmp  \n",
            "  inflating: real_or_drawing/train_data/0/87.bmp  \n",
            "  inflating: real_or_drawing/train_data/0/88.bmp  \n",
            "  inflating: real_or_drawing/train_data/0/89.bmp  \n",
            "  inflating: real_or_drawing/train_data/0/9.bmp  \n",
            "  inflating: real_or_drawing/train_data/0/90.bmp  \n",
            "  inflating: real_or_drawing/train_data/0/91.bmp  \n",
            "  inflating: real_or_drawing/train_data/0/92.bmp  \n",
            "  inflating: real_or_drawing/train_data/0/93.bmp  \n",
            "  inflating: real_or_drawing/train_data/0/94.bmp  \n",
            "  inflating: real_or_drawing/train_data/0/95.bmp  \n",
            "  inflating: real_or_drawing/train_data/0/96.bmp  \n",
            "  inflating: real_or_drawing/train_data/0/97.bmp  \n",
            "  inflating: real_or_drawing/train_data/0/98.bmp  \n",
            "  inflating: real_or_drawing/train_data/0/99.bmp  \n",
            "   creating: real_or_drawing/train_data/1/\n",
            "  inflating: real_or_drawing/train_data/1/500.bmp  \n",
            "  inflating: real_or_drawing/train_data/1/501.bmp  \n",
            "  inflating: real_or_drawing/train_data/1/502.bmp  \n",
            "  inflating: real_or_drawing/train_data/1/503.bmp  \n",
            "  inflating: real_or_drawing/train_data/1/504.bmp  \n",
            "  inflating: real_or_drawing/train_data/1/505.bmp  \n",
            "  inflating: real_or_drawing/train_data/1/506.bmp  \n",
            "  inflating: real_or_drawing/train_data/1/507.bmp  \n",
            "  inflating: real_or_drawing/train_data/1/508.bmp  \n",
            "  inflating: real_or_drawing/train_data/1/509.bmp  \n",
            "  inflating: real_or_drawing/train_data/1/510.bmp  \n",
            "  inflating: real_or_drawing/train_data/1/511.bmp  \n",
            "  inflating: real_or_drawing/train_data/1/512.bmp  \n",
            "  inflating: real_or_drawing/train_data/1/513.bmp  \n",
            "  inflating: real_or_drawing/train_data/1/514.bmp  \n",
            "  inflating: real_or_drawing/train_data/1/515.bmp  \n",
            "  inflating: real_or_drawing/train_data/1/516.bmp  \n",
            "  inflating: real_or_drawing/train_data/1/517.bmp  \n",
            "  inflating: real_or_drawing/train_data/1/518.bmp  \n",
            "  inflating: real_or_drawing/train_data/1/519.bmp  \n",
            "  inflating: real_or_drawing/train_data/1/520.bmp  \n",
            "  inflating: real_or_drawing/train_data/1/521.bmp  \n",
            "  inflating: real_or_drawing/train_data/1/522.bmp  \n",
            "  inflating: real_or_drawing/train_data/1/523.bmp  \n",
            "  inflating: real_or_drawing/train_data/1/524.bmp  \n",
            "  inflating: real_or_drawing/train_data/1/525.bmp  \n",
            "  inflating: real_or_drawing/train_data/1/526.bmp  \n",
            "  inflating: real_or_drawing/train_data/1/527.bmp  \n",
            "  inflating: real_or_drawing/train_data/1/528.bmp  \n",
            "  inflating: real_or_drawing/train_data/1/529.bmp  \n",
            "  inflating: real_or_drawing/train_data/1/530.bmp  \n",
            "  inflating: real_or_drawing/train_data/1/531.bmp  \n",
            "  inflating: real_or_drawing/train_data/1/532.bmp  \n",
            "  inflating: real_or_drawing/train_data/1/533.bmp  \n",
            "  inflating: real_or_drawing/train_data/1/534.bmp  \n",
            "  inflating: real_or_drawing/train_data/1/535.bmp  \n",
            "  inflating: real_or_drawing/train_data/1/536.bmp  \n",
            "  inflating: real_or_drawing/train_data/1/537.bmp  \n",
            "  inflating: real_or_drawing/train_data/1/538.bmp  \n",
            "  inflating: real_or_drawing/train_data/1/539.bmp  \n",
            "  inflating: real_or_drawing/train_data/1/540.bmp  \n",
            "  inflating: real_or_drawing/train_data/1/541.bmp  \n",
            "  inflating: real_or_drawing/train_data/1/542.bmp  \n",
            "  inflating: real_or_drawing/train_data/1/543.bmp  \n",
            "  inflating: real_or_drawing/train_data/1/544.bmp  \n",
            "  inflating: real_or_drawing/train_data/1/545.bmp  \n",
            "  inflating: real_or_drawing/train_data/1/546.bmp  \n",
            "  inflating: real_or_drawing/train_data/1/547.bmp  \n",
            "  inflating: real_or_drawing/train_data/1/548.bmp  \n",
            "  inflating: real_or_drawing/train_data/1/549.bmp  \n",
            "  inflating: real_or_drawing/train_data/1/550.bmp  \n",
            "  inflating: real_or_drawing/train_data/1/551.bmp  \n",
            "  inflating: real_or_drawing/train_data/1/552.bmp  \n",
            "  inflating: real_or_drawing/train_data/1/553.bmp  \n",
            "  inflating: real_or_drawing/train_data/1/554.bmp  \n",
            "  inflating: real_or_drawing/train_data/1/555.bmp  \n",
            "  inflating: real_or_drawing/train_data/1/556.bmp  \n",
            "  inflating: real_or_drawing/train_data/1/557.bmp  \n",
            "  inflating: real_or_drawing/train_data/1/558.bmp  \n",
            "  inflating: real_or_drawing/train_data/1/559.bmp  \n",
            "  inflating: real_or_drawing/train_data/1/560.bmp  \n",
            "  inflating: real_or_drawing/train_data/1/561.bmp  \n",
            "  inflating: real_or_drawing/train_data/1/562.bmp  \n",
            "  inflating: real_or_drawing/train_data/1/563.bmp  \n",
            "  inflating: real_or_drawing/train_data/1/564.bmp  \n",
            "  inflating: real_or_drawing/train_data/1/565.bmp  \n",
            "  inflating: real_or_drawing/train_data/1/566.bmp  \n",
            "  inflating: real_or_drawing/train_data/1/567.bmp  \n",
            "  inflating: real_or_drawing/train_data/1/568.bmp  \n",
            "  inflating: real_or_drawing/train_data/1/569.bmp  \n",
            "  inflating: real_or_drawing/train_data/1/570.bmp  \n",
            "  inflating: real_or_drawing/train_data/1/571.bmp  \n",
            "  inflating: real_or_drawing/train_data/1/572.bmp  \n",
            "  inflating: real_or_drawing/train_data/1/573.bmp  \n",
            "  inflating: real_or_drawing/train_data/1/574.bmp  \n",
            "  inflating: real_or_drawing/train_data/1/575.bmp  \n",
            "  inflating: real_or_drawing/train_data/1/576.bmp  \n",
            "  inflating: real_or_drawing/train_data/1/577.bmp  \n",
            "  inflating: real_or_drawing/train_data/1/578.bmp  \n",
            "  inflating: real_or_drawing/train_data/1/579.bmp  \n",
            "  inflating: real_or_drawing/train_data/1/580.bmp  \n",
            "  inflating: real_or_drawing/train_data/1/581.bmp  \n",
            "  inflating: real_or_drawing/train_data/1/582.bmp  \n",
            "  inflating: real_or_drawing/train_data/1/583.bmp  \n",
            "  inflating: real_or_drawing/train_data/1/584.bmp  \n",
            "  inflating: real_or_drawing/train_data/1/585.bmp  \n",
            "  inflating: real_or_drawing/train_data/1/586.bmp  \n",
            "  inflating: real_or_drawing/train_data/1/587.bmp  \n",
            "  inflating: real_or_drawing/train_data/1/588.bmp  \n",
            "  inflating: real_or_drawing/train_data/1/589.bmp  \n",
            "  inflating: real_or_drawing/train_data/1/590.bmp  \n",
            "  inflating: real_or_drawing/train_data/1/591.bmp  \n",
            "  inflating: real_or_drawing/train_data/1/592.bmp  \n",
            "  inflating: real_or_drawing/train_data/1/593.bmp  \n",
            "  inflating: real_or_drawing/train_data/1/594.bmp  \n",
            "  inflating: real_or_drawing/train_data/1/595.bmp  \n",
            "  inflating: real_or_drawing/train_data/1/596.bmp  \n",
            "  inflating: real_or_drawing/train_data/1/597.bmp  \n",
            "  inflating: real_or_drawing/train_data/1/598.bmp  \n",
            "  inflating: real_or_drawing/train_data/1/599.bmp  \n",
            "  inflating: real_or_drawing/train_data/1/600.bmp  \n",
            "  inflating: real_or_drawing/train_data/1/601.bmp  \n",
            "  inflating: real_or_drawing/train_data/1/602.bmp  \n",
            "  inflating: real_or_drawing/train_data/1/603.bmp  \n",
            "  inflating: real_or_drawing/train_data/1/604.bmp  \n",
            "  inflating: real_or_drawing/train_data/1/605.bmp  \n",
            "  inflating: real_or_drawing/train_data/1/606.bmp  \n",
            "  inflating: real_or_drawing/train_data/1/607.bmp  \n",
            "  inflating: real_or_drawing/train_data/1/608.bmp  \n",
            "  inflating: real_or_drawing/train_data/1/609.bmp  \n",
            "  inflating: real_or_drawing/train_data/1/610.bmp  \n",
            "  inflating: real_or_drawing/train_data/1/611.bmp  \n",
            "  inflating: real_or_drawing/train_data/1/612.bmp  \n",
            "  inflating: real_or_drawing/train_data/1/613.bmp  \n",
            "  inflating: real_or_drawing/train_data/1/614.bmp  \n",
            "  inflating: real_or_drawing/train_data/1/615.bmp  \n",
            "  inflating: real_or_drawing/train_data/1/616.bmp  \n",
            "  inflating: real_or_drawing/train_data/1/617.bmp  \n",
            "  inflating: real_or_drawing/train_data/1/618.bmp  \n",
            "  inflating: real_or_drawing/train_data/1/619.bmp  \n",
            "  inflating: real_or_drawing/train_data/1/620.bmp  \n",
            "  inflating: real_or_drawing/train_data/1/621.bmp  \n",
            "  inflating: real_or_drawing/train_data/1/622.bmp  \n",
            "  inflating: real_or_drawing/train_data/1/623.bmp  \n",
            "  inflating: real_or_drawing/train_data/1/624.bmp  \n",
            "  inflating: real_or_drawing/train_data/1/625.bmp  \n",
            "  inflating: real_or_drawing/train_data/1/626.bmp  \n",
            "  inflating: real_or_drawing/train_data/1/627.bmp  \n",
            "  inflating: real_or_drawing/train_data/1/628.bmp  \n",
            "  inflating: real_or_drawing/train_data/1/629.bmp  \n",
            "  inflating: real_or_drawing/train_data/1/630.bmp  \n",
            "  inflating: real_or_drawing/train_data/1/631.bmp  \n",
            "  inflating: real_or_drawing/train_data/1/632.bmp  \n",
            "  inflating: real_or_drawing/train_data/1/633.bmp  \n",
            "  inflating: real_or_drawing/train_data/1/634.bmp  \n",
            "  inflating: real_or_drawing/train_data/1/635.bmp  \n",
            "  inflating: real_or_drawing/train_data/1/636.bmp  \n",
            "  inflating: real_or_drawing/train_data/1/637.bmp  \n",
            "  inflating: real_or_drawing/train_data/1/638.bmp  \n",
            "  inflating: real_or_drawing/train_data/1/639.bmp  \n",
            "  inflating: real_or_drawing/train_data/1/640.bmp  \n",
            "  inflating: real_or_drawing/train_data/1/641.bmp  \n",
            "  inflating: real_or_drawing/train_data/1/642.bmp  \n",
            "  inflating: real_or_drawing/train_data/1/643.bmp  \n",
            "  inflating: real_or_drawing/train_data/1/644.bmp  \n",
            "  inflating: real_or_drawing/train_data/1/645.bmp  \n",
            "  inflating: real_or_drawing/train_data/1/646.bmp  \n",
            "  inflating: real_or_drawing/train_data/1/647.bmp  \n",
            "  inflating: real_or_drawing/train_data/1/648.bmp  \n",
            "  inflating: real_or_drawing/train_data/1/649.bmp  \n",
            "  inflating: real_or_drawing/train_data/1/650.bmp  \n",
            "  inflating: real_or_drawing/train_data/1/651.bmp  \n",
            "  inflating: real_or_drawing/train_data/1/652.bmp  \n",
            "  inflating: real_or_drawing/train_data/1/653.bmp  \n",
            "  inflating: real_or_drawing/train_data/1/654.bmp  \n",
            "  inflating: real_or_drawing/train_data/1/655.bmp  \n",
            "  inflating: real_or_drawing/train_data/1/656.bmp  \n",
            "  inflating: real_or_drawing/train_data/1/657.bmp  \n",
            "  inflating: real_or_drawing/train_data/1/658.bmp  \n",
            "  inflating: real_or_drawing/train_data/1/659.bmp  \n",
            "  inflating: real_or_drawing/train_data/1/660.bmp  \n",
            "  inflating: real_or_drawing/train_data/1/661.bmp  \n",
            "  inflating: real_or_drawing/train_data/1/662.bmp  \n",
            "  inflating: real_or_drawing/train_data/1/663.bmp  \n",
            "  inflating: real_or_drawing/train_data/1/664.bmp  \n",
            "  inflating: real_or_drawing/train_data/1/665.bmp  \n",
            "  inflating: real_or_drawing/train_data/1/666.bmp  \n",
            "  inflating: real_or_drawing/train_data/1/667.bmp  \n",
            "  inflating: real_or_drawing/train_data/1/668.bmp  \n",
            "  inflating: real_or_drawing/train_data/1/669.bmp  \n",
            "  inflating: real_or_drawing/train_data/1/670.bmp  \n",
            "  inflating: real_or_drawing/train_data/1/671.bmp  \n",
            "  inflating: real_or_drawing/train_data/1/672.bmp  \n",
            "  inflating: real_or_drawing/train_data/1/673.bmp  \n",
            "  inflating: real_or_drawing/train_data/1/674.bmp  \n",
            "  inflating: real_or_drawing/train_data/1/675.bmp  \n",
            "  inflating: real_or_drawing/train_data/1/676.bmp  \n",
            "  inflating: real_or_drawing/train_data/1/677.bmp  \n",
            "  inflating: real_or_drawing/train_data/1/678.bmp  \n",
            "  inflating: real_or_drawing/train_data/1/679.bmp  \n",
            "  inflating: real_or_drawing/train_data/1/680.bmp  \n",
            "  inflating: real_or_drawing/train_data/1/681.bmp  \n",
            "  inflating: real_or_drawing/train_data/1/682.bmp  \n",
            "  inflating: real_or_drawing/train_data/1/683.bmp  \n",
            "  inflating: real_or_drawing/train_data/1/684.bmp  \n",
            "  inflating: real_or_drawing/train_data/1/685.bmp  \n",
            "  inflating: real_or_drawing/train_data/1/686.bmp  \n",
            "  inflating: real_or_drawing/train_data/1/687.bmp  \n",
            "  inflating: real_or_drawing/train_data/1/688.bmp  \n",
            "  inflating: real_or_drawing/train_data/1/689.bmp  \n",
            "  inflating: real_or_drawing/train_data/1/690.bmp  \n",
            "  inflating: real_or_drawing/train_data/1/691.bmp  \n",
            "  inflating: real_or_drawing/train_data/1/692.bmp  \n",
            "  inflating: real_or_drawing/train_data/1/693.bmp  \n",
            "  inflating: real_or_drawing/train_data/1/694.bmp  \n",
            "  inflating: real_or_drawing/train_data/1/695.bmp  \n",
            "  inflating: real_or_drawing/train_data/1/696.bmp  \n",
            "  inflating: real_or_drawing/train_data/1/697.bmp  \n",
            "  inflating: real_or_drawing/train_data/1/698.bmp  \n",
            "  inflating: real_or_drawing/train_data/1/699.bmp  \n",
            "  inflating: real_or_drawing/train_data/1/700.bmp  \n",
            "  inflating: real_or_drawing/train_data/1/701.bmp  \n",
            "  inflating: real_or_drawing/train_data/1/702.bmp  \n",
            "  inflating: real_or_drawing/train_data/1/703.bmp  \n",
            "  inflating: real_or_drawing/train_data/1/704.bmp  \n",
            "  inflating: real_or_drawing/train_data/1/705.bmp  \n",
            "  inflating: real_or_drawing/train_data/1/706.bmp  \n",
            "  inflating: real_or_drawing/train_data/1/707.bmp  \n",
            "  inflating: real_or_drawing/train_data/1/708.bmp  \n",
            "  inflating: real_or_drawing/train_data/1/709.bmp  \n",
            "  inflating: real_or_drawing/train_data/1/710.bmp  \n",
            "  inflating: real_or_drawing/train_data/1/711.bmp  \n",
            "  inflating: real_or_drawing/train_data/1/712.bmp  \n",
            "  inflating: real_or_drawing/train_data/1/713.bmp  \n",
            "  inflating: real_or_drawing/train_data/1/714.bmp  \n",
            "  inflating: real_or_drawing/train_data/1/715.bmp  \n",
            "  inflating: real_or_drawing/train_data/1/716.bmp  \n",
            "  inflating: real_or_drawing/train_data/1/717.bmp  \n",
            "  inflating: real_or_drawing/train_data/1/718.bmp  \n",
            "  inflating: real_or_drawing/train_data/1/719.bmp  \n",
            "  inflating: real_or_drawing/train_data/1/720.bmp  \n",
            "  inflating: real_or_drawing/train_data/1/721.bmp  \n",
            "  inflating: real_or_drawing/train_data/1/722.bmp  \n",
            "  inflating: real_or_drawing/train_data/1/723.bmp  \n",
            "  inflating: real_or_drawing/train_data/1/724.bmp  \n",
            "  inflating: real_or_drawing/train_data/1/725.bmp  \n",
            "  inflating: real_or_drawing/train_data/1/726.bmp  \n",
            "  inflating: real_or_drawing/train_data/1/727.bmp  \n",
            "  inflating: real_or_drawing/train_data/1/728.bmp  \n",
            "  inflating: real_or_drawing/train_data/1/729.bmp  \n",
            "  inflating: real_or_drawing/train_data/1/730.bmp  \n",
            "  inflating: real_or_drawing/train_data/1/731.bmp  \n",
            "  inflating: real_or_drawing/train_data/1/732.bmp  \n",
            "  inflating: real_or_drawing/train_data/1/733.bmp  \n",
            "  inflating: real_or_drawing/train_data/1/734.bmp  \n",
            "  inflating: real_or_drawing/train_data/1/735.bmp  \n",
            "  inflating: real_or_drawing/train_data/1/736.bmp  \n",
            "  inflating: real_or_drawing/train_data/1/737.bmp  \n",
            "  inflating: real_or_drawing/train_data/1/738.bmp  \n",
            "  inflating: real_or_drawing/train_data/1/739.bmp  \n",
            "  inflating: real_or_drawing/train_data/1/740.bmp  \n",
            "  inflating: real_or_drawing/train_data/1/741.bmp  \n",
            "  inflating: real_or_drawing/train_data/1/742.bmp  \n",
            "  inflating: real_or_drawing/train_data/1/743.bmp  \n",
            "  inflating: real_or_drawing/train_data/1/744.bmp  \n",
            "  inflating: real_or_drawing/train_data/1/745.bmp  \n",
            "  inflating: real_or_drawing/train_data/1/746.bmp  \n",
            "  inflating: real_or_drawing/train_data/1/747.bmp  \n",
            "  inflating: real_or_drawing/train_data/1/748.bmp  \n",
            "  inflating: real_or_drawing/train_data/1/749.bmp  \n",
            "  inflating: real_or_drawing/train_data/1/750.bmp  \n",
            "  inflating: real_or_drawing/train_data/1/751.bmp  \n",
            "  inflating: real_or_drawing/train_data/1/752.bmp  \n",
            "  inflating: real_or_drawing/train_data/1/753.bmp  \n",
            "  inflating: real_or_drawing/train_data/1/754.bmp  \n",
            "  inflating: real_or_drawing/train_data/1/755.bmp  \n",
            "  inflating: real_or_drawing/train_data/1/756.bmp  \n",
            "  inflating: real_or_drawing/train_data/1/757.bmp  \n",
            "  inflating: real_or_drawing/train_data/1/758.bmp  \n",
            "  inflating: real_or_drawing/train_data/1/759.bmp  \n",
            "  inflating: real_or_drawing/train_data/1/760.bmp  \n",
            "  inflating: real_or_drawing/train_data/1/761.bmp  \n",
            "  inflating: real_or_drawing/train_data/1/762.bmp  \n",
            "  inflating: real_or_drawing/train_data/1/763.bmp  \n",
            "  inflating: real_or_drawing/train_data/1/764.bmp  \n",
            "  inflating: real_or_drawing/train_data/1/765.bmp  \n",
            "  inflating: real_or_drawing/train_data/1/766.bmp  \n",
            "  inflating: real_or_drawing/train_data/1/767.bmp  \n",
            "  inflating: real_or_drawing/train_data/1/768.bmp  \n",
            "  inflating: real_or_drawing/train_data/1/769.bmp  \n",
            "  inflating: real_or_drawing/train_data/1/770.bmp  \n",
            "  inflating: real_or_drawing/train_data/1/771.bmp  \n",
            "  inflating: real_or_drawing/train_data/1/772.bmp  \n",
            "  inflating: real_or_drawing/train_data/1/773.bmp  \n",
            "  inflating: real_or_drawing/train_data/1/774.bmp  \n",
            "  inflating: real_or_drawing/train_data/1/775.bmp  \n",
            "  inflating: real_or_drawing/train_data/1/776.bmp  \n",
            "  inflating: real_or_drawing/train_data/1/777.bmp  \n",
            "  inflating: real_or_drawing/train_data/1/778.bmp  \n",
            "  inflating: real_or_drawing/train_data/1/779.bmp  \n",
            "  inflating: real_or_drawing/train_data/1/780.bmp  \n",
            "  inflating: real_or_drawing/train_data/1/781.bmp  \n",
            "  inflating: real_or_drawing/train_data/1/782.bmp  \n",
            "  inflating: real_or_drawing/train_data/1/783.bmp  \n",
            "  inflating: real_or_drawing/train_data/1/784.bmp  \n",
            "  inflating: real_or_drawing/train_data/1/785.bmp  \n",
            "  inflating: real_or_drawing/train_data/1/786.bmp  \n",
            "  inflating: real_or_drawing/train_data/1/787.bmp  \n",
            "  inflating: real_or_drawing/train_data/1/788.bmp  \n",
            "  inflating: real_or_drawing/train_data/1/789.bmp  \n",
            "  inflating: real_or_drawing/train_data/1/790.bmp  \n",
            "  inflating: real_or_drawing/train_data/1/791.bmp  \n",
            "  inflating: real_or_drawing/train_data/1/792.bmp  \n",
            "  inflating: real_or_drawing/train_data/1/793.bmp  \n",
            "  inflating: real_or_drawing/train_data/1/794.bmp  \n",
            "  inflating: real_or_drawing/train_data/1/795.bmp  \n",
            "  inflating: real_or_drawing/train_data/1/796.bmp  \n",
            "  inflating: real_or_drawing/train_data/1/797.bmp  \n",
            "  inflating: real_or_drawing/train_data/1/798.bmp  \n",
            "  inflating: real_or_drawing/train_data/1/799.bmp  \n",
            "  inflating: real_or_drawing/train_data/1/800.bmp  \n",
            "  inflating: real_or_drawing/train_data/1/801.bmp  \n",
            "  inflating: real_or_drawing/train_data/1/802.bmp  \n",
            "  inflating: real_or_drawing/train_data/1/803.bmp  \n",
            "  inflating: real_or_drawing/train_data/1/804.bmp  \n",
            "  inflating: real_or_drawing/train_data/1/805.bmp  \n",
            "  inflating: real_or_drawing/train_data/1/806.bmp  \n",
            "  inflating: real_or_drawing/train_data/1/807.bmp  \n",
            "  inflating: real_or_drawing/train_data/1/808.bmp  \n",
            "  inflating: real_or_drawing/train_data/1/809.bmp  \n",
            "  inflating: real_or_drawing/train_data/1/810.bmp  \n",
            "  inflating: real_or_drawing/train_data/1/811.bmp  \n",
            "  inflating: real_or_drawing/train_data/1/812.bmp  \n",
            "  inflating: real_or_drawing/train_data/1/813.bmp  \n",
            "  inflating: real_or_drawing/train_data/1/814.bmp  \n",
            "  inflating: real_or_drawing/train_data/1/815.bmp  \n",
            "  inflating: real_or_drawing/train_data/1/816.bmp  \n",
            "  inflating: real_or_drawing/train_data/1/817.bmp  \n",
            "  inflating: real_or_drawing/train_data/1/818.bmp  \n",
            "  inflating: real_or_drawing/train_data/1/819.bmp  \n",
            "  inflating: real_or_drawing/train_data/1/820.bmp  \n",
            "  inflating: real_or_drawing/train_data/1/821.bmp  \n",
            "  inflating: real_or_drawing/train_data/1/822.bmp  \n",
            "  inflating: real_or_drawing/train_data/1/823.bmp  \n",
            "  inflating: real_or_drawing/train_data/1/824.bmp  \n",
            "  inflating: real_or_drawing/train_data/1/825.bmp  \n",
            "  inflating: real_or_drawing/train_data/1/826.bmp  \n",
            "  inflating: real_or_drawing/train_data/1/827.bmp  \n",
            "  inflating: real_or_drawing/train_data/1/828.bmp  \n",
            "  inflating: real_or_drawing/train_data/1/829.bmp  \n",
            "  inflating: real_or_drawing/train_data/1/830.bmp  \n",
            "  inflating: real_or_drawing/train_data/1/831.bmp  \n",
            "  inflating: real_or_drawing/train_data/1/832.bmp  \n",
            "  inflating: real_or_drawing/train_data/1/833.bmp  \n",
            "  inflating: real_or_drawing/train_data/1/834.bmp  \n",
            "  inflating: real_or_drawing/train_data/1/835.bmp  \n",
            "  inflating: real_or_drawing/train_data/1/836.bmp  \n",
            "  inflating: real_or_drawing/train_data/1/837.bmp  \n",
            "  inflating: real_or_drawing/train_data/1/838.bmp  \n",
            "  inflating: real_or_drawing/train_data/1/839.bmp  \n",
            "  inflating: real_or_drawing/train_data/1/840.bmp  \n",
            "  inflating: real_or_drawing/train_data/1/841.bmp  \n",
            "  inflating: real_or_drawing/train_data/1/842.bmp  \n",
            "  inflating: real_or_drawing/train_data/1/843.bmp  \n",
            "  inflating: real_or_drawing/train_data/1/844.bmp  \n",
            "  inflating: real_or_drawing/train_data/1/845.bmp  \n",
            "  inflating: real_or_drawing/train_data/1/846.bmp  \n",
            "  inflating: real_or_drawing/train_data/1/847.bmp  \n",
            "  inflating: real_or_drawing/train_data/1/848.bmp  \n",
            "  inflating: real_or_drawing/train_data/1/849.bmp  \n",
            "  inflating: real_or_drawing/train_data/1/850.bmp  \n",
            "  inflating: real_or_drawing/train_data/1/851.bmp  \n",
            "  inflating: real_or_drawing/train_data/1/852.bmp  \n",
            "  inflating: real_or_drawing/train_data/1/853.bmp  \n",
            "  inflating: real_or_drawing/train_data/1/854.bmp  \n",
            "  inflating: real_or_drawing/train_data/1/855.bmp  \n",
            "  inflating: real_or_drawing/train_data/1/856.bmp  \n",
            "  inflating: real_or_drawing/train_data/1/857.bmp  \n",
            "  inflating: real_or_drawing/train_data/1/858.bmp  \n",
            "  inflating: real_or_drawing/train_data/1/859.bmp  \n",
            "  inflating: real_or_drawing/train_data/1/860.bmp  \n",
            "  inflating: real_or_drawing/train_data/1/861.bmp  \n",
            "  inflating: real_or_drawing/train_data/1/862.bmp  \n",
            "  inflating: real_or_drawing/train_data/1/863.bmp  \n",
            "  inflating: real_or_drawing/train_data/1/864.bmp  \n",
            "  inflating: real_or_drawing/train_data/1/865.bmp  \n",
            "  inflating: real_or_drawing/train_data/1/866.bmp  \n",
            "  inflating: real_or_drawing/train_data/1/867.bmp  \n",
            "  inflating: real_or_drawing/train_data/1/868.bmp  \n",
            "  inflating: real_or_drawing/train_data/1/869.bmp  \n",
            "  inflating: real_or_drawing/train_data/1/870.bmp  \n",
            "  inflating: real_or_drawing/train_data/1/871.bmp  \n",
            "  inflating: real_or_drawing/train_data/1/872.bmp  \n",
            "  inflating: real_or_drawing/train_data/1/873.bmp  \n",
            "  inflating: real_or_drawing/train_data/1/874.bmp  \n",
            "  inflating: real_or_drawing/train_data/1/875.bmp  \n",
            "  inflating: real_or_drawing/train_data/1/876.bmp  \n",
            "  inflating: real_or_drawing/train_data/1/877.bmp  \n",
            "  inflating: real_or_drawing/train_data/1/878.bmp  \n",
            "  inflating: real_or_drawing/train_data/1/879.bmp  \n",
            "  inflating: real_or_drawing/train_data/1/880.bmp  \n",
            "  inflating: real_or_drawing/train_data/1/881.bmp  \n",
            "  inflating: real_or_drawing/train_data/1/882.bmp  \n",
            "  inflating: real_or_drawing/train_data/1/883.bmp  \n",
            "  inflating: real_or_drawing/train_data/1/884.bmp  \n",
            "  inflating: real_or_drawing/train_data/1/885.bmp  \n",
            "  inflating: real_or_drawing/train_data/1/886.bmp  \n",
            "  inflating: real_or_drawing/train_data/1/887.bmp  \n",
            "  inflating: real_or_drawing/train_data/1/888.bmp  \n",
            "  inflating: real_or_drawing/train_data/1/889.bmp  \n",
            "  inflating: real_or_drawing/train_data/1/890.bmp  \n",
            "  inflating: real_or_drawing/train_data/1/891.bmp  \n",
            "  inflating: real_or_drawing/train_data/1/892.bmp  \n",
            "  inflating: real_or_drawing/train_data/1/893.bmp  \n",
            "  inflating: real_or_drawing/train_data/1/894.bmp  \n",
            "  inflating: real_or_drawing/train_data/1/895.bmp  \n",
            "  inflating: real_or_drawing/train_data/1/896.bmp  \n",
            "  inflating: real_or_drawing/train_data/1/897.bmp  \n",
            "  inflating: real_or_drawing/train_data/1/898.bmp  \n",
            "  inflating: real_or_drawing/train_data/1/899.bmp  \n",
            "  inflating: real_or_drawing/train_data/1/900.bmp  \n",
            "  inflating: real_or_drawing/train_data/1/901.bmp  \n",
            "  inflating: real_or_drawing/train_data/1/902.bmp  \n",
            "  inflating: real_or_drawing/train_data/1/903.bmp  \n",
            "  inflating: real_or_drawing/train_data/1/904.bmp  \n",
            "  inflating: real_or_drawing/train_data/1/905.bmp  \n",
            "  inflating: real_or_drawing/train_data/1/906.bmp  \n",
            "  inflating: real_or_drawing/train_data/1/907.bmp  \n",
            "  inflating: real_or_drawing/train_data/1/908.bmp  \n",
            "  inflating: real_or_drawing/train_data/1/909.bmp  \n",
            "  inflating: real_or_drawing/train_data/1/910.bmp  \n",
            "  inflating: real_or_drawing/train_data/1/911.bmp  \n",
            "  inflating: real_or_drawing/train_data/1/912.bmp  \n",
            "  inflating: real_or_drawing/train_data/1/913.bmp  \n",
            "  inflating: real_or_drawing/train_data/1/914.bmp  \n",
            "  inflating: real_or_drawing/train_data/1/915.bmp  \n",
            "  inflating: real_or_drawing/train_data/1/916.bmp  \n",
            "  inflating: real_or_drawing/train_data/1/917.bmp  \n",
            "  inflating: real_or_drawing/train_data/1/918.bmp  \n",
            "  inflating: real_or_drawing/train_data/1/919.bmp  \n",
            "  inflating: real_or_drawing/train_data/1/920.bmp  \n",
            "  inflating: real_or_drawing/train_data/1/921.bmp  \n",
            "  inflating: real_or_drawing/train_data/1/922.bmp  \n",
            "  inflating: real_or_drawing/train_data/1/923.bmp  \n",
            "  inflating: real_or_drawing/train_data/1/924.bmp  \n",
            "  inflating: real_or_drawing/train_data/1/925.bmp  \n",
            "  inflating: real_or_drawing/train_data/1/926.bmp  \n",
            "  inflating: real_or_drawing/train_data/1/927.bmp  \n",
            "  inflating: real_or_drawing/train_data/1/928.bmp  \n",
            "  inflating: real_or_drawing/train_data/1/929.bmp  \n",
            "  inflating: real_or_drawing/train_data/1/930.bmp  \n",
            "  inflating: real_or_drawing/train_data/1/931.bmp  \n",
            "  inflating: real_or_drawing/train_data/1/932.bmp  \n",
            "  inflating: real_or_drawing/train_data/1/933.bmp  \n",
            "  inflating: real_or_drawing/train_data/1/934.bmp  \n",
            "  inflating: real_or_drawing/train_data/1/935.bmp  \n",
            "  inflating: real_or_drawing/train_data/1/936.bmp  \n",
            "  inflating: real_or_drawing/train_data/1/937.bmp  \n",
            "  inflating: real_or_drawing/train_data/1/938.bmp  \n",
            "  inflating: real_or_drawing/train_data/1/939.bmp  \n",
            "  inflating: real_or_drawing/train_data/1/940.bmp  \n",
            "  inflating: real_or_drawing/train_data/1/941.bmp  \n",
            "  inflating: real_or_drawing/train_data/1/942.bmp  \n",
            "  inflating: real_or_drawing/train_data/1/943.bmp  \n",
            "  inflating: real_or_drawing/train_data/1/944.bmp  \n",
            "  inflating: real_or_drawing/train_data/1/945.bmp  \n",
            "  inflating: real_or_drawing/train_data/1/946.bmp  \n",
            "  inflating: real_or_drawing/train_data/1/947.bmp  \n",
            "  inflating: real_or_drawing/train_data/1/948.bmp  \n",
            "  inflating: real_or_drawing/train_data/1/949.bmp  \n",
            "  inflating: real_or_drawing/train_data/1/950.bmp  \n",
            "  inflating: real_or_drawing/train_data/1/951.bmp  \n",
            "  inflating: real_or_drawing/train_data/1/952.bmp  \n",
            "  inflating: real_or_drawing/train_data/1/953.bmp  \n",
            "  inflating: real_or_drawing/train_data/1/954.bmp  \n",
            "  inflating: real_or_drawing/train_data/1/955.bmp  \n",
            "  inflating: real_or_drawing/train_data/1/956.bmp  \n",
            "  inflating: real_or_drawing/train_data/1/957.bmp  \n",
            "  inflating: real_or_drawing/train_data/1/958.bmp  \n",
            "  inflating: real_or_drawing/train_data/1/959.bmp  \n",
            "  inflating: real_or_drawing/train_data/1/960.bmp  \n",
            "  inflating: real_or_drawing/train_data/1/961.bmp  \n",
            "  inflating: real_or_drawing/train_data/1/962.bmp  \n",
            "  inflating: real_or_drawing/train_data/1/963.bmp  \n",
            "  inflating: real_or_drawing/train_data/1/964.bmp  \n",
            "  inflating: real_or_drawing/train_data/1/965.bmp  \n",
            "  inflating: real_or_drawing/train_data/1/966.bmp  \n",
            "  inflating: real_or_drawing/train_data/1/967.bmp  \n",
            "  inflating: real_or_drawing/train_data/1/968.bmp  \n",
            "  inflating: real_or_drawing/train_data/1/969.bmp  \n",
            "  inflating: real_or_drawing/train_data/1/970.bmp  \n",
            "  inflating: real_or_drawing/train_data/1/971.bmp  \n",
            "  inflating: real_or_drawing/train_data/1/972.bmp  \n",
            "  inflating: real_or_drawing/train_data/1/973.bmp  \n",
            "  inflating: real_or_drawing/train_data/1/974.bmp  \n",
            "  inflating: real_or_drawing/train_data/1/975.bmp  \n",
            "  inflating: real_or_drawing/train_data/1/976.bmp  \n",
            "  inflating: real_or_drawing/train_data/1/977.bmp  \n",
            "  inflating: real_or_drawing/train_data/1/978.bmp  \n",
            "  inflating: real_or_drawing/train_data/1/979.bmp  \n",
            "  inflating: real_or_drawing/train_data/1/980.bmp  \n",
            "  inflating: real_or_drawing/train_data/1/981.bmp  \n",
            "  inflating: real_or_drawing/train_data/1/982.bmp  \n",
            "  inflating: real_or_drawing/train_data/1/983.bmp  \n",
            "  inflating: real_or_drawing/train_data/1/984.bmp  \n",
            "  inflating: real_or_drawing/train_data/1/985.bmp  \n",
            "  inflating: real_or_drawing/train_data/1/986.bmp  \n",
            "  inflating: real_or_drawing/train_data/1/987.bmp  \n",
            "  inflating: real_or_drawing/train_data/1/988.bmp  \n",
            "  inflating: real_or_drawing/train_data/1/989.bmp  \n",
            "  inflating: real_or_drawing/train_data/1/990.bmp  \n",
            "  inflating: real_or_drawing/train_data/1/991.bmp  \n",
            "  inflating: real_or_drawing/train_data/1/992.bmp  \n",
            "  inflating: real_or_drawing/train_data/1/993.bmp  \n",
            "  inflating: real_or_drawing/train_data/1/994.bmp  \n",
            "  inflating: real_or_drawing/train_data/1/995.bmp  \n",
            "  inflating: real_or_drawing/train_data/1/996.bmp  \n",
            "  inflating: real_or_drawing/train_data/1/997.bmp  \n",
            "  inflating: real_or_drawing/train_data/1/998.bmp  \n",
            "  inflating: real_or_drawing/train_data/1/999.bmp  \n",
            "   creating: real_or_drawing/train_data/2/\n",
            "  inflating: real_or_drawing/train_data/2/1000.bmp  \n",
            "  inflating: real_or_drawing/train_data/2/1001.bmp  \n",
            "  inflating: real_or_drawing/train_data/2/1002.bmp  \n",
            "  inflating: real_or_drawing/train_data/2/1003.bmp  \n",
            "  inflating: real_or_drawing/train_data/2/1004.bmp  \n",
            "  inflating: real_or_drawing/train_data/2/1005.bmp  \n",
            "  inflating: real_or_drawing/train_data/2/1006.bmp  \n",
            "  inflating: real_or_drawing/train_data/2/1007.bmp  \n",
            "  inflating: real_or_drawing/train_data/2/1008.bmp  \n",
            "  inflating: real_or_drawing/train_data/2/1009.bmp  \n",
            "  inflating: real_or_drawing/train_data/2/1010.bmp  \n",
            "  inflating: real_or_drawing/train_data/2/1011.bmp  \n",
            "  inflating: real_or_drawing/train_data/2/1012.bmp  \n",
            "  inflating: real_or_drawing/train_data/2/1013.bmp  \n",
            "  inflating: real_or_drawing/train_data/2/1014.bmp  \n",
            "  inflating: real_or_drawing/train_data/2/1015.bmp  \n",
            "  inflating: real_or_drawing/train_data/2/1016.bmp  \n",
            "  inflating: real_or_drawing/train_data/2/1017.bmp  \n",
            "  inflating: real_or_drawing/train_data/2/1018.bmp  \n",
            "  inflating: real_or_drawing/train_data/2/1019.bmp  \n",
            "  inflating: real_or_drawing/train_data/2/1020.bmp  \n",
            "  inflating: real_or_drawing/train_data/2/1021.bmp  \n",
            "  inflating: real_or_drawing/train_data/2/1022.bmp  \n",
            "  inflating: real_or_drawing/train_data/2/1023.bmp  \n",
            "  inflating: real_or_drawing/train_data/2/1024.bmp  \n",
            "  inflating: real_or_drawing/train_data/2/1025.bmp  \n",
            "  inflating: real_or_drawing/train_data/2/1026.bmp  \n",
            "  inflating: real_or_drawing/train_data/2/1027.bmp  \n",
            "  inflating: real_or_drawing/train_data/2/1028.bmp  \n",
            "  inflating: real_or_drawing/train_data/2/1029.bmp  \n",
            "  inflating: real_or_drawing/train_data/2/1030.bmp  \n",
            "  inflating: real_or_drawing/train_data/2/1031.bmp  \n",
            "  inflating: real_or_drawing/train_data/2/1032.bmp  \n",
            "  inflating: real_or_drawing/train_data/2/1033.bmp  \n",
            "  inflating: real_or_drawing/train_data/2/1034.bmp  \n",
            "  inflating: real_or_drawing/train_data/2/1035.bmp  \n",
            "  inflating: real_or_drawing/train_data/2/1036.bmp  \n",
            "  inflating: real_or_drawing/train_data/2/1037.bmp  \n",
            "  inflating: real_or_drawing/train_data/2/1038.bmp  \n",
            "  inflating: real_or_drawing/train_data/2/1039.bmp  \n",
            "  inflating: real_or_drawing/train_data/2/1040.bmp  \n",
            "  inflating: real_or_drawing/train_data/2/1041.bmp  \n",
            "  inflating: real_or_drawing/train_data/2/1042.bmp  \n",
            "  inflating: real_or_drawing/train_data/2/1043.bmp  \n",
            "  inflating: real_or_drawing/train_data/2/1044.bmp  \n",
            "  inflating: real_or_drawing/train_data/2/1045.bmp  \n",
            "  inflating: real_or_drawing/train_data/2/1046.bmp  \n",
            "  inflating: real_or_drawing/train_data/2/1047.bmp  \n",
            "  inflating: real_or_drawing/train_data/2/1048.bmp  \n",
            "  inflating: real_or_drawing/train_data/2/1049.bmp  \n",
            "  inflating: real_or_drawing/train_data/2/1050.bmp  \n",
            "  inflating: real_or_drawing/train_data/2/1051.bmp  \n",
            "  inflating: real_or_drawing/train_data/2/1052.bmp  \n",
            "  inflating: real_or_drawing/train_data/2/1053.bmp  \n",
            "  inflating: real_or_drawing/train_data/2/1054.bmp  \n",
            "  inflating: real_or_drawing/train_data/2/1055.bmp  \n",
            "  inflating: real_or_drawing/train_data/2/1056.bmp  \n",
            "  inflating: real_or_drawing/train_data/2/1057.bmp  \n",
            "  inflating: real_or_drawing/train_data/2/1058.bmp  \n",
            "  inflating: real_or_drawing/train_data/2/1059.bmp  \n",
            "  inflating: real_or_drawing/train_data/2/1060.bmp  \n",
            "  inflating: real_or_drawing/train_data/2/1061.bmp  \n",
            "  inflating: real_or_drawing/train_data/2/1062.bmp  \n",
            "  inflating: real_or_drawing/train_data/2/1063.bmp  \n",
            "  inflating: real_or_drawing/train_data/2/1064.bmp  \n",
            "  inflating: real_or_drawing/train_data/2/1065.bmp  \n",
            "  inflating: real_or_drawing/train_data/2/1066.bmp  \n",
            "  inflating: real_or_drawing/train_data/2/1067.bmp  \n",
            "  inflating: real_or_drawing/train_data/2/1068.bmp  \n",
            "  inflating: real_or_drawing/train_data/2/1069.bmp  \n",
            "  inflating: real_or_drawing/train_data/2/1070.bmp  \n",
            "  inflating: real_or_drawing/train_data/2/1071.bmp  \n",
            "  inflating: real_or_drawing/train_data/2/1072.bmp  \n",
            "  inflating: real_or_drawing/train_data/2/1073.bmp  \n",
            "  inflating: real_or_drawing/train_data/2/1074.bmp  \n",
            "  inflating: real_or_drawing/train_data/2/1075.bmp  \n",
            "  inflating: real_or_drawing/train_data/2/1076.bmp  \n",
            "  inflating: real_or_drawing/train_data/2/1077.bmp  \n",
            "  inflating: real_or_drawing/train_data/2/1078.bmp  \n",
            "  inflating: real_or_drawing/train_data/2/1079.bmp  \n",
            "  inflating: real_or_drawing/train_data/2/1080.bmp  \n",
            "  inflating: real_or_drawing/train_data/2/1081.bmp  \n",
            "  inflating: real_or_drawing/train_data/2/1082.bmp  \n",
            "  inflating: real_or_drawing/train_data/2/1083.bmp  \n",
            "  inflating: real_or_drawing/train_data/2/1084.bmp  \n",
            "  inflating: real_or_drawing/train_data/2/1085.bmp  \n",
            "  inflating: real_or_drawing/train_data/2/1086.bmp  \n",
            "  inflating: real_or_drawing/train_data/2/1087.bmp  \n",
            "  inflating: real_or_drawing/train_data/2/1088.bmp  \n",
            "  inflating: real_or_drawing/train_data/2/1089.bmp  \n",
            "  inflating: real_or_drawing/train_data/2/1090.bmp  \n",
            "  inflating: real_or_drawing/train_data/2/1091.bmp  \n",
            "  inflating: real_or_drawing/train_data/2/1092.bmp  \n",
            "  inflating: real_or_drawing/train_data/2/1093.bmp  \n",
            "  inflating: real_or_drawing/train_data/2/1094.bmp  \n",
            "  inflating: real_or_drawing/train_data/2/1095.bmp  \n",
            "  inflating: real_or_drawing/train_data/2/1096.bmp  \n",
            "  inflating: real_or_drawing/train_data/2/1097.bmp  \n",
            "  inflating: real_or_drawing/train_data/2/1098.bmp  \n",
            "  inflating: real_or_drawing/train_data/2/1099.bmp  \n",
            "  inflating: real_or_drawing/train_data/2/1100.bmp  \n",
            "  inflating: real_or_drawing/train_data/2/1101.bmp  \n",
            "  inflating: real_or_drawing/train_data/2/1102.bmp  \n",
            "  inflating: real_or_drawing/train_data/2/1103.bmp  \n",
            "  inflating: real_or_drawing/train_data/2/1104.bmp  \n",
            "  inflating: real_or_drawing/train_data/2/1105.bmp  \n",
            "  inflating: real_or_drawing/train_data/2/1106.bmp  \n",
            "  inflating: real_or_drawing/train_data/2/1107.bmp  \n",
            "  inflating: real_or_drawing/train_data/2/1108.bmp  \n",
            "  inflating: real_or_drawing/train_data/2/1109.bmp  \n",
            "  inflating: real_or_drawing/train_data/2/1110.bmp  \n",
            "  inflating: real_or_drawing/train_data/2/1111.bmp  \n",
            "  inflating: real_or_drawing/train_data/2/1112.bmp  \n",
            "  inflating: real_or_drawing/train_data/2/1113.bmp  \n",
            "  inflating: real_or_drawing/train_data/2/1114.bmp  \n",
            "  inflating: real_or_drawing/train_data/2/1115.bmp  \n",
            "  inflating: real_or_drawing/train_data/2/1116.bmp  \n",
            "  inflating: real_or_drawing/train_data/2/1117.bmp  \n",
            "  inflating: real_or_drawing/train_data/2/1118.bmp  \n",
            "  inflating: real_or_drawing/train_data/2/1119.bmp  \n",
            "  inflating: real_or_drawing/train_data/2/1120.bmp  \n",
            "  inflating: real_or_drawing/train_data/2/1121.bmp  \n",
            "  inflating: real_or_drawing/train_data/2/1122.bmp  \n",
            "  inflating: real_or_drawing/train_data/2/1123.bmp  \n",
            "  inflating: real_or_drawing/train_data/2/1124.bmp  \n",
            "  inflating: real_or_drawing/train_data/2/1125.bmp  \n",
            "  inflating: real_or_drawing/train_data/2/1126.bmp  \n",
            "  inflating: real_or_drawing/train_data/2/1127.bmp  \n",
            "  inflating: real_or_drawing/train_data/2/1128.bmp  \n",
            "  inflating: real_or_drawing/train_data/2/1129.bmp  \n",
            "  inflating: real_or_drawing/train_data/2/1130.bmp  \n",
            "  inflating: real_or_drawing/train_data/2/1131.bmp  \n",
            "  inflating: real_or_drawing/train_data/2/1132.bmp  \n",
            "  inflating: real_or_drawing/train_data/2/1133.bmp  \n",
            "  inflating: real_or_drawing/train_data/2/1134.bmp  \n",
            "  inflating: real_or_drawing/train_data/2/1135.bmp  \n",
            "  inflating: real_or_drawing/train_data/2/1136.bmp  \n",
            "  inflating: real_or_drawing/train_data/2/1137.bmp  \n",
            "  inflating: real_or_drawing/train_data/2/1138.bmp  \n",
            "  inflating: real_or_drawing/train_data/2/1139.bmp  \n",
            "  inflating: real_or_drawing/train_data/2/1140.bmp  \n",
            "  inflating: real_or_drawing/train_data/2/1141.bmp  \n",
            "  inflating: real_or_drawing/train_data/2/1142.bmp  \n",
            "  inflating: real_or_drawing/train_data/2/1143.bmp  \n",
            "  inflating: real_or_drawing/train_data/2/1144.bmp  \n",
            "  inflating: real_or_drawing/train_data/2/1145.bmp  \n",
            "  inflating: real_or_drawing/train_data/2/1146.bmp  \n",
            "  inflating: real_or_drawing/train_data/2/1147.bmp  \n",
            "  inflating: real_or_drawing/train_data/2/1148.bmp  \n",
            "  inflating: real_or_drawing/train_data/2/1149.bmp  \n",
            "  inflating: real_or_drawing/train_data/2/1150.bmp  \n",
            "  inflating: real_or_drawing/train_data/2/1151.bmp  \n",
            "  inflating: real_or_drawing/train_data/2/1152.bmp  \n",
            "  inflating: real_or_drawing/train_data/2/1153.bmp  \n",
            "  inflating: real_or_drawing/train_data/2/1154.bmp  \n",
            "  inflating: real_or_drawing/train_data/2/1155.bmp  \n",
            "  inflating: real_or_drawing/train_data/2/1156.bmp  \n",
            "  inflating: real_or_drawing/train_data/2/1157.bmp  \n",
            "  inflating: real_or_drawing/train_data/2/1158.bmp  \n",
            "  inflating: real_or_drawing/train_data/2/1159.bmp  \n",
            "  inflating: real_or_drawing/train_data/2/1160.bmp  \n",
            "  inflating: real_or_drawing/train_data/2/1161.bmp  \n",
            "  inflating: real_or_drawing/train_data/2/1162.bmp  \n",
            "  inflating: real_or_drawing/train_data/2/1163.bmp  \n",
            "  inflating: real_or_drawing/train_data/2/1164.bmp  \n",
            "  inflating: real_or_drawing/train_data/2/1165.bmp  \n",
            "  inflating: real_or_drawing/train_data/2/1166.bmp  \n",
            "  inflating: real_or_drawing/train_data/2/1167.bmp  \n",
            "  inflating: real_or_drawing/train_data/2/1168.bmp  \n",
            "  inflating: real_or_drawing/train_data/2/1169.bmp  \n",
            "  inflating: real_or_drawing/train_data/2/1170.bmp  \n",
            "  inflating: real_or_drawing/train_data/2/1171.bmp  \n",
            "  inflating: real_or_drawing/train_data/2/1172.bmp  \n",
            "  inflating: real_or_drawing/train_data/2/1173.bmp  \n",
            "  inflating: real_or_drawing/train_data/2/1174.bmp  \n",
            "  inflating: real_or_drawing/train_data/2/1175.bmp  \n",
            "  inflating: real_or_drawing/train_data/2/1176.bmp  \n",
            "  inflating: real_or_drawing/train_data/2/1177.bmp  \n",
            "  inflating: real_or_drawing/train_data/2/1178.bmp  \n",
            "  inflating: real_or_drawing/train_data/2/1179.bmp  \n",
            "  inflating: real_or_drawing/train_data/2/1180.bmp  \n",
            "  inflating: real_or_drawing/train_data/2/1181.bmp  \n",
            "  inflating: real_or_drawing/train_data/2/1182.bmp  \n",
            "  inflating: real_or_drawing/train_data/2/1183.bmp  \n",
            "  inflating: real_or_drawing/train_data/2/1184.bmp  \n",
            "  inflating: real_or_drawing/train_data/2/1185.bmp  \n",
            "  inflating: real_or_drawing/train_data/2/1186.bmp  \n",
            "  inflating: real_or_drawing/train_data/2/1187.bmp  \n",
            "  inflating: real_or_drawing/train_data/2/1188.bmp  \n",
            "  inflating: real_or_drawing/train_data/2/1189.bmp  \n",
            "  inflating: real_or_drawing/train_data/2/1190.bmp  \n",
            "  inflating: real_or_drawing/train_data/2/1191.bmp  \n",
            "  inflating: real_or_drawing/train_data/2/1192.bmp  \n",
            "  inflating: real_or_drawing/train_data/2/1193.bmp  \n",
            "  inflating: real_or_drawing/train_data/2/1194.bmp  \n",
            "  inflating: real_or_drawing/train_data/2/1195.bmp  \n",
            "  inflating: real_or_drawing/train_data/2/1196.bmp  \n",
            "  inflating: real_or_drawing/train_data/2/1197.bmp  \n",
            "  inflating: real_or_drawing/train_data/2/1198.bmp  \n",
            "  inflating: real_or_drawing/train_data/2/1199.bmp  \n",
            "  inflating: real_or_drawing/train_data/2/1200.bmp  \n",
            "  inflating: real_or_drawing/train_data/2/1201.bmp  \n",
            "  inflating: real_or_drawing/train_data/2/1202.bmp  \n",
            "  inflating: real_or_drawing/train_data/2/1203.bmp  \n",
            "  inflating: real_or_drawing/train_data/2/1204.bmp  \n",
            "  inflating: real_or_drawing/train_data/2/1205.bmp  \n",
            "  inflating: real_or_drawing/train_data/2/1206.bmp  \n",
            "  inflating: real_or_drawing/train_data/2/1207.bmp  \n",
            "  inflating: real_or_drawing/train_data/2/1208.bmp  \n",
            "  inflating: real_or_drawing/train_data/2/1209.bmp  \n",
            "  inflating: real_or_drawing/train_data/2/1210.bmp  \n",
            "  inflating: real_or_drawing/train_data/2/1211.bmp  \n",
            "  inflating: real_or_drawing/train_data/2/1212.bmp  \n",
            "  inflating: real_or_drawing/train_data/2/1213.bmp  \n",
            "  inflating: real_or_drawing/train_data/2/1214.bmp  \n",
            "  inflating: real_or_drawing/train_data/2/1215.bmp  \n",
            "  inflating: real_or_drawing/train_data/2/1216.bmp  \n",
            "  inflating: real_or_drawing/train_data/2/1217.bmp  \n",
            "  inflating: real_or_drawing/train_data/2/1218.bmp  \n",
            "  inflating: real_or_drawing/train_data/2/1219.bmp  \n",
            "  inflating: real_or_drawing/train_data/2/1220.bmp  \n",
            "  inflating: real_or_drawing/train_data/2/1221.bmp  \n",
            "  inflating: real_or_drawing/train_data/2/1222.bmp  \n",
            "  inflating: real_or_drawing/train_data/2/1223.bmp  \n",
            "  inflating: real_or_drawing/train_data/2/1224.bmp  \n",
            "  inflating: real_or_drawing/train_data/2/1225.bmp  \n",
            "  inflating: real_or_drawing/train_data/2/1226.bmp  \n",
            "  inflating: real_or_drawing/train_data/2/1227.bmp  \n",
            "  inflating: real_or_drawing/train_data/2/1228.bmp  \n",
            "  inflating: real_or_drawing/train_data/2/1229.bmp  \n",
            "  inflating: real_or_drawing/train_data/2/1230.bmp  \n",
            "  inflating: real_or_drawing/train_data/2/1231.bmp  \n",
            "  inflating: real_or_drawing/train_data/2/1232.bmp  \n",
            "  inflating: real_or_drawing/train_data/2/1233.bmp  \n",
            "  inflating: real_or_drawing/train_data/2/1234.bmp  \n",
            "  inflating: real_or_drawing/train_data/2/1235.bmp  \n",
            "  inflating: real_or_drawing/train_data/2/1236.bmp  \n",
            "  inflating: real_or_drawing/train_data/2/1237.bmp  \n",
            "  inflating: real_or_drawing/train_data/2/1238.bmp  \n",
            "  inflating: real_or_drawing/train_data/2/1239.bmp  \n",
            "  inflating: real_or_drawing/train_data/2/1240.bmp  \n",
            "  inflating: real_or_drawing/train_data/2/1241.bmp  \n",
            "  inflating: real_or_drawing/train_data/2/1242.bmp  \n",
            "  inflating: real_or_drawing/train_data/2/1243.bmp  \n",
            "  inflating: real_or_drawing/train_data/2/1244.bmp  \n",
            "  inflating: real_or_drawing/train_data/2/1245.bmp  \n",
            "  inflating: real_or_drawing/train_data/2/1246.bmp  \n",
            "  inflating: real_or_drawing/train_data/2/1247.bmp  \n",
            "  inflating: real_or_drawing/train_data/2/1248.bmp  \n",
            "  inflating: real_or_drawing/train_data/2/1249.bmp  \n",
            "  inflating: real_or_drawing/train_data/2/1250.bmp  \n",
            "  inflating: real_or_drawing/train_data/2/1251.bmp  \n",
            "  inflating: real_or_drawing/train_data/2/1252.bmp  \n",
            "  inflating: real_or_drawing/train_data/2/1253.bmp  \n",
            "  inflating: real_or_drawing/train_data/2/1254.bmp  \n",
            "  inflating: real_or_drawing/train_data/2/1255.bmp  \n",
            "  inflating: real_or_drawing/train_data/2/1256.bmp  \n",
            "  inflating: real_or_drawing/train_data/2/1257.bmp  \n",
            "  inflating: real_or_drawing/train_data/2/1258.bmp  \n",
            "  inflating: real_or_drawing/train_data/2/1259.bmp  \n",
            "  inflating: real_or_drawing/train_data/2/1260.bmp  \n",
            "  inflating: real_or_drawing/train_data/2/1261.bmp  \n",
            "  inflating: real_or_drawing/train_data/2/1262.bmp  \n",
            "  inflating: real_or_drawing/train_data/2/1263.bmp  \n",
            "  inflating: real_or_drawing/train_data/2/1264.bmp  \n",
            "  inflating: real_or_drawing/train_data/2/1265.bmp  \n",
            "  inflating: real_or_drawing/train_data/2/1266.bmp  \n",
            "  inflating: real_or_drawing/train_data/2/1267.bmp  \n",
            "  inflating: real_or_drawing/train_data/2/1268.bmp  \n",
            "  inflating: real_or_drawing/train_data/2/1269.bmp  \n",
            "  inflating: real_or_drawing/train_data/2/1270.bmp  \n",
            "  inflating: real_or_drawing/train_data/2/1271.bmp  \n",
            "  inflating: real_or_drawing/train_data/2/1272.bmp  \n",
            "  inflating: real_or_drawing/train_data/2/1273.bmp  \n",
            "  inflating: real_or_drawing/train_data/2/1274.bmp  \n",
            "  inflating: real_or_drawing/train_data/2/1275.bmp  \n",
            "  inflating: real_or_drawing/train_data/2/1276.bmp  \n",
            "  inflating: real_or_drawing/train_data/2/1277.bmp  \n",
            "  inflating: real_or_drawing/train_data/2/1278.bmp  \n",
            "  inflating: real_or_drawing/train_data/2/1279.bmp  \n",
            "  inflating: real_or_drawing/train_data/2/1280.bmp  \n",
            "  inflating: real_or_drawing/train_data/2/1281.bmp  \n",
            "  inflating: real_or_drawing/train_data/2/1282.bmp  \n",
            "  inflating: real_or_drawing/train_data/2/1283.bmp  \n",
            "  inflating: real_or_drawing/train_data/2/1284.bmp  \n",
            "  inflating: real_or_drawing/train_data/2/1285.bmp  \n",
            "  inflating: real_or_drawing/train_data/2/1286.bmp  \n",
            "  inflating: real_or_drawing/train_data/2/1287.bmp  \n",
            "  inflating: real_or_drawing/train_data/2/1288.bmp  \n",
            "  inflating: real_or_drawing/train_data/2/1289.bmp  \n",
            "  inflating: real_or_drawing/train_data/2/1290.bmp  \n",
            "  inflating: real_or_drawing/train_data/2/1291.bmp  \n",
            "  inflating: real_or_drawing/train_data/2/1292.bmp  \n",
            "  inflating: real_or_drawing/train_data/2/1293.bmp  \n",
            "  inflating: real_or_drawing/train_data/2/1294.bmp  \n",
            "  inflating: real_or_drawing/train_data/2/1295.bmp  \n",
            "  inflating: real_or_drawing/train_data/2/1296.bmp  \n",
            "  inflating: real_or_drawing/train_data/2/1297.bmp  \n",
            "  inflating: real_or_drawing/train_data/2/1298.bmp  \n",
            "  inflating: real_or_drawing/train_data/2/1299.bmp  \n",
            "  inflating: real_or_drawing/train_data/2/1300.bmp  \n",
            "  inflating: real_or_drawing/train_data/2/1301.bmp  \n",
            "  inflating: real_or_drawing/train_data/2/1302.bmp  \n",
            "  inflating: real_or_drawing/train_data/2/1303.bmp  \n",
            "  inflating: real_or_drawing/train_data/2/1304.bmp  \n",
            "  inflating: real_or_drawing/train_data/2/1305.bmp  \n",
            "  inflating: real_or_drawing/train_data/2/1306.bmp  \n",
            "  inflating: real_or_drawing/train_data/2/1307.bmp  \n",
            "  inflating: real_or_drawing/train_data/2/1308.bmp  \n",
            "  inflating: real_or_drawing/train_data/2/1309.bmp  \n",
            "  inflating: real_or_drawing/train_data/2/1310.bmp  \n",
            "  inflating: real_or_drawing/train_data/2/1311.bmp  \n",
            "  inflating: real_or_drawing/train_data/2/1312.bmp  \n",
            "  inflating: real_or_drawing/train_data/2/1313.bmp  \n",
            "  inflating: real_or_drawing/train_data/2/1314.bmp  \n",
            "  inflating: real_or_drawing/train_data/2/1315.bmp  \n",
            "  inflating: real_or_drawing/train_data/2/1316.bmp  \n",
            "  inflating: real_or_drawing/train_data/2/1317.bmp  \n",
            "  inflating: real_or_drawing/train_data/2/1318.bmp  \n",
            "  inflating: real_or_drawing/train_data/2/1319.bmp  \n",
            "  inflating: real_or_drawing/train_data/2/1320.bmp  \n",
            "  inflating: real_or_drawing/train_data/2/1321.bmp  \n",
            "  inflating: real_or_drawing/train_data/2/1322.bmp  \n",
            "  inflating: real_or_drawing/train_data/2/1323.bmp  \n",
            "  inflating: real_or_drawing/train_data/2/1324.bmp  \n",
            "  inflating: real_or_drawing/train_data/2/1325.bmp  \n",
            "  inflating: real_or_drawing/train_data/2/1326.bmp  \n",
            "  inflating: real_or_drawing/train_data/2/1327.bmp  \n",
            "  inflating: real_or_drawing/train_data/2/1328.bmp  \n",
            "  inflating: real_or_drawing/train_data/2/1329.bmp  \n",
            "  inflating: real_or_drawing/train_data/2/1330.bmp  \n",
            "  inflating: real_or_drawing/train_data/2/1331.bmp  \n",
            "  inflating: real_or_drawing/train_data/2/1332.bmp  \n",
            "  inflating: real_or_drawing/train_data/2/1333.bmp  \n",
            "  inflating: real_or_drawing/train_data/2/1334.bmp  \n",
            "  inflating: real_or_drawing/train_data/2/1335.bmp  \n",
            "  inflating: real_or_drawing/train_data/2/1336.bmp  \n",
            "  inflating: real_or_drawing/train_data/2/1337.bmp  \n",
            "  inflating: real_or_drawing/train_data/2/1338.bmp  \n",
            "  inflating: real_or_drawing/train_data/2/1339.bmp  \n",
            "  inflating: real_or_drawing/train_data/2/1340.bmp  \n",
            "  inflating: real_or_drawing/train_data/2/1341.bmp  \n",
            "  inflating: real_or_drawing/train_data/2/1342.bmp  \n",
            "  inflating: real_or_drawing/train_data/2/1343.bmp  \n",
            "  inflating: real_or_drawing/train_data/2/1344.bmp  \n",
            "  inflating: real_or_drawing/train_data/2/1345.bmp  \n",
            "  inflating: real_or_drawing/train_data/2/1346.bmp  \n",
            "  inflating: real_or_drawing/train_data/2/1347.bmp  \n",
            "  inflating: real_or_drawing/train_data/2/1348.bmp  \n",
            "  inflating: real_or_drawing/train_data/2/1349.bmp  \n",
            "  inflating: real_or_drawing/train_data/2/1350.bmp  \n",
            "  inflating: real_or_drawing/train_data/2/1351.bmp  \n",
            "  inflating: real_or_drawing/train_data/2/1352.bmp  \n",
            "  inflating: real_or_drawing/train_data/2/1353.bmp  \n",
            "  inflating: real_or_drawing/train_data/2/1354.bmp  \n",
            "  inflating: real_or_drawing/train_data/2/1355.bmp  \n",
            "  inflating: real_or_drawing/train_data/2/1356.bmp  \n",
            "  inflating: real_or_drawing/train_data/2/1357.bmp  \n",
            "  inflating: real_or_drawing/train_data/2/1358.bmp  \n",
            "  inflating: real_or_drawing/train_data/2/1359.bmp  \n",
            "  inflating: real_or_drawing/train_data/2/1360.bmp  \n",
            "  inflating: real_or_drawing/train_data/2/1361.bmp  \n",
            "  inflating: real_or_drawing/train_data/2/1362.bmp  \n",
            "  inflating: real_or_drawing/train_data/2/1363.bmp  \n",
            "  inflating: real_or_drawing/train_data/2/1364.bmp  \n",
            "  inflating: real_or_drawing/train_data/2/1365.bmp  \n",
            "  inflating: real_or_drawing/train_data/2/1366.bmp  \n",
            "  inflating: real_or_drawing/train_data/2/1367.bmp  \n",
            "  inflating: real_or_drawing/train_data/2/1368.bmp  \n",
            "  inflating: real_or_drawing/train_data/2/1369.bmp  \n",
            "  inflating: real_or_drawing/train_data/2/1370.bmp  \n",
            "  inflating: real_or_drawing/train_data/2/1371.bmp  \n",
            "  inflating: real_or_drawing/train_data/2/1372.bmp  \n",
            "  inflating: real_or_drawing/train_data/2/1373.bmp  \n",
            "  inflating: real_or_drawing/train_data/2/1374.bmp  \n",
            "  inflating: real_or_drawing/train_data/2/1375.bmp  \n",
            "  inflating: real_or_drawing/train_data/2/1376.bmp  \n",
            "  inflating: real_or_drawing/train_data/2/1377.bmp  \n",
            "  inflating: real_or_drawing/train_data/2/1378.bmp  \n",
            "  inflating: real_or_drawing/train_data/2/1379.bmp  \n",
            "  inflating: real_or_drawing/train_data/2/1380.bmp  \n",
            "  inflating: real_or_drawing/train_data/2/1381.bmp  \n",
            "  inflating: real_or_drawing/train_data/2/1382.bmp  \n",
            "  inflating: real_or_drawing/train_data/2/1383.bmp  \n",
            "  inflating: real_or_drawing/train_data/2/1384.bmp  \n",
            "  inflating: real_or_drawing/train_data/2/1385.bmp  \n",
            "  inflating: real_or_drawing/train_data/2/1386.bmp  \n",
            "  inflating: real_or_drawing/train_data/2/1387.bmp  \n",
            "  inflating: real_or_drawing/train_data/2/1388.bmp  \n",
            "  inflating: real_or_drawing/train_data/2/1389.bmp  \n",
            "  inflating: real_or_drawing/train_data/2/1390.bmp  \n",
            "  inflating: real_or_drawing/train_data/2/1391.bmp  \n",
            "  inflating: real_or_drawing/train_data/2/1392.bmp  \n",
            "  inflating: real_or_drawing/train_data/2/1393.bmp  \n",
            "  inflating: real_or_drawing/train_data/2/1394.bmp  \n",
            "  inflating: real_or_drawing/train_data/2/1395.bmp  \n",
            "  inflating: real_or_drawing/train_data/2/1396.bmp  \n",
            "  inflating: real_or_drawing/train_data/2/1397.bmp  \n",
            "  inflating: real_or_drawing/train_data/2/1398.bmp  \n",
            "  inflating: real_or_drawing/train_data/2/1399.bmp  \n",
            "  inflating: real_or_drawing/train_data/2/1400.bmp  \n",
            "  inflating: real_or_drawing/train_data/2/1401.bmp  \n",
            "  inflating: real_or_drawing/train_data/2/1402.bmp  \n",
            "  inflating: real_or_drawing/train_data/2/1403.bmp  \n",
            "  inflating: real_or_drawing/train_data/2/1404.bmp  \n",
            "  inflating: real_or_drawing/train_data/2/1405.bmp  \n",
            "  inflating: real_or_drawing/train_data/2/1406.bmp  \n",
            "  inflating: real_or_drawing/train_data/2/1407.bmp  \n",
            "  inflating: real_or_drawing/train_data/2/1408.bmp  \n",
            "  inflating: real_or_drawing/train_data/2/1409.bmp  \n",
            "  inflating: real_or_drawing/train_data/2/1410.bmp  \n",
            "  inflating: real_or_drawing/train_data/2/1411.bmp  \n",
            "  inflating: real_or_drawing/train_data/2/1412.bmp  \n",
            "  inflating: real_or_drawing/train_data/2/1413.bmp  \n",
            "  inflating: real_or_drawing/train_data/2/1414.bmp  \n",
            "  inflating: real_or_drawing/train_data/2/1415.bmp  \n",
            "  inflating: real_or_drawing/train_data/2/1416.bmp  \n",
            "  inflating: real_or_drawing/train_data/2/1417.bmp  \n",
            "  inflating: real_or_drawing/train_data/2/1418.bmp  \n",
            "  inflating: real_or_drawing/train_data/2/1419.bmp  \n",
            "  inflating: real_or_drawing/train_data/2/1420.bmp  \n",
            "  inflating: real_or_drawing/train_data/2/1421.bmp  \n",
            "  inflating: real_or_drawing/train_data/2/1422.bmp  \n",
            "  inflating: real_or_drawing/train_data/2/1423.bmp  \n",
            "  inflating: real_or_drawing/train_data/2/1424.bmp  \n",
            "  inflating: real_or_drawing/train_data/2/1425.bmp  \n",
            "  inflating: real_or_drawing/train_data/2/1426.bmp  \n",
            "  inflating: real_or_drawing/train_data/2/1427.bmp  \n",
            "  inflating: real_or_drawing/train_data/2/1428.bmp  \n",
            "  inflating: real_or_drawing/train_data/2/1429.bmp  \n",
            "  inflating: real_or_drawing/train_data/2/1430.bmp  \n",
            "  inflating: real_or_drawing/train_data/2/1431.bmp  \n",
            "  inflating: real_or_drawing/train_data/2/1432.bmp  \n",
            "  inflating: real_or_drawing/train_data/2/1433.bmp  \n",
            "  inflating: real_or_drawing/train_data/2/1434.bmp  \n",
            "  inflating: real_or_drawing/train_data/2/1435.bmp  \n",
            "  inflating: real_or_drawing/train_data/2/1436.bmp  \n",
            "  inflating: real_or_drawing/train_data/2/1437.bmp  \n",
            "  inflating: real_or_drawing/train_data/2/1438.bmp  \n",
            "  inflating: real_or_drawing/train_data/2/1439.bmp  \n",
            "  inflating: real_or_drawing/train_data/2/1440.bmp  \n",
            "  inflating: real_or_drawing/train_data/2/1441.bmp  \n",
            "  inflating: real_or_drawing/train_data/2/1442.bmp  \n",
            "  inflating: real_or_drawing/train_data/2/1443.bmp  \n",
            "  inflating: real_or_drawing/train_data/2/1444.bmp  \n",
            "  inflating: real_or_drawing/train_data/2/1445.bmp  \n",
            "  inflating: real_or_drawing/train_data/2/1446.bmp  \n",
            "  inflating: real_or_drawing/train_data/2/1447.bmp  \n",
            "  inflating: real_or_drawing/train_data/2/1448.bmp  \n",
            "  inflating: real_or_drawing/train_data/2/1449.bmp  \n",
            "  inflating: real_or_drawing/train_data/2/1450.bmp  \n",
            "  inflating: real_or_drawing/train_data/2/1451.bmp  \n",
            "  inflating: real_or_drawing/train_data/2/1452.bmp  \n",
            "  inflating: real_or_drawing/train_data/2/1453.bmp  \n",
            "  inflating: real_or_drawing/train_data/2/1454.bmp  \n",
            "  inflating: real_or_drawing/train_data/2/1455.bmp  \n",
            "  inflating: real_or_drawing/train_data/2/1456.bmp  \n",
            "  inflating: real_or_drawing/train_data/2/1457.bmp  \n",
            "  inflating: real_or_drawing/train_data/2/1458.bmp  \n",
            "  inflating: real_or_drawing/train_data/2/1459.bmp  \n",
            "  inflating: real_or_drawing/train_data/2/1460.bmp  \n",
            "  inflating: real_or_drawing/train_data/2/1461.bmp  \n",
            "  inflating: real_or_drawing/train_data/2/1462.bmp  \n",
            "  inflating: real_or_drawing/train_data/2/1463.bmp  \n",
            "  inflating: real_or_drawing/train_data/2/1464.bmp  \n",
            "  inflating: real_or_drawing/train_data/2/1465.bmp  \n",
            "  inflating: real_or_drawing/train_data/2/1466.bmp  \n",
            "  inflating: real_or_drawing/train_data/2/1467.bmp  \n",
            "  inflating: real_or_drawing/train_data/2/1468.bmp  \n",
            "  inflating: real_or_drawing/train_data/2/1469.bmp  \n",
            "  inflating: real_or_drawing/train_data/2/1470.bmp  \n",
            "  inflating: real_or_drawing/train_data/2/1471.bmp  \n",
            "  inflating: real_or_drawing/train_data/2/1472.bmp  \n",
            "  inflating: real_or_drawing/train_data/2/1473.bmp  \n",
            "  inflating: real_or_drawing/train_data/2/1474.bmp  \n",
            "  inflating: real_or_drawing/train_data/2/1475.bmp  \n",
            "  inflating: real_or_drawing/train_data/2/1476.bmp  \n",
            "  inflating: real_or_drawing/train_data/2/1477.bmp  \n",
            "  inflating: real_or_drawing/train_data/2/1478.bmp  \n",
            "  inflating: real_or_drawing/train_data/2/1479.bmp  \n",
            "  inflating: real_or_drawing/train_data/2/1480.bmp  \n",
            "  inflating: real_or_drawing/train_data/2/1481.bmp  \n",
            "  inflating: real_or_drawing/train_data/2/1482.bmp  \n",
            "  inflating: real_or_drawing/train_data/2/1483.bmp  \n",
            "  inflating: real_or_drawing/train_data/2/1484.bmp  \n",
            "  inflating: real_or_drawing/train_data/2/1485.bmp  \n",
            "  inflating: real_or_drawing/train_data/2/1486.bmp  \n",
            "  inflating: real_or_drawing/train_data/2/1487.bmp  \n",
            "  inflating: real_or_drawing/train_data/2/1488.bmp  \n",
            "  inflating: real_or_drawing/train_data/2/1489.bmp  \n",
            "  inflating: real_or_drawing/train_data/2/1490.bmp  \n",
            "  inflating: real_or_drawing/train_data/2/1491.bmp  \n",
            "  inflating: real_or_drawing/train_data/2/1492.bmp  \n",
            "  inflating: real_or_drawing/train_data/2/1493.bmp  \n",
            "  inflating: real_or_drawing/train_data/2/1494.bmp  \n",
            "  inflating: real_or_drawing/train_data/2/1495.bmp  \n",
            "  inflating: real_or_drawing/train_data/2/1496.bmp  \n",
            "  inflating: real_or_drawing/train_data/2/1497.bmp  \n",
            "  inflating: real_or_drawing/train_data/2/1498.bmp  \n",
            "  inflating: real_or_drawing/train_data/2/1499.bmp  \n",
            "   creating: real_or_drawing/train_data/3/\n",
            "  inflating: real_or_drawing/train_data/3/1500.bmp  \n",
            "  inflating: real_or_drawing/train_data/3/1501.bmp  \n",
            "  inflating: real_or_drawing/train_data/3/1502.bmp  \n",
            "  inflating: real_or_drawing/train_data/3/1503.bmp  \n",
            "  inflating: real_or_drawing/train_data/3/1504.bmp  \n",
            "  inflating: real_or_drawing/train_data/3/1505.bmp  \n",
            "  inflating: real_or_drawing/train_data/3/1506.bmp  \n",
            "  inflating: real_or_drawing/train_data/3/1507.bmp  \n",
            "  inflating: real_or_drawing/train_data/3/1508.bmp  \n",
            "  inflating: real_or_drawing/train_data/3/1509.bmp  \n",
            "  inflating: real_or_drawing/train_data/3/1510.bmp  \n",
            "  inflating: real_or_drawing/train_data/3/1511.bmp  \n",
            "  inflating: real_or_drawing/train_data/3/1512.bmp  \n",
            "  inflating: real_or_drawing/train_data/3/1513.bmp  \n",
            "  inflating: real_or_drawing/train_data/3/1514.bmp  \n",
            "  inflating: real_or_drawing/train_data/3/1515.bmp  \n",
            "  inflating: real_or_drawing/train_data/3/1516.bmp  \n",
            "  inflating: real_or_drawing/train_data/3/1517.bmp  \n",
            "  inflating: real_or_drawing/train_data/3/1518.bmp  \n",
            "  inflating: real_or_drawing/train_data/3/1519.bmp  \n",
            "  inflating: real_or_drawing/train_data/3/1520.bmp  \n",
            "  inflating: real_or_drawing/train_data/3/1521.bmp  \n",
            "  inflating: real_or_drawing/train_data/3/1522.bmp  \n",
            "  inflating: real_or_drawing/train_data/3/1523.bmp  \n",
            "  inflating: real_or_drawing/train_data/3/1524.bmp  \n",
            "  inflating: real_or_drawing/train_data/3/1525.bmp  \n",
            "  inflating: real_or_drawing/train_data/3/1526.bmp  \n",
            "  inflating: real_or_drawing/train_data/3/1527.bmp  \n",
            "  inflating: real_or_drawing/train_data/3/1528.bmp  \n",
            "  inflating: real_or_drawing/train_data/3/1529.bmp  \n",
            "  inflating: real_or_drawing/train_data/3/1530.bmp  \n",
            "  inflating: real_or_drawing/train_data/3/1531.bmp  \n",
            "  inflating: real_or_drawing/train_data/3/1532.bmp  \n",
            "  inflating: real_or_drawing/train_data/3/1533.bmp  \n",
            "  inflating: real_or_drawing/train_data/3/1534.bmp  \n",
            "  inflating: real_or_drawing/train_data/3/1535.bmp  \n",
            "  inflating: real_or_drawing/train_data/3/1536.bmp  \n",
            "  inflating: real_or_drawing/train_data/3/1537.bmp  \n",
            "  inflating: real_or_drawing/train_data/3/1538.bmp  \n",
            "  inflating: real_or_drawing/train_data/3/1539.bmp  \n",
            "  inflating: real_or_drawing/train_data/3/1540.bmp  \n",
            "  inflating: real_or_drawing/train_data/3/1541.bmp  \n",
            "  inflating: real_or_drawing/train_data/3/1542.bmp  \n",
            "  inflating: real_or_drawing/train_data/3/1543.bmp  \n",
            "  inflating: real_or_drawing/train_data/3/1544.bmp  \n",
            "  inflating: real_or_drawing/train_data/3/1545.bmp  \n",
            "  inflating: real_or_drawing/train_data/3/1546.bmp  \n",
            "  inflating: real_or_drawing/train_data/3/1547.bmp  \n",
            "  inflating: real_or_drawing/train_data/3/1548.bmp  \n",
            "  inflating: real_or_drawing/train_data/3/1549.bmp  \n",
            "  inflating: real_or_drawing/train_data/3/1550.bmp  \n",
            "  inflating: real_or_drawing/train_data/3/1551.bmp  \n",
            "  inflating: real_or_drawing/train_data/3/1552.bmp  \n",
            "  inflating: real_or_drawing/train_data/3/1553.bmp  \n",
            "  inflating: real_or_drawing/train_data/3/1554.bmp  \n",
            "  inflating: real_or_drawing/train_data/3/1555.bmp  \n",
            "  inflating: real_or_drawing/train_data/3/1556.bmp  \n",
            "  inflating: real_or_drawing/train_data/3/1557.bmp  \n",
            "  inflating: real_or_drawing/train_data/3/1558.bmp  \n",
            "  inflating: real_or_drawing/train_data/3/1559.bmp  \n",
            "  inflating: real_or_drawing/train_data/3/1560.bmp  \n",
            "  inflating: real_or_drawing/train_data/3/1561.bmp  \n",
            "  inflating: real_or_drawing/train_data/3/1562.bmp  \n",
            "  inflating: real_or_drawing/train_data/3/1563.bmp  \n",
            "  inflating: real_or_drawing/train_data/3/1564.bmp  \n",
            "  inflating: real_or_drawing/train_data/3/1565.bmp  \n",
            "  inflating: real_or_drawing/train_data/3/1566.bmp  \n",
            "  inflating: real_or_drawing/train_data/3/1567.bmp  \n",
            "  inflating: real_or_drawing/train_data/3/1568.bmp  \n",
            "  inflating: real_or_drawing/train_data/3/1569.bmp  \n",
            "  inflating: real_or_drawing/train_data/3/1570.bmp  \n",
            "  inflating: real_or_drawing/train_data/3/1571.bmp  \n",
            "  inflating: real_or_drawing/train_data/3/1572.bmp  \n",
            "  inflating: real_or_drawing/train_data/3/1573.bmp  \n",
            "  inflating: real_or_drawing/train_data/3/1574.bmp  \n",
            "  inflating: real_or_drawing/train_data/3/1575.bmp  \n",
            "  inflating: real_or_drawing/train_data/3/1576.bmp  \n",
            "  inflating: real_or_drawing/train_data/3/1577.bmp  \n",
            "  inflating: real_or_drawing/train_data/3/1578.bmp  \n",
            "  inflating: real_or_drawing/train_data/3/1579.bmp  \n",
            "  inflating: real_or_drawing/train_data/3/1580.bmp  \n",
            "  inflating: real_or_drawing/train_data/3/1581.bmp  \n",
            "  inflating: real_or_drawing/train_data/3/1582.bmp  \n",
            "  inflating: real_or_drawing/train_data/3/1583.bmp  \n",
            "  inflating: real_or_drawing/train_data/3/1584.bmp  \n",
            "  inflating: real_or_drawing/train_data/3/1585.bmp  \n",
            "  inflating: real_or_drawing/train_data/3/1586.bmp  \n",
            "  inflating: real_or_drawing/train_data/3/1587.bmp  \n",
            "  inflating: real_or_drawing/train_data/3/1588.bmp  \n",
            "  inflating: real_or_drawing/train_data/3/1589.bmp  \n",
            "  inflating: real_or_drawing/train_data/3/1590.bmp  \n",
            "  inflating: real_or_drawing/train_data/3/1591.bmp  \n",
            "  inflating: real_or_drawing/train_data/3/1592.bmp  \n",
            "  inflating: real_or_drawing/train_data/3/1593.bmp  \n",
            "  inflating: real_or_drawing/train_data/3/1594.bmp  \n",
            "  inflating: real_or_drawing/train_data/3/1595.bmp  \n",
            "  inflating: real_or_drawing/train_data/3/1596.bmp  \n",
            "  inflating: real_or_drawing/train_data/3/1597.bmp  \n",
            "  inflating: real_or_drawing/train_data/3/1598.bmp  \n",
            "  inflating: real_or_drawing/train_data/3/1599.bmp  \n",
            "  inflating: real_or_drawing/train_data/3/1600.bmp  \n",
            "  inflating: real_or_drawing/train_data/3/1601.bmp  \n",
            "  inflating: real_or_drawing/train_data/3/1602.bmp  \n",
            "  inflating: real_or_drawing/train_data/3/1603.bmp  \n",
            "  inflating: real_or_drawing/train_data/3/1604.bmp  \n",
            "  inflating: real_or_drawing/train_data/3/1605.bmp  \n",
            "  inflating: real_or_drawing/train_data/3/1606.bmp  \n",
            "  inflating: real_or_drawing/train_data/3/1607.bmp  \n",
            "  inflating: real_or_drawing/train_data/3/1608.bmp  \n",
            "  inflating: real_or_drawing/train_data/3/1609.bmp  \n",
            "  inflating: real_or_drawing/train_data/3/1610.bmp  \n",
            "  inflating: real_or_drawing/train_data/3/1611.bmp  \n",
            "  inflating: real_or_drawing/train_data/3/1612.bmp  \n",
            "  inflating: real_or_drawing/train_data/3/1613.bmp  \n",
            "  inflating: real_or_drawing/train_data/3/1614.bmp  \n",
            "  inflating: real_or_drawing/train_data/3/1615.bmp  \n",
            "  inflating: real_or_drawing/train_data/3/1616.bmp  \n",
            "  inflating: real_or_drawing/train_data/3/1617.bmp  \n",
            "  inflating: real_or_drawing/train_data/3/1618.bmp  \n",
            "  inflating: real_or_drawing/train_data/3/1619.bmp  \n",
            "  inflating: real_or_drawing/train_data/3/1620.bmp  \n",
            "  inflating: real_or_drawing/train_data/3/1621.bmp  \n",
            "  inflating: real_or_drawing/train_data/3/1622.bmp  \n",
            "  inflating: real_or_drawing/train_data/3/1623.bmp  \n",
            "  inflating: real_or_drawing/train_data/3/1624.bmp  \n",
            "  inflating: real_or_drawing/train_data/3/1625.bmp  \n",
            "  inflating: real_or_drawing/train_data/3/1626.bmp  \n",
            "  inflating: real_or_drawing/train_data/3/1627.bmp  \n",
            "  inflating: real_or_drawing/train_data/3/1628.bmp  \n",
            "  inflating: real_or_drawing/train_data/3/1629.bmp  \n",
            "  inflating: real_or_drawing/train_data/3/1630.bmp  \n",
            "  inflating: real_or_drawing/train_data/3/1631.bmp  \n",
            "  inflating: real_or_drawing/train_data/3/1632.bmp  \n",
            "  inflating: real_or_drawing/train_data/3/1633.bmp  \n",
            "  inflating: real_or_drawing/train_data/3/1634.bmp  \n",
            "  inflating: real_or_drawing/train_data/3/1635.bmp  \n",
            "  inflating: real_or_drawing/train_data/3/1636.bmp  \n",
            "  inflating: real_or_drawing/train_data/3/1637.bmp  \n",
            "  inflating: real_or_drawing/train_data/3/1638.bmp  \n",
            "  inflating: real_or_drawing/train_data/3/1639.bmp  \n",
            "  inflating: real_or_drawing/train_data/3/1640.bmp  \n",
            "  inflating: real_or_drawing/train_data/3/1641.bmp  \n",
            "  inflating: real_or_drawing/train_data/3/1642.bmp  \n",
            "  inflating: real_or_drawing/train_data/3/1643.bmp  \n",
            "  inflating: real_or_drawing/train_data/3/1644.bmp  \n",
            "  inflating: real_or_drawing/train_data/3/1645.bmp  \n",
            "  inflating: real_or_drawing/train_data/3/1646.bmp  \n",
            "  inflating: real_or_drawing/train_data/3/1647.bmp  \n",
            "  inflating: real_or_drawing/train_data/3/1648.bmp  \n",
            "  inflating: real_or_drawing/train_data/3/1649.bmp  \n",
            "  inflating: real_or_drawing/train_data/3/1650.bmp  \n",
            "  inflating: real_or_drawing/train_data/3/1651.bmp  \n",
            "  inflating: real_or_drawing/train_data/3/1652.bmp  \n",
            "  inflating: real_or_drawing/train_data/3/1653.bmp  \n",
            "  inflating: real_or_drawing/train_data/3/1654.bmp  \n",
            "  inflating: real_or_drawing/train_data/3/1655.bmp  \n",
            "  inflating: real_or_drawing/train_data/3/1656.bmp  \n",
            "  inflating: real_or_drawing/train_data/3/1657.bmp  \n",
            "  inflating: real_or_drawing/train_data/3/1658.bmp  \n",
            "  inflating: real_or_drawing/train_data/3/1659.bmp  \n",
            "  inflating: real_or_drawing/train_data/3/1660.bmp  \n",
            "  inflating: real_or_drawing/train_data/3/1661.bmp  \n",
            "  inflating: real_or_drawing/train_data/3/1662.bmp  \n",
            "  inflating: real_or_drawing/train_data/3/1663.bmp  \n",
            "  inflating: real_or_drawing/train_data/3/1664.bmp  \n",
            "  inflating: real_or_drawing/train_data/3/1665.bmp  \n",
            "  inflating: real_or_drawing/train_data/3/1666.bmp  \n",
            "  inflating: real_or_drawing/train_data/3/1667.bmp  \n",
            "  inflating: real_or_drawing/train_data/3/1668.bmp  \n",
            "  inflating: real_or_drawing/train_data/3/1669.bmp  \n",
            "  inflating: real_or_drawing/train_data/3/1670.bmp  \n",
            "  inflating: real_or_drawing/train_data/3/1671.bmp  \n",
            "  inflating: real_or_drawing/train_data/3/1672.bmp  \n",
            "  inflating: real_or_drawing/train_data/3/1673.bmp  \n",
            "  inflating: real_or_drawing/train_data/3/1674.bmp  \n",
            "  inflating: real_or_drawing/train_data/3/1675.bmp  \n",
            "  inflating: real_or_drawing/train_data/3/1676.bmp  \n",
            "  inflating: real_or_drawing/train_data/3/1677.bmp  \n",
            "  inflating: real_or_drawing/train_data/3/1678.bmp  \n",
            "  inflating: real_or_drawing/train_data/3/1679.bmp  \n",
            "  inflating: real_or_drawing/train_data/3/1680.bmp  \n",
            "  inflating: real_or_drawing/train_data/3/1681.bmp  \n",
            "  inflating: real_or_drawing/train_data/3/1682.bmp  \n",
            "  inflating: real_or_drawing/train_data/3/1683.bmp  \n",
            "  inflating: real_or_drawing/train_data/3/1684.bmp  \n",
            "  inflating: real_or_drawing/train_data/3/1685.bmp  \n",
            "  inflating: real_or_drawing/train_data/3/1686.bmp  \n",
            "  inflating: real_or_drawing/train_data/3/1687.bmp  \n",
            "  inflating: real_or_drawing/train_data/3/1688.bmp  \n",
            "  inflating: real_or_drawing/train_data/3/1689.bmp  \n",
            "  inflating: real_or_drawing/train_data/3/1690.bmp  \n",
            "  inflating: real_or_drawing/train_data/3/1691.bmp  \n",
            "  inflating: real_or_drawing/train_data/3/1692.bmp  \n",
            "  inflating: real_or_drawing/train_data/3/1693.bmp  \n",
            "  inflating: real_or_drawing/train_data/3/1694.bmp  \n",
            "  inflating: real_or_drawing/train_data/3/1695.bmp  \n",
            "  inflating: real_or_drawing/train_data/3/1696.bmp  \n",
            "  inflating: real_or_drawing/train_data/3/1697.bmp  \n",
            "  inflating: real_or_drawing/train_data/3/1698.bmp  \n",
            "  inflating: real_or_drawing/train_data/3/1699.bmp  \n",
            "  inflating: real_or_drawing/train_data/3/1700.bmp  \n",
            "  inflating: real_or_drawing/train_data/3/1701.bmp  \n",
            "  inflating: real_or_drawing/train_data/3/1702.bmp  \n",
            "  inflating: real_or_drawing/train_data/3/1703.bmp  \n",
            "  inflating: real_or_drawing/train_data/3/1704.bmp  \n",
            "  inflating: real_or_drawing/train_data/3/1705.bmp  \n",
            "  inflating: real_or_drawing/train_data/3/1706.bmp  \n",
            "  inflating: real_or_drawing/train_data/3/1707.bmp  \n",
            "  inflating: real_or_drawing/train_data/3/1708.bmp  \n",
            "  inflating: real_or_drawing/train_data/3/1709.bmp  \n",
            "  inflating: real_or_drawing/train_data/3/1710.bmp  \n",
            "  inflating: real_or_drawing/train_data/3/1711.bmp  \n",
            "  inflating: real_or_drawing/train_data/3/1712.bmp  \n",
            "  inflating: real_or_drawing/train_data/3/1713.bmp  \n",
            "  inflating: real_or_drawing/train_data/3/1714.bmp  \n",
            "  inflating: real_or_drawing/train_data/3/1715.bmp  \n",
            "  inflating: real_or_drawing/train_data/3/1716.bmp  \n",
            "  inflating: real_or_drawing/train_data/3/1717.bmp  \n",
            "  inflating: real_or_drawing/train_data/3/1718.bmp  \n",
            "  inflating: real_or_drawing/train_data/3/1719.bmp  \n",
            "  inflating: real_or_drawing/train_data/3/1720.bmp  \n",
            "  inflating: real_or_drawing/train_data/3/1721.bmp  \n",
            "  inflating: real_or_drawing/train_data/3/1722.bmp  \n",
            "  inflating: real_or_drawing/train_data/3/1723.bmp  \n",
            "  inflating: real_or_drawing/train_data/3/1724.bmp  \n",
            "  inflating: real_or_drawing/train_data/3/1725.bmp  \n",
            "  inflating: real_or_drawing/train_data/3/1726.bmp  \n",
            "  inflating: real_or_drawing/train_data/3/1727.bmp  \n",
            "  inflating: real_or_drawing/train_data/3/1728.bmp  \n",
            "  inflating: real_or_drawing/train_data/3/1729.bmp  \n",
            "  inflating: real_or_drawing/train_data/3/1730.bmp  \n",
            "  inflating: real_or_drawing/train_data/3/1731.bmp  \n",
            "  inflating: real_or_drawing/train_data/3/1732.bmp  \n",
            "  inflating: real_or_drawing/train_data/3/1733.bmp  \n",
            "  inflating: real_or_drawing/train_data/3/1734.bmp  \n",
            "  inflating: real_or_drawing/train_data/3/1735.bmp  \n",
            "  inflating: real_or_drawing/train_data/3/1736.bmp  \n",
            "  inflating: real_or_drawing/train_data/3/1737.bmp  \n",
            "  inflating: real_or_drawing/train_data/3/1738.bmp  \n",
            "  inflating: real_or_drawing/train_data/3/1739.bmp  \n",
            "  inflating: real_or_drawing/train_data/3/1740.bmp  \n",
            "  inflating: real_or_drawing/train_data/3/1741.bmp  \n",
            "  inflating: real_or_drawing/train_data/3/1742.bmp  \n",
            "  inflating: real_or_drawing/train_data/3/1743.bmp  \n",
            "  inflating: real_or_drawing/train_data/3/1744.bmp  \n",
            "  inflating: real_or_drawing/train_data/3/1745.bmp  \n",
            "  inflating: real_or_drawing/train_data/3/1746.bmp  \n",
            "  inflating: real_or_drawing/train_data/3/1747.bmp  \n",
            "  inflating: real_or_drawing/train_data/3/1748.bmp  \n",
            "  inflating: real_or_drawing/train_data/3/1749.bmp  \n",
            "  inflating: real_or_drawing/train_data/3/1750.bmp  \n",
            "  inflating: real_or_drawing/train_data/3/1751.bmp  \n",
            "  inflating: real_or_drawing/train_data/3/1752.bmp  \n",
            "  inflating: real_or_drawing/train_data/3/1753.bmp  \n",
            "  inflating: real_or_drawing/train_data/3/1754.bmp  \n",
            "  inflating: real_or_drawing/train_data/3/1755.bmp  \n",
            "  inflating: real_or_drawing/train_data/3/1756.bmp  \n",
            "  inflating: real_or_drawing/train_data/3/1757.bmp  \n",
            "  inflating: real_or_drawing/train_data/3/1758.bmp  \n",
            "  inflating: real_or_drawing/train_data/3/1759.bmp  \n",
            "  inflating: real_or_drawing/train_data/3/1760.bmp  \n",
            "  inflating: real_or_drawing/train_data/3/1761.bmp  \n",
            "  inflating: real_or_drawing/train_data/3/1762.bmp  \n",
            "  inflating: real_or_drawing/train_data/3/1763.bmp  \n",
            "  inflating: real_or_drawing/train_data/3/1764.bmp  \n",
            "  inflating: real_or_drawing/train_data/3/1765.bmp  \n",
            "  inflating: real_or_drawing/train_data/3/1766.bmp  \n",
            "  inflating: real_or_drawing/train_data/3/1767.bmp  \n",
            "  inflating: real_or_drawing/train_data/3/1768.bmp  \n",
            "  inflating: real_or_drawing/train_data/3/1769.bmp  \n",
            "  inflating: real_or_drawing/train_data/3/1770.bmp  \n",
            "  inflating: real_or_drawing/train_data/3/1771.bmp  \n",
            "  inflating: real_or_drawing/train_data/3/1772.bmp  \n",
            "  inflating: real_or_drawing/train_data/3/1773.bmp  \n",
            "  inflating: real_or_drawing/train_data/3/1774.bmp  \n",
            "  inflating: real_or_drawing/train_data/3/1775.bmp  \n",
            "  inflating: real_or_drawing/train_data/3/1776.bmp  \n",
            "  inflating: real_or_drawing/train_data/3/1777.bmp  \n",
            "  inflating: real_or_drawing/train_data/3/1778.bmp  \n",
            "  inflating: real_or_drawing/train_data/3/1779.bmp  \n",
            "  inflating: real_or_drawing/train_data/3/1780.bmp  \n",
            "  inflating: real_or_drawing/train_data/3/1781.bmp  \n",
            "  inflating: real_or_drawing/train_data/3/1782.bmp  \n",
            "  inflating: real_or_drawing/train_data/3/1783.bmp  \n",
            "  inflating: real_or_drawing/train_data/3/1784.bmp  \n",
            "  inflating: real_or_drawing/train_data/3/1785.bmp  \n",
            "  inflating: real_or_drawing/train_data/3/1786.bmp  \n",
            "  inflating: real_or_drawing/train_data/3/1787.bmp  \n",
            "  inflating: real_or_drawing/train_data/3/1788.bmp  \n",
            "  inflating: real_or_drawing/train_data/3/1789.bmp  \n",
            "  inflating: real_or_drawing/train_data/3/1790.bmp  \n",
            "  inflating: real_or_drawing/train_data/3/1791.bmp  \n",
            "  inflating: real_or_drawing/train_data/3/1792.bmp  \n",
            "  inflating: real_or_drawing/train_data/3/1793.bmp  \n",
            "  inflating: real_or_drawing/train_data/3/1794.bmp  \n",
            "  inflating: real_or_drawing/train_data/3/1795.bmp  \n",
            "  inflating: real_or_drawing/train_data/3/1796.bmp  \n",
            "  inflating: real_or_drawing/train_data/3/1797.bmp  \n",
            "  inflating: real_or_drawing/train_data/3/1798.bmp  \n",
            "  inflating: real_or_drawing/train_data/3/1799.bmp  \n",
            "  inflating: real_or_drawing/train_data/3/1800.bmp  \n",
            "  inflating: real_or_drawing/train_data/3/1801.bmp  \n",
            "  inflating: real_or_drawing/train_data/3/1802.bmp  \n",
            "  inflating: real_or_drawing/train_data/3/1803.bmp  \n",
            "  inflating: real_or_drawing/train_data/3/1804.bmp  \n",
            "  inflating: real_or_drawing/train_data/3/1805.bmp  \n",
            "  inflating: real_or_drawing/train_data/3/1806.bmp  \n",
            "  inflating: real_or_drawing/train_data/3/1807.bmp  \n",
            "  inflating: real_or_drawing/train_data/3/1808.bmp  \n",
            "  inflating: real_or_drawing/train_data/3/1809.bmp  \n",
            "  inflating: real_or_drawing/train_data/3/1810.bmp  \n",
            "  inflating: real_or_drawing/train_data/3/1811.bmp  \n",
            "  inflating: real_or_drawing/train_data/3/1812.bmp  \n",
            "  inflating: real_or_drawing/train_data/3/1813.bmp  \n",
            "  inflating: real_or_drawing/train_data/3/1814.bmp  \n",
            "  inflating: real_or_drawing/train_data/3/1815.bmp  \n",
            "  inflating: real_or_drawing/train_data/3/1816.bmp  \n",
            "  inflating: real_or_drawing/train_data/3/1817.bmp  \n",
            "  inflating: real_or_drawing/train_data/3/1818.bmp  \n",
            "  inflating: real_or_drawing/train_data/3/1819.bmp  \n",
            "  inflating: real_or_drawing/train_data/3/1820.bmp  \n",
            "  inflating: real_or_drawing/train_data/3/1821.bmp  \n",
            "  inflating: real_or_drawing/train_data/3/1822.bmp  \n",
            "  inflating: real_or_drawing/train_data/3/1823.bmp  \n",
            "  inflating: real_or_drawing/train_data/3/1824.bmp  \n",
            "  inflating: real_or_drawing/train_data/3/1825.bmp  \n",
            "  inflating: real_or_drawing/train_data/3/1826.bmp  \n",
            "  inflating: real_or_drawing/train_data/3/1827.bmp  \n",
            "  inflating: real_or_drawing/train_data/3/1828.bmp  \n",
            "  inflating: real_or_drawing/train_data/3/1829.bmp  \n",
            "  inflating: real_or_drawing/train_data/3/1830.bmp  \n",
            "  inflating: real_or_drawing/train_data/3/1831.bmp  \n",
            "  inflating: real_or_drawing/train_data/3/1832.bmp  \n",
            "  inflating: real_or_drawing/train_data/3/1833.bmp  \n",
            "  inflating: real_or_drawing/train_data/3/1834.bmp  \n",
            "  inflating: real_or_drawing/train_data/3/1835.bmp  \n",
            "  inflating: real_or_drawing/train_data/3/1836.bmp  \n",
            "  inflating: real_or_drawing/train_data/3/1837.bmp  \n",
            "  inflating: real_or_drawing/train_data/3/1838.bmp  \n",
            "  inflating: real_or_drawing/train_data/3/1839.bmp  \n",
            "  inflating: real_or_drawing/train_data/3/1840.bmp  \n",
            "  inflating: real_or_drawing/train_data/3/1841.bmp  \n",
            "  inflating: real_or_drawing/train_data/3/1842.bmp  \n",
            "  inflating: real_or_drawing/train_data/3/1843.bmp  \n",
            "  inflating: real_or_drawing/train_data/3/1844.bmp  \n",
            "  inflating: real_or_drawing/train_data/3/1845.bmp  \n",
            "  inflating: real_or_drawing/train_data/3/1846.bmp  \n",
            "  inflating: real_or_drawing/train_data/3/1847.bmp  \n",
            "  inflating: real_or_drawing/train_data/3/1848.bmp  \n",
            "  inflating: real_or_drawing/train_data/3/1849.bmp  \n",
            "  inflating: real_or_drawing/train_data/3/1850.bmp  \n",
            "  inflating: real_or_drawing/train_data/3/1851.bmp  \n",
            "  inflating: real_or_drawing/train_data/3/1852.bmp  \n",
            "  inflating: real_or_drawing/train_data/3/1853.bmp  \n",
            "  inflating: real_or_drawing/train_data/3/1854.bmp  \n",
            "  inflating: real_or_drawing/train_data/3/1855.bmp  \n",
            "  inflating: real_or_drawing/train_data/3/1856.bmp  \n",
            "  inflating: real_or_drawing/train_data/3/1857.bmp  \n",
            "  inflating: real_or_drawing/train_data/3/1858.bmp  \n",
            "  inflating: real_or_drawing/train_data/3/1859.bmp  \n",
            "  inflating: real_or_drawing/train_data/3/1860.bmp  \n",
            "  inflating: real_or_drawing/train_data/3/1861.bmp  \n",
            "  inflating: real_or_drawing/train_data/3/1862.bmp  \n",
            "  inflating: real_or_drawing/train_data/3/1863.bmp  \n",
            "  inflating: real_or_drawing/train_data/3/1864.bmp  \n",
            "  inflating: real_or_drawing/train_data/3/1865.bmp  \n",
            "  inflating: real_or_drawing/train_data/3/1866.bmp  \n",
            "  inflating: real_or_drawing/train_data/3/1867.bmp  \n",
            "  inflating: real_or_drawing/train_data/3/1868.bmp  \n",
            "  inflating: real_or_drawing/train_data/3/1869.bmp  \n",
            "  inflating: real_or_drawing/train_data/3/1870.bmp  \n",
            "  inflating: real_or_drawing/train_data/3/1871.bmp  \n",
            "  inflating: real_or_drawing/train_data/3/1872.bmp  \n",
            "  inflating: real_or_drawing/train_data/3/1873.bmp  \n",
            "  inflating: real_or_drawing/train_data/3/1874.bmp  \n",
            "  inflating: real_or_drawing/train_data/3/1875.bmp  \n",
            "  inflating: real_or_drawing/train_data/3/1876.bmp  \n",
            "  inflating: real_or_drawing/train_data/3/1877.bmp  \n",
            "  inflating: real_or_drawing/train_data/3/1878.bmp  \n",
            "  inflating: real_or_drawing/train_data/3/1879.bmp  \n",
            "  inflating: real_or_drawing/train_data/3/1880.bmp  \n",
            "  inflating: real_or_drawing/train_data/3/1881.bmp  \n",
            "  inflating: real_or_drawing/train_data/3/1882.bmp  \n",
            "  inflating: real_or_drawing/train_data/3/1883.bmp  \n",
            "  inflating: real_or_drawing/train_data/3/1884.bmp  \n",
            "  inflating: real_or_drawing/train_data/3/1885.bmp  \n",
            "  inflating: real_or_drawing/train_data/3/1886.bmp  \n",
            "  inflating: real_or_drawing/train_data/3/1887.bmp  \n",
            "  inflating: real_or_drawing/train_data/3/1888.bmp  \n",
            "  inflating: real_or_drawing/train_data/3/1889.bmp  \n",
            "  inflating: real_or_drawing/train_data/3/1890.bmp  \n",
            "  inflating: real_or_drawing/train_data/3/1891.bmp  \n",
            "  inflating: real_or_drawing/train_data/3/1892.bmp  \n",
            "  inflating: real_or_drawing/train_data/3/1893.bmp  \n",
            "  inflating: real_or_drawing/train_data/3/1894.bmp  \n",
            "  inflating: real_or_drawing/train_data/3/1895.bmp  \n",
            "  inflating: real_or_drawing/train_data/3/1896.bmp  \n",
            "  inflating: real_or_drawing/train_data/3/1897.bmp  \n",
            "  inflating: real_or_drawing/train_data/3/1898.bmp  \n",
            "  inflating: real_or_drawing/train_data/3/1899.bmp  \n",
            "  inflating: real_or_drawing/train_data/3/1900.bmp  \n",
            "  inflating: real_or_drawing/train_data/3/1901.bmp  \n",
            "  inflating: real_or_drawing/train_data/3/1902.bmp  \n",
            "  inflating: real_or_drawing/train_data/3/1903.bmp  \n",
            "  inflating: real_or_drawing/train_data/3/1904.bmp  \n",
            "  inflating: real_or_drawing/train_data/3/1905.bmp  \n",
            "  inflating: real_or_drawing/train_data/3/1906.bmp  \n",
            "  inflating: real_or_drawing/train_data/3/1907.bmp  \n",
            "  inflating: real_or_drawing/train_data/3/1908.bmp  \n",
            "  inflating: real_or_drawing/train_data/3/1909.bmp  \n",
            "  inflating: real_or_drawing/train_data/3/1910.bmp  \n",
            "  inflating: real_or_drawing/train_data/3/1911.bmp  \n",
            "  inflating: real_or_drawing/train_data/3/1912.bmp  \n",
            "  inflating: real_or_drawing/train_data/3/1913.bmp  \n",
            "  inflating: real_or_drawing/train_data/3/1914.bmp  \n",
            "  inflating: real_or_drawing/train_data/3/1915.bmp  \n",
            "  inflating: real_or_drawing/train_data/3/1916.bmp  \n",
            "  inflating: real_or_drawing/train_data/3/1917.bmp  \n",
            "  inflating: real_or_drawing/train_data/3/1918.bmp  \n",
            "  inflating: real_or_drawing/train_data/3/1919.bmp  \n",
            "  inflating: real_or_drawing/train_data/3/1920.bmp  \n",
            "  inflating: real_or_drawing/train_data/3/1921.bmp  \n",
            "  inflating: real_or_drawing/train_data/3/1922.bmp  \n",
            "  inflating: real_or_drawing/train_data/3/1923.bmp  \n",
            "  inflating: real_or_drawing/train_data/3/1924.bmp  \n",
            "  inflating: real_or_drawing/train_data/3/1925.bmp  \n",
            "  inflating: real_or_drawing/train_data/3/1926.bmp  \n",
            "  inflating: real_or_drawing/train_data/3/1927.bmp  \n",
            "  inflating: real_or_drawing/train_data/3/1928.bmp  \n",
            "  inflating: real_or_drawing/train_data/3/1929.bmp  \n",
            "  inflating: real_or_drawing/train_data/3/1930.bmp  \n",
            "  inflating: real_or_drawing/train_data/3/1931.bmp  \n",
            "  inflating: real_or_drawing/train_data/3/1932.bmp  \n",
            "  inflating: real_or_drawing/train_data/3/1933.bmp  \n",
            "  inflating: real_or_drawing/train_data/3/1934.bmp  \n",
            "  inflating: real_or_drawing/train_data/3/1935.bmp  \n",
            "  inflating: real_or_drawing/train_data/3/1936.bmp  \n",
            "  inflating: real_or_drawing/train_data/3/1937.bmp  \n",
            "  inflating: real_or_drawing/train_data/3/1938.bmp  \n",
            "  inflating: real_or_drawing/train_data/3/1939.bmp  \n",
            "  inflating: real_or_drawing/train_data/3/1940.bmp  \n",
            "  inflating: real_or_drawing/train_data/3/1941.bmp  \n",
            "  inflating: real_or_drawing/train_data/3/1942.bmp  \n",
            "  inflating: real_or_drawing/train_data/3/1943.bmp  \n",
            "  inflating: real_or_drawing/train_data/3/1944.bmp  \n",
            "  inflating: real_or_drawing/train_data/3/1945.bmp  \n",
            "  inflating: real_or_drawing/train_data/3/1946.bmp  \n",
            "  inflating: real_or_drawing/train_data/3/1947.bmp  \n",
            "  inflating: real_or_drawing/train_data/3/1948.bmp  \n",
            "  inflating: real_or_drawing/train_data/3/1949.bmp  \n",
            "  inflating: real_or_drawing/train_data/3/1950.bmp  \n",
            "  inflating: real_or_drawing/train_data/3/1951.bmp  \n",
            "  inflating: real_or_drawing/train_data/3/1952.bmp  \n",
            "  inflating: real_or_drawing/train_data/3/1953.bmp  \n",
            "  inflating: real_or_drawing/train_data/3/1954.bmp  \n",
            "  inflating: real_or_drawing/train_data/3/1955.bmp  \n",
            "  inflating: real_or_drawing/train_data/3/1956.bmp  \n",
            "  inflating: real_or_drawing/train_data/3/1957.bmp  \n",
            "  inflating: real_or_drawing/train_data/3/1958.bmp  \n",
            "  inflating: real_or_drawing/train_data/3/1959.bmp  \n",
            "  inflating: real_or_drawing/train_data/3/1960.bmp  \n",
            "  inflating: real_or_drawing/train_data/3/1961.bmp  \n",
            "  inflating: real_or_drawing/train_data/3/1962.bmp  \n",
            "  inflating: real_or_drawing/train_data/3/1963.bmp  \n",
            "  inflating: real_or_drawing/train_data/3/1964.bmp  \n",
            "  inflating: real_or_drawing/train_data/3/1965.bmp  \n",
            "  inflating: real_or_drawing/train_data/3/1966.bmp  \n",
            "  inflating: real_or_drawing/train_data/3/1967.bmp  \n",
            "  inflating: real_or_drawing/train_data/3/1968.bmp  \n",
            "  inflating: real_or_drawing/train_data/3/1969.bmp  \n",
            "  inflating: real_or_drawing/train_data/3/1970.bmp  \n",
            "  inflating: real_or_drawing/train_data/3/1971.bmp  \n",
            "  inflating: real_or_drawing/train_data/3/1972.bmp  \n",
            "  inflating: real_or_drawing/train_data/3/1973.bmp  \n",
            "  inflating: real_or_drawing/train_data/3/1974.bmp  \n",
            "  inflating: real_or_drawing/train_data/3/1975.bmp  \n",
            "  inflating: real_or_drawing/train_data/3/1976.bmp  \n",
            "  inflating: real_or_drawing/train_data/3/1977.bmp  \n",
            "  inflating: real_or_drawing/train_data/3/1978.bmp  \n",
            "  inflating: real_or_drawing/train_data/3/1979.bmp  \n",
            "  inflating: real_or_drawing/train_data/3/1980.bmp  \n",
            "  inflating: real_or_drawing/train_data/3/1981.bmp  \n",
            "  inflating: real_or_drawing/train_data/3/1982.bmp  \n",
            "  inflating: real_or_drawing/train_data/3/1983.bmp  \n",
            "  inflating: real_or_drawing/train_data/3/1984.bmp  \n",
            "  inflating: real_or_drawing/train_data/3/1985.bmp  \n",
            "  inflating: real_or_drawing/train_data/3/1986.bmp  \n",
            "  inflating: real_or_drawing/train_data/3/1987.bmp  \n",
            "  inflating: real_or_drawing/train_data/3/1988.bmp  \n",
            "  inflating: real_or_drawing/train_data/3/1989.bmp  \n",
            "  inflating: real_or_drawing/train_data/3/1990.bmp  \n",
            "  inflating: real_or_drawing/train_data/3/1991.bmp  \n",
            "  inflating: real_or_drawing/train_data/3/1992.bmp  \n",
            "  inflating: real_or_drawing/train_data/3/1993.bmp  \n",
            "  inflating: real_or_drawing/train_data/3/1994.bmp  \n",
            "  inflating: real_or_drawing/train_data/3/1995.bmp  \n",
            "  inflating: real_or_drawing/train_data/3/1996.bmp  \n",
            "  inflating: real_or_drawing/train_data/3/1997.bmp  \n",
            "  inflating: real_or_drawing/train_data/3/1998.bmp  \n",
            "  inflating: real_or_drawing/train_data/3/1999.bmp  \n",
            "   creating: real_or_drawing/train_data/4/\n",
            "  inflating: real_or_drawing/train_data/4/2000.bmp  \n",
            "  inflating: real_or_drawing/train_data/4/2001.bmp  \n",
            "  inflating: real_or_drawing/train_data/4/2002.bmp  \n",
            "  inflating: real_or_drawing/train_data/4/2003.bmp  \n",
            "  inflating: real_or_drawing/train_data/4/2004.bmp  \n",
            "  inflating: real_or_drawing/train_data/4/2005.bmp  \n",
            "  inflating: real_or_drawing/train_data/4/2006.bmp  \n",
            "  inflating: real_or_drawing/train_data/4/2007.bmp  \n",
            "  inflating: real_or_drawing/train_data/4/2008.bmp  \n",
            "  inflating: real_or_drawing/train_data/4/2009.bmp  \n",
            "  inflating: real_or_drawing/train_data/4/2010.bmp  \n",
            "  inflating: real_or_drawing/train_data/4/2011.bmp  \n",
            "  inflating: real_or_drawing/train_data/4/2012.bmp  \n",
            "  inflating: real_or_drawing/train_data/4/2013.bmp  \n",
            "  inflating: real_or_drawing/train_data/4/2014.bmp  \n",
            "  inflating: real_or_drawing/train_data/4/2015.bmp  \n",
            "  inflating: real_or_drawing/train_data/4/2016.bmp  \n",
            "  inflating: real_or_drawing/train_data/4/2017.bmp  \n",
            "  inflating: real_or_drawing/train_data/4/2018.bmp  \n",
            "  inflating: real_or_drawing/train_data/4/2019.bmp  \n",
            "  inflating: real_or_drawing/train_data/4/2020.bmp  \n",
            "  inflating: real_or_drawing/train_data/4/2021.bmp  \n",
            "  inflating: real_or_drawing/train_data/4/2022.bmp  \n",
            "  inflating: real_or_drawing/train_data/4/2023.bmp  \n",
            "  inflating: real_or_drawing/train_data/4/2024.bmp  \n",
            "  inflating: real_or_drawing/train_data/4/2025.bmp  \n",
            "  inflating: real_or_drawing/train_data/4/2026.bmp  \n",
            "  inflating: real_or_drawing/train_data/4/2027.bmp  \n",
            "  inflating: real_or_drawing/train_data/4/2028.bmp  \n",
            "  inflating: real_or_drawing/train_data/4/2029.bmp  \n",
            "  inflating: real_or_drawing/train_data/4/2030.bmp  \n",
            "  inflating: real_or_drawing/train_data/4/2031.bmp  \n",
            "  inflating: real_or_drawing/train_data/4/2032.bmp  \n",
            "  inflating: real_or_drawing/train_data/4/2033.bmp  \n",
            "  inflating: real_or_drawing/train_data/4/2034.bmp  \n",
            "  inflating: real_or_drawing/train_data/4/2035.bmp  \n",
            "  inflating: real_or_drawing/train_data/4/2036.bmp  \n",
            "  inflating: real_or_drawing/train_data/4/2037.bmp  \n",
            "  inflating: real_or_drawing/train_data/4/2038.bmp  \n",
            "  inflating: real_or_drawing/train_data/4/2039.bmp  \n",
            "  inflating: real_or_drawing/train_data/4/2040.bmp  \n",
            "  inflating: real_or_drawing/train_data/4/2041.bmp  \n",
            "  inflating: real_or_drawing/train_data/4/2042.bmp  \n",
            "  inflating: real_or_drawing/train_data/4/2043.bmp  \n",
            "  inflating: real_or_drawing/train_data/4/2044.bmp  \n",
            "  inflating: real_or_drawing/train_data/4/2045.bmp  \n",
            "  inflating: real_or_drawing/train_data/4/2046.bmp  \n",
            "  inflating: real_or_drawing/train_data/4/2047.bmp  \n",
            "  inflating: real_or_drawing/train_data/4/2048.bmp  \n",
            "  inflating: real_or_drawing/train_data/4/2049.bmp  \n",
            "  inflating: real_or_drawing/train_data/4/2050.bmp  \n",
            "  inflating: real_or_drawing/train_data/4/2051.bmp  \n",
            "  inflating: real_or_drawing/train_data/4/2052.bmp  \n",
            "  inflating: real_or_drawing/train_data/4/2053.bmp  \n",
            "  inflating: real_or_drawing/train_data/4/2054.bmp  \n",
            "  inflating: real_or_drawing/train_data/4/2055.bmp  \n",
            "  inflating: real_or_drawing/train_data/4/2056.bmp  \n",
            "  inflating: real_or_drawing/train_data/4/2057.bmp  \n",
            "  inflating: real_or_drawing/train_data/4/2058.bmp  \n",
            "  inflating: real_or_drawing/train_data/4/2059.bmp  \n",
            "  inflating: real_or_drawing/train_data/4/2060.bmp  \n",
            "  inflating: real_or_drawing/train_data/4/2061.bmp  \n",
            "  inflating: real_or_drawing/train_data/4/2062.bmp  \n",
            "  inflating: real_or_drawing/train_data/4/2063.bmp  \n",
            "  inflating: real_or_drawing/train_data/4/2064.bmp  \n",
            "  inflating: real_or_drawing/train_data/4/2065.bmp  \n",
            "  inflating: real_or_drawing/train_data/4/2066.bmp  \n",
            "  inflating: real_or_drawing/train_data/4/2067.bmp  \n",
            "  inflating: real_or_drawing/train_data/4/2068.bmp  \n",
            "  inflating: real_or_drawing/train_data/4/2069.bmp  \n",
            "  inflating: real_or_drawing/train_data/4/2070.bmp  \n",
            "  inflating: real_or_drawing/train_data/4/2071.bmp  \n",
            "  inflating: real_or_drawing/train_data/4/2072.bmp  \n",
            "  inflating: real_or_drawing/train_data/4/2073.bmp  \n",
            "  inflating: real_or_drawing/train_data/4/2074.bmp  \n",
            "  inflating: real_or_drawing/train_data/4/2075.bmp  \n",
            "  inflating: real_or_drawing/train_data/4/2076.bmp  \n",
            "  inflating: real_or_drawing/train_data/4/2077.bmp  \n",
            "  inflating: real_or_drawing/train_data/4/2078.bmp  \n",
            "  inflating: real_or_drawing/train_data/4/2079.bmp  \n",
            "  inflating: real_or_drawing/train_data/4/2080.bmp  \n",
            "  inflating: real_or_drawing/train_data/4/2081.bmp  \n",
            "  inflating: real_or_drawing/train_data/4/2082.bmp  \n",
            "  inflating: real_or_drawing/train_data/4/2083.bmp  \n",
            "  inflating: real_or_drawing/train_data/4/2084.bmp  \n",
            "  inflating: real_or_drawing/train_data/4/2085.bmp  \n",
            "  inflating: real_or_drawing/train_data/4/2086.bmp  \n",
            "  inflating: real_or_drawing/train_data/4/2087.bmp  \n",
            "  inflating: real_or_drawing/train_data/4/2088.bmp  \n",
            "  inflating: real_or_drawing/train_data/4/2089.bmp  \n",
            "  inflating: real_or_drawing/train_data/4/2090.bmp  \n",
            "  inflating: real_or_drawing/train_data/4/2091.bmp  \n",
            "  inflating: real_or_drawing/train_data/4/2092.bmp  \n",
            "  inflating: real_or_drawing/train_data/4/2093.bmp  \n",
            "  inflating: real_or_drawing/train_data/4/2094.bmp  \n",
            "  inflating: real_or_drawing/train_data/4/2095.bmp  \n",
            "  inflating: real_or_drawing/train_data/4/2096.bmp  \n",
            "  inflating: real_or_drawing/train_data/4/2097.bmp  \n",
            "  inflating: real_or_drawing/train_data/4/2098.bmp  \n",
            "  inflating: real_or_drawing/train_data/4/2099.bmp  \n",
            "  inflating: real_or_drawing/train_data/4/2100.bmp  \n",
            "  inflating: real_or_drawing/train_data/4/2101.bmp  \n",
            "  inflating: real_or_drawing/train_data/4/2102.bmp  \n",
            "  inflating: real_or_drawing/train_data/4/2103.bmp  \n",
            "  inflating: real_or_drawing/train_data/4/2104.bmp  \n",
            "  inflating: real_or_drawing/train_data/4/2105.bmp  \n",
            "  inflating: real_or_drawing/train_data/4/2106.bmp  \n",
            "  inflating: real_or_drawing/train_data/4/2107.bmp  \n",
            "  inflating: real_or_drawing/train_data/4/2108.bmp  \n",
            "  inflating: real_or_drawing/train_data/4/2109.bmp  \n",
            "  inflating: real_or_drawing/train_data/4/2110.bmp  \n",
            "  inflating: real_or_drawing/train_data/4/2111.bmp  \n",
            "  inflating: real_or_drawing/train_data/4/2112.bmp  \n",
            "  inflating: real_or_drawing/train_data/4/2113.bmp  \n",
            "  inflating: real_or_drawing/train_data/4/2114.bmp  \n",
            "  inflating: real_or_drawing/train_data/4/2115.bmp  \n",
            "  inflating: real_or_drawing/train_data/4/2116.bmp  \n",
            "  inflating: real_or_drawing/train_data/4/2117.bmp  \n",
            "  inflating: real_or_drawing/train_data/4/2118.bmp  \n",
            "  inflating: real_or_drawing/train_data/4/2119.bmp  \n",
            "  inflating: real_or_drawing/train_data/4/2120.bmp  \n",
            "  inflating: real_or_drawing/train_data/4/2121.bmp  \n",
            "  inflating: real_or_drawing/train_data/4/2122.bmp  \n",
            "  inflating: real_or_drawing/train_data/4/2123.bmp  \n",
            "  inflating: real_or_drawing/train_data/4/2124.bmp  \n",
            "  inflating: real_or_drawing/train_data/4/2125.bmp  \n",
            "  inflating: real_or_drawing/train_data/4/2126.bmp  \n",
            "  inflating: real_or_drawing/train_data/4/2127.bmp  \n",
            "  inflating: real_or_drawing/train_data/4/2128.bmp  \n",
            "  inflating: real_or_drawing/train_data/4/2129.bmp  \n",
            "  inflating: real_or_drawing/train_data/4/2130.bmp  \n",
            "  inflating: real_or_drawing/train_data/4/2131.bmp  \n",
            "  inflating: real_or_drawing/train_data/4/2132.bmp  \n",
            "  inflating: real_or_drawing/train_data/4/2133.bmp  \n",
            "  inflating: real_or_drawing/train_data/4/2134.bmp  \n",
            "  inflating: real_or_drawing/train_data/4/2135.bmp  \n",
            "  inflating: real_or_drawing/train_data/4/2136.bmp  \n",
            "  inflating: real_or_drawing/train_data/4/2137.bmp  \n",
            "  inflating: real_or_drawing/train_data/4/2138.bmp  \n",
            "  inflating: real_or_drawing/train_data/4/2139.bmp  \n",
            "  inflating: real_or_drawing/train_data/4/2140.bmp  \n",
            "  inflating: real_or_drawing/train_data/4/2141.bmp  \n",
            "  inflating: real_or_drawing/train_data/4/2142.bmp  \n",
            "  inflating: real_or_drawing/train_data/4/2143.bmp  \n",
            "  inflating: real_or_drawing/train_data/4/2144.bmp  \n",
            "  inflating: real_or_drawing/train_data/4/2145.bmp  \n",
            "  inflating: real_or_drawing/train_data/4/2146.bmp  \n",
            "  inflating: real_or_drawing/train_data/4/2147.bmp  \n",
            "  inflating: real_or_drawing/train_data/4/2148.bmp  \n",
            "  inflating: real_or_drawing/train_data/4/2149.bmp  \n",
            "  inflating: real_or_drawing/train_data/4/2150.bmp  \n",
            "  inflating: real_or_drawing/train_data/4/2151.bmp  \n",
            "  inflating: real_or_drawing/train_data/4/2152.bmp  \n",
            "  inflating: real_or_drawing/train_data/4/2153.bmp  \n",
            "  inflating: real_or_drawing/train_data/4/2154.bmp  \n",
            "  inflating: real_or_drawing/train_data/4/2155.bmp  \n",
            "  inflating: real_or_drawing/train_data/4/2156.bmp  \n",
            "  inflating: real_or_drawing/train_data/4/2157.bmp  \n",
            "  inflating: real_or_drawing/train_data/4/2158.bmp  \n",
            "  inflating: real_or_drawing/train_data/4/2159.bmp  \n",
            "  inflating: real_or_drawing/train_data/4/2160.bmp  \n",
            "  inflating: real_or_drawing/train_data/4/2161.bmp  \n",
            "  inflating: real_or_drawing/train_data/4/2162.bmp  \n",
            "  inflating: real_or_drawing/train_data/4/2163.bmp  \n",
            "  inflating: real_or_drawing/train_data/4/2164.bmp  \n",
            "  inflating: real_or_drawing/train_data/4/2165.bmp  \n",
            "  inflating: real_or_drawing/train_data/4/2166.bmp  \n",
            "  inflating: real_or_drawing/train_data/4/2167.bmp  \n",
            "  inflating: real_or_drawing/train_data/4/2168.bmp  \n",
            "  inflating: real_or_drawing/train_data/4/2169.bmp  \n",
            "  inflating: real_or_drawing/train_data/4/2170.bmp  \n",
            "  inflating: real_or_drawing/train_data/4/2171.bmp  \n",
            "  inflating: real_or_drawing/train_data/4/2172.bmp  \n",
            "  inflating: real_or_drawing/train_data/4/2173.bmp  \n",
            "  inflating: real_or_drawing/train_data/4/2174.bmp  \n",
            "  inflating: real_or_drawing/train_data/4/2175.bmp  \n",
            "  inflating: real_or_drawing/train_data/4/2176.bmp  \n",
            "  inflating: real_or_drawing/train_data/4/2177.bmp  \n",
            "  inflating: real_or_drawing/train_data/4/2178.bmp  \n",
            "  inflating: real_or_drawing/train_data/4/2179.bmp  \n",
            "  inflating: real_or_drawing/train_data/4/2180.bmp  \n",
            "  inflating: real_or_drawing/train_data/4/2181.bmp  \n",
            "  inflating: real_or_drawing/train_data/4/2182.bmp  \n",
            "  inflating: real_or_drawing/train_data/4/2183.bmp  \n",
            "  inflating: real_or_drawing/train_data/4/2184.bmp  \n",
            "  inflating: real_or_drawing/train_data/4/2185.bmp  \n",
            "  inflating: real_or_drawing/train_data/4/2186.bmp  \n",
            "  inflating: real_or_drawing/train_data/4/2187.bmp  \n",
            "  inflating: real_or_drawing/train_data/4/2188.bmp  \n",
            "  inflating: real_or_drawing/train_data/4/2189.bmp  \n",
            "  inflating: real_or_drawing/train_data/4/2190.bmp  \n",
            "  inflating: real_or_drawing/train_data/4/2191.bmp  \n",
            "  inflating: real_or_drawing/train_data/4/2192.bmp  \n",
            "  inflating: real_or_drawing/train_data/4/2193.bmp  \n",
            "  inflating: real_or_drawing/train_data/4/2194.bmp  \n",
            "  inflating: real_or_drawing/train_data/4/2195.bmp  \n",
            "  inflating: real_or_drawing/train_data/4/2196.bmp  \n",
            "  inflating: real_or_drawing/train_data/4/2197.bmp  \n",
            "  inflating: real_or_drawing/train_data/4/2198.bmp  \n",
            "  inflating: real_or_drawing/train_data/4/2199.bmp  \n",
            "  inflating: real_or_drawing/train_data/4/2200.bmp  \n",
            "  inflating: real_or_drawing/train_data/4/2201.bmp  \n",
            "  inflating: real_or_drawing/train_data/4/2202.bmp  \n",
            "  inflating: real_or_drawing/train_data/4/2203.bmp  \n",
            "  inflating: real_or_drawing/train_data/4/2204.bmp  \n",
            "  inflating: real_or_drawing/train_data/4/2205.bmp  \n",
            "  inflating: real_or_drawing/train_data/4/2206.bmp  \n",
            "  inflating: real_or_drawing/train_data/4/2207.bmp  \n",
            "  inflating: real_or_drawing/train_data/4/2208.bmp  \n",
            "  inflating: real_or_drawing/train_data/4/2209.bmp  \n",
            "  inflating: real_or_drawing/train_data/4/2210.bmp  \n",
            "  inflating: real_or_drawing/train_data/4/2211.bmp  \n",
            "  inflating: real_or_drawing/train_data/4/2212.bmp  \n",
            "  inflating: real_or_drawing/train_data/4/2213.bmp  \n",
            "  inflating: real_or_drawing/train_data/4/2214.bmp  \n",
            "  inflating: real_or_drawing/train_data/4/2215.bmp  \n",
            "  inflating: real_or_drawing/train_data/4/2216.bmp  \n",
            "  inflating: real_or_drawing/train_data/4/2217.bmp  \n",
            "  inflating: real_or_drawing/train_data/4/2218.bmp  \n",
            "  inflating: real_or_drawing/train_data/4/2219.bmp  \n",
            "  inflating: real_or_drawing/train_data/4/2220.bmp  \n",
            "  inflating: real_or_drawing/train_data/4/2221.bmp  \n",
            "  inflating: real_or_drawing/train_data/4/2222.bmp  \n",
            "  inflating: real_or_drawing/train_data/4/2223.bmp  \n",
            "  inflating: real_or_drawing/train_data/4/2224.bmp  \n",
            "  inflating: real_or_drawing/train_data/4/2225.bmp  \n",
            "  inflating: real_or_drawing/train_data/4/2226.bmp  \n",
            "  inflating: real_or_drawing/train_data/4/2227.bmp  \n",
            "  inflating: real_or_drawing/train_data/4/2228.bmp  \n",
            "  inflating: real_or_drawing/train_data/4/2229.bmp  \n",
            "  inflating: real_or_drawing/train_data/4/2230.bmp  \n",
            "  inflating: real_or_drawing/train_data/4/2231.bmp  \n",
            "  inflating: real_or_drawing/train_data/4/2232.bmp  \n",
            "  inflating: real_or_drawing/train_data/4/2233.bmp  \n",
            "  inflating: real_or_drawing/train_data/4/2234.bmp  \n",
            "  inflating: real_or_drawing/train_data/4/2235.bmp  \n",
            "  inflating: real_or_drawing/train_data/4/2236.bmp  \n",
            "  inflating: real_or_drawing/train_data/4/2237.bmp  \n",
            "  inflating: real_or_drawing/train_data/4/2238.bmp  \n",
            "  inflating: real_or_drawing/train_data/4/2239.bmp  \n",
            "  inflating: real_or_drawing/train_data/4/2240.bmp  \n",
            "  inflating: real_or_drawing/train_data/4/2241.bmp  \n",
            "  inflating: real_or_drawing/train_data/4/2242.bmp  \n",
            "  inflating: real_or_drawing/train_data/4/2243.bmp  \n",
            "  inflating: real_or_drawing/train_data/4/2244.bmp  \n",
            "  inflating: real_or_drawing/train_data/4/2245.bmp  \n",
            "  inflating: real_or_drawing/train_data/4/2246.bmp  \n",
            "  inflating: real_or_drawing/train_data/4/2247.bmp  \n",
            "  inflating: real_or_drawing/train_data/4/2248.bmp  \n",
            "  inflating: real_or_drawing/train_data/4/2249.bmp  \n",
            "  inflating: real_or_drawing/train_data/4/2250.bmp  \n",
            "  inflating: real_or_drawing/train_data/4/2251.bmp  \n",
            "  inflating: real_or_drawing/train_data/4/2252.bmp  \n",
            "  inflating: real_or_drawing/train_data/4/2253.bmp  \n",
            "  inflating: real_or_drawing/train_data/4/2254.bmp  \n",
            "  inflating: real_or_drawing/train_data/4/2255.bmp  \n",
            "  inflating: real_or_drawing/train_data/4/2256.bmp  \n",
            "  inflating: real_or_drawing/train_data/4/2257.bmp  \n",
            "  inflating: real_or_drawing/train_data/4/2258.bmp  \n",
            "  inflating: real_or_drawing/train_data/4/2259.bmp  \n",
            "  inflating: real_or_drawing/train_data/4/2260.bmp  \n",
            "  inflating: real_or_drawing/train_data/4/2261.bmp  \n",
            "  inflating: real_or_drawing/train_data/4/2262.bmp  \n",
            "  inflating: real_or_drawing/train_data/4/2263.bmp  \n",
            "  inflating: real_or_drawing/train_data/4/2264.bmp  \n",
            "  inflating: real_or_drawing/train_data/4/2265.bmp  \n",
            "  inflating: real_or_drawing/train_data/4/2266.bmp  \n",
            "  inflating: real_or_drawing/train_data/4/2267.bmp  \n",
            "  inflating: real_or_drawing/train_data/4/2268.bmp  \n",
            "  inflating: real_or_drawing/train_data/4/2269.bmp  \n",
            "  inflating: real_or_drawing/train_data/4/2270.bmp  \n",
            "  inflating: real_or_drawing/train_data/4/2271.bmp  \n",
            "  inflating: real_or_drawing/train_data/4/2272.bmp  \n",
            "  inflating: real_or_drawing/train_data/4/2273.bmp  \n",
            "  inflating: real_or_drawing/train_data/4/2274.bmp  \n",
            "  inflating: real_or_drawing/train_data/4/2275.bmp  \n",
            "  inflating: real_or_drawing/train_data/4/2276.bmp  \n",
            "  inflating: real_or_drawing/train_data/4/2277.bmp  \n",
            "  inflating: real_or_drawing/train_data/4/2278.bmp  \n",
            "  inflating: real_or_drawing/train_data/4/2279.bmp  \n",
            "  inflating: real_or_drawing/train_data/4/2280.bmp  \n",
            "  inflating: real_or_drawing/train_data/4/2281.bmp  \n",
            "  inflating: real_or_drawing/train_data/4/2282.bmp  \n",
            "  inflating: real_or_drawing/train_data/4/2283.bmp  \n",
            "  inflating: real_or_drawing/train_data/4/2284.bmp  \n",
            "  inflating: real_or_drawing/train_data/4/2285.bmp  \n",
            "  inflating: real_or_drawing/train_data/4/2286.bmp  \n",
            "  inflating: real_or_drawing/train_data/4/2287.bmp  \n",
            "  inflating: real_or_drawing/train_data/4/2288.bmp  \n",
            "  inflating: real_or_drawing/train_data/4/2289.bmp  \n",
            "  inflating: real_or_drawing/train_data/4/2290.bmp  \n",
            "  inflating: real_or_drawing/train_data/4/2291.bmp  \n",
            "  inflating: real_or_drawing/train_data/4/2292.bmp  \n",
            "  inflating: real_or_drawing/train_data/4/2293.bmp  \n",
            "  inflating: real_or_drawing/train_data/4/2294.bmp  \n",
            "  inflating: real_or_drawing/train_data/4/2295.bmp  \n",
            "  inflating: real_or_drawing/train_data/4/2296.bmp  \n",
            "  inflating: real_or_drawing/train_data/4/2297.bmp  \n",
            "  inflating: real_or_drawing/train_data/4/2298.bmp  \n",
            "  inflating: real_or_drawing/train_data/4/2299.bmp  \n",
            "  inflating: real_or_drawing/train_data/4/2300.bmp  \n",
            "  inflating: real_or_drawing/train_data/4/2301.bmp  \n",
            "  inflating: real_or_drawing/train_data/4/2302.bmp  \n",
            "  inflating: real_or_drawing/train_data/4/2303.bmp  \n",
            "  inflating: real_or_drawing/train_data/4/2304.bmp  \n",
            "  inflating: real_or_drawing/train_data/4/2305.bmp  \n",
            "  inflating: real_or_drawing/train_data/4/2306.bmp  \n",
            "  inflating: real_or_drawing/train_data/4/2307.bmp  \n",
            "  inflating: real_or_drawing/train_data/4/2308.bmp  \n",
            "  inflating: real_or_drawing/train_data/4/2309.bmp  \n",
            "  inflating: real_or_drawing/train_data/4/2310.bmp  \n",
            "  inflating: real_or_drawing/train_data/4/2311.bmp  \n",
            "  inflating: real_or_drawing/train_data/4/2312.bmp  \n",
            "  inflating: real_or_drawing/train_data/4/2313.bmp  \n",
            "  inflating: real_or_drawing/train_data/4/2314.bmp  \n",
            "  inflating: real_or_drawing/train_data/4/2315.bmp  \n",
            "  inflating: real_or_drawing/train_data/4/2316.bmp  \n",
            "  inflating: real_or_drawing/train_data/4/2317.bmp  \n",
            "  inflating: real_or_drawing/train_data/4/2318.bmp  \n",
            "  inflating: real_or_drawing/train_data/4/2319.bmp  \n",
            "  inflating: real_or_drawing/train_data/4/2320.bmp  \n",
            "  inflating: real_or_drawing/train_data/4/2321.bmp  \n",
            "  inflating: real_or_drawing/train_data/4/2322.bmp  \n",
            "  inflating: real_or_drawing/train_data/4/2323.bmp  \n",
            "  inflating: real_or_drawing/train_data/4/2324.bmp  \n",
            "  inflating: real_or_drawing/train_data/4/2325.bmp  \n",
            "  inflating: real_or_drawing/train_data/4/2326.bmp  \n",
            "  inflating: real_or_drawing/train_data/4/2327.bmp  \n",
            "  inflating: real_or_drawing/train_data/4/2328.bmp  \n",
            "  inflating: real_or_drawing/train_data/4/2329.bmp  \n",
            "  inflating: real_or_drawing/train_data/4/2330.bmp  \n",
            "  inflating: real_or_drawing/train_data/4/2331.bmp  \n",
            "  inflating: real_or_drawing/train_data/4/2332.bmp  \n",
            "  inflating: real_or_drawing/train_data/4/2333.bmp  \n",
            "  inflating: real_or_drawing/train_data/4/2334.bmp  \n",
            "  inflating: real_or_drawing/train_data/4/2335.bmp  \n",
            "  inflating: real_or_drawing/train_data/4/2336.bmp  \n",
            "  inflating: real_or_drawing/train_data/4/2337.bmp  \n",
            "  inflating: real_or_drawing/train_data/4/2338.bmp  \n",
            "  inflating: real_or_drawing/train_data/4/2339.bmp  \n",
            "  inflating: real_or_drawing/train_data/4/2340.bmp  \n",
            "  inflating: real_or_drawing/train_data/4/2341.bmp  \n",
            "  inflating: real_or_drawing/train_data/4/2342.bmp  \n",
            "  inflating: real_or_drawing/train_data/4/2343.bmp  \n",
            "  inflating: real_or_drawing/train_data/4/2344.bmp  \n",
            "  inflating: real_or_drawing/train_data/4/2345.bmp  \n",
            "  inflating: real_or_drawing/train_data/4/2346.bmp  \n",
            "  inflating: real_or_drawing/train_data/4/2347.bmp  \n",
            "  inflating: real_or_drawing/train_data/4/2348.bmp  \n",
            "  inflating: real_or_drawing/train_data/4/2349.bmp  \n",
            "  inflating: real_or_drawing/train_data/4/2350.bmp  \n",
            "  inflating: real_or_drawing/train_data/4/2351.bmp  \n",
            "  inflating: real_or_drawing/train_data/4/2352.bmp  \n",
            "  inflating: real_or_drawing/train_data/4/2353.bmp  \n",
            "  inflating: real_or_drawing/train_data/4/2354.bmp  \n",
            "  inflating: real_or_drawing/train_data/4/2355.bmp  \n",
            "  inflating: real_or_drawing/train_data/4/2356.bmp  \n",
            "  inflating: real_or_drawing/train_data/4/2357.bmp  \n",
            "  inflating: real_or_drawing/train_data/4/2358.bmp  \n",
            "  inflating: real_or_drawing/train_data/4/2359.bmp  \n",
            "  inflating: real_or_drawing/train_data/4/2360.bmp  \n",
            "  inflating: real_or_drawing/train_data/4/2361.bmp  \n",
            "  inflating: real_or_drawing/train_data/4/2362.bmp  \n",
            "  inflating: real_or_drawing/train_data/4/2363.bmp  \n",
            "  inflating: real_or_drawing/train_data/4/2364.bmp  \n",
            "  inflating: real_or_drawing/train_data/4/2365.bmp  \n",
            "  inflating: real_or_drawing/train_data/4/2366.bmp  \n",
            "  inflating: real_or_drawing/train_data/4/2367.bmp  \n",
            "  inflating: real_or_drawing/train_data/4/2368.bmp  \n",
            "  inflating: real_or_drawing/train_data/4/2369.bmp  \n",
            "  inflating: real_or_drawing/train_data/4/2370.bmp  \n",
            "  inflating: real_or_drawing/train_data/4/2371.bmp  \n",
            "  inflating: real_or_drawing/train_data/4/2372.bmp  \n",
            "  inflating: real_or_drawing/train_data/4/2373.bmp  \n",
            "  inflating: real_or_drawing/train_data/4/2374.bmp  \n",
            "  inflating: real_or_drawing/train_data/4/2375.bmp  \n",
            "  inflating: real_or_drawing/train_data/4/2376.bmp  \n",
            "  inflating: real_or_drawing/train_data/4/2377.bmp  \n",
            "  inflating: real_or_drawing/train_data/4/2378.bmp  \n",
            "  inflating: real_or_drawing/train_data/4/2379.bmp  \n",
            "  inflating: real_or_drawing/train_data/4/2380.bmp  \n",
            "  inflating: real_or_drawing/train_data/4/2381.bmp  \n",
            "  inflating: real_or_drawing/train_data/4/2382.bmp  \n",
            "  inflating: real_or_drawing/train_data/4/2383.bmp  \n",
            "  inflating: real_or_drawing/train_data/4/2384.bmp  \n",
            "  inflating: real_or_drawing/train_data/4/2385.bmp  \n",
            "  inflating: real_or_drawing/train_data/4/2386.bmp  \n",
            "  inflating: real_or_drawing/train_data/4/2387.bmp  \n",
            "  inflating: real_or_drawing/train_data/4/2388.bmp  \n",
            "  inflating: real_or_drawing/train_data/4/2389.bmp  \n",
            "  inflating: real_or_drawing/train_data/4/2390.bmp  \n",
            "  inflating: real_or_drawing/train_data/4/2391.bmp  \n",
            "  inflating: real_or_drawing/train_data/4/2392.bmp  \n",
            "  inflating: real_or_drawing/train_data/4/2393.bmp  \n",
            "  inflating: real_or_drawing/train_data/4/2394.bmp  \n",
            "  inflating: real_or_drawing/train_data/4/2395.bmp  \n",
            "  inflating: real_or_drawing/train_data/4/2396.bmp  \n",
            "  inflating: real_or_drawing/train_data/4/2397.bmp  \n",
            "  inflating: real_or_drawing/train_data/4/2398.bmp  \n",
            "  inflating: real_or_drawing/train_data/4/2399.bmp  \n",
            "  inflating: real_or_drawing/train_data/4/2400.bmp  \n",
            "  inflating: real_or_drawing/train_data/4/2401.bmp  \n",
            "  inflating: real_or_drawing/train_data/4/2402.bmp  \n",
            "  inflating: real_or_drawing/train_data/4/2403.bmp  \n",
            "  inflating: real_or_drawing/train_data/4/2404.bmp  \n",
            "  inflating: real_or_drawing/train_data/4/2405.bmp  \n",
            "  inflating: real_or_drawing/train_data/4/2406.bmp  \n",
            "  inflating: real_or_drawing/train_data/4/2407.bmp  \n",
            "  inflating: real_or_drawing/train_data/4/2408.bmp  \n",
            "  inflating: real_or_drawing/train_data/4/2409.bmp  \n",
            "  inflating: real_or_drawing/train_data/4/2410.bmp  \n",
            "  inflating: real_or_drawing/train_data/4/2411.bmp  \n",
            "  inflating: real_or_drawing/train_data/4/2412.bmp  \n",
            "  inflating: real_or_drawing/train_data/4/2413.bmp  \n",
            "  inflating: real_or_drawing/train_data/4/2414.bmp  \n",
            "  inflating: real_or_drawing/train_data/4/2415.bmp  \n",
            "  inflating: real_or_drawing/train_data/4/2416.bmp  \n",
            "  inflating: real_or_drawing/train_data/4/2417.bmp  \n",
            "  inflating: real_or_drawing/train_data/4/2418.bmp  \n",
            "  inflating: real_or_drawing/train_data/4/2419.bmp  \n",
            "  inflating: real_or_drawing/train_data/4/2420.bmp  \n",
            "  inflating: real_or_drawing/train_data/4/2421.bmp  \n",
            "  inflating: real_or_drawing/train_data/4/2422.bmp  \n",
            "  inflating: real_or_drawing/train_data/4/2423.bmp  \n",
            "  inflating: real_or_drawing/train_data/4/2424.bmp  \n",
            "  inflating: real_or_drawing/train_data/4/2425.bmp  \n",
            "  inflating: real_or_drawing/train_data/4/2426.bmp  \n",
            "  inflating: real_or_drawing/train_data/4/2427.bmp  \n",
            "  inflating: real_or_drawing/train_data/4/2428.bmp  \n",
            "  inflating: real_or_drawing/train_data/4/2429.bmp  \n",
            "  inflating: real_or_drawing/train_data/4/2430.bmp  \n",
            "  inflating: real_or_drawing/train_data/4/2431.bmp  \n",
            "  inflating: real_or_drawing/train_data/4/2432.bmp  \n",
            "  inflating: real_or_drawing/train_data/4/2433.bmp  \n",
            "  inflating: real_or_drawing/train_data/4/2434.bmp  \n",
            "  inflating: real_or_drawing/train_data/4/2435.bmp  \n",
            "  inflating: real_or_drawing/train_data/4/2436.bmp  \n",
            "  inflating: real_or_drawing/train_data/4/2437.bmp  \n",
            "  inflating: real_or_drawing/train_data/4/2438.bmp  \n",
            "  inflating: real_or_drawing/train_data/4/2439.bmp  \n",
            "  inflating: real_or_drawing/train_data/4/2440.bmp  \n",
            "  inflating: real_or_drawing/train_data/4/2441.bmp  \n",
            "  inflating: real_or_drawing/train_data/4/2442.bmp  \n",
            "  inflating: real_or_drawing/train_data/4/2443.bmp  \n",
            "  inflating: real_or_drawing/train_data/4/2444.bmp  \n",
            "  inflating: real_or_drawing/train_data/4/2445.bmp  \n",
            "  inflating: real_or_drawing/train_data/4/2446.bmp  \n",
            "  inflating: real_or_drawing/train_data/4/2447.bmp  \n",
            "  inflating: real_or_drawing/train_data/4/2448.bmp  \n",
            "  inflating: real_or_drawing/train_data/4/2449.bmp  \n",
            "  inflating: real_or_drawing/train_data/4/2450.bmp  \n",
            "  inflating: real_or_drawing/train_data/4/2451.bmp  \n",
            "  inflating: real_or_drawing/train_data/4/2452.bmp  \n",
            "  inflating: real_or_drawing/train_data/4/2453.bmp  \n",
            "  inflating: real_or_drawing/train_data/4/2454.bmp  \n",
            "  inflating: real_or_drawing/train_data/4/2455.bmp  \n",
            "  inflating: real_or_drawing/train_data/4/2456.bmp  \n",
            "  inflating: real_or_drawing/train_data/4/2457.bmp  \n",
            "  inflating: real_or_drawing/train_data/4/2458.bmp  \n",
            "  inflating: real_or_drawing/train_data/4/2459.bmp  \n",
            "  inflating: real_or_drawing/train_data/4/2460.bmp  \n",
            "  inflating: real_or_drawing/train_data/4/2461.bmp  \n",
            "  inflating: real_or_drawing/train_data/4/2462.bmp  \n",
            "  inflating: real_or_drawing/train_data/4/2463.bmp  \n",
            "  inflating: real_or_drawing/train_data/4/2464.bmp  \n",
            "  inflating: real_or_drawing/train_data/4/2465.bmp  \n",
            "  inflating: real_or_drawing/train_data/4/2466.bmp  \n",
            "  inflating: real_or_drawing/train_data/4/2467.bmp  \n",
            "  inflating: real_or_drawing/train_data/4/2468.bmp  \n",
            "  inflating: real_or_drawing/train_data/4/2469.bmp  \n",
            "  inflating: real_or_drawing/train_data/4/2470.bmp  \n",
            "  inflating: real_or_drawing/train_data/4/2471.bmp  \n",
            "  inflating: real_or_drawing/train_data/4/2472.bmp  \n",
            "  inflating: real_or_drawing/train_data/4/2473.bmp  \n",
            "  inflating: real_or_drawing/train_data/4/2474.bmp  \n",
            "  inflating: real_or_drawing/train_data/4/2475.bmp  \n",
            "  inflating: real_or_drawing/train_data/4/2476.bmp  \n",
            "  inflating: real_or_drawing/train_data/4/2477.bmp  \n",
            "  inflating: real_or_drawing/train_data/4/2478.bmp  \n",
            "  inflating: real_or_drawing/train_data/4/2479.bmp  \n",
            "  inflating: real_or_drawing/train_data/4/2480.bmp  \n",
            "  inflating: real_or_drawing/train_data/4/2481.bmp  \n",
            "  inflating: real_or_drawing/train_data/4/2482.bmp  \n",
            "  inflating: real_or_drawing/train_data/4/2483.bmp  \n",
            "  inflating: real_or_drawing/train_data/4/2484.bmp  \n",
            "  inflating: real_or_drawing/train_data/4/2485.bmp  \n",
            "  inflating: real_or_drawing/train_data/4/2486.bmp  \n",
            "  inflating: real_or_drawing/train_data/4/2487.bmp  \n",
            "  inflating: real_or_drawing/train_data/4/2488.bmp  \n",
            "  inflating: real_or_drawing/train_data/4/2489.bmp  \n",
            "  inflating: real_or_drawing/train_data/4/2490.bmp  \n",
            "  inflating: real_or_drawing/train_data/4/2491.bmp  \n",
            "  inflating: real_or_drawing/train_data/4/2492.bmp  \n",
            "  inflating: real_or_drawing/train_data/4/2493.bmp  \n",
            "  inflating: real_or_drawing/train_data/4/2494.bmp  \n",
            "  inflating: real_or_drawing/train_data/4/2495.bmp  \n",
            "  inflating: real_or_drawing/train_data/4/2496.bmp  \n",
            "  inflating: real_or_drawing/train_data/4/2497.bmp  \n",
            "  inflating: real_or_drawing/train_data/4/2498.bmp  \n",
            "  inflating: real_or_drawing/train_data/4/2499.bmp  \n",
            "   creating: real_or_drawing/train_data/5/\n",
            "  inflating: real_or_drawing/train_data/5/2500.bmp  \n",
            "  inflating: real_or_drawing/train_data/5/2501.bmp  \n",
            "  inflating: real_or_drawing/train_data/5/2502.bmp  \n",
            "  inflating: real_or_drawing/train_data/5/2503.bmp  \n",
            "  inflating: real_or_drawing/train_data/5/2504.bmp  \n",
            "  inflating: real_or_drawing/train_data/5/2505.bmp  \n",
            "  inflating: real_or_drawing/train_data/5/2506.bmp  \n",
            "  inflating: real_or_drawing/train_data/5/2507.bmp  \n",
            "  inflating: real_or_drawing/train_data/5/2508.bmp  \n",
            "  inflating: real_or_drawing/train_data/5/2509.bmp  \n",
            "  inflating: real_or_drawing/train_data/5/2510.bmp  \n",
            "  inflating: real_or_drawing/train_data/5/2511.bmp  \n",
            "  inflating: real_or_drawing/train_data/5/2512.bmp  \n",
            "  inflating: real_or_drawing/train_data/5/2513.bmp  \n",
            "  inflating: real_or_drawing/train_data/5/2514.bmp  \n",
            "  inflating: real_or_drawing/train_data/5/2515.bmp  \n",
            "  inflating: real_or_drawing/train_data/5/2516.bmp  \n",
            "  inflating: real_or_drawing/train_data/5/2517.bmp  \n",
            "  inflating: real_or_drawing/train_data/5/2518.bmp  \n",
            "  inflating: real_or_drawing/train_data/5/2519.bmp  \n",
            "  inflating: real_or_drawing/train_data/5/2520.bmp  \n",
            "  inflating: real_or_drawing/train_data/5/2521.bmp  \n",
            "  inflating: real_or_drawing/train_data/5/2522.bmp  \n",
            "  inflating: real_or_drawing/train_data/5/2523.bmp  \n",
            "  inflating: real_or_drawing/train_data/5/2524.bmp  \n",
            "  inflating: real_or_drawing/train_data/5/2525.bmp  \n",
            "  inflating: real_or_drawing/train_data/5/2526.bmp  \n",
            "  inflating: real_or_drawing/train_data/5/2527.bmp  \n",
            "  inflating: real_or_drawing/train_data/5/2528.bmp  \n",
            "  inflating: real_or_drawing/train_data/5/2529.bmp  \n",
            "  inflating: real_or_drawing/train_data/5/2530.bmp  \n",
            "  inflating: real_or_drawing/train_data/5/2531.bmp  \n",
            "  inflating: real_or_drawing/train_data/5/2532.bmp  \n",
            "  inflating: real_or_drawing/train_data/5/2533.bmp  \n",
            "  inflating: real_or_drawing/train_data/5/2534.bmp  \n",
            "  inflating: real_or_drawing/train_data/5/2535.bmp  \n",
            "  inflating: real_or_drawing/train_data/5/2536.bmp  \n",
            "  inflating: real_or_drawing/train_data/5/2537.bmp  \n",
            "  inflating: real_or_drawing/train_data/5/2538.bmp  \n",
            "  inflating: real_or_drawing/train_data/5/2539.bmp  \n",
            "  inflating: real_or_drawing/train_data/5/2540.bmp  \n",
            "  inflating: real_or_drawing/train_data/5/2541.bmp  \n",
            "  inflating: real_or_drawing/train_data/5/2542.bmp  \n",
            "  inflating: real_or_drawing/train_data/5/2543.bmp  \n",
            "  inflating: real_or_drawing/train_data/5/2544.bmp  \n",
            "  inflating: real_or_drawing/train_data/5/2545.bmp  \n",
            "  inflating: real_or_drawing/train_data/5/2546.bmp  \n",
            "  inflating: real_or_drawing/train_data/5/2547.bmp  \n",
            "  inflating: real_or_drawing/train_data/5/2548.bmp  \n",
            "  inflating: real_or_drawing/train_data/5/2549.bmp  \n",
            "  inflating: real_or_drawing/train_data/5/2550.bmp  \n",
            "  inflating: real_or_drawing/train_data/5/2551.bmp  \n",
            "  inflating: real_or_drawing/train_data/5/2552.bmp  \n",
            "  inflating: real_or_drawing/train_data/5/2553.bmp  \n",
            "  inflating: real_or_drawing/train_data/5/2554.bmp  \n",
            "  inflating: real_or_drawing/train_data/5/2555.bmp  \n",
            "  inflating: real_or_drawing/train_data/5/2556.bmp  \n",
            "  inflating: real_or_drawing/train_data/5/2557.bmp  \n",
            "  inflating: real_or_drawing/train_data/5/2558.bmp  \n",
            "  inflating: real_or_drawing/train_data/5/2559.bmp  \n",
            "  inflating: real_or_drawing/train_data/5/2560.bmp  \n",
            "  inflating: real_or_drawing/train_data/5/2561.bmp  \n",
            "  inflating: real_or_drawing/train_data/5/2562.bmp  \n",
            "  inflating: real_or_drawing/train_data/5/2563.bmp  \n",
            "  inflating: real_or_drawing/train_data/5/2564.bmp  \n",
            "  inflating: real_or_drawing/train_data/5/2565.bmp  \n",
            "  inflating: real_or_drawing/train_data/5/2566.bmp  \n",
            "  inflating: real_or_drawing/train_data/5/2567.bmp  \n",
            "  inflating: real_or_drawing/train_data/5/2568.bmp  \n",
            "  inflating: real_or_drawing/train_data/5/2569.bmp  \n",
            "  inflating: real_or_drawing/train_data/5/2570.bmp  \n",
            "  inflating: real_or_drawing/train_data/5/2571.bmp  \n",
            "  inflating: real_or_drawing/train_data/5/2572.bmp  \n",
            "  inflating: real_or_drawing/train_data/5/2573.bmp  \n",
            "  inflating: real_or_drawing/train_data/5/2574.bmp  \n",
            "  inflating: real_or_drawing/train_data/5/2575.bmp  \n",
            "  inflating: real_or_drawing/train_data/5/2576.bmp  \n",
            "  inflating: real_or_drawing/train_data/5/2577.bmp  \n",
            "  inflating: real_or_drawing/train_data/5/2578.bmp  \n",
            "  inflating: real_or_drawing/train_data/5/2579.bmp  \n",
            "  inflating: real_or_drawing/train_data/5/2580.bmp  \n",
            "  inflating: real_or_drawing/train_data/5/2581.bmp  \n",
            "  inflating: real_or_drawing/train_data/5/2582.bmp  \n",
            "  inflating: real_or_drawing/train_data/5/2583.bmp  \n",
            "  inflating: real_or_drawing/train_data/5/2584.bmp  \n",
            "  inflating: real_or_drawing/train_data/5/2585.bmp  \n",
            "  inflating: real_or_drawing/train_data/5/2586.bmp  \n",
            "  inflating: real_or_drawing/train_data/5/2587.bmp  \n",
            "  inflating: real_or_drawing/train_data/5/2588.bmp  \n",
            "  inflating: real_or_drawing/train_data/5/2589.bmp  \n",
            "  inflating: real_or_drawing/train_data/5/2590.bmp  \n",
            "  inflating: real_or_drawing/train_data/5/2591.bmp  \n",
            "  inflating: real_or_drawing/train_data/5/2592.bmp  \n",
            "  inflating: real_or_drawing/train_data/5/2593.bmp  \n",
            "  inflating: real_or_drawing/train_data/5/2594.bmp  \n",
            "  inflating: real_or_drawing/train_data/5/2595.bmp  \n",
            "  inflating: real_or_drawing/train_data/5/2596.bmp  \n",
            "  inflating: real_or_drawing/train_data/5/2597.bmp  \n",
            "  inflating: real_or_drawing/train_data/5/2598.bmp  \n",
            "  inflating: real_or_drawing/train_data/5/2599.bmp  \n",
            "  inflating: real_or_drawing/train_data/5/2600.bmp  \n",
            "  inflating: real_or_drawing/train_data/5/2601.bmp  \n",
            "  inflating: real_or_drawing/train_data/5/2602.bmp  \n",
            "  inflating: real_or_drawing/train_data/5/2603.bmp  \n",
            "  inflating: real_or_drawing/train_data/5/2604.bmp  \n",
            "  inflating: real_or_drawing/train_data/5/2605.bmp  \n",
            "  inflating: real_or_drawing/train_data/5/2606.bmp  \n",
            "  inflating: real_or_drawing/train_data/5/2607.bmp  \n",
            "  inflating: real_or_drawing/train_data/5/2608.bmp  \n",
            "  inflating: real_or_drawing/train_data/5/2609.bmp  \n",
            "  inflating: real_or_drawing/train_data/5/2610.bmp  \n",
            "  inflating: real_or_drawing/train_data/5/2611.bmp  \n",
            "  inflating: real_or_drawing/train_data/5/2612.bmp  \n",
            "  inflating: real_or_drawing/train_data/5/2613.bmp  \n",
            "  inflating: real_or_drawing/train_data/5/2614.bmp  \n",
            "  inflating: real_or_drawing/train_data/5/2615.bmp  \n",
            "  inflating: real_or_drawing/train_data/5/2616.bmp  \n",
            "  inflating: real_or_drawing/train_data/5/2617.bmp  \n",
            "  inflating: real_or_drawing/train_data/5/2618.bmp  \n",
            "  inflating: real_or_drawing/train_data/5/2619.bmp  \n",
            "  inflating: real_or_drawing/train_data/5/2620.bmp  \n",
            "  inflating: real_or_drawing/train_data/5/2621.bmp  \n",
            "  inflating: real_or_drawing/train_data/5/2622.bmp  \n",
            "  inflating: real_or_drawing/train_data/5/2623.bmp  \n",
            "  inflating: real_or_drawing/train_data/5/2624.bmp  \n",
            "  inflating: real_or_drawing/train_data/5/2625.bmp  \n",
            "  inflating: real_or_drawing/train_data/5/2626.bmp  \n",
            "  inflating: real_or_drawing/train_data/5/2627.bmp  \n",
            "  inflating: real_or_drawing/train_data/5/2628.bmp  \n",
            "  inflating: real_or_drawing/train_data/5/2629.bmp  \n",
            "  inflating: real_or_drawing/train_data/5/2630.bmp  \n",
            "  inflating: real_or_drawing/train_data/5/2631.bmp  \n",
            "  inflating: real_or_drawing/train_data/5/2632.bmp  \n",
            "  inflating: real_or_drawing/train_data/5/2633.bmp  \n",
            "  inflating: real_or_drawing/train_data/5/2634.bmp  \n",
            "  inflating: real_or_drawing/train_data/5/2635.bmp  \n",
            "  inflating: real_or_drawing/train_data/5/2636.bmp  \n",
            "  inflating: real_or_drawing/train_data/5/2637.bmp  \n",
            "  inflating: real_or_drawing/train_data/5/2638.bmp  \n",
            "  inflating: real_or_drawing/train_data/5/2639.bmp  \n",
            "  inflating: real_or_drawing/train_data/5/2640.bmp  \n",
            "  inflating: real_or_drawing/train_data/5/2641.bmp  \n",
            "  inflating: real_or_drawing/train_data/5/2642.bmp  \n",
            "  inflating: real_or_drawing/train_data/5/2643.bmp  \n",
            "  inflating: real_or_drawing/train_data/5/2644.bmp  \n",
            "  inflating: real_or_drawing/train_data/5/2645.bmp  \n",
            "  inflating: real_or_drawing/train_data/5/2646.bmp  \n",
            "  inflating: real_or_drawing/train_data/5/2647.bmp  \n",
            "  inflating: real_or_drawing/train_data/5/2648.bmp  \n",
            "  inflating: real_or_drawing/train_data/5/2649.bmp  \n",
            "  inflating: real_or_drawing/train_data/5/2650.bmp  \n",
            "  inflating: real_or_drawing/train_data/5/2651.bmp  \n",
            "  inflating: real_or_drawing/train_data/5/2652.bmp  \n",
            "  inflating: real_or_drawing/train_data/5/2653.bmp  \n",
            "  inflating: real_or_drawing/train_data/5/2654.bmp  \n",
            "  inflating: real_or_drawing/train_data/5/2655.bmp  \n",
            "  inflating: real_or_drawing/train_data/5/2656.bmp  \n",
            "  inflating: real_or_drawing/train_data/5/2657.bmp  \n",
            "  inflating: real_or_drawing/train_data/5/2658.bmp  \n",
            "  inflating: real_or_drawing/train_data/5/2659.bmp  \n",
            "  inflating: real_or_drawing/train_data/5/2660.bmp  \n",
            "  inflating: real_or_drawing/train_data/5/2661.bmp  \n",
            "  inflating: real_or_drawing/train_data/5/2662.bmp  \n",
            "  inflating: real_or_drawing/train_data/5/2663.bmp  \n",
            "  inflating: real_or_drawing/train_data/5/2664.bmp  \n",
            "  inflating: real_or_drawing/train_data/5/2665.bmp  \n",
            "  inflating: real_or_drawing/train_data/5/2666.bmp  \n",
            "  inflating: real_or_drawing/train_data/5/2667.bmp  \n",
            "  inflating: real_or_drawing/train_data/5/2668.bmp  \n",
            "  inflating: real_or_drawing/train_data/5/2669.bmp  \n",
            "  inflating: real_or_drawing/train_data/5/2670.bmp  \n",
            "  inflating: real_or_drawing/train_data/5/2671.bmp  \n",
            "  inflating: real_or_drawing/train_data/5/2672.bmp  \n",
            "  inflating: real_or_drawing/train_data/5/2673.bmp  \n",
            "  inflating: real_or_drawing/train_data/5/2674.bmp  \n",
            "  inflating: real_or_drawing/train_data/5/2675.bmp  \n",
            "  inflating: real_or_drawing/train_data/5/2676.bmp  \n",
            "  inflating: real_or_drawing/train_data/5/2677.bmp  \n",
            "  inflating: real_or_drawing/train_data/5/2678.bmp  \n",
            "  inflating: real_or_drawing/train_data/5/2679.bmp  \n",
            "  inflating: real_or_drawing/train_data/5/2680.bmp  \n",
            "  inflating: real_or_drawing/train_data/5/2681.bmp  \n",
            "  inflating: real_or_drawing/train_data/5/2682.bmp  \n",
            "  inflating: real_or_drawing/train_data/5/2683.bmp  \n",
            "  inflating: real_or_drawing/train_data/5/2684.bmp  \n",
            "  inflating: real_or_drawing/train_data/5/2685.bmp  \n",
            "  inflating: real_or_drawing/train_data/5/2686.bmp  \n",
            "  inflating: real_or_drawing/train_data/5/2687.bmp  \n",
            "  inflating: real_or_drawing/train_data/5/2688.bmp  \n",
            "  inflating: real_or_drawing/train_data/5/2689.bmp  \n",
            "  inflating: real_or_drawing/train_data/5/2690.bmp  \n",
            "  inflating: real_or_drawing/train_data/5/2691.bmp  \n",
            "  inflating: real_or_drawing/train_data/5/2692.bmp  \n",
            "  inflating: real_or_drawing/train_data/5/2693.bmp  \n",
            "  inflating: real_or_drawing/train_data/5/2694.bmp  \n",
            "  inflating: real_or_drawing/train_data/5/2695.bmp  \n",
            "  inflating: real_or_drawing/train_data/5/2696.bmp  \n",
            "  inflating: real_or_drawing/train_data/5/2697.bmp  \n",
            "  inflating: real_or_drawing/train_data/5/2698.bmp  \n",
            "  inflating: real_or_drawing/train_data/5/2699.bmp  \n",
            "  inflating: real_or_drawing/train_data/5/2700.bmp  \n",
            "  inflating: real_or_drawing/train_data/5/2701.bmp  \n",
            "  inflating: real_or_drawing/train_data/5/2702.bmp  \n",
            "  inflating: real_or_drawing/train_data/5/2703.bmp  \n",
            "  inflating: real_or_drawing/train_data/5/2704.bmp  \n",
            "  inflating: real_or_drawing/train_data/5/2705.bmp  \n",
            "  inflating: real_or_drawing/train_data/5/2706.bmp  \n",
            "  inflating: real_or_drawing/train_data/5/2707.bmp  \n",
            "  inflating: real_or_drawing/train_data/5/2708.bmp  \n",
            "  inflating: real_or_drawing/train_data/5/2709.bmp  \n",
            "  inflating: real_or_drawing/train_data/5/2710.bmp  \n",
            "  inflating: real_or_drawing/train_data/5/2711.bmp  \n",
            "  inflating: real_or_drawing/train_data/5/2712.bmp  \n",
            "  inflating: real_or_drawing/train_data/5/2713.bmp  \n",
            "  inflating: real_or_drawing/train_data/5/2714.bmp  \n",
            "  inflating: real_or_drawing/train_data/5/2715.bmp  \n",
            "  inflating: real_or_drawing/train_data/5/2716.bmp  \n",
            "  inflating: real_or_drawing/train_data/5/2717.bmp  \n",
            "  inflating: real_or_drawing/train_data/5/2718.bmp  \n",
            "  inflating: real_or_drawing/train_data/5/2719.bmp  \n",
            "  inflating: real_or_drawing/train_data/5/2720.bmp  \n",
            "  inflating: real_or_drawing/train_data/5/2721.bmp  \n",
            "  inflating: real_or_drawing/train_data/5/2722.bmp  \n",
            "  inflating: real_or_drawing/train_data/5/2723.bmp  \n",
            "  inflating: real_or_drawing/train_data/5/2724.bmp  \n",
            "  inflating: real_or_drawing/train_data/5/2725.bmp  \n",
            "  inflating: real_or_drawing/train_data/5/2726.bmp  \n",
            "  inflating: real_or_drawing/train_data/5/2727.bmp  \n",
            "  inflating: real_or_drawing/train_data/5/2728.bmp  \n",
            "  inflating: real_or_drawing/train_data/5/2729.bmp  \n",
            "  inflating: real_or_drawing/train_data/5/2730.bmp  \n",
            "  inflating: real_or_drawing/train_data/5/2731.bmp  \n",
            "  inflating: real_or_drawing/train_data/5/2732.bmp  \n",
            "  inflating: real_or_drawing/train_data/5/2733.bmp  \n",
            "  inflating: real_or_drawing/train_data/5/2734.bmp  \n",
            "  inflating: real_or_drawing/train_data/5/2735.bmp  \n",
            "  inflating: real_or_drawing/train_data/5/2736.bmp  \n",
            "  inflating: real_or_drawing/train_data/5/2737.bmp  \n",
            "  inflating: real_or_drawing/train_data/5/2738.bmp  \n",
            "  inflating: real_or_drawing/train_data/5/2739.bmp  \n",
            "  inflating: real_or_drawing/train_data/5/2740.bmp  \n",
            "  inflating: real_or_drawing/train_data/5/2741.bmp  \n",
            "  inflating: real_or_drawing/train_data/5/2742.bmp  \n",
            "  inflating: real_or_drawing/train_data/5/2743.bmp  \n",
            "  inflating: real_or_drawing/train_data/5/2744.bmp  \n",
            "  inflating: real_or_drawing/train_data/5/2745.bmp  \n",
            "  inflating: real_or_drawing/train_data/5/2746.bmp  \n",
            "  inflating: real_or_drawing/train_data/5/2747.bmp  \n",
            "  inflating: real_or_drawing/train_data/5/2748.bmp  \n",
            "  inflating: real_or_drawing/train_data/5/2749.bmp  \n",
            "  inflating: real_or_drawing/train_data/5/2750.bmp  \n",
            "  inflating: real_or_drawing/train_data/5/2751.bmp  \n",
            "  inflating: real_or_drawing/train_data/5/2752.bmp  \n",
            "  inflating: real_or_drawing/train_data/5/2753.bmp  \n",
            "  inflating: real_or_drawing/train_data/5/2754.bmp  \n",
            "  inflating: real_or_drawing/train_data/5/2755.bmp  \n",
            "  inflating: real_or_drawing/train_data/5/2756.bmp  \n",
            "  inflating: real_or_drawing/train_data/5/2757.bmp  \n",
            "  inflating: real_or_drawing/train_data/5/2758.bmp  \n",
            "  inflating: real_or_drawing/train_data/5/2759.bmp  \n",
            "  inflating: real_or_drawing/train_data/5/2760.bmp  \n",
            "  inflating: real_or_drawing/train_data/5/2761.bmp  \n",
            "  inflating: real_or_drawing/train_data/5/2762.bmp  \n",
            "  inflating: real_or_drawing/train_data/5/2763.bmp  \n",
            "  inflating: real_or_drawing/train_data/5/2764.bmp  \n",
            "  inflating: real_or_drawing/train_data/5/2765.bmp  \n",
            "  inflating: real_or_drawing/train_data/5/2766.bmp  \n",
            "  inflating: real_or_drawing/train_data/5/2767.bmp  \n",
            "  inflating: real_or_drawing/train_data/5/2768.bmp  \n",
            "  inflating: real_or_drawing/train_data/5/2769.bmp  \n",
            "  inflating: real_or_drawing/train_data/5/2770.bmp  \n",
            "  inflating: real_or_drawing/train_data/5/2771.bmp  \n",
            "  inflating: real_or_drawing/train_data/5/2772.bmp  \n",
            "  inflating: real_or_drawing/train_data/5/2773.bmp  \n",
            "  inflating: real_or_drawing/train_data/5/2774.bmp  \n",
            "  inflating: real_or_drawing/train_data/5/2775.bmp  \n",
            "  inflating: real_or_drawing/train_data/5/2776.bmp  \n",
            "  inflating: real_or_drawing/train_data/5/2777.bmp  \n",
            "  inflating: real_or_drawing/train_data/5/2778.bmp  \n",
            "  inflating: real_or_drawing/train_data/5/2779.bmp  \n",
            "  inflating: real_or_drawing/train_data/5/2780.bmp  \n",
            "  inflating: real_or_drawing/train_data/5/2781.bmp  \n",
            "  inflating: real_or_drawing/train_data/5/2782.bmp  \n",
            "  inflating: real_or_drawing/train_data/5/2783.bmp  \n",
            "  inflating: real_or_drawing/train_data/5/2784.bmp  \n",
            "  inflating: real_or_drawing/train_data/5/2785.bmp  \n",
            "  inflating: real_or_drawing/train_data/5/2786.bmp  \n",
            "  inflating: real_or_drawing/train_data/5/2787.bmp  \n",
            "  inflating: real_or_drawing/train_data/5/2788.bmp  \n",
            "  inflating: real_or_drawing/train_data/5/2789.bmp  \n",
            "  inflating: real_or_drawing/train_data/5/2790.bmp  \n",
            "  inflating: real_or_drawing/train_data/5/2791.bmp  \n",
            "  inflating: real_or_drawing/train_data/5/2792.bmp  \n",
            "  inflating: real_or_drawing/train_data/5/2793.bmp  \n",
            "  inflating: real_or_drawing/train_data/5/2794.bmp  \n",
            "  inflating: real_or_drawing/train_data/5/2795.bmp  \n",
            "  inflating: real_or_drawing/train_data/5/2796.bmp  \n",
            "  inflating: real_or_drawing/train_data/5/2797.bmp  \n",
            "  inflating: real_or_drawing/train_data/5/2798.bmp  \n",
            "  inflating: real_or_drawing/train_data/5/2799.bmp  \n",
            "  inflating: real_or_drawing/train_data/5/2800.bmp  \n",
            "  inflating: real_or_drawing/train_data/5/2801.bmp  \n",
            "  inflating: real_or_drawing/train_data/5/2802.bmp  \n",
            "  inflating: real_or_drawing/train_data/5/2803.bmp  \n",
            "  inflating: real_or_drawing/train_data/5/2804.bmp  \n",
            "  inflating: real_or_drawing/train_data/5/2805.bmp  \n",
            "  inflating: real_or_drawing/train_data/5/2806.bmp  \n",
            "  inflating: real_or_drawing/train_data/5/2807.bmp  \n",
            "  inflating: real_or_drawing/train_data/5/2808.bmp  \n",
            "  inflating: real_or_drawing/train_data/5/2809.bmp  \n",
            "  inflating: real_or_drawing/train_data/5/2810.bmp  \n",
            "  inflating: real_or_drawing/train_data/5/2811.bmp  \n",
            "  inflating: real_or_drawing/train_data/5/2812.bmp  \n",
            "  inflating: real_or_drawing/train_data/5/2813.bmp  \n",
            "  inflating: real_or_drawing/train_data/5/2814.bmp  \n",
            "  inflating: real_or_drawing/train_data/5/2815.bmp  \n",
            "  inflating: real_or_drawing/train_data/5/2816.bmp  \n",
            "  inflating: real_or_drawing/train_data/5/2817.bmp  \n",
            "  inflating: real_or_drawing/train_data/5/2818.bmp  \n",
            "  inflating: real_or_drawing/train_data/5/2819.bmp  \n",
            "  inflating: real_or_drawing/train_data/5/2820.bmp  \n",
            "  inflating: real_or_drawing/train_data/5/2821.bmp  \n",
            "  inflating: real_or_drawing/train_data/5/2822.bmp  \n",
            "  inflating: real_or_drawing/train_data/5/2823.bmp  \n",
            "  inflating: real_or_drawing/train_data/5/2824.bmp  \n",
            "  inflating: real_or_drawing/train_data/5/2825.bmp  \n",
            "  inflating: real_or_drawing/train_data/5/2826.bmp  \n",
            "  inflating: real_or_drawing/train_data/5/2827.bmp  \n",
            "  inflating: real_or_drawing/train_data/5/2828.bmp  \n",
            "  inflating: real_or_drawing/train_data/5/2829.bmp  \n",
            "  inflating: real_or_drawing/train_data/5/2830.bmp  \n",
            "  inflating: real_or_drawing/train_data/5/2831.bmp  \n",
            "  inflating: real_or_drawing/train_data/5/2832.bmp  \n",
            "  inflating: real_or_drawing/train_data/5/2833.bmp  \n",
            "  inflating: real_or_drawing/train_data/5/2834.bmp  \n",
            "  inflating: real_or_drawing/train_data/5/2835.bmp  \n",
            "  inflating: real_or_drawing/train_data/5/2836.bmp  \n",
            "  inflating: real_or_drawing/train_data/5/2837.bmp  \n",
            "  inflating: real_or_drawing/train_data/5/2838.bmp  \n",
            "  inflating: real_or_drawing/train_data/5/2839.bmp  \n",
            "  inflating: real_or_drawing/train_data/5/2840.bmp  \n",
            "  inflating: real_or_drawing/train_data/5/2841.bmp  \n",
            "  inflating: real_or_drawing/train_data/5/2842.bmp  \n",
            "  inflating: real_or_drawing/train_data/5/2843.bmp  \n",
            "  inflating: real_or_drawing/train_data/5/2844.bmp  \n",
            "  inflating: real_or_drawing/train_data/5/2845.bmp  \n",
            "  inflating: real_or_drawing/train_data/5/2846.bmp  \n",
            "  inflating: real_or_drawing/train_data/5/2847.bmp  \n",
            "  inflating: real_or_drawing/train_data/5/2848.bmp  \n",
            "  inflating: real_or_drawing/train_data/5/2849.bmp  \n",
            "  inflating: real_or_drawing/train_data/5/2850.bmp  \n",
            "  inflating: real_or_drawing/train_data/5/2851.bmp  \n",
            "  inflating: real_or_drawing/train_data/5/2852.bmp  \n",
            "  inflating: real_or_drawing/train_data/5/2853.bmp  \n",
            "  inflating: real_or_drawing/train_data/5/2854.bmp  \n",
            "  inflating: real_or_drawing/train_data/5/2855.bmp  \n",
            "  inflating: real_or_drawing/train_data/5/2856.bmp  \n",
            "  inflating: real_or_drawing/train_data/5/2857.bmp  \n",
            "  inflating: real_or_drawing/train_data/5/2858.bmp  \n",
            "  inflating: real_or_drawing/train_data/5/2859.bmp  \n",
            "  inflating: real_or_drawing/train_data/5/2860.bmp  \n",
            "  inflating: real_or_drawing/train_data/5/2861.bmp  \n",
            "  inflating: real_or_drawing/train_data/5/2862.bmp  \n",
            "  inflating: real_or_drawing/train_data/5/2863.bmp  \n",
            "  inflating: real_or_drawing/train_data/5/2864.bmp  \n",
            "  inflating: real_or_drawing/train_data/5/2865.bmp  \n",
            "  inflating: real_or_drawing/train_data/5/2866.bmp  \n",
            "  inflating: real_or_drawing/train_data/5/2867.bmp  \n",
            "  inflating: real_or_drawing/train_data/5/2868.bmp  \n",
            "  inflating: real_or_drawing/train_data/5/2869.bmp  \n",
            "  inflating: real_or_drawing/train_data/5/2870.bmp  \n",
            "  inflating: real_or_drawing/train_data/5/2871.bmp  \n",
            "  inflating: real_or_drawing/train_data/5/2872.bmp  \n",
            "  inflating: real_or_drawing/train_data/5/2873.bmp  \n",
            "  inflating: real_or_drawing/train_data/5/2874.bmp  \n",
            "  inflating: real_or_drawing/train_data/5/2875.bmp  \n",
            "  inflating: real_or_drawing/train_data/5/2876.bmp  \n",
            "  inflating: real_or_drawing/train_data/5/2877.bmp  \n",
            "  inflating: real_or_drawing/train_data/5/2878.bmp  \n",
            "  inflating: real_or_drawing/train_data/5/2879.bmp  \n",
            "  inflating: real_or_drawing/train_data/5/2880.bmp  \n",
            "  inflating: real_or_drawing/train_data/5/2881.bmp  \n",
            "  inflating: real_or_drawing/train_data/5/2882.bmp  \n",
            "  inflating: real_or_drawing/train_data/5/2883.bmp  \n",
            "  inflating: real_or_drawing/train_data/5/2884.bmp  \n",
            "  inflating: real_or_drawing/train_data/5/2885.bmp  \n",
            "  inflating: real_or_drawing/train_data/5/2886.bmp  \n",
            "  inflating: real_or_drawing/train_data/5/2887.bmp  \n",
            "  inflating: real_or_drawing/train_data/5/2888.bmp  \n",
            "  inflating: real_or_drawing/train_data/5/2889.bmp  \n",
            "  inflating: real_or_drawing/train_data/5/2890.bmp  \n",
            "  inflating: real_or_drawing/train_data/5/2891.bmp  \n",
            "  inflating: real_or_drawing/train_data/5/2892.bmp  \n",
            "  inflating: real_or_drawing/train_data/5/2893.bmp  \n",
            "  inflating: real_or_drawing/train_data/5/2894.bmp  \n",
            "  inflating: real_or_drawing/train_data/5/2895.bmp  \n",
            "  inflating: real_or_drawing/train_data/5/2896.bmp  \n",
            "  inflating: real_or_drawing/train_data/5/2897.bmp  \n",
            "  inflating: real_or_drawing/train_data/5/2898.bmp  \n",
            "  inflating: real_or_drawing/train_data/5/2899.bmp  \n",
            "  inflating: real_or_drawing/train_data/5/2900.bmp  \n",
            "  inflating: real_or_drawing/train_data/5/2901.bmp  \n",
            "  inflating: real_or_drawing/train_data/5/2902.bmp  \n",
            "  inflating: real_or_drawing/train_data/5/2903.bmp  \n",
            "  inflating: real_or_drawing/train_data/5/2904.bmp  \n",
            "  inflating: real_or_drawing/train_data/5/2905.bmp  \n",
            "  inflating: real_or_drawing/train_data/5/2906.bmp  \n",
            "  inflating: real_or_drawing/train_data/5/2907.bmp  \n",
            "  inflating: real_or_drawing/train_data/5/2908.bmp  \n",
            "  inflating: real_or_drawing/train_data/5/2909.bmp  \n",
            "  inflating: real_or_drawing/train_data/5/2910.bmp  \n",
            "  inflating: real_or_drawing/train_data/5/2911.bmp  \n",
            "  inflating: real_or_drawing/train_data/5/2912.bmp  \n",
            "  inflating: real_or_drawing/train_data/5/2913.bmp  \n",
            "  inflating: real_or_drawing/train_data/5/2914.bmp  \n",
            "  inflating: real_or_drawing/train_data/5/2915.bmp  \n",
            "  inflating: real_or_drawing/train_data/5/2916.bmp  \n",
            "  inflating: real_or_drawing/train_data/5/2917.bmp  \n",
            "  inflating: real_or_drawing/train_data/5/2918.bmp  \n",
            "  inflating: real_or_drawing/train_data/5/2919.bmp  \n",
            "  inflating: real_or_drawing/train_data/5/2920.bmp  \n",
            "  inflating: real_or_drawing/train_data/5/2921.bmp  \n",
            "  inflating: real_or_drawing/train_data/5/2922.bmp  \n",
            "  inflating: real_or_drawing/train_data/5/2923.bmp  \n",
            "  inflating: real_or_drawing/train_data/5/2924.bmp  \n",
            "  inflating: real_or_drawing/train_data/5/2925.bmp  \n",
            "  inflating: real_or_drawing/train_data/5/2926.bmp  \n",
            "  inflating: real_or_drawing/train_data/5/2927.bmp  \n",
            "  inflating: real_or_drawing/train_data/5/2928.bmp  \n",
            "  inflating: real_or_drawing/train_data/5/2929.bmp  \n",
            "  inflating: real_or_drawing/train_data/5/2930.bmp  \n",
            "  inflating: real_or_drawing/train_data/5/2931.bmp  \n",
            "  inflating: real_or_drawing/train_data/5/2932.bmp  \n",
            "  inflating: real_or_drawing/train_data/5/2933.bmp  \n",
            "  inflating: real_or_drawing/train_data/5/2934.bmp  \n",
            "  inflating: real_or_drawing/train_data/5/2935.bmp  \n",
            "  inflating: real_or_drawing/train_data/5/2936.bmp  \n",
            "  inflating: real_or_drawing/train_data/5/2937.bmp  \n",
            "  inflating: real_or_drawing/train_data/5/2938.bmp  \n",
            "  inflating: real_or_drawing/train_data/5/2939.bmp  \n",
            "  inflating: real_or_drawing/train_data/5/2940.bmp  \n",
            "  inflating: real_or_drawing/train_data/5/2941.bmp  \n",
            "  inflating: real_or_drawing/train_data/5/2942.bmp  \n",
            "  inflating: real_or_drawing/train_data/5/2943.bmp  \n",
            "  inflating: real_or_drawing/train_data/5/2944.bmp  \n",
            "  inflating: real_or_drawing/train_data/5/2945.bmp  \n",
            "  inflating: real_or_drawing/train_data/5/2946.bmp  \n",
            "  inflating: real_or_drawing/train_data/5/2947.bmp  \n",
            "  inflating: real_or_drawing/train_data/5/2948.bmp  \n",
            "  inflating: real_or_drawing/train_data/5/2949.bmp  \n",
            "  inflating: real_or_drawing/train_data/5/2950.bmp  \n",
            "  inflating: real_or_drawing/train_data/5/2951.bmp  \n",
            "  inflating: real_or_drawing/train_data/5/2952.bmp  \n",
            "  inflating: real_or_drawing/train_data/5/2953.bmp  \n",
            "  inflating: real_or_drawing/train_data/5/2954.bmp  \n",
            "  inflating: real_or_drawing/train_data/5/2955.bmp  \n",
            "  inflating: real_or_drawing/train_data/5/2956.bmp  \n",
            "  inflating: real_or_drawing/train_data/5/2957.bmp  \n",
            "  inflating: real_or_drawing/train_data/5/2958.bmp  \n",
            "  inflating: real_or_drawing/train_data/5/2959.bmp  \n",
            "  inflating: real_or_drawing/train_data/5/2960.bmp  \n",
            "  inflating: real_or_drawing/train_data/5/2961.bmp  \n",
            "  inflating: real_or_drawing/train_data/5/2962.bmp  \n",
            "  inflating: real_or_drawing/train_data/5/2963.bmp  \n",
            "  inflating: real_or_drawing/train_data/5/2964.bmp  \n",
            "  inflating: real_or_drawing/train_data/5/2965.bmp  \n",
            "  inflating: real_or_drawing/train_data/5/2966.bmp  \n",
            "  inflating: real_or_drawing/train_data/5/2967.bmp  \n",
            "  inflating: real_or_drawing/train_data/5/2968.bmp  \n",
            "  inflating: real_or_drawing/train_data/5/2969.bmp  \n",
            "  inflating: real_or_drawing/train_data/5/2970.bmp  \n",
            "  inflating: real_or_drawing/train_data/5/2971.bmp  \n",
            "  inflating: real_or_drawing/train_data/5/2972.bmp  \n",
            "  inflating: real_or_drawing/train_data/5/2973.bmp  \n",
            "  inflating: real_or_drawing/train_data/5/2974.bmp  \n",
            "  inflating: real_or_drawing/train_data/5/2975.bmp  \n",
            "  inflating: real_or_drawing/train_data/5/2976.bmp  \n",
            "  inflating: real_or_drawing/train_data/5/2977.bmp  \n",
            "  inflating: real_or_drawing/train_data/5/2978.bmp  \n",
            "  inflating: real_or_drawing/train_data/5/2979.bmp  \n",
            "  inflating: real_or_drawing/train_data/5/2980.bmp  \n",
            "  inflating: real_or_drawing/train_data/5/2981.bmp  \n",
            "  inflating: real_or_drawing/train_data/5/2982.bmp  \n",
            "  inflating: real_or_drawing/train_data/5/2983.bmp  \n",
            "  inflating: real_or_drawing/train_data/5/2984.bmp  \n",
            "  inflating: real_or_drawing/train_data/5/2985.bmp  \n",
            "  inflating: real_or_drawing/train_data/5/2986.bmp  \n",
            "  inflating: real_or_drawing/train_data/5/2987.bmp  \n",
            "  inflating: real_or_drawing/train_data/5/2988.bmp  \n",
            "  inflating: real_or_drawing/train_data/5/2989.bmp  \n",
            "  inflating: real_or_drawing/train_data/5/2990.bmp  \n",
            "  inflating: real_or_drawing/train_data/5/2991.bmp  \n",
            "  inflating: real_or_drawing/train_data/5/2992.bmp  \n",
            "  inflating: real_or_drawing/train_data/5/2993.bmp  \n",
            "  inflating: real_or_drawing/train_data/5/2994.bmp  \n",
            "  inflating: real_or_drawing/train_data/5/2995.bmp  \n",
            "  inflating: real_or_drawing/train_data/5/2996.bmp  \n",
            "  inflating: real_or_drawing/train_data/5/2997.bmp  \n",
            "  inflating: real_or_drawing/train_data/5/2998.bmp  \n",
            "  inflating: real_or_drawing/train_data/5/2999.bmp  \n",
            "   creating: real_or_drawing/train_data/6/\n",
            "  inflating: real_or_drawing/train_data/6/3000.bmp  \n",
            "  inflating: real_or_drawing/train_data/6/3001.bmp  \n",
            "  inflating: real_or_drawing/train_data/6/3002.bmp  \n",
            "  inflating: real_or_drawing/train_data/6/3003.bmp  \n",
            "  inflating: real_or_drawing/train_data/6/3004.bmp  \n",
            "  inflating: real_or_drawing/train_data/6/3005.bmp  \n",
            "  inflating: real_or_drawing/train_data/6/3006.bmp  \n",
            "  inflating: real_or_drawing/train_data/6/3007.bmp  \n",
            "  inflating: real_or_drawing/train_data/6/3008.bmp  \n",
            "  inflating: real_or_drawing/train_data/6/3009.bmp  \n",
            "  inflating: real_or_drawing/train_data/6/3010.bmp  \n",
            "  inflating: real_or_drawing/train_data/6/3011.bmp  \n",
            "  inflating: real_or_drawing/train_data/6/3012.bmp  \n",
            "  inflating: real_or_drawing/train_data/6/3013.bmp  \n",
            "  inflating: real_or_drawing/train_data/6/3014.bmp  \n",
            "  inflating: real_or_drawing/train_data/6/3015.bmp  \n",
            "  inflating: real_or_drawing/train_data/6/3016.bmp  \n",
            "  inflating: real_or_drawing/train_data/6/3017.bmp  \n",
            "  inflating: real_or_drawing/train_data/6/3018.bmp  \n",
            "  inflating: real_or_drawing/train_data/6/3019.bmp  \n",
            "  inflating: real_or_drawing/train_data/6/3020.bmp  \n",
            "  inflating: real_or_drawing/train_data/6/3021.bmp  \n",
            "  inflating: real_or_drawing/train_data/6/3022.bmp  \n",
            "  inflating: real_or_drawing/train_data/6/3023.bmp  \n",
            "  inflating: real_or_drawing/train_data/6/3024.bmp  \n",
            "  inflating: real_or_drawing/train_data/6/3025.bmp  \n",
            "  inflating: real_or_drawing/train_data/6/3026.bmp  \n",
            "  inflating: real_or_drawing/train_data/6/3027.bmp  \n",
            "  inflating: real_or_drawing/train_data/6/3028.bmp  \n",
            "  inflating: real_or_drawing/train_data/6/3029.bmp  \n",
            "  inflating: real_or_drawing/train_data/6/3030.bmp  \n",
            "  inflating: real_or_drawing/train_data/6/3031.bmp  \n",
            "  inflating: real_or_drawing/train_data/6/3032.bmp  \n",
            "  inflating: real_or_drawing/train_data/6/3033.bmp  \n",
            "  inflating: real_or_drawing/train_data/6/3034.bmp  \n",
            "  inflating: real_or_drawing/train_data/6/3035.bmp  \n",
            "  inflating: real_or_drawing/train_data/6/3036.bmp  \n",
            "  inflating: real_or_drawing/train_data/6/3037.bmp  \n",
            "  inflating: real_or_drawing/train_data/6/3038.bmp  \n",
            "  inflating: real_or_drawing/train_data/6/3039.bmp  \n",
            "  inflating: real_or_drawing/train_data/6/3040.bmp  \n",
            "  inflating: real_or_drawing/train_data/6/3041.bmp  \n",
            "  inflating: real_or_drawing/train_data/6/3042.bmp  \n",
            "  inflating: real_or_drawing/train_data/6/3043.bmp  \n",
            "  inflating: real_or_drawing/train_data/6/3044.bmp  \n",
            "  inflating: real_or_drawing/train_data/6/3045.bmp  \n",
            "  inflating: real_or_drawing/train_data/6/3046.bmp  \n",
            "  inflating: real_or_drawing/train_data/6/3047.bmp  \n",
            "  inflating: real_or_drawing/train_data/6/3048.bmp  \n",
            "  inflating: real_or_drawing/train_data/6/3049.bmp  \n",
            "  inflating: real_or_drawing/train_data/6/3050.bmp  \n",
            "  inflating: real_or_drawing/train_data/6/3051.bmp  \n",
            "  inflating: real_or_drawing/train_data/6/3052.bmp  \n",
            "  inflating: real_or_drawing/train_data/6/3053.bmp  \n",
            "  inflating: real_or_drawing/train_data/6/3054.bmp  \n",
            "  inflating: real_or_drawing/train_data/6/3055.bmp  \n",
            "  inflating: real_or_drawing/train_data/6/3056.bmp  \n",
            "  inflating: real_or_drawing/train_data/6/3057.bmp  \n",
            "  inflating: real_or_drawing/train_data/6/3058.bmp  \n",
            "  inflating: real_or_drawing/train_data/6/3059.bmp  \n",
            "  inflating: real_or_drawing/train_data/6/3060.bmp  \n",
            "  inflating: real_or_drawing/train_data/6/3061.bmp  \n",
            "  inflating: real_or_drawing/train_data/6/3062.bmp  \n",
            "  inflating: real_or_drawing/train_data/6/3063.bmp  \n",
            "  inflating: real_or_drawing/train_data/6/3064.bmp  \n",
            "  inflating: real_or_drawing/train_data/6/3065.bmp  \n",
            "  inflating: real_or_drawing/train_data/6/3066.bmp  \n",
            "  inflating: real_or_drawing/train_data/6/3067.bmp  \n",
            "  inflating: real_or_drawing/train_data/6/3068.bmp  \n",
            "  inflating: real_or_drawing/train_data/6/3069.bmp  \n",
            "  inflating: real_or_drawing/train_data/6/3070.bmp  \n",
            "  inflating: real_or_drawing/train_data/6/3071.bmp  \n",
            "  inflating: real_or_drawing/train_data/6/3072.bmp  \n",
            "  inflating: real_or_drawing/train_data/6/3073.bmp  \n",
            "  inflating: real_or_drawing/train_data/6/3074.bmp  \n",
            "  inflating: real_or_drawing/train_data/6/3075.bmp  \n",
            "  inflating: real_or_drawing/train_data/6/3076.bmp  \n",
            "  inflating: real_or_drawing/train_data/6/3077.bmp  \n",
            "  inflating: real_or_drawing/train_data/6/3078.bmp  \n",
            "  inflating: real_or_drawing/train_data/6/3079.bmp  \n",
            "  inflating: real_or_drawing/train_data/6/3080.bmp  \n",
            "  inflating: real_or_drawing/train_data/6/3081.bmp  \n",
            "  inflating: real_or_drawing/train_data/6/3082.bmp  \n",
            "  inflating: real_or_drawing/train_data/6/3083.bmp  \n",
            "  inflating: real_or_drawing/train_data/6/3084.bmp  \n",
            "  inflating: real_or_drawing/train_data/6/3085.bmp  \n",
            "  inflating: real_or_drawing/train_data/6/3086.bmp  \n",
            "  inflating: real_or_drawing/train_data/6/3087.bmp  \n",
            "  inflating: real_or_drawing/train_data/6/3088.bmp  \n",
            "  inflating: real_or_drawing/train_data/6/3089.bmp  \n",
            "  inflating: real_or_drawing/train_data/6/3090.bmp  \n",
            "  inflating: real_or_drawing/train_data/6/3091.bmp  \n",
            "  inflating: real_or_drawing/train_data/6/3092.bmp  \n",
            "  inflating: real_or_drawing/train_data/6/3093.bmp  \n",
            "  inflating: real_or_drawing/train_data/6/3094.bmp  \n",
            "  inflating: real_or_drawing/train_data/6/3095.bmp  \n",
            "  inflating: real_or_drawing/train_data/6/3096.bmp  \n",
            "  inflating: real_or_drawing/train_data/6/3097.bmp  \n",
            "  inflating: real_or_drawing/train_data/6/3098.bmp  \n",
            "  inflating: real_or_drawing/train_data/6/3099.bmp  \n",
            "  inflating: real_or_drawing/train_data/6/3100.bmp  \n",
            "  inflating: real_or_drawing/train_data/6/3101.bmp  \n",
            "  inflating: real_or_drawing/train_data/6/3102.bmp  \n",
            "  inflating: real_or_drawing/train_data/6/3103.bmp  \n",
            "  inflating: real_or_drawing/train_data/6/3104.bmp  \n",
            "  inflating: real_or_drawing/train_data/6/3105.bmp  \n",
            "  inflating: real_or_drawing/train_data/6/3106.bmp  \n",
            "  inflating: real_or_drawing/train_data/6/3107.bmp  \n",
            "  inflating: real_or_drawing/train_data/6/3108.bmp  \n",
            "  inflating: real_or_drawing/train_data/6/3109.bmp  \n",
            "  inflating: real_or_drawing/train_data/6/3110.bmp  \n",
            "  inflating: real_or_drawing/train_data/6/3111.bmp  \n",
            "  inflating: real_or_drawing/train_data/6/3112.bmp  \n",
            "  inflating: real_or_drawing/train_data/6/3113.bmp  \n",
            "  inflating: real_or_drawing/train_data/6/3114.bmp  \n",
            "  inflating: real_or_drawing/train_data/6/3115.bmp  \n",
            "  inflating: real_or_drawing/train_data/6/3116.bmp  \n",
            "  inflating: real_or_drawing/train_data/6/3117.bmp  \n",
            "  inflating: real_or_drawing/train_data/6/3118.bmp  \n",
            "  inflating: real_or_drawing/train_data/6/3119.bmp  \n",
            "  inflating: real_or_drawing/train_data/6/3120.bmp  \n",
            "  inflating: real_or_drawing/train_data/6/3121.bmp  \n",
            "  inflating: real_or_drawing/train_data/6/3122.bmp  \n",
            "  inflating: real_or_drawing/train_data/6/3123.bmp  \n",
            "  inflating: real_or_drawing/train_data/6/3124.bmp  \n",
            "  inflating: real_or_drawing/train_data/6/3125.bmp  \n",
            "  inflating: real_or_drawing/train_data/6/3126.bmp  \n",
            "  inflating: real_or_drawing/train_data/6/3127.bmp  \n",
            "  inflating: real_or_drawing/train_data/6/3128.bmp  \n",
            "  inflating: real_or_drawing/train_data/6/3129.bmp  \n",
            "  inflating: real_or_drawing/train_data/6/3130.bmp  \n",
            "  inflating: real_or_drawing/train_data/6/3131.bmp  \n",
            "  inflating: real_or_drawing/train_data/6/3132.bmp  \n",
            "  inflating: real_or_drawing/train_data/6/3133.bmp  \n",
            "  inflating: real_or_drawing/train_data/6/3134.bmp  \n",
            "  inflating: real_or_drawing/train_data/6/3135.bmp  \n",
            "  inflating: real_or_drawing/train_data/6/3136.bmp  \n",
            "  inflating: real_or_drawing/train_data/6/3137.bmp  \n",
            "  inflating: real_or_drawing/train_data/6/3138.bmp  \n",
            "  inflating: real_or_drawing/train_data/6/3139.bmp  \n",
            "  inflating: real_or_drawing/train_data/6/3140.bmp  \n",
            "  inflating: real_or_drawing/train_data/6/3141.bmp  \n",
            "  inflating: real_or_drawing/train_data/6/3142.bmp  \n",
            "  inflating: real_or_drawing/train_data/6/3143.bmp  \n",
            "  inflating: real_or_drawing/train_data/6/3144.bmp  \n",
            "  inflating: real_or_drawing/train_data/6/3145.bmp  \n",
            "  inflating: real_or_drawing/train_data/6/3146.bmp  \n",
            "  inflating: real_or_drawing/train_data/6/3147.bmp  \n",
            "  inflating: real_or_drawing/train_data/6/3148.bmp  \n",
            "  inflating: real_or_drawing/train_data/6/3149.bmp  \n",
            "  inflating: real_or_drawing/train_data/6/3150.bmp  \n",
            "  inflating: real_or_drawing/train_data/6/3151.bmp  \n",
            "  inflating: real_or_drawing/train_data/6/3152.bmp  \n",
            "  inflating: real_or_drawing/train_data/6/3153.bmp  \n",
            "  inflating: real_or_drawing/train_data/6/3154.bmp  \n",
            "  inflating: real_or_drawing/train_data/6/3155.bmp  \n",
            "  inflating: real_or_drawing/train_data/6/3156.bmp  \n",
            "  inflating: real_or_drawing/train_data/6/3157.bmp  \n",
            "  inflating: real_or_drawing/train_data/6/3158.bmp  \n",
            "  inflating: real_or_drawing/train_data/6/3159.bmp  \n",
            "  inflating: real_or_drawing/train_data/6/3160.bmp  \n",
            "  inflating: real_or_drawing/train_data/6/3161.bmp  \n",
            "  inflating: real_or_drawing/train_data/6/3162.bmp  \n",
            "  inflating: real_or_drawing/train_data/6/3163.bmp  \n",
            "  inflating: real_or_drawing/train_data/6/3164.bmp  \n",
            "  inflating: real_or_drawing/train_data/6/3165.bmp  \n",
            "  inflating: real_or_drawing/train_data/6/3166.bmp  \n",
            "  inflating: real_or_drawing/train_data/6/3167.bmp  \n",
            "  inflating: real_or_drawing/train_data/6/3168.bmp  \n",
            "  inflating: real_or_drawing/train_data/6/3169.bmp  \n",
            "  inflating: real_or_drawing/train_data/6/3170.bmp  \n",
            "  inflating: real_or_drawing/train_data/6/3171.bmp  \n",
            "  inflating: real_or_drawing/train_data/6/3172.bmp  \n",
            "  inflating: real_or_drawing/train_data/6/3173.bmp  \n",
            "  inflating: real_or_drawing/train_data/6/3174.bmp  \n",
            "  inflating: real_or_drawing/train_data/6/3175.bmp  \n",
            "  inflating: real_or_drawing/train_data/6/3176.bmp  \n",
            "  inflating: real_or_drawing/train_data/6/3177.bmp  \n",
            "  inflating: real_or_drawing/train_data/6/3178.bmp  \n",
            "  inflating: real_or_drawing/train_data/6/3179.bmp  \n",
            "  inflating: real_or_drawing/train_data/6/3180.bmp  \n",
            "  inflating: real_or_drawing/train_data/6/3181.bmp  \n",
            "  inflating: real_or_drawing/train_data/6/3182.bmp  \n",
            "  inflating: real_or_drawing/train_data/6/3183.bmp  \n",
            "  inflating: real_or_drawing/train_data/6/3184.bmp  \n",
            "  inflating: real_or_drawing/train_data/6/3185.bmp  \n",
            "  inflating: real_or_drawing/train_data/6/3186.bmp  \n",
            "  inflating: real_or_drawing/train_data/6/3187.bmp  \n",
            "  inflating: real_or_drawing/train_data/6/3188.bmp  \n",
            "  inflating: real_or_drawing/train_data/6/3189.bmp  \n",
            "  inflating: real_or_drawing/train_data/6/3190.bmp  \n",
            "  inflating: real_or_drawing/train_data/6/3191.bmp  \n",
            "  inflating: real_or_drawing/train_data/6/3192.bmp  \n",
            "  inflating: real_or_drawing/train_data/6/3193.bmp  \n",
            "  inflating: real_or_drawing/train_data/6/3194.bmp  \n",
            "  inflating: real_or_drawing/train_data/6/3195.bmp  \n",
            "  inflating: real_or_drawing/train_data/6/3196.bmp  \n",
            "  inflating: real_or_drawing/train_data/6/3197.bmp  \n",
            "  inflating: real_or_drawing/train_data/6/3198.bmp  \n",
            "  inflating: real_or_drawing/train_data/6/3199.bmp  \n",
            "  inflating: real_or_drawing/train_data/6/3200.bmp  \n",
            "  inflating: real_or_drawing/train_data/6/3201.bmp  \n",
            "  inflating: real_or_drawing/train_data/6/3202.bmp  \n",
            "  inflating: real_or_drawing/train_data/6/3203.bmp  \n",
            "  inflating: real_or_drawing/train_data/6/3204.bmp  \n",
            "  inflating: real_or_drawing/train_data/6/3205.bmp  \n",
            "  inflating: real_or_drawing/train_data/6/3206.bmp  \n",
            "  inflating: real_or_drawing/train_data/6/3207.bmp  \n",
            "  inflating: real_or_drawing/train_data/6/3208.bmp  \n",
            "  inflating: real_or_drawing/train_data/6/3209.bmp  \n",
            "  inflating: real_or_drawing/train_data/6/3210.bmp  \n",
            "  inflating: real_or_drawing/train_data/6/3211.bmp  \n",
            "  inflating: real_or_drawing/train_data/6/3212.bmp  \n",
            "  inflating: real_or_drawing/train_data/6/3213.bmp  \n",
            "  inflating: real_or_drawing/train_data/6/3214.bmp  \n",
            "  inflating: real_or_drawing/train_data/6/3215.bmp  \n",
            "  inflating: real_or_drawing/train_data/6/3216.bmp  \n",
            "  inflating: real_or_drawing/train_data/6/3217.bmp  \n",
            "  inflating: real_or_drawing/train_data/6/3218.bmp  \n",
            "  inflating: real_or_drawing/train_data/6/3219.bmp  \n",
            "  inflating: real_or_drawing/train_data/6/3220.bmp  \n",
            "  inflating: real_or_drawing/train_data/6/3221.bmp  \n",
            "  inflating: real_or_drawing/train_data/6/3222.bmp  \n",
            "  inflating: real_or_drawing/train_data/6/3223.bmp  \n",
            "  inflating: real_or_drawing/train_data/6/3224.bmp  \n",
            "  inflating: real_or_drawing/train_data/6/3225.bmp  \n",
            "  inflating: real_or_drawing/train_data/6/3226.bmp  \n",
            "  inflating: real_or_drawing/train_data/6/3227.bmp  \n",
            "  inflating: real_or_drawing/train_data/6/3228.bmp  \n",
            "  inflating: real_or_drawing/train_data/6/3229.bmp  \n",
            "  inflating: real_or_drawing/train_data/6/3230.bmp  \n",
            "  inflating: real_or_drawing/train_data/6/3231.bmp  \n",
            "  inflating: real_or_drawing/train_data/6/3232.bmp  \n",
            "  inflating: real_or_drawing/train_data/6/3233.bmp  \n",
            "  inflating: real_or_drawing/train_data/6/3234.bmp  \n",
            "  inflating: real_or_drawing/train_data/6/3235.bmp  \n",
            "  inflating: real_or_drawing/train_data/6/3236.bmp  \n",
            "  inflating: real_or_drawing/train_data/6/3237.bmp  \n",
            "  inflating: real_or_drawing/train_data/6/3238.bmp  \n",
            "  inflating: real_or_drawing/train_data/6/3239.bmp  \n",
            "  inflating: real_or_drawing/train_data/6/3240.bmp  \n",
            "  inflating: real_or_drawing/train_data/6/3241.bmp  \n",
            "  inflating: real_or_drawing/train_data/6/3242.bmp  \n",
            "  inflating: real_or_drawing/train_data/6/3243.bmp  \n",
            "  inflating: real_or_drawing/train_data/6/3244.bmp  \n",
            "  inflating: real_or_drawing/train_data/6/3245.bmp  \n",
            "  inflating: real_or_drawing/train_data/6/3246.bmp  \n",
            "  inflating: real_or_drawing/train_data/6/3247.bmp  \n",
            "  inflating: real_or_drawing/train_data/6/3248.bmp  \n",
            "  inflating: real_or_drawing/train_data/6/3249.bmp  \n",
            "  inflating: real_or_drawing/train_data/6/3250.bmp  \n",
            "  inflating: real_or_drawing/train_data/6/3251.bmp  \n",
            "  inflating: real_or_drawing/train_data/6/3252.bmp  \n",
            "  inflating: real_or_drawing/train_data/6/3253.bmp  \n",
            "  inflating: real_or_drawing/train_data/6/3254.bmp  \n",
            "  inflating: real_or_drawing/train_data/6/3255.bmp  \n",
            "  inflating: real_or_drawing/train_data/6/3256.bmp  \n",
            "  inflating: real_or_drawing/train_data/6/3257.bmp  \n",
            "  inflating: real_or_drawing/train_data/6/3258.bmp  \n",
            "  inflating: real_or_drawing/train_data/6/3259.bmp  \n",
            "  inflating: real_or_drawing/train_data/6/3260.bmp  \n",
            "  inflating: real_or_drawing/train_data/6/3261.bmp  \n",
            "  inflating: real_or_drawing/train_data/6/3262.bmp  \n",
            "  inflating: real_or_drawing/train_data/6/3263.bmp  \n",
            "  inflating: real_or_drawing/train_data/6/3264.bmp  \n",
            "  inflating: real_or_drawing/train_data/6/3265.bmp  \n",
            "  inflating: real_or_drawing/train_data/6/3266.bmp  \n",
            "  inflating: real_or_drawing/train_data/6/3267.bmp  \n",
            "  inflating: real_or_drawing/train_data/6/3268.bmp  \n",
            "  inflating: real_or_drawing/train_data/6/3269.bmp  \n",
            "  inflating: real_or_drawing/train_data/6/3270.bmp  \n",
            "  inflating: real_or_drawing/train_data/6/3271.bmp  \n",
            "  inflating: real_or_drawing/train_data/6/3272.bmp  \n",
            "  inflating: real_or_drawing/train_data/6/3273.bmp  \n",
            "  inflating: real_or_drawing/train_data/6/3274.bmp  \n",
            "  inflating: real_or_drawing/train_data/6/3275.bmp  \n",
            "  inflating: real_or_drawing/train_data/6/3276.bmp  \n",
            "  inflating: real_or_drawing/train_data/6/3277.bmp  \n",
            "  inflating: real_or_drawing/train_data/6/3278.bmp  \n",
            "  inflating: real_or_drawing/train_data/6/3279.bmp  \n",
            "  inflating: real_or_drawing/train_data/6/3280.bmp  \n",
            "  inflating: real_or_drawing/train_data/6/3281.bmp  \n",
            "  inflating: real_or_drawing/train_data/6/3282.bmp  \n",
            "  inflating: real_or_drawing/train_data/6/3283.bmp  \n",
            "  inflating: real_or_drawing/train_data/6/3284.bmp  \n",
            "  inflating: real_or_drawing/train_data/6/3285.bmp  \n",
            "  inflating: real_or_drawing/train_data/6/3286.bmp  \n",
            "  inflating: real_or_drawing/train_data/6/3287.bmp  \n",
            "  inflating: real_or_drawing/train_data/6/3288.bmp  \n",
            "  inflating: real_or_drawing/train_data/6/3289.bmp  \n",
            "  inflating: real_or_drawing/train_data/6/3290.bmp  \n",
            "  inflating: real_or_drawing/train_data/6/3291.bmp  \n",
            "  inflating: real_or_drawing/train_data/6/3292.bmp  \n",
            "  inflating: real_or_drawing/train_data/6/3293.bmp  \n",
            "  inflating: real_or_drawing/train_data/6/3294.bmp  \n",
            "  inflating: real_or_drawing/train_data/6/3295.bmp  \n",
            "  inflating: real_or_drawing/train_data/6/3296.bmp  \n",
            "  inflating: real_or_drawing/train_data/6/3297.bmp  \n",
            "  inflating: real_or_drawing/train_data/6/3298.bmp  \n",
            "  inflating: real_or_drawing/train_data/6/3299.bmp  \n",
            "  inflating: real_or_drawing/train_data/6/3300.bmp  \n",
            "  inflating: real_or_drawing/train_data/6/3301.bmp  \n",
            "  inflating: real_or_drawing/train_data/6/3302.bmp  \n",
            "  inflating: real_or_drawing/train_data/6/3303.bmp  \n",
            "  inflating: real_or_drawing/train_data/6/3304.bmp  \n",
            "  inflating: real_or_drawing/train_data/6/3305.bmp  \n",
            "  inflating: real_or_drawing/train_data/6/3306.bmp  \n",
            "  inflating: real_or_drawing/train_data/6/3307.bmp  \n",
            "  inflating: real_or_drawing/train_data/6/3308.bmp  \n",
            "  inflating: real_or_drawing/train_data/6/3309.bmp  \n",
            "  inflating: real_or_drawing/train_data/6/3310.bmp  \n",
            "  inflating: real_or_drawing/train_data/6/3311.bmp  \n",
            "  inflating: real_or_drawing/train_data/6/3312.bmp  \n",
            "  inflating: real_or_drawing/train_data/6/3313.bmp  \n",
            "  inflating: real_or_drawing/train_data/6/3314.bmp  \n",
            "  inflating: real_or_drawing/train_data/6/3315.bmp  \n",
            "  inflating: real_or_drawing/train_data/6/3316.bmp  \n",
            "  inflating: real_or_drawing/train_data/6/3317.bmp  \n",
            "  inflating: real_or_drawing/train_data/6/3318.bmp  \n",
            "  inflating: real_or_drawing/train_data/6/3319.bmp  \n",
            "  inflating: real_or_drawing/train_data/6/3320.bmp  \n",
            "  inflating: real_or_drawing/train_data/6/3321.bmp  \n",
            "  inflating: real_or_drawing/train_data/6/3322.bmp  \n",
            "  inflating: real_or_drawing/train_data/6/3323.bmp  \n",
            "  inflating: real_or_drawing/train_data/6/3324.bmp  \n",
            "  inflating: real_or_drawing/train_data/6/3325.bmp  \n",
            "  inflating: real_or_drawing/train_data/6/3326.bmp  \n",
            "  inflating: real_or_drawing/train_data/6/3327.bmp  \n",
            "  inflating: real_or_drawing/train_data/6/3328.bmp  \n",
            "  inflating: real_or_drawing/train_data/6/3329.bmp  \n",
            "  inflating: real_or_drawing/train_data/6/3330.bmp  \n",
            "  inflating: real_or_drawing/train_data/6/3331.bmp  \n",
            "  inflating: real_or_drawing/train_data/6/3332.bmp  \n",
            "  inflating: real_or_drawing/train_data/6/3333.bmp  \n",
            "  inflating: real_or_drawing/train_data/6/3334.bmp  \n",
            "  inflating: real_or_drawing/train_data/6/3335.bmp  \n",
            "  inflating: real_or_drawing/train_data/6/3336.bmp  \n",
            "  inflating: real_or_drawing/train_data/6/3337.bmp  \n",
            "  inflating: real_or_drawing/train_data/6/3338.bmp  \n",
            "  inflating: real_or_drawing/train_data/6/3339.bmp  \n",
            "  inflating: real_or_drawing/train_data/6/3340.bmp  \n",
            "  inflating: real_or_drawing/train_data/6/3341.bmp  \n",
            "  inflating: real_or_drawing/train_data/6/3342.bmp  \n",
            "  inflating: real_or_drawing/train_data/6/3343.bmp  \n",
            "  inflating: real_or_drawing/train_data/6/3344.bmp  \n",
            "  inflating: real_or_drawing/train_data/6/3345.bmp  \n",
            "  inflating: real_or_drawing/train_data/6/3346.bmp  \n",
            "  inflating: real_or_drawing/train_data/6/3347.bmp  \n",
            "  inflating: real_or_drawing/train_data/6/3348.bmp  \n",
            "  inflating: real_or_drawing/train_data/6/3349.bmp  \n",
            "  inflating: real_or_drawing/train_data/6/3350.bmp  \n",
            "  inflating: real_or_drawing/train_data/6/3351.bmp  \n",
            "  inflating: real_or_drawing/train_data/6/3352.bmp  \n",
            "  inflating: real_or_drawing/train_data/6/3353.bmp  \n",
            "  inflating: real_or_drawing/train_data/6/3354.bmp  \n",
            "  inflating: real_or_drawing/train_data/6/3355.bmp  \n",
            "  inflating: real_or_drawing/train_data/6/3356.bmp  \n",
            "  inflating: real_or_drawing/train_data/6/3357.bmp  \n",
            "  inflating: real_or_drawing/train_data/6/3358.bmp  \n",
            "  inflating: real_or_drawing/train_data/6/3359.bmp  \n",
            "  inflating: real_or_drawing/train_data/6/3360.bmp  \n",
            "  inflating: real_or_drawing/train_data/6/3361.bmp  \n",
            "  inflating: real_or_drawing/train_data/6/3362.bmp  \n",
            "  inflating: real_or_drawing/train_data/6/3363.bmp  \n",
            "  inflating: real_or_drawing/train_data/6/3364.bmp  \n",
            "  inflating: real_or_drawing/train_data/6/3365.bmp  \n",
            "  inflating: real_or_drawing/train_data/6/3366.bmp  \n",
            "  inflating: real_or_drawing/train_data/6/3367.bmp  \n",
            "  inflating: real_or_drawing/train_data/6/3368.bmp  \n",
            "  inflating: real_or_drawing/train_data/6/3369.bmp  \n",
            "  inflating: real_or_drawing/train_data/6/3370.bmp  \n",
            "  inflating: real_or_drawing/train_data/6/3371.bmp  \n",
            "  inflating: real_or_drawing/train_data/6/3372.bmp  \n",
            "  inflating: real_or_drawing/train_data/6/3373.bmp  \n",
            "  inflating: real_or_drawing/train_data/6/3374.bmp  \n",
            "  inflating: real_or_drawing/train_data/6/3375.bmp  \n",
            "  inflating: real_or_drawing/train_data/6/3376.bmp  \n",
            "  inflating: real_or_drawing/train_data/6/3377.bmp  \n",
            "  inflating: real_or_drawing/train_data/6/3378.bmp  \n",
            "  inflating: real_or_drawing/train_data/6/3379.bmp  \n",
            "  inflating: real_or_drawing/train_data/6/3380.bmp  \n",
            "  inflating: real_or_drawing/train_data/6/3381.bmp  \n",
            "  inflating: real_or_drawing/train_data/6/3382.bmp  \n",
            "  inflating: real_or_drawing/train_data/6/3383.bmp  \n",
            "  inflating: real_or_drawing/train_data/6/3384.bmp  \n",
            "  inflating: real_or_drawing/train_data/6/3385.bmp  \n",
            "  inflating: real_or_drawing/train_data/6/3386.bmp  \n",
            "  inflating: real_or_drawing/train_data/6/3387.bmp  \n",
            "  inflating: real_or_drawing/train_data/6/3388.bmp  \n",
            "  inflating: real_or_drawing/train_data/6/3389.bmp  \n",
            "  inflating: real_or_drawing/train_data/6/3390.bmp  \n",
            "  inflating: real_or_drawing/train_data/6/3391.bmp  \n",
            "  inflating: real_or_drawing/train_data/6/3392.bmp  \n",
            "  inflating: real_or_drawing/train_data/6/3393.bmp  \n",
            "  inflating: real_or_drawing/train_data/6/3394.bmp  \n",
            "  inflating: real_or_drawing/train_data/6/3395.bmp  \n",
            "  inflating: real_or_drawing/train_data/6/3396.bmp  \n",
            "  inflating: real_or_drawing/train_data/6/3397.bmp  \n",
            "  inflating: real_or_drawing/train_data/6/3398.bmp  \n",
            "  inflating: real_or_drawing/train_data/6/3399.bmp  \n",
            "  inflating: real_or_drawing/train_data/6/3400.bmp  \n",
            "  inflating: real_or_drawing/train_data/6/3401.bmp  \n",
            "  inflating: real_or_drawing/train_data/6/3402.bmp  \n",
            "  inflating: real_or_drawing/train_data/6/3403.bmp  \n",
            "  inflating: real_or_drawing/train_data/6/3404.bmp  \n",
            "  inflating: real_or_drawing/train_data/6/3405.bmp  \n",
            "  inflating: real_or_drawing/train_data/6/3406.bmp  \n",
            "  inflating: real_or_drawing/train_data/6/3407.bmp  \n",
            "  inflating: real_or_drawing/train_data/6/3408.bmp  \n",
            "  inflating: real_or_drawing/train_data/6/3409.bmp  \n",
            "  inflating: real_or_drawing/train_data/6/3410.bmp  \n",
            "  inflating: real_or_drawing/train_data/6/3411.bmp  \n",
            "  inflating: real_or_drawing/train_data/6/3412.bmp  \n",
            "  inflating: real_or_drawing/train_data/6/3413.bmp  \n",
            "  inflating: real_or_drawing/train_data/6/3414.bmp  \n",
            "  inflating: real_or_drawing/train_data/6/3415.bmp  \n",
            "  inflating: real_or_drawing/train_data/6/3416.bmp  \n",
            "  inflating: real_or_drawing/train_data/6/3417.bmp  \n",
            "  inflating: real_or_drawing/train_data/6/3418.bmp  \n",
            "  inflating: real_or_drawing/train_data/6/3419.bmp  \n",
            "  inflating: real_or_drawing/train_data/6/3420.bmp  \n",
            "  inflating: real_or_drawing/train_data/6/3421.bmp  \n",
            "  inflating: real_or_drawing/train_data/6/3422.bmp  \n",
            "  inflating: real_or_drawing/train_data/6/3423.bmp  \n",
            "  inflating: real_or_drawing/train_data/6/3424.bmp  \n",
            "  inflating: real_or_drawing/train_data/6/3425.bmp  \n",
            "  inflating: real_or_drawing/train_data/6/3426.bmp  \n",
            "  inflating: real_or_drawing/train_data/6/3427.bmp  \n",
            "  inflating: real_or_drawing/train_data/6/3428.bmp  \n",
            "  inflating: real_or_drawing/train_data/6/3429.bmp  \n",
            "  inflating: real_or_drawing/train_data/6/3430.bmp  \n",
            "  inflating: real_or_drawing/train_data/6/3431.bmp  \n",
            "  inflating: real_or_drawing/train_data/6/3432.bmp  \n",
            "  inflating: real_or_drawing/train_data/6/3433.bmp  \n",
            "  inflating: real_or_drawing/train_data/6/3434.bmp  \n",
            "  inflating: real_or_drawing/train_data/6/3435.bmp  \n",
            "  inflating: real_or_drawing/train_data/6/3436.bmp  \n",
            "  inflating: real_or_drawing/train_data/6/3437.bmp  \n",
            "  inflating: real_or_drawing/train_data/6/3438.bmp  \n",
            "  inflating: real_or_drawing/train_data/6/3439.bmp  \n",
            "  inflating: real_or_drawing/train_data/6/3440.bmp  \n",
            "  inflating: real_or_drawing/train_data/6/3441.bmp  \n",
            "  inflating: real_or_drawing/train_data/6/3442.bmp  \n",
            "  inflating: real_or_drawing/train_data/6/3443.bmp  \n",
            "  inflating: real_or_drawing/train_data/6/3444.bmp  \n",
            "  inflating: real_or_drawing/train_data/6/3445.bmp  \n",
            "  inflating: real_or_drawing/train_data/6/3446.bmp  \n",
            "  inflating: real_or_drawing/train_data/6/3447.bmp  \n",
            "  inflating: real_or_drawing/train_data/6/3448.bmp  \n",
            "  inflating: real_or_drawing/train_data/6/3449.bmp  \n",
            "  inflating: real_or_drawing/train_data/6/3450.bmp  \n",
            "  inflating: real_or_drawing/train_data/6/3451.bmp  \n",
            "  inflating: real_or_drawing/train_data/6/3452.bmp  \n",
            "  inflating: real_or_drawing/train_data/6/3453.bmp  \n",
            "  inflating: real_or_drawing/train_data/6/3454.bmp  \n",
            "  inflating: real_or_drawing/train_data/6/3455.bmp  \n",
            "  inflating: real_or_drawing/train_data/6/3456.bmp  \n",
            "  inflating: real_or_drawing/train_data/6/3457.bmp  \n",
            "  inflating: real_or_drawing/train_data/6/3458.bmp  \n",
            "  inflating: real_or_drawing/train_data/6/3459.bmp  \n",
            "  inflating: real_or_drawing/train_data/6/3460.bmp  \n",
            "  inflating: real_or_drawing/train_data/6/3461.bmp  \n",
            "  inflating: real_or_drawing/train_data/6/3462.bmp  \n",
            "  inflating: real_or_drawing/train_data/6/3463.bmp  \n",
            "  inflating: real_or_drawing/train_data/6/3464.bmp  \n",
            "  inflating: real_or_drawing/train_data/6/3465.bmp  \n",
            "  inflating: real_or_drawing/train_data/6/3466.bmp  \n",
            "  inflating: real_or_drawing/train_data/6/3467.bmp  \n",
            "  inflating: real_or_drawing/train_data/6/3468.bmp  \n",
            "  inflating: real_or_drawing/train_data/6/3469.bmp  \n",
            "  inflating: real_or_drawing/train_data/6/3470.bmp  \n",
            "  inflating: real_or_drawing/train_data/6/3471.bmp  \n",
            "  inflating: real_or_drawing/train_data/6/3472.bmp  \n",
            "  inflating: real_or_drawing/train_data/6/3473.bmp  \n",
            "  inflating: real_or_drawing/train_data/6/3474.bmp  \n",
            "  inflating: real_or_drawing/train_data/6/3475.bmp  \n",
            "  inflating: real_or_drawing/train_data/6/3476.bmp  \n",
            "  inflating: real_or_drawing/train_data/6/3477.bmp  \n",
            "  inflating: real_or_drawing/train_data/6/3478.bmp  \n",
            "  inflating: real_or_drawing/train_data/6/3479.bmp  \n",
            "  inflating: real_or_drawing/train_data/6/3480.bmp  \n",
            "  inflating: real_or_drawing/train_data/6/3481.bmp  \n",
            "  inflating: real_or_drawing/train_data/6/3482.bmp  \n",
            "  inflating: real_or_drawing/train_data/6/3483.bmp  \n",
            "  inflating: real_or_drawing/train_data/6/3484.bmp  \n",
            "  inflating: real_or_drawing/train_data/6/3485.bmp  \n",
            "  inflating: real_or_drawing/train_data/6/3486.bmp  \n",
            "  inflating: real_or_drawing/train_data/6/3487.bmp  \n",
            "  inflating: real_or_drawing/train_data/6/3488.bmp  \n",
            "  inflating: real_or_drawing/train_data/6/3489.bmp  \n",
            "  inflating: real_or_drawing/train_data/6/3490.bmp  \n",
            "  inflating: real_or_drawing/train_data/6/3491.bmp  \n",
            "  inflating: real_or_drawing/train_data/6/3492.bmp  \n",
            "  inflating: real_or_drawing/train_data/6/3493.bmp  \n",
            "  inflating: real_or_drawing/train_data/6/3494.bmp  \n",
            "  inflating: real_or_drawing/train_data/6/3495.bmp  \n",
            "  inflating: real_or_drawing/train_data/6/3496.bmp  \n",
            "  inflating: real_or_drawing/train_data/6/3497.bmp  \n",
            "  inflating: real_or_drawing/train_data/6/3498.bmp  \n",
            "  inflating: real_or_drawing/train_data/6/3499.bmp  \n",
            "   creating: real_or_drawing/train_data/7/\n",
            "  inflating: real_or_drawing/train_data/7/3500.bmp  \n",
            "  inflating: real_or_drawing/train_data/7/3501.bmp  \n",
            "  inflating: real_or_drawing/train_data/7/3502.bmp  \n",
            "  inflating: real_or_drawing/train_data/7/3503.bmp  \n",
            "  inflating: real_or_drawing/train_data/7/3504.bmp  \n",
            "  inflating: real_or_drawing/train_data/7/3505.bmp  \n",
            "  inflating: real_or_drawing/train_data/7/3506.bmp  \n",
            "  inflating: real_or_drawing/train_data/7/3507.bmp  \n",
            "  inflating: real_or_drawing/train_data/7/3508.bmp  \n",
            "  inflating: real_or_drawing/train_data/7/3509.bmp  \n",
            "  inflating: real_or_drawing/train_data/7/3510.bmp  \n",
            "  inflating: real_or_drawing/train_data/7/3511.bmp  \n",
            "  inflating: real_or_drawing/train_data/7/3512.bmp  \n",
            "  inflating: real_or_drawing/train_data/7/3513.bmp  \n",
            "  inflating: real_or_drawing/train_data/7/3514.bmp  \n",
            "  inflating: real_or_drawing/train_data/7/3515.bmp  \n",
            "  inflating: real_or_drawing/train_data/7/3516.bmp  \n",
            "  inflating: real_or_drawing/train_data/7/3517.bmp  \n",
            "  inflating: real_or_drawing/train_data/7/3518.bmp  \n",
            "  inflating: real_or_drawing/train_data/7/3519.bmp  \n",
            "  inflating: real_or_drawing/train_data/7/3520.bmp  \n",
            "  inflating: real_or_drawing/train_data/7/3521.bmp  \n",
            "  inflating: real_or_drawing/train_data/7/3522.bmp  \n",
            "  inflating: real_or_drawing/train_data/7/3523.bmp  \n",
            "  inflating: real_or_drawing/train_data/7/3524.bmp  \n",
            "  inflating: real_or_drawing/train_data/7/3525.bmp  \n",
            "  inflating: real_or_drawing/train_data/7/3526.bmp  \n",
            "  inflating: real_or_drawing/train_data/7/3527.bmp  \n",
            "  inflating: real_or_drawing/train_data/7/3528.bmp  \n",
            "  inflating: real_or_drawing/train_data/7/3529.bmp  \n",
            "  inflating: real_or_drawing/train_data/7/3530.bmp  \n",
            "  inflating: real_or_drawing/train_data/7/3531.bmp  \n",
            "  inflating: real_or_drawing/train_data/7/3532.bmp  \n",
            "  inflating: real_or_drawing/train_data/7/3533.bmp  \n",
            "  inflating: real_or_drawing/train_data/7/3534.bmp  \n",
            "  inflating: real_or_drawing/train_data/7/3535.bmp  \n",
            "  inflating: real_or_drawing/train_data/7/3536.bmp  \n",
            "  inflating: real_or_drawing/train_data/7/3537.bmp  \n",
            "  inflating: real_or_drawing/train_data/7/3538.bmp  \n",
            "  inflating: real_or_drawing/train_data/7/3539.bmp  \n",
            "  inflating: real_or_drawing/train_data/7/3540.bmp  \n",
            "  inflating: real_or_drawing/train_data/7/3541.bmp  \n",
            "  inflating: real_or_drawing/train_data/7/3542.bmp  \n",
            "  inflating: real_or_drawing/train_data/7/3543.bmp  \n",
            "  inflating: real_or_drawing/train_data/7/3544.bmp  \n",
            "  inflating: real_or_drawing/train_data/7/3545.bmp  \n",
            "  inflating: real_or_drawing/train_data/7/3546.bmp  \n",
            "  inflating: real_or_drawing/train_data/7/3547.bmp  \n",
            "  inflating: real_or_drawing/train_data/7/3548.bmp  \n",
            "  inflating: real_or_drawing/train_data/7/3549.bmp  \n",
            "  inflating: real_or_drawing/train_data/7/3550.bmp  \n",
            "  inflating: real_or_drawing/train_data/7/3551.bmp  \n",
            "  inflating: real_or_drawing/train_data/7/3552.bmp  \n",
            "  inflating: real_or_drawing/train_data/7/3553.bmp  \n",
            "  inflating: real_or_drawing/train_data/7/3554.bmp  \n",
            "  inflating: real_or_drawing/train_data/7/3555.bmp  \n",
            "  inflating: real_or_drawing/train_data/7/3556.bmp  \n",
            "  inflating: real_or_drawing/train_data/7/3557.bmp  \n",
            "  inflating: real_or_drawing/train_data/7/3558.bmp  \n",
            "  inflating: real_or_drawing/train_data/7/3559.bmp  \n",
            "  inflating: real_or_drawing/train_data/7/3560.bmp  \n",
            "  inflating: real_or_drawing/train_data/7/3561.bmp  \n",
            "  inflating: real_or_drawing/train_data/7/3562.bmp  \n",
            "  inflating: real_or_drawing/train_data/7/3563.bmp  \n",
            "  inflating: real_or_drawing/train_data/7/3564.bmp  \n",
            "  inflating: real_or_drawing/train_data/7/3565.bmp  \n",
            "  inflating: real_or_drawing/train_data/7/3566.bmp  \n",
            "  inflating: real_or_drawing/train_data/7/3567.bmp  \n",
            "  inflating: real_or_drawing/train_data/7/3568.bmp  \n",
            "  inflating: real_or_drawing/train_data/7/3569.bmp  \n",
            "  inflating: real_or_drawing/train_data/7/3570.bmp  \n",
            "  inflating: real_or_drawing/train_data/7/3571.bmp  \n",
            "  inflating: real_or_drawing/train_data/7/3572.bmp  \n",
            "  inflating: real_or_drawing/train_data/7/3573.bmp  \n",
            "  inflating: real_or_drawing/train_data/7/3574.bmp  \n",
            "  inflating: real_or_drawing/train_data/7/3575.bmp  \n",
            "  inflating: real_or_drawing/train_data/7/3576.bmp  \n",
            "  inflating: real_or_drawing/train_data/7/3577.bmp  \n",
            "  inflating: real_or_drawing/train_data/7/3578.bmp  \n",
            "  inflating: real_or_drawing/train_data/7/3579.bmp  \n",
            "  inflating: real_or_drawing/train_data/7/3580.bmp  \n",
            "  inflating: real_or_drawing/train_data/7/3581.bmp  \n",
            "  inflating: real_or_drawing/train_data/7/3582.bmp  \n",
            "  inflating: real_or_drawing/train_data/7/3583.bmp  \n",
            "  inflating: real_or_drawing/train_data/7/3584.bmp  \n",
            "  inflating: real_or_drawing/train_data/7/3585.bmp  \n",
            "  inflating: real_or_drawing/train_data/7/3586.bmp  \n",
            "  inflating: real_or_drawing/train_data/7/3587.bmp  \n",
            "  inflating: real_or_drawing/train_data/7/3588.bmp  \n",
            "  inflating: real_or_drawing/train_data/7/3589.bmp  \n",
            "  inflating: real_or_drawing/train_data/7/3590.bmp  \n",
            "  inflating: real_or_drawing/train_data/7/3591.bmp  \n",
            "  inflating: real_or_drawing/train_data/7/3592.bmp  \n",
            "  inflating: real_or_drawing/train_data/7/3593.bmp  \n",
            "  inflating: real_or_drawing/train_data/7/3594.bmp  \n",
            "  inflating: real_or_drawing/train_data/7/3595.bmp  \n",
            "  inflating: real_or_drawing/train_data/7/3596.bmp  \n",
            "  inflating: real_or_drawing/train_data/7/3597.bmp  \n",
            "  inflating: real_or_drawing/train_data/7/3598.bmp  \n",
            "  inflating: real_or_drawing/train_data/7/3599.bmp  \n",
            "  inflating: real_or_drawing/train_data/7/3600.bmp  \n",
            "  inflating: real_or_drawing/train_data/7/3601.bmp  \n",
            "  inflating: real_or_drawing/train_data/7/3602.bmp  \n",
            "  inflating: real_or_drawing/train_data/7/3603.bmp  \n",
            "  inflating: real_or_drawing/train_data/7/3604.bmp  \n",
            "  inflating: real_or_drawing/train_data/7/3605.bmp  \n",
            "  inflating: real_or_drawing/train_data/7/3606.bmp  \n",
            "  inflating: real_or_drawing/train_data/7/3607.bmp  \n",
            "  inflating: real_or_drawing/train_data/7/3608.bmp  \n",
            "  inflating: real_or_drawing/train_data/7/3609.bmp  \n",
            "  inflating: real_or_drawing/train_data/7/3610.bmp  \n",
            "  inflating: real_or_drawing/train_data/7/3611.bmp  \n",
            "  inflating: real_or_drawing/train_data/7/3612.bmp  \n",
            "  inflating: real_or_drawing/train_data/7/3613.bmp  \n",
            "  inflating: real_or_drawing/train_data/7/3614.bmp  \n",
            "  inflating: real_or_drawing/train_data/7/3615.bmp  \n",
            "  inflating: real_or_drawing/train_data/7/3616.bmp  \n",
            "  inflating: real_or_drawing/train_data/7/3617.bmp  \n",
            "  inflating: real_or_drawing/train_data/7/3618.bmp  \n",
            "  inflating: real_or_drawing/train_data/7/3619.bmp  \n",
            "  inflating: real_or_drawing/train_data/7/3620.bmp  \n",
            "  inflating: real_or_drawing/train_data/7/3621.bmp  \n",
            "  inflating: real_or_drawing/train_data/7/3622.bmp  \n",
            "  inflating: real_or_drawing/train_data/7/3623.bmp  \n",
            "  inflating: real_or_drawing/train_data/7/3624.bmp  \n",
            "  inflating: real_or_drawing/train_data/7/3625.bmp  \n",
            "  inflating: real_or_drawing/train_data/7/3626.bmp  \n",
            "  inflating: real_or_drawing/train_data/7/3627.bmp  \n",
            "  inflating: real_or_drawing/train_data/7/3628.bmp  \n",
            "  inflating: real_or_drawing/train_data/7/3629.bmp  \n",
            "  inflating: real_or_drawing/train_data/7/3630.bmp  \n",
            "  inflating: real_or_drawing/train_data/7/3631.bmp  \n",
            "  inflating: real_or_drawing/train_data/7/3632.bmp  \n",
            "  inflating: real_or_drawing/train_data/7/3633.bmp  \n",
            "  inflating: real_or_drawing/train_data/7/3634.bmp  \n",
            "  inflating: real_or_drawing/train_data/7/3635.bmp  \n",
            "  inflating: real_or_drawing/train_data/7/3636.bmp  \n",
            "  inflating: real_or_drawing/train_data/7/3637.bmp  \n",
            "  inflating: real_or_drawing/train_data/7/3638.bmp  \n",
            "  inflating: real_or_drawing/train_data/7/3639.bmp  \n",
            "  inflating: real_or_drawing/train_data/7/3640.bmp  \n",
            "  inflating: real_or_drawing/train_data/7/3641.bmp  \n",
            "  inflating: real_or_drawing/train_data/7/3642.bmp  \n",
            "  inflating: real_or_drawing/train_data/7/3643.bmp  \n",
            "  inflating: real_or_drawing/train_data/7/3644.bmp  \n",
            "  inflating: real_or_drawing/train_data/7/3645.bmp  \n",
            "  inflating: real_or_drawing/train_data/7/3646.bmp  \n",
            "  inflating: real_or_drawing/train_data/7/3647.bmp  \n",
            "  inflating: real_or_drawing/train_data/7/3648.bmp  \n",
            "  inflating: real_or_drawing/train_data/7/3649.bmp  \n",
            "  inflating: real_or_drawing/train_data/7/3650.bmp  \n",
            "  inflating: real_or_drawing/train_data/7/3651.bmp  \n",
            "  inflating: real_or_drawing/train_data/7/3652.bmp  \n",
            "  inflating: real_or_drawing/train_data/7/3653.bmp  \n",
            "  inflating: real_or_drawing/train_data/7/3654.bmp  \n",
            "  inflating: real_or_drawing/train_data/7/3655.bmp  \n",
            "  inflating: real_or_drawing/train_data/7/3656.bmp  \n",
            "  inflating: real_or_drawing/train_data/7/3657.bmp  \n",
            "  inflating: real_or_drawing/train_data/7/3658.bmp  \n",
            "  inflating: real_or_drawing/train_data/7/3659.bmp  \n",
            "  inflating: real_or_drawing/train_data/7/3660.bmp  \n",
            "  inflating: real_or_drawing/train_data/7/3661.bmp  \n",
            "  inflating: real_or_drawing/train_data/7/3662.bmp  \n",
            "  inflating: real_or_drawing/train_data/7/3663.bmp  \n",
            "  inflating: real_or_drawing/train_data/7/3664.bmp  \n",
            "  inflating: real_or_drawing/train_data/7/3665.bmp  \n",
            "  inflating: real_or_drawing/train_data/7/3666.bmp  \n",
            "  inflating: real_or_drawing/train_data/7/3667.bmp  \n",
            "  inflating: real_or_drawing/train_data/7/3668.bmp  \n",
            "  inflating: real_or_drawing/train_data/7/3669.bmp  \n",
            "  inflating: real_or_drawing/train_data/7/3670.bmp  \n",
            "  inflating: real_or_drawing/train_data/7/3671.bmp  \n",
            "  inflating: real_or_drawing/train_data/7/3672.bmp  \n",
            "  inflating: real_or_drawing/train_data/7/3673.bmp  \n",
            "  inflating: real_or_drawing/train_data/7/3674.bmp  \n",
            "  inflating: real_or_drawing/train_data/7/3675.bmp  \n",
            "  inflating: real_or_drawing/train_data/7/3676.bmp  \n",
            "  inflating: real_or_drawing/train_data/7/3677.bmp  \n",
            "  inflating: real_or_drawing/train_data/7/3678.bmp  \n",
            "  inflating: real_or_drawing/train_data/7/3679.bmp  \n",
            "  inflating: real_or_drawing/train_data/7/3680.bmp  \n",
            "  inflating: real_or_drawing/train_data/7/3681.bmp  \n",
            "  inflating: real_or_drawing/train_data/7/3682.bmp  \n",
            "  inflating: real_or_drawing/train_data/7/3683.bmp  \n",
            "  inflating: real_or_drawing/train_data/7/3684.bmp  \n",
            "  inflating: real_or_drawing/train_data/7/3685.bmp  \n",
            "  inflating: real_or_drawing/train_data/7/3686.bmp  \n",
            "  inflating: real_or_drawing/train_data/7/3687.bmp  \n",
            "  inflating: real_or_drawing/train_data/7/3688.bmp  \n",
            "  inflating: real_or_drawing/train_data/7/3689.bmp  \n",
            "  inflating: real_or_drawing/train_data/7/3690.bmp  \n",
            "  inflating: real_or_drawing/train_data/7/3691.bmp  \n",
            "  inflating: real_or_drawing/train_data/7/3692.bmp  \n",
            "  inflating: real_or_drawing/train_data/7/3693.bmp  \n",
            "  inflating: real_or_drawing/train_data/7/3694.bmp  \n",
            "  inflating: real_or_drawing/train_data/7/3695.bmp  \n",
            "  inflating: real_or_drawing/train_data/7/3696.bmp  \n",
            "  inflating: real_or_drawing/train_data/7/3697.bmp  \n",
            "  inflating: real_or_drawing/train_data/7/3698.bmp  \n",
            "  inflating: real_or_drawing/train_data/7/3699.bmp  \n",
            "  inflating: real_or_drawing/train_data/7/3700.bmp  \n",
            "  inflating: real_or_drawing/train_data/7/3701.bmp  \n",
            "  inflating: real_or_drawing/train_data/7/3702.bmp  \n",
            "  inflating: real_or_drawing/train_data/7/3703.bmp  \n",
            "  inflating: real_or_drawing/train_data/7/3704.bmp  \n",
            "  inflating: real_or_drawing/train_data/7/3705.bmp  \n",
            "  inflating: real_or_drawing/train_data/7/3706.bmp  \n",
            "  inflating: real_or_drawing/train_data/7/3707.bmp  \n",
            "  inflating: real_or_drawing/train_data/7/3708.bmp  \n",
            "  inflating: real_or_drawing/train_data/7/3709.bmp  \n",
            "  inflating: real_or_drawing/train_data/7/3710.bmp  \n",
            "  inflating: real_or_drawing/train_data/7/3711.bmp  \n",
            "  inflating: real_or_drawing/train_data/7/3712.bmp  \n",
            "  inflating: real_or_drawing/train_data/7/3713.bmp  \n",
            "  inflating: real_or_drawing/train_data/7/3714.bmp  \n",
            "  inflating: real_or_drawing/train_data/7/3715.bmp  \n",
            "  inflating: real_or_drawing/train_data/7/3716.bmp  \n",
            "  inflating: real_or_drawing/train_data/7/3717.bmp  \n",
            "  inflating: real_or_drawing/train_data/7/3718.bmp  \n",
            "  inflating: real_or_drawing/train_data/7/3719.bmp  \n",
            "  inflating: real_or_drawing/train_data/7/3720.bmp  \n",
            "  inflating: real_or_drawing/train_data/7/3721.bmp  \n",
            "  inflating: real_or_drawing/train_data/7/3722.bmp  \n",
            "  inflating: real_or_drawing/train_data/7/3723.bmp  \n",
            "  inflating: real_or_drawing/train_data/7/3724.bmp  \n",
            "  inflating: real_or_drawing/train_data/7/3725.bmp  \n",
            "  inflating: real_or_drawing/train_data/7/3726.bmp  \n",
            "  inflating: real_or_drawing/train_data/7/3727.bmp  \n",
            "  inflating: real_or_drawing/train_data/7/3728.bmp  \n",
            "  inflating: real_or_drawing/train_data/7/3729.bmp  \n",
            "  inflating: real_or_drawing/train_data/7/3730.bmp  \n",
            "  inflating: real_or_drawing/train_data/7/3731.bmp  \n",
            "  inflating: real_or_drawing/train_data/7/3732.bmp  \n",
            "  inflating: real_or_drawing/train_data/7/3733.bmp  \n",
            "  inflating: real_or_drawing/train_data/7/3734.bmp  \n",
            "  inflating: real_or_drawing/train_data/7/3735.bmp  \n",
            "  inflating: real_or_drawing/train_data/7/3736.bmp  \n",
            "  inflating: real_or_drawing/train_data/7/3737.bmp  \n",
            "  inflating: real_or_drawing/train_data/7/3738.bmp  \n",
            "  inflating: real_or_drawing/train_data/7/3739.bmp  \n",
            "  inflating: real_or_drawing/train_data/7/3740.bmp  \n",
            "  inflating: real_or_drawing/train_data/7/3741.bmp  \n",
            "  inflating: real_or_drawing/train_data/7/3742.bmp  \n",
            "  inflating: real_or_drawing/train_data/7/3743.bmp  \n",
            "  inflating: real_or_drawing/train_data/7/3744.bmp  \n",
            "  inflating: real_or_drawing/train_data/7/3745.bmp  \n",
            "  inflating: real_or_drawing/train_data/7/3746.bmp  \n",
            "  inflating: real_or_drawing/train_data/7/3747.bmp  \n",
            "  inflating: real_or_drawing/train_data/7/3748.bmp  \n",
            "  inflating: real_or_drawing/train_data/7/3749.bmp  \n",
            "  inflating: real_or_drawing/train_data/7/3750.bmp  \n",
            "  inflating: real_or_drawing/train_data/7/3751.bmp  \n",
            "  inflating: real_or_drawing/train_data/7/3752.bmp  \n",
            "  inflating: real_or_drawing/train_data/7/3753.bmp  \n",
            "  inflating: real_or_drawing/train_data/7/3754.bmp  \n",
            "  inflating: real_or_drawing/train_data/7/3755.bmp  \n",
            "  inflating: real_or_drawing/train_data/7/3756.bmp  \n",
            "  inflating: real_or_drawing/train_data/7/3757.bmp  \n",
            "  inflating: real_or_drawing/train_data/7/3758.bmp  \n",
            "  inflating: real_or_drawing/train_data/7/3759.bmp  \n",
            "  inflating: real_or_drawing/train_data/7/3760.bmp  \n",
            "  inflating: real_or_drawing/train_data/7/3761.bmp  \n",
            "  inflating: real_or_drawing/train_data/7/3762.bmp  \n",
            "  inflating: real_or_drawing/train_data/7/3763.bmp  \n",
            "  inflating: real_or_drawing/train_data/7/3764.bmp  \n",
            "  inflating: real_or_drawing/train_data/7/3765.bmp  \n",
            "  inflating: real_or_drawing/train_data/7/3766.bmp  \n",
            "  inflating: real_or_drawing/train_data/7/3767.bmp  \n",
            "  inflating: real_or_drawing/train_data/7/3768.bmp  \n",
            "  inflating: real_or_drawing/train_data/7/3769.bmp  \n",
            "  inflating: real_or_drawing/train_data/7/3770.bmp  \n",
            "  inflating: real_or_drawing/train_data/7/3771.bmp  \n",
            "  inflating: real_or_drawing/train_data/7/3772.bmp  \n",
            "  inflating: real_or_drawing/train_data/7/3773.bmp  \n",
            "  inflating: real_or_drawing/train_data/7/3774.bmp  \n",
            "  inflating: real_or_drawing/train_data/7/3775.bmp  \n",
            "  inflating: real_or_drawing/train_data/7/3776.bmp  \n",
            "  inflating: real_or_drawing/train_data/7/3777.bmp  \n",
            "  inflating: real_or_drawing/train_data/7/3778.bmp  \n",
            "  inflating: real_or_drawing/train_data/7/3779.bmp  \n",
            "  inflating: real_or_drawing/train_data/7/3780.bmp  \n",
            "  inflating: real_or_drawing/train_data/7/3781.bmp  \n",
            "  inflating: real_or_drawing/train_data/7/3782.bmp  \n",
            "  inflating: real_or_drawing/train_data/7/3783.bmp  \n",
            "  inflating: real_or_drawing/train_data/7/3784.bmp  \n",
            "  inflating: real_or_drawing/train_data/7/3785.bmp  \n",
            "  inflating: real_or_drawing/train_data/7/3786.bmp  \n",
            "  inflating: real_or_drawing/train_data/7/3787.bmp  \n",
            "  inflating: real_or_drawing/train_data/7/3788.bmp  \n",
            "  inflating: real_or_drawing/train_data/7/3789.bmp  \n",
            "  inflating: real_or_drawing/train_data/7/3790.bmp  \n",
            "  inflating: real_or_drawing/train_data/7/3791.bmp  \n",
            "  inflating: real_or_drawing/train_data/7/3792.bmp  \n",
            "  inflating: real_or_drawing/train_data/7/3793.bmp  \n",
            "  inflating: real_or_drawing/train_data/7/3794.bmp  \n",
            "  inflating: real_or_drawing/train_data/7/3795.bmp  \n",
            "  inflating: real_or_drawing/train_data/7/3796.bmp  \n",
            "  inflating: real_or_drawing/train_data/7/3797.bmp  \n",
            "  inflating: real_or_drawing/train_data/7/3798.bmp  \n",
            "  inflating: real_or_drawing/train_data/7/3799.bmp  \n",
            "  inflating: real_or_drawing/train_data/7/3800.bmp  \n",
            "  inflating: real_or_drawing/train_data/7/3801.bmp  \n",
            "  inflating: real_or_drawing/train_data/7/3802.bmp  \n",
            "  inflating: real_or_drawing/train_data/7/3803.bmp  \n",
            "  inflating: real_or_drawing/train_data/7/3804.bmp  \n",
            "  inflating: real_or_drawing/train_data/7/3805.bmp  \n",
            "  inflating: real_or_drawing/train_data/7/3806.bmp  \n",
            "  inflating: real_or_drawing/train_data/7/3807.bmp  \n",
            "  inflating: real_or_drawing/train_data/7/3808.bmp  \n",
            "  inflating: real_or_drawing/train_data/7/3809.bmp  \n",
            "  inflating: real_or_drawing/train_data/7/3810.bmp  \n",
            "  inflating: real_or_drawing/train_data/7/3811.bmp  \n",
            "  inflating: real_or_drawing/train_data/7/3812.bmp  \n",
            "  inflating: real_or_drawing/train_data/7/3813.bmp  \n",
            "  inflating: real_or_drawing/train_data/7/3814.bmp  \n",
            "  inflating: real_or_drawing/train_data/7/3815.bmp  \n",
            "  inflating: real_or_drawing/train_data/7/3816.bmp  \n",
            "  inflating: real_or_drawing/train_data/7/3817.bmp  \n",
            "  inflating: real_or_drawing/train_data/7/3818.bmp  \n",
            "  inflating: real_or_drawing/train_data/7/3819.bmp  \n",
            "  inflating: real_or_drawing/train_data/7/3820.bmp  \n",
            "  inflating: real_or_drawing/train_data/7/3821.bmp  \n",
            "  inflating: real_or_drawing/train_data/7/3822.bmp  \n",
            "  inflating: real_or_drawing/train_data/7/3823.bmp  \n",
            "  inflating: real_or_drawing/train_data/7/3824.bmp  \n",
            "  inflating: real_or_drawing/train_data/7/3825.bmp  \n",
            "  inflating: real_or_drawing/train_data/7/3826.bmp  \n",
            "  inflating: real_or_drawing/train_data/7/3827.bmp  \n",
            "  inflating: real_or_drawing/train_data/7/3828.bmp  \n",
            "  inflating: real_or_drawing/train_data/7/3829.bmp  \n",
            "  inflating: real_or_drawing/train_data/7/3830.bmp  \n",
            "  inflating: real_or_drawing/train_data/7/3831.bmp  \n",
            "  inflating: real_or_drawing/train_data/7/3832.bmp  \n",
            "  inflating: real_or_drawing/train_data/7/3833.bmp  \n",
            "  inflating: real_or_drawing/train_data/7/3834.bmp  \n",
            "  inflating: real_or_drawing/train_data/7/3835.bmp  \n",
            "  inflating: real_or_drawing/train_data/7/3836.bmp  \n",
            "  inflating: real_or_drawing/train_data/7/3837.bmp  \n",
            "  inflating: real_or_drawing/train_data/7/3838.bmp  \n",
            "  inflating: real_or_drawing/train_data/7/3839.bmp  \n",
            "  inflating: real_or_drawing/train_data/7/3840.bmp  \n",
            "  inflating: real_or_drawing/train_data/7/3841.bmp  \n",
            "  inflating: real_or_drawing/train_data/7/3842.bmp  \n",
            "  inflating: real_or_drawing/train_data/7/3843.bmp  \n",
            "  inflating: real_or_drawing/train_data/7/3844.bmp  \n",
            "  inflating: real_or_drawing/train_data/7/3845.bmp  \n",
            "  inflating: real_or_drawing/train_data/7/3846.bmp  \n",
            "  inflating: real_or_drawing/train_data/7/3847.bmp  \n",
            "  inflating: real_or_drawing/train_data/7/3848.bmp  \n",
            "  inflating: real_or_drawing/train_data/7/3849.bmp  \n",
            "  inflating: real_or_drawing/train_data/7/3850.bmp  \n",
            "  inflating: real_or_drawing/train_data/7/3851.bmp  \n",
            "  inflating: real_or_drawing/train_data/7/3852.bmp  \n",
            "  inflating: real_or_drawing/train_data/7/3853.bmp  \n",
            "  inflating: real_or_drawing/train_data/7/3854.bmp  \n",
            "  inflating: real_or_drawing/train_data/7/3855.bmp  \n",
            "  inflating: real_or_drawing/train_data/7/3856.bmp  \n",
            "  inflating: real_or_drawing/train_data/7/3857.bmp  \n",
            "  inflating: real_or_drawing/train_data/7/3858.bmp  \n",
            "  inflating: real_or_drawing/train_data/7/3859.bmp  \n",
            "  inflating: real_or_drawing/train_data/7/3860.bmp  \n",
            "  inflating: real_or_drawing/train_data/7/3861.bmp  \n",
            "  inflating: real_or_drawing/train_data/7/3862.bmp  \n",
            "  inflating: real_or_drawing/train_data/7/3863.bmp  \n",
            "  inflating: real_or_drawing/train_data/7/3864.bmp  \n",
            "  inflating: real_or_drawing/train_data/7/3865.bmp  \n",
            "  inflating: real_or_drawing/train_data/7/3866.bmp  \n",
            "  inflating: real_or_drawing/train_data/7/3867.bmp  \n",
            "  inflating: real_or_drawing/train_data/7/3868.bmp  \n",
            "  inflating: real_or_drawing/train_data/7/3869.bmp  \n",
            "  inflating: real_or_drawing/train_data/7/3870.bmp  \n",
            "  inflating: real_or_drawing/train_data/7/3871.bmp  \n",
            "  inflating: real_or_drawing/train_data/7/3872.bmp  \n",
            "  inflating: real_or_drawing/train_data/7/3873.bmp  \n",
            "  inflating: real_or_drawing/train_data/7/3874.bmp  \n",
            "  inflating: real_or_drawing/train_data/7/3875.bmp  \n",
            "  inflating: real_or_drawing/train_data/7/3876.bmp  \n",
            "  inflating: real_or_drawing/train_data/7/3877.bmp  \n",
            "  inflating: real_or_drawing/train_data/7/3878.bmp  \n",
            "  inflating: real_or_drawing/train_data/7/3879.bmp  \n",
            "  inflating: real_or_drawing/train_data/7/3880.bmp  \n",
            "  inflating: real_or_drawing/train_data/7/3881.bmp  \n",
            "  inflating: real_or_drawing/train_data/7/3882.bmp  \n",
            "  inflating: real_or_drawing/train_data/7/3883.bmp  \n",
            "  inflating: real_or_drawing/train_data/7/3884.bmp  \n",
            "  inflating: real_or_drawing/train_data/7/3885.bmp  \n",
            "  inflating: real_or_drawing/train_data/7/3886.bmp  \n",
            "  inflating: real_or_drawing/train_data/7/3887.bmp  \n",
            "  inflating: real_or_drawing/train_data/7/3888.bmp  \n",
            "  inflating: real_or_drawing/train_data/7/3889.bmp  \n",
            "  inflating: real_or_drawing/train_data/7/3890.bmp  \n",
            "  inflating: real_or_drawing/train_data/7/3891.bmp  \n",
            "  inflating: real_or_drawing/train_data/7/3892.bmp  \n",
            "  inflating: real_or_drawing/train_data/7/3893.bmp  \n",
            "  inflating: real_or_drawing/train_data/7/3894.bmp  \n",
            "  inflating: real_or_drawing/train_data/7/3895.bmp  \n",
            "  inflating: real_or_drawing/train_data/7/3896.bmp  \n",
            "  inflating: real_or_drawing/train_data/7/3897.bmp  \n",
            "  inflating: real_or_drawing/train_data/7/3898.bmp  \n",
            "  inflating: real_or_drawing/train_data/7/3899.bmp  \n",
            "  inflating: real_or_drawing/train_data/7/3900.bmp  \n",
            "  inflating: real_or_drawing/train_data/7/3901.bmp  \n",
            "  inflating: real_or_drawing/train_data/7/3902.bmp  \n",
            "  inflating: real_or_drawing/train_data/7/3903.bmp  \n",
            "  inflating: real_or_drawing/train_data/7/3904.bmp  \n",
            "  inflating: real_or_drawing/train_data/7/3905.bmp  \n",
            "  inflating: real_or_drawing/train_data/7/3906.bmp  \n",
            "  inflating: real_or_drawing/train_data/7/3907.bmp  \n",
            "  inflating: real_or_drawing/train_data/7/3908.bmp  \n",
            "  inflating: real_or_drawing/train_data/7/3909.bmp  \n",
            "  inflating: real_or_drawing/train_data/7/3910.bmp  \n",
            "  inflating: real_or_drawing/train_data/7/3911.bmp  \n",
            "  inflating: real_or_drawing/train_data/7/3912.bmp  \n",
            "  inflating: real_or_drawing/train_data/7/3913.bmp  \n",
            "  inflating: real_or_drawing/train_data/7/3914.bmp  \n",
            "  inflating: real_or_drawing/train_data/7/3915.bmp  \n",
            "  inflating: real_or_drawing/train_data/7/3916.bmp  \n",
            "  inflating: real_or_drawing/train_data/7/3917.bmp  \n",
            "  inflating: real_or_drawing/train_data/7/3918.bmp  \n",
            "  inflating: real_or_drawing/train_data/7/3919.bmp  \n",
            "  inflating: real_or_drawing/train_data/7/3920.bmp  \n",
            "  inflating: real_or_drawing/train_data/7/3921.bmp  \n",
            "  inflating: real_or_drawing/train_data/7/3922.bmp  \n",
            "  inflating: real_or_drawing/train_data/7/3923.bmp  \n",
            "  inflating: real_or_drawing/train_data/7/3924.bmp  \n",
            "  inflating: real_or_drawing/train_data/7/3925.bmp  \n",
            "  inflating: real_or_drawing/train_data/7/3926.bmp  \n",
            "  inflating: real_or_drawing/train_data/7/3927.bmp  \n",
            "  inflating: real_or_drawing/train_data/7/3928.bmp  \n",
            "  inflating: real_or_drawing/train_data/7/3929.bmp  \n",
            "  inflating: real_or_drawing/train_data/7/3930.bmp  \n",
            "  inflating: real_or_drawing/train_data/7/3931.bmp  \n",
            "  inflating: real_or_drawing/train_data/7/3932.bmp  \n",
            "  inflating: real_or_drawing/train_data/7/3933.bmp  \n",
            "  inflating: real_or_drawing/train_data/7/3934.bmp  \n",
            "  inflating: real_or_drawing/train_data/7/3935.bmp  \n",
            "  inflating: real_or_drawing/train_data/7/3936.bmp  \n",
            "  inflating: real_or_drawing/train_data/7/3937.bmp  \n",
            "  inflating: real_or_drawing/train_data/7/3938.bmp  \n",
            "  inflating: real_or_drawing/train_data/7/3939.bmp  \n",
            "  inflating: real_or_drawing/train_data/7/3940.bmp  \n",
            "  inflating: real_or_drawing/train_data/7/3941.bmp  \n",
            "  inflating: real_or_drawing/train_data/7/3942.bmp  \n",
            "  inflating: real_or_drawing/train_data/7/3943.bmp  \n",
            "  inflating: real_or_drawing/train_data/7/3944.bmp  \n",
            "  inflating: real_or_drawing/train_data/7/3945.bmp  \n",
            "  inflating: real_or_drawing/train_data/7/3946.bmp  \n",
            "  inflating: real_or_drawing/train_data/7/3947.bmp  \n",
            "  inflating: real_or_drawing/train_data/7/3948.bmp  \n",
            "  inflating: real_or_drawing/train_data/7/3949.bmp  \n",
            "  inflating: real_or_drawing/train_data/7/3950.bmp  \n",
            "  inflating: real_or_drawing/train_data/7/3951.bmp  \n",
            "  inflating: real_or_drawing/train_data/7/3952.bmp  \n",
            "  inflating: real_or_drawing/train_data/7/3953.bmp  \n",
            "  inflating: real_or_drawing/train_data/7/3954.bmp  \n",
            "  inflating: real_or_drawing/train_data/7/3955.bmp  \n",
            "  inflating: real_or_drawing/train_data/7/3956.bmp  \n",
            "  inflating: real_or_drawing/train_data/7/3957.bmp  \n",
            "  inflating: real_or_drawing/train_data/7/3958.bmp  \n",
            "  inflating: real_or_drawing/train_data/7/3959.bmp  \n",
            "  inflating: real_or_drawing/train_data/7/3960.bmp  \n",
            "  inflating: real_or_drawing/train_data/7/3961.bmp  \n",
            "  inflating: real_or_drawing/train_data/7/3962.bmp  \n",
            "  inflating: real_or_drawing/train_data/7/3963.bmp  \n",
            "  inflating: real_or_drawing/train_data/7/3964.bmp  \n",
            "  inflating: real_or_drawing/train_data/7/3965.bmp  \n",
            "  inflating: real_or_drawing/train_data/7/3966.bmp  \n",
            "  inflating: real_or_drawing/train_data/7/3967.bmp  \n",
            "  inflating: real_or_drawing/train_data/7/3968.bmp  \n",
            "  inflating: real_or_drawing/train_data/7/3969.bmp  \n",
            "  inflating: real_or_drawing/train_data/7/3970.bmp  \n",
            "  inflating: real_or_drawing/train_data/7/3971.bmp  \n",
            "  inflating: real_or_drawing/train_data/7/3972.bmp  \n",
            "  inflating: real_or_drawing/train_data/7/3973.bmp  \n",
            "  inflating: real_or_drawing/train_data/7/3974.bmp  \n",
            "  inflating: real_or_drawing/train_data/7/3975.bmp  \n",
            "  inflating: real_or_drawing/train_data/7/3976.bmp  \n",
            "  inflating: real_or_drawing/train_data/7/3977.bmp  \n",
            "  inflating: real_or_drawing/train_data/7/3978.bmp  \n",
            "  inflating: real_or_drawing/train_data/7/3979.bmp  \n",
            "  inflating: real_or_drawing/train_data/7/3980.bmp  \n",
            "  inflating: real_or_drawing/train_data/7/3981.bmp  \n",
            "  inflating: real_or_drawing/train_data/7/3982.bmp  \n",
            "  inflating: real_or_drawing/train_data/7/3983.bmp  \n",
            "  inflating: real_or_drawing/train_data/7/3984.bmp  \n",
            "  inflating: real_or_drawing/train_data/7/3985.bmp  \n",
            "  inflating: real_or_drawing/train_data/7/3986.bmp  \n",
            "  inflating: real_or_drawing/train_data/7/3987.bmp  \n",
            "  inflating: real_or_drawing/train_data/7/3988.bmp  \n",
            "  inflating: real_or_drawing/train_data/7/3989.bmp  \n",
            "  inflating: real_or_drawing/train_data/7/3990.bmp  \n",
            "  inflating: real_or_drawing/train_data/7/3991.bmp  \n",
            "  inflating: real_or_drawing/train_data/7/3992.bmp  \n",
            "  inflating: real_or_drawing/train_data/7/3993.bmp  \n",
            "  inflating: real_or_drawing/train_data/7/3994.bmp  \n",
            "  inflating: real_or_drawing/train_data/7/3995.bmp  \n",
            "  inflating: real_or_drawing/train_data/7/3996.bmp  \n",
            "  inflating: real_or_drawing/train_data/7/3997.bmp  \n",
            "  inflating: real_or_drawing/train_data/7/3998.bmp  \n",
            "  inflating: real_or_drawing/train_data/7/3999.bmp  \n",
            "   creating: real_or_drawing/train_data/8/\n",
            "  inflating: real_or_drawing/train_data/8/4000.bmp  \n",
            "  inflating: real_or_drawing/train_data/8/4001.bmp  \n",
            "  inflating: real_or_drawing/train_data/8/4002.bmp  \n",
            "  inflating: real_or_drawing/train_data/8/4003.bmp  \n",
            "  inflating: real_or_drawing/train_data/8/4004.bmp  \n",
            "  inflating: real_or_drawing/train_data/8/4005.bmp  \n",
            "  inflating: real_or_drawing/train_data/8/4006.bmp  \n",
            "  inflating: real_or_drawing/train_data/8/4007.bmp  \n",
            "  inflating: real_or_drawing/train_data/8/4008.bmp  \n",
            "  inflating: real_or_drawing/train_data/8/4009.bmp  \n",
            "  inflating: real_or_drawing/train_data/8/4010.bmp  \n",
            "  inflating: real_or_drawing/train_data/8/4011.bmp  \n",
            "  inflating: real_or_drawing/train_data/8/4012.bmp  \n",
            "  inflating: real_or_drawing/train_data/8/4013.bmp  \n",
            "  inflating: real_or_drawing/train_data/8/4014.bmp  \n",
            "  inflating: real_or_drawing/train_data/8/4015.bmp  \n",
            "  inflating: real_or_drawing/train_data/8/4016.bmp  \n",
            "  inflating: real_or_drawing/train_data/8/4017.bmp  \n",
            "  inflating: real_or_drawing/train_data/8/4018.bmp  \n",
            "  inflating: real_or_drawing/train_data/8/4019.bmp  \n",
            "  inflating: real_or_drawing/train_data/8/4020.bmp  \n",
            "  inflating: real_or_drawing/train_data/8/4021.bmp  \n",
            "  inflating: real_or_drawing/train_data/8/4022.bmp  \n",
            "  inflating: real_or_drawing/train_data/8/4023.bmp  \n",
            "  inflating: real_or_drawing/train_data/8/4024.bmp  \n",
            "  inflating: real_or_drawing/train_data/8/4025.bmp  \n",
            "  inflating: real_or_drawing/train_data/8/4026.bmp  \n",
            "  inflating: real_or_drawing/train_data/8/4027.bmp  \n",
            "  inflating: real_or_drawing/train_data/8/4028.bmp  \n",
            "  inflating: real_or_drawing/train_data/8/4029.bmp  \n",
            "  inflating: real_or_drawing/train_data/8/4030.bmp  \n",
            "  inflating: real_or_drawing/train_data/8/4031.bmp  \n",
            "  inflating: real_or_drawing/train_data/8/4032.bmp  \n",
            "  inflating: real_or_drawing/train_data/8/4033.bmp  \n",
            "  inflating: real_or_drawing/train_data/8/4034.bmp  \n",
            "  inflating: real_or_drawing/train_data/8/4035.bmp  \n",
            "  inflating: real_or_drawing/train_data/8/4036.bmp  \n",
            "  inflating: real_or_drawing/train_data/8/4037.bmp  \n",
            "  inflating: real_or_drawing/train_data/8/4038.bmp  \n",
            "  inflating: real_or_drawing/train_data/8/4039.bmp  \n",
            "  inflating: real_or_drawing/train_data/8/4040.bmp  \n",
            "  inflating: real_or_drawing/train_data/8/4041.bmp  \n",
            "  inflating: real_or_drawing/train_data/8/4042.bmp  \n",
            "  inflating: real_or_drawing/train_data/8/4043.bmp  \n",
            "  inflating: real_or_drawing/train_data/8/4044.bmp  \n",
            "  inflating: real_or_drawing/train_data/8/4045.bmp  \n",
            "  inflating: real_or_drawing/train_data/8/4046.bmp  \n",
            "  inflating: real_or_drawing/train_data/8/4047.bmp  \n",
            "  inflating: real_or_drawing/train_data/8/4048.bmp  \n",
            "  inflating: real_or_drawing/train_data/8/4049.bmp  \n",
            "  inflating: real_or_drawing/train_data/8/4050.bmp  \n",
            "  inflating: real_or_drawing/train_data/8/4051.bmp  \n",
            "  inflating: real_or_drawing/train_data/8/4052.bmp  \n",
            "  inflating: real_or_drawing/train_data/8/4053.bmp  \n",
            "  inflating: real_or_drawing/train_data/8/4054.bmp  \n",
            "  inflating: real_or_drawing/train_data/8/4055.bmp  \n",
            "  inflating: real_or_drawing/train_data/8/4056.bmp  \n",
            "  inflating: real_or_drawing/train_data/8/4057.bmp  \n",
            "  inflating: real_or_drawing/train_data/8/4058.bmp  \n",
            "  inflating: real_or_drawing/train_data/8/4059.bmp  \n",
            "  inflating: real_or_drawing/train_data/8/4060.bmp  \n",
            "  inflating: real_or_drawing/train_data/8/4061.bmp  \n",
            "  inflating: real_or_drawing/train_data/8/4062.bmp  \n",
            "  inflating: real_or_drawing/train_data/8/4063.bmp  \n",
            "  inflating: real_or_drawing/train_data/8/4064.bmp  \n",
            "  inflating: real_or_drawing/train_data/8/4065.bmp  \n",
            "  inflating: real_or_drawing/train_data/8/4066.bmp  \n",
            "  inflating: real_or_drawing/train_data/8/4067.bmp  \n",
            "  inflating: real_or_drawing/train_data/8/4068.bmp  \n",
            "  inflating: real_or_drawing/train_data/8/4069.bmp  \n",
            "  inflating: real_or_drawing/train_data/8/4070.bmp  \n",
            "  inflating: real_or_drawing/train_data/8/4071.bmp  \n",
            "  inflating: real_or_drawing/train_data/8/4072.bmp  \n",
            "  inflating: real_or_drawing/train_data/8/4073.bmp  \n",
            "  inflating: real_or_drawing/train_data/8/4074.bmp  \n",
            "  inflating: real_or_drawing/train_data/8/4075.bmp  \n",
            "  inflating: real_or_drawing/train_data/8/4076.bmp  \n",
            "  inflating: real_or_drawing/train_data/8/4077.bmp  \n",
            "  inflating: real_or_drawing/train_data/8/4078.bmp  \n",
            "  inflating: real_or_drawing/train_data/8/4079.bmp  \n",
            "  inflating: real_or_drawing/train_data/8/4080.bmp  \n",
            "  inflating: real_or_drawing/train_data/8/4081.bmp  \n",
            "  inflating: real_or_drawing/train_data/8/4082.bmp  \n",
            "  inflating: real_or_drawing/train_data/8/4083.bmp  \n",
            "  inflating: real_or_drawing/train_data/8/4084.bmp  \n",
            "  inflating: real_or_drawing/train_data/8/4085.bmp  \n",
            "  inflating: real_or_drawing/train_data/8/4086.bmp  \n",
            "  inflating: real_or_drawing/train_data/8/4087.bmp  \n",
            "  inflating: real_or_drawing/train_data/8/4088.bmp  \n",
            "  inflating: real_or_drawing/train_data/8/4089.bmp  \n",
            "  inflating: real_or_drawing/train_data/8/4090.bmp  \n",
            "  inflating: real_or_drawing/train_data/8/4091.bmp  \n",
            "  inflating: real_or_drawing/train_data/8/4092.bmp  \n",
            "  inflating: real_or_drawing/train_data/8/4093.bmp  \n",
            "  inflating: real_or_drawing/train_data/8/4094.bmp  \n",
            "  inflating: real_or_drawing/train_data/8/4095.bmp  \n",
            "  inflating: real_or_drawing/train_data/8/4096.bmp  \n",
            "  inflating: real_or_drawing/train_data/8/4097.bmp  \n",
            "  inflating: real_or_drawing/train_data/8/4098.bmp  \n",
            "  inflating: real_or_drawing/train_data/8/4099.bmp  \n",
            "  inflating: real_or_drawing/train_data/8/4100.bmp  \n",
            "  inflating: real_or_drawing/train_data/8/4101.bmp  \n",
            "  inflating: real_or_drawing/train_data/8/4102.bmp  \n",
            "  inflating: real_or_drawing/train_data/8/4103.bmp  \n",
            "  inflating: real_or_drawing/train_data/8/4104.bmp  \n",
            "  inflating: real_or_drawing/train_data/8/4105.bmp  \n",
            "  inflating: real_or_drawing/train_data/8/4106.bmp  \n",
            "  inflating: real_or_drawing/train_data/8/4107.bmp  \n",
            "  inflating: real_or_drawing/train_data/8/4108.bmp  \n",
            "  inflating: real_or_drawing/train_data/8/4109.bmp  \n",
            "  inflating: real_or_drawing/train_data/8/4110.bmp  \n",
            "  inflating: real_or_drawing/train_data/8/4111.bmp  \n",
            "  inflating: real_or_drawing/train_data/8/4112.bmp  \n",
            "  inflating: real_or_drawing/train_data/8/4113.bmp  \n",
            "  inflating: real_or_drawing/train_data/8/4114.bmp  \n",
            "  inflating: real_or_drawing/train_data/8/4115.bmp  \n",
            "  inflating: real_or_drawing/train_data/8/4116.bmp  \n",
            "  inflating: real_or_drawing/train_data/8/4117.bmp  \n",
            "  inflating: real_or_drawing/train_data/8/4118.bmp  \n",
            "  inflating: real_or_drawing/train_data/8/4119.bmp  \n",
            "  inflating: real_or_drawing/train_data/8/4120.bmp  \n",
            "  inflating: real_or_drawing/train_data/8/4121.bmp  \n",
            "  inflating: real_or_drawing/train_data/8/4122.bmp  \n",
            "  inflating: real_or_drawing/train_data/8/4123.bmp  \n",
            "  inflating: real_or_drawing/train_data/8/4124.bmp  \n",
            "  inflating: real_or_drawing/train_data/8/4125.bmp  \n",
            "  inflating: real_or_drawing/train_data/8/4126.bmp  \n",
            "  inflating: real_or_drawing/train_data/8/4127.bmp  \n",
            "  inflating: real_or_drawing/train_data/8/4128.bmp  \n",
            "  inflating: real_or_drawing/train_data/8/4129.bmp  \n",
            "  inflating: real_or_drawing/train_data/8/4130.bmp  \n",
            "  inflating: real_or_drawing/train_data/8/4131.bmp  \n",
            "  inflating: real_or_drawing/train_data/8/4132.bmp  \n",
            "  inflating: real_or_drawing/train_data/8/4133.bmp  \n",
            "  inflating: real_or_drawing/train_data/8/4134.bmp  \n",
            "  inflating: real_or_drawing/train_data/8/4135.bmp  \n",
            "  inflating: real_or_drawing/train_data/8/4136.bmp  \n",
            "  inflating: real_or_drawing/train_data/8/4137.bmp  \n",
            "  inflating: real_or_drawing/train_data/8/4138.bmp  \n",
            "  inflating: real_or_drawing/train_data/8/4139.bmp  \n",
            "  inflating: real_or_drawing/train_data/8/4140.bmp  \n",
            "  inflating: real_or_drawing/train_data/8/4141.bmp  \n",
            "  inflating: real_or_drawing/train_data/8/4142.bmp  \n",
            "  inflating: real_or_drawing/train_data/8/4143.bmp  \n",
            "  inflating: real_or_drawing/train_data/8/4144.bmp  \n",
            "  inflating: real_or_drawing/train_data/8/4145.bmp  \n",
            "  inflating: real_or_drawing/train_data/8/4146.bmp  \n",
            "  inflating: real_or_drawing/train_data/8/4147.bmp  \n",
            "  inflating: real_or_drawing/train_data/8/4148.bmp  \n",
            "  inflating: real_or_drawing/train_data/8/4149.bmp  \n",
            "  inflating: real_or_drawing/train_data/8/4150.bmp  \n",
            "  inflating: real_or_drawing/train_data/8/4151.bmp  \n",
            "  inflating: real_or_drawing/train_data/8/4152.bmp  \n",
            "  inflating: real_or_drawing/train_data/8/4153.bmp  \n",
            "  inflating: real_or_drawing/train_data/8/4154.bmp  \n",
            "  inflating: real_or_drawing/train_data/8/4155.bmp  \n",
            "  inflating: real_or_drawing/train_data/8/4156.bmp  \n",
            "  inflating: real_or_drawing/train_data/8/4157.bmp  \n",
            "  inflating: real_or_drawing/train_data/8/4158.bmp  \n",
            "  inflating: real_or_drawing/train_data/8/4159.bmp  \n",
            "  inflating: real_or_drawing/train_data/8/4160.bmp  \n",
            "  inflating: real_or_drawing/train_data/8/4161.bmp  \n",
            "  inflating: real_or_drawing/train_data/8/4162.bmp  \n",
            "  inflating: real_or_drawing/train_data/8/4163.bmp  \n",
            "  inflating: real_or_drawing/train_data/8/4164.bmp  \n",
            "  inflating: real_or_drawing/train_data/8/4165.bmp  \n",
            "  inflating: real_or_drawing/train_data/8/4166.bmp  \n",
            "  inflating: real_or_drawing/train_data/8/4167.bmp  \n",
            "  inflating: real_or_drawing/train_data/8/4168.bmp  \n",
            "  inflating: real_or_drawing/train_data/8/4169.bmp  \n",
            "  inflating: real_or_drawing/train_data/8/4170.bmp  \n",
            "  inflating: real_or_drawing/train_data/8/4171.bmp  \n",
            "  inflating: real_or_drawing/train_data/8/4172.bmp  \n",
            "  inflating: real_or_drawing/train_data/8/4173.bmp  \n",
            "  inflating: real_or_drawing/train_data/8/4174.bmp  \n",
            "  inflating: real_or_drawing/train_data/8/4175.bmp  \n",
            "  inflating: real_or_drawing/train_data/8/4176.bmp  \n",
            "  inflating: real_or_drawing/train_data/8/4177.bmp  \n",
            "  inflating: real_or_drawing/train_data/8/4178.bmp  \n",
            "  inflating: real_or_drawing/train_data/8/4179.bmp  \n",
            "  inflating: real_or_drawing/train_data/8/4180.bmp  \n",
            "  inflating: real_or_drawing/train_data/8/4181.bmp  \n",
            "  inflating: real_or_drawing/train_data/8/4182.bmp  \n",
            "  inflating: real_or_drawing/train_data/8/4183.bmp  \n",
            "  inflating: real_or_drawing/train_data/8/4184.bmp  \n",
            "  inflating: real_or_drawing/train_data/8/4185.bmp  \n",
            "  inflating: real_or_drawing/train_data/8/4186.bmp  \n",
            "  inflating: real_or_drawing/train_data/8/4187.bmp  \n",
            "  inflating: real_or_drawing/train_data/8/4188.bmp  \n",
            "  inflating: real_or_drawing/train_data/8/4189.bmp  \n",
            "  inflating: real_or_drawing/train_data/8/4190.bmp  \n",
            "  inflating: real_or_drawing/train_data/8/4191.bmp  \n",
            "  inflating: real_or_drawing/train_data/8/4192.bmp  \n",
            "  inflating: real_or_drawing/train_data/8/4193.bmp  \n",
            "  inflating: real_or_drawing/train_data/8/4194.bmp  \n",
            "  inflating: real_or_drawing/train_data/8/4195.bmp  \n",
            "  inflating: real_or_drawing/train_data/8/4196.bmp  \n",
            "  inflating: real_or_drawing/train_data/8/4197.bmp  \n",
            "  inflating: real_or_drawing/train_data/8/4198.bmp  \n",
            "  inflating: real_or_drawing/train_data/8/4199.bmp  \n",
            "  inflating: real_or_drawing/train_data/8/4200.bmp  \n",
            "  inflating: real_or_drawing/train_data/8/4201.bmp  \n",
            "  inflating: real_or_drawing/train_data/8/4202.bmp  \n",
            "  inflating: real_or_drawing/train_data/8/4203.bmp  \n",
            "  inflating: real_or_drawing/train_data/8/4204.bmp  \n",
            "  inflating: real_or_drawing/train_data/8/4205.bmp  \n",
            "  inflating: real_or_drawing/train_data/8/4206.bmp  \n",
            "  inflating: real_or_drawing/train_data/8/4207.bmp  \n",
            "  inflating: real_or_drawing/train_data/8/4208.bmp  \n",
            "  inflating: real_or_drawing/train_data/8/4209.bmp  \n",
            "  inflating: real_or_drawing/train_data/8/4210.bmp  \n",
            "  inflating: real_or_drawing/train_data/8/4211.bmp  \n",
            "  inflating: real_or_drawing/train_data/8/4212.bmp  \n",
            "  inflating: real_or_drawing/train_data/8/4213.bmp  \n",
            "  inflating: real_or_drawing/train_data/8/4214.bmp  \n",
            "  inflating: real_or_drawing/train_data/8/4215.bmp  \n",
            "  inflating: real_or_drawing/train_data/8/4216.bmp  \n",
            "  inflating: real_or_drawing/train_data/8/4217.bmp  \n",
            "  inflating: real_or_drawing/train_data/8/4218.bmp  \n",
            "  inflating: real_or_drawing/train_data/8/4219.bmp  \n",
            "  inflating: real_or_drawing/train_data/8/4220.bmp  \n",
            "  inflating: real_or_drawing/train_data/8/4221.bmp  \n",
            "  inflating: real_or_drawing/train_data/8/4222.bmp  \n",
            "  inflating: real_or_drawing/train_data/8/4223.bmp  \n",
            "  inflating: real_or_drawing/train_data/8/4224.bmp  \n",
            "  inflating: real_or_drawing/train_data/8/4225.bmp  \n",
            "  inflating: real_or_drawing/train_data/8/4226.bmp  \n",
            "  inflating: real_or_drawing/train_data/8/4227.bmp  \n",
            "  inflating: real_or_drawing/train_data/8/4228.bmp  \n",
            "  inflating: real_or_drawing/train_data/8/4229.bmp  \n",
            "  inflating: real_or_drawing/train_data/8/4230.bmp  \n",
            "  inflating: real_or_drawing/train_data/8/4231.bmp  \n",
            "  inflating: real_or_drawing/train_data/8/4232.bmp  \n",
            "  inflating: real_or_drawing/train_data/8/4233.bmp  \n",
            "  inflating: real_or_drawing/train_data/8/4234.bmp  \n",
            "  inflating: real_or_drawing/train_data/8/4235.bmp  \n",
            "  inflating: real_or_drawing/train_data/8/4236.bmp  \n",
            "  inflating: real_or_drawing/train_data/8/4237.bmp  \n",
            "  inflating: real_or_drawing/train_data/8/4238.bmp  \n",
            "  inflating: real_or_drawing/train_data/8/4239.bmp  \n",
            "  inflating: real_or_drawing/train_data/8/4240.bmp  \n",
            "  inflating: real_or_drawing/train_data/8/4241.bmp  \n",
            "  inflating: real_or_drawing/train_data/8/4242.bmp  \n",
            "  inflating: real_or_drawing/train_data/8/4243.bmp  \n",
            "  inflating: real_or_drawing/train_data/8/4244.bmp  \n",
            "  inflating: real_or_drawing/train_data/8/4245.bmp  \n",
            "  inflating: real_or_drawing/train_data/8/4246.bmp  \n",
            "  inflating: real_or_drawing/train_data/8/4247.bmp  \n",
            "  inflating: real_or_drawing/train_data/8/4248.bmp  \n",
            "  inflating: real_or_drawing/train_data/8/4249.bmp  \n",
            "  inflating: real_or_drawing/train_data/8/4250.bmp  \n",
            "  inflating: real_or_drawing/train_data/8/4251.bmp  \n",
            "  inflating: real_or_drawing/train_data/8/4252.bmp  \n",
            "  inflating: real_or_drawing/train_data/8/4253.bmp  \n",
            "  inflating: real_or_drawing/train_data/8/4254.bmp  \n",
            "  inflating: real_or_drawing/train_data/8/4255.bmp  \n",
            "  inflating: real_or_drawing/train_data/8/4256.bmp  \n",
            "  inflating: real_or_drawing/train_data/8/4257.bmp  \n",
            "  inflating: real_or_drawing/train_data/8/4258.bmp  \n",
            "  inflating: real_or_drawing/train_data/8/4259.bmp  \n",
            "  inflating: real_or_drawing/train_data/8/4260.bmp  \n",
            "  inflating: real_or_drawing/train_data/8/4261.bmp  \n",
            "  inflating: real_or_drawing/train_data/8/4262.bmp  \n",
            "  inflating: real_or_drawing/train_data/8/4263.bmp  \n",
            "  inflating: real_or_drawing/train_data/8/4264.bmp  \n",
            "  inflating: real_or_drawing/train_data/8/4265.bmp  \n",
            "  inflating: real_or_drawing/train_data/8/4266.bmp  \n",
            "  inflating: real_or_drawing/train_data/8/4267.bmp  \n",
            "  inflating: real_or_drawing/train_data/8/4268.bmp  \n",
            "  inflating: real_or_drawing/train_data/8/4269.bmp  \n",
            "  inflating: real_or_drawing/train_data/8/4270.bmp  \n",
            "  inflating: real_or_drawing/train_data/8/4271.bmp  \n",
            "  inflating: real_or_drawing/train_data/8/4272.bmp  \n",
            "  inflating: real_or_drawing/train_data/8/4273.bmp  \n",
            "  inflating: real_or_drawing/train_data/8/4274.bmp  \n",
            "  inflating: real_or_drawing/train_data/8/4275.bmp  \n",
            "  inflating: real_or_drawing/train_data/8/4276.bmp  \n",
            "  inflating: real_or_drawing/train_data/8/4277.bmp  \n",
            "  inflating: real_or_drawing/train_data/8/4278.bmp  \n",
            "  inflating: real_or_drawing/train_data/8/4279.bmp  \n",
            "  inflating: real_or_drawing/train_data/8/4280.bmp  \n",
            "  inflating: real_or_drawing/train_data/8/4281.bmp  \n",
            "  inflating: real_or_drawing/train_data/8/4282.bmp  \n",
            "  inflating: real_or_drawing/train_data/8/4283.bmp  \n",
            "  inflating: real_or_drawing/train_data/8/4284.bmp  \n",
            "  inflating: real_or_drawing/train_data/8/4285.bmp  \n",
            "  inflating: real_or_drawing/train_data/8/4286.bmp  \n",
            "  inflating: real_or_drawing/train_data/8/4287.bmp  \n",
            "  inflating: real_or_drawing/train_data/8/4288.bmp  \n",
            "  inflating: real_or_drawing/train_data/8/4289.bmp  \n",
            "  inflating: real_or_drawing/train_data/8/4290.bmp  \n",
            "  inflating: real_or_drawing/train_data/8/4291.bmp  \n",
            "  inflating: real_or_drawing/train_data/8/4292.bmp  \n",
            "  inflating: real_or_drawing/train_data/8/4293.bmp  \n",
            "  inflating: real_or_drawing/train_data/8/4294.bmp  \n",
            "  inflating: real_or_drawing/train_data/8/4295.bmp  \n",
            "  inflating: real_or_drawing/train_data/8/4296.bmp  \n",
            "  inflating: real_or_drawing/train_data/8/4297.bmp  \n",
            "  inflating: real_or_drawing/train_data/8/4298.bmp  \n",
            "  inflating: real_or_drawing/train_data/8/4299.bmp  \n",
            "  inflating: real_or_drawing/train_data/8/4300.bmp  \n",
            "  inflating: real_or_drawing/train_data/8/4301.bmp  \n",
            "  inflating: real_or_drawing/train_data/8/4302.bmp  \n",
            "  inflating: real_or_drawing/train_data/8/4303.bmp  \n",
            "  inflating: real_or_drawing/train_data/8/4304.bmp  \n",
            "  inflating: real_or_drawing/train_data/8/4305.bmp  \n",
            "  inflating: real_or_drawing/train_data/8/4306.bmp  \n",
            "  inflating: real_or_drawing/train_data/8/4307.bmp  \n",
            "  inflating: real_or_drawing/train_data/8/4308.bmp  \n",
            "  inflating: real_or_drawing/train_data/8/4309.bmp  \n",
            "  inflating: real_or_drawing/train_data/8/4310.bmp  \n",
            "  inflating: real_or_drawing/train_data/8/4311.bmp  \n",
            "  inflating: real_or_drawing/train_data/8/4312.bmp  \n",
            "  inflating: real_or_drawing/train_data/8/4313.bmp  \n",
            "  inflating: real_or_drawing/train_data/8/4314.bmp  \n",
            "  inflating: real_or_drawing/train_data/8/4315.bmp  \n",
            "  inflating: real_or_drawing/train_data/8/4316.bmp  \n",
            "  inflating: real_or_drawing/train_data/8/4317.bmp  \n",
            "  inflating: real_or_drawing/train_data/8/4318.bmp  \n",
            "  inflating: real_or_drawing/train_data/8/4319.bmp  \n",
            "  inflating: real_or_drawing/train_data/8/4320.bmp  \n",
            "  inflating: real_or_drawing/train_data/8/4321.bmp  \n",
            "  inflating: real_or_drawing/train_data/8/4322.bmp  \n",
            "  inflating: real_or_drawing/train_data/8/4323.bmp  \n",
            "  inflating: real_or_drawing/train_data/8/4324.bmp  \n",
            "  inflating: real_or_drawing/train_data/8/4325.bmp  \n",
            "  inflating: real_or_drawing/train_data/8/4326.bmp  \n",
            "  inflating: real_or_drawing/train_data/8/4327.bmp  \n",
            "  inflating: real_or_drawing/train_data/8/4328.bmp  \n",
            "  inflating: real_or_drawing/train_data/8/4329.bmp  \n",
            "  inflating: real_or_drawing/train_data/8/4330.bmp  \n",
            "  inflating: real_or_drawing/train_data/8/4331.bmp  \n",
            "  inflating: real_or_drawing/train_data/8/4332.bmp  \n",
            "  inflating: real_or_drawing/train_data/8/4333.bmp  \n",
            "  inflating: real_or_drawing/train_data/8/4334.bmp  \n",
            "  inflating: real_or_drawing/train_data/8/4335.bmp  \n",
            "  inflating: real_or_drawing/train_data/8/4336.bmp  \n",
            "  inflating: real_or_drawing/train_data/8/4337.bmp  \n",
            "  inflating: real_or_drawing/train_data/8/4338.bmp  \n",
            "  inflating: real_or_drawing/train_data/8/4339.bmp  \n",
            "  inflating: real_or_drawing/train_data/8/4340.bmp  \n",
            "  inflating: real_or_drawing/train_data/8/4341.bmp  \n",
            "  inflating: real_or_drawing/train_data/8/4342.bmp  \n",
            "  inflating: real_or_drawing/train_data/8/4343.bmp  \n",
            "  inflating: real_or_drawing/train_data/8/4344.bmp  \n",
            "  inflating: real_or_drawing/train_data/8/4345.bmp  \n",
            "  inflating: real_or_drawing/train_data/8/4346.bmp  \n",
            "  inflating: real_or_drawing/train_data/8/4347.bmp  \n",
            "  inflating: real_or_drawing/train_data/8/4348.bmp  \n",
            "  inflating: real_or_drawing/train_data/8/4349.bmp  \n",
            "  inflating: real_or_drawing/train_data/8/4350.bmp  \n",
            "  inflating: real_or_drawing/train_data/8/4351.bmp  \n",
            "  inflating: real_or_drawing/train_data/8/4352.bmp  \n",
            "  inflating: real_or_drawing/train_data/8/4353.bmp  \n",
            "  inflating: real_or_drawing/train_data/8/4354.bmp  \n",
            "  inflating: real_or_drawing/train_data/8/4355.bmp  \n",
            "  inflating: real_or_drawing/train_data/8/4356.bmp  \n",
            "  inflating: real_or_drawing/train_data/8/4357.bmp  \n",
            "  inflating: real_or_drawing/train_data/8/4358.bmp  \n",
            "  inflating: real_or_drawing/train_data/8/4359.bmp  \n",
            "  inflating: real_or_drawing/train_data/8/4360.bmp  \n",
            "  inflating: real_or_drawing/train_data/8/4361.bmp  \n",
            "  inflating: real_or_drawing/train_data/8/4362.bmp  \n",
            "  inflating: real_or_drawing/train_data/8/4363.bmp  \n",
            "  inflating: real_or_drawing/train_data/8/4364.bmp  \n",
            "  inflating: real_or_drawing/train_data/8/4365.bmp  \n",
            "  inflating: real_or_drawing/train_data/8/4366.bmp  \n",
            "  inflating: real_or_drawing/train_data/8/4367.bmp  \n",
            "  inflating: real_or_drawing/train_data/8/4368.bmp  \n",
            "  inflating: real_or_drawing/train_data/8/4369.bmp  \n",
            "  inflating: real_or_drawing/train_data/8/4370.bmp  \n",
            "  inflating: real_or_drawing/train_data/8/4371.bmp  \n",
            "  inflating: real_or_drawing/train_data/8/4372.bmp  \n",
            "  inflating: real_or_drawing/train_data/8/4373.bmp  \n",
            "  inflating: real_or_drawing/train_data/8/4374.bmp  \n",
            "  inflating: real_or_drawing/train_data/8/4375.bmp  \n",
            "  inflating: real_or_drawing/train_data/8/4376.bmp  \n",
            "  inflating: real_or_drawing/train_data/8/4377.bmp  \n",
            "  inflating: real_or_drawing/train_data/8/4378.bmp  \n",
            "  inflating: real_or_drawing/train_data/8/4379.bmp  \n",
            "  inflating: real_or_drawing/train_data/8/4380.bmp  \n",
            "  inflating: real_or_drawing/train_data/8/4381.bmp  \n",
            "  inflating: real_or_drawing/train_data/8/4382.bmp  \n",
            "  inflating: real_or_drawing/train_data/8/4383.bmp  \n",
            "  inflating: real_or_drawing/train_data/8/4384.bmp  \n",
            "  inflating: real_or_drawing/train_data/8/4385.bmp  \n",
            "  inflating: real_or_drawing/train_data/8/4386.bmp  \n",
            "  inflating: real_or_drawing/train_data/8/4387.bmp  \n",
            "  inflating: real_or_drawing/train_data/8/4388.bmp  \n",
            "  inflating: real_or_drawing/train_data/8/4389.bmp  \n",
            "  inflating: real_or_drawing/train_data/8/4390.bmp  \n",
            "  inflating: real_or_drawing/train_data/8/4391.bmp  \n",
            "  inflating: real_or_drawing/train_data/8/4392.bmp  \n",
            "  inflating: real_or_drawing/train_data/8/4393.bmp  \n",
            "  inflating: real_or_drawing/train_data/8/4394.bmp  \n",
            "  inflating: real_or_drawing/train_data/8/4395.bmp  \n",
            "  inflating: real_or_drawing/train_data/8/4396.bmp  \n",
            "  inflating: real_or_drawing/train_data/8/4397.bmp  \n",
            "  inflating: real_or_drawing/train_data/8/4398.bmp  \n",
            "  inflating: real_or_drawing/train_data/8/4399.bmp  \n",
            "  inflating: real_or_drawing/train_data/8/4400.bmp  \n",
            "  inflating: real_or_drawing/train_data/8/4401.bmp  \n",
            "  inflating: real_or_drawing/train_data/8/4402.bmp  \n",
            "  inflating: real_or_drawing/train_data/8/4403.bmp  \n",
            "  inflating: real_or_drawing/train_data/8/4404.bmp  \n",
            "  inflating: real_or_drawing/train_data/8/4405.bmp  \n",
            "  inflating: real_or_drawing/train_data/8/4406.bmp  \n",
            "  inflating: real_or_drawing/train_data/8/4407.bmp  \n",
            "  inflating: real_or_drawing/train_data/8/4408.bmp  \n",
            "  inflating: real_or_drawing/train_data/8/4409.bmp  \n",
            "  inflating: real_or_drawing/train_data/8/4410.bmp  \n",
            "  inflating: real_or_drawing/train_data/8/4411.bmp  \n",
            "  inflating: real_or_drawing/train_data/8/4412.bmp  \n",
            "  inflating: real_or_drawing/train_data/8/4413.bmp  \n",
            "  inflating: real_or_drawing/train_data/8/4414.bmp  \n",
            "  inflating: real_or_drawing/train_data/8/4415.bmp  \n",
            "  inflating: real_or_drawing/train_data/8/4416.bmp  \n",
            "  inflating: real_or_drawing/train_data/8/4417.bmp  \n",
            "  inflating: real_or_drawing/train_data/8/4418.bmp  \n",
            "  inflating: real_or_drawing/train_data/8/4419.bmp  \n",
            "  inflating: real_or_drawing/train_data/8/4420.bmp  \n",
            "  inflating: real_or_drawing/train_data/8/4421.bmp  \n",
            "  inflating: real_or_drawing/train_data/8/4422.bmp  \n",
            "  inflating: real_or_drawing/train_data/8/4423.bmp  \n",
            "  inflating: real_or_drawing/train_data/8/4424.bmp  \n",
            "  inflating: real_or_drawing/train_data/8/4425.bmp  \n",
            "  inflating: real_or_drawing/train_data/8/4426.bmp  \n",
            "  inflating: real_or_drawing/train_data/8/4427.bmp  \n",
            "  inflating: real_or_drawing/train_data/8/4428.bmp  \n",
            "  inflating: real_or_drawing/train_data/8/4429.bmp  \n",
            "  inflating: real_or_drawing/train_data/8/4430.bmp  \n",
            "  inflating: real_or_drawing/train_data/8/4431.bmp  \n",
            "  inflating: real_or_drawing/train_data/8/4432.bmp  \n",
            "  inflating: real_or_drawing/train_data/8/4433.bmp  \n",
            "  inflating: real_or_drawing/train_data/8/4434.bmp  \n",
            "  inflating: real_or_drawing/train_data/8/4435.bmp  \n",
            "  inflating: real_or_drawing/train_data/8/4436.bmp  \n",
            "  inflating: real_or_drawing/train_data/8/4437.bmp  \n",
            "  inflating: real_or_drawing/train_data/8/4438.bmp  \n",
            "  inflating: real_or_drawing/train_data/8/4439.bmp  \n",
            "  inflating: real_or_drawing/train_data/8/4440.bmp  \n",
            "  inflating: real_or_drawing/train_data/8/4441.bmp  \n",
            "  inflating: real_or_drawing/train_data/8/4442.bmp  \n",
            "  inflating: real_or_drawing/train_data/8/4443.bmp  \n",
            "  inflating: real_or_drawing/train_data/8/4444.bmp  \n",
            "  inflating: real_or_drawing/train_data/8/4445.bmp  \n",
            "  inflating: real_or_drawing/train_data/8/4446.bmp  \n",
            "  inflating: real_or_drawing/train_data/8/4447.bmp  \n",
            "  inflating: real_or_drawing/train_data/8/4448.bmp  \n",
            "  inflating: real_or_drawing/train_data/8/4449.bmp  \n",
            "  inflating: real_or_drawing/train_data/8/4450.bmp  \n",
            "  inflating: real_or_drawing/train_data/8/4451.bmp  \n",
            "  inflating: real_or_drawing/train_data/8/4452.bmp  \n",
            "  inflating: real_or_drawing/train_data/8/4453.bmp  \n",
            "  inflating: real_or_drawing/train_data/8/4454.bmp  \n",
            "  inflating: real_or_drawing/train_data/8/4455.bmp  \n",
            "  inflating: real_or_drawing/train_data/8/4456.bmp  \n",
            "  inflating: real_or_drawing/train_data/8/4457.bmp  \n",
            "  inflating: real_or_drawing/train_data/8/4458.bmp  \n",
            "  inflating: real_or_drawing/train_data/8/4459.bmp  \n",
            "  inflating: real_or_drawing/train_data/8/4460.bmp  \n",
            "  inflating: real_or_drawing/train_data/8/4461.bmp  \n",
            "  inflating: real_or_drawing/train_data/8/4462.bmp  \n",
            "  inflating: real_or_drawing/train_data/8/4463.bmp  \n",
            "  inflating: real_or_drawing/train_data/8/4464.bmp  \n",
            "  inflating: real_or_drawing/train_data/8/4465.bmp  \n",
            "  inflating: real_or_drawing/train_data/8/4466.bmp  \n",
            "  inflating: real_or_drawing/train_data/8/4467.bmp  \n",
            "  inflating: real_or_drawing/train_data/8/4468.bmp  \n",
            "  inflating: real_or_drawing/train_data/8/4469.bmp  \n",
            "  inflating: real_or_drawing/train_data/8/4470.bmp  \n",
            "  inflating: real_or_drawing/train_data/8/4471.bmp  \n",
            "  inflating: real_or_drawing/train_data/8/4472.bmp  \n",
            "  inflating: real_or_drawing/train_data/8/4473.bmp  \n",
            "  inflating: real_or_drawing/train_data/8/4474.bmp  \n",
            "  inflating: real_or_drawing/train_data/8/4475.bmp  \n",
            "  inflating: real_or_drawing/train_data/8/4476.bmp  \n",
            "  inflating: real_or_drawing/train_data/8/4477.bmp  \n",
            "  inflating: real_or_drawing/train_data/8/4478.bmp  \n",
            "  inflating: real_or_drawing/train_data/8/4479.bmp  \n",
            "  inflating: real_or_drawing/train_data/8/4480.bmp  \n",
            "  inflating: real_or_drawing/train_data/8/4481.bmp  \n",
            "  inflating: real_or_drawing/train_data/8/4482.bmp  \n",
            "  inflating: real_or_drawing/train_data/8/4483.bmp  \n",
            "  inflating: real_or_drawing/train_data/8/4484.bmp  \n",
            "  inflating: real_or_drawing/train_data/8/4485.bmp  \n",
            "  inflating: real_or_drawing/train_data/8/4486.bmp  \n",
            "  inflating: real_or_drawing/train_data/8/4487.bmp  \n",
            "  inflating: real_or_drawing/train_data/8/4488.bmp  \n",
            "  inflating: real_or_drawing/train_data/8/4489.bmp  \n",
            "  inflating: real_or_drawing/train_data/8/4490.bmp  \n",
            "  inflating: real_or_drawing/train_data/8/4491.bmp  \n",
            "  inflating: real_or_drawing/train_data/8/4492.bmp  \n",
            "  inflating: real_or_drawing/train_data/8/4493.bmp  \n",
            "  inflating: real_or_drawing/train_data/8/4494.bmp  \n",
            "  inflating: real_or_drawing/train_data/8/4495.bmp  \n",
            "  inflating: real_or_drawing/train_data/8/4496.bmp  \n",
            "  inflating: real_or_drawing/train_data/8/4497.bmp  \n",
            "  inflating: real_or_drawing/train_data/8/4498.bmp  \n",
            "  inflating: real_or_drawing/train_data/8/4499.bmp  \n",
            "   creating: real_or_drawing/train_data/9/\n",
            "  inflating: real_or_drawing/train_data/9/4500.bmp  \n",
            "  inflating: real_or_drawing/train_data/9/4501.bmp  \n",
            "  inflating: real_or_drawing/train_data/9/4502.bmp  \n",
            "  inflating: real_or_drawing/train_data/9/4503.bmp  \n",
            "  inflating: real_or_drawing/train_data/9/4504.bmp  \n",
            "  inflating: real_or_drawing/train_data/9/4505.bmp  \n",
            "  inflating: real_or_drawing/train_data/9/4506.bmp  \n",
            "  inflating: real_or_drawing/train_data/9/4507.bmp  \n",
            "  inflating: real_or_drawing/train_data/9/4508.bmp  \n",
            "  inflating: real_or_drawing/train_data/9/4509.bmp  \n",
            "  inflating: real_or_drawing/train_data/9/4510.bmp  \n",
            "  inflating: real_or_drawing/train_data/9/4511.bmp  \n",
            "  inflating: real_or_drawing/train_data/9/4512.bmp  \n",
            "  inflating: real_or_drawing/train_data/9/4513.bmp  \n",
            "  inflating: real_or_drawing/train_data/9/4514.bmp  \n",
            "  inflating: real_or_drawing/train_data/9/4515.bmp  \n",
            "  inflating: real_or_drawing/train_data/9/4516.bmp  \n",
            "  inflating: real_or_drawing/train_data/9/4517.bmp  \n",
            "  inflating: real_or_drawing/train_data/9/4518.bmp  \n",
            "  inflating: real_or_drawing/train_data/9/4519.bmp  \n",
            "  inflating: real_or_drawing/train_data/9/4520.bmp  \n",
            "  inflating: real_or_drawing/train_data/9/4521.bmp  \n",
            "  inflating: real_or_drawing/train_data/9/4522.bmp  \n",
            "  inflating: real_or_drawing/train_data/9/4523.bmp  \n",
            "  inflating: real_or_drawing/train_data/9/4524.bmp  \n",
            "  inflating: real_or_drawing/train_data/9/4525.bmp  \n",
            "  inflating: real_or_drawing/train_data/9/4526.bmp  \n",
            "  inflating: real_or_drawing/train_data/9/4527.bmp  \n",
            "  inflating: real_or_drawing/train_data/9/4528.bmp  \n",
            "  inflating: real_or_drawing/train_data/9/4529.bmp  \n",
            "  inflating: real_or_drawing/train_data/9/4530.bmp  \n",
            "  inflating: real_or_drawing/train_data/9/4531.bmp  \n",
            "  inflating: real_or_drawing/train_data/9/4532.bmp  \n",
            "  inflating: real_or_drawing/train_data/9/4533.bmp  \n",
            "  inflating: real_or_drawing/train_data/9/4534.bmp  \n",
            "  inflating: real_or_drawing/train_data/9/4535.bmp  \n",
            "  inflating: real_or_drawing/train_data/9/4536.bmp  \n",
            "  inflating: real_or_drawing/train_data/9/4537.bmp  \n",
            "  inflating: real_or_drawing/train_data/9/4538.bmp  \n",
            "  inflating: real_or_drawing/train_data/9/4539.bmp  \n",
            "  inflating: real_or_drawing/train_data/9/4540.bmp  \n",
            "  inflating: real_or_drawing/train_data/9/4541.bmp  \n",
            "  inflating: real_or_drawing/train_data/9/4542.bmp  \n",
            "  inflating: real_or_drawing/train_data/9/4543.bmp  \n",
            "  inflating: real_or_drawing/train_data/9/4544.bmp  \n",
            "  inflating: real_or_drawing/train_data/9/4545.bmp  \n",
            "  inflating: real_or_drawing/train_data/9/4546.bmp  \n",
            "  inflating: real_or_drawing/train_data/9/4547.bmp  \n",
            "  inflating: real_or_drawing/train_data/9/4548.bmp  \n",
            "  inflating: real_or_drawing/train_data/9/4549.bmp  \n",
            "  inflating: real_or_drawing/train_data/9/4550.bmp  \n",
            "  inflating: real_or_drawing/train_data/9/4551.bmp  \n",
            "  inflating: real_or_drawing/train_data/9/4552.bmp  \n",
            "  inflating: real_or_drawing/train_data/9/4553.bmp  \n",
            "  inflating: real_or_drawing/train_data/9/4554.bmp  \n",
            "  inflating: real_or_drawing/train_data/9/4555.bmp  \n",
            "  inflating: real_or_drawing/train_data/9/4556.bmp  \n",
            "  inflating: real_or_drawing/train_data/9/4557.bmp  \n",
            "  inflating: real_or_drawing/train_data/9/4558.bmp  \n",
            "  inflating: real_or_drawing/train_data/9/4559.bmp  \n",
            "  inflating: real_or_drawing/train_data/9/4560.bmp  \n",
            "  inflating: real_or_drawing/train_data/9/4561.bmp  \n",
            "  inflating: real_or_drawing/train_data/9/4562.bmp  \n",
            "  inflating: real_or_drawing/train_data/9/4563.bmp  \n",
            "  inflating: real_or_drawing/train_data/9/4564.bmp  \n",
            "  inflating: real_or_drawing/train_data/9/4565.bmp  \n",
            "  inflating: real_or_drawing/train_data/9/4566.bmp  \n",
            "  inflating: real_or_drawing/train_data/9/4567.bmp  \n",
            "  inflating: real_or_drawing/train_data/9/4568.bmp  \n",
            "  inflating: real_or_drawing/train_data/9/4569.bmp  \n",
            "  inflating: real_or_drawing/train_data/9/4570.bmp  \n",
            "  inflating: real_or_drawing/train_data/9/4571.bmp  \n",
            "  inflating: real_or_drawing/train_data/9/4572.bmp  \n",
            "  inflating: real_or_drawing/train_data/9/4573.bmp  \n",
            "  inflating: real_or_drawing/train_data/9/4574.bmp  \n",
            "  inflating: real_or_drawing/train_data/9/4575.bmp  \n",
            "  inflating: real_or_drawing/train_data/9/4576.bmp  \n",
            "  inflating: real_or_drawing/train_data/9/4577.bmp  \n",
            "  inflating: real_or_drawing/train_data/9/4578.bmp  \n",
            "  inflating: real_or_drawing/train_data/9/4579.bmp  \n",
            "  inflating: real_or_drawing/train_data/9/4580.bmp  \n",
            "  inflating: real_or_drawing/train_data/9/4581.bmp  \n",
            "  inflating: real_or_drawing/train_data/9/4582.bmp  \n",
            "  inflating: real_or_drawing/train_data/9/4583.bmp  \n",
            "  inflating: real_or_drawing/train_data/9/4584.bmp  \n",
            "  inflating: real_or_drawing/train_data/9/4585.bmp  \n",
            "  inflating: real_or_drawing/train_data/9/4586.bmp  \n",
            "  inflating: real_or_drawing/train_data/9/4587.bmp  \n",
            "  inflating: real_or_drawing/train_data/9/4588.bmp  \n",
            "  inflating: real_or_drawing/train_data/9/4589.bmp  \n",
            "  inflating: real_or_drawing/train_data/9/4590.bmp  \n",
            "  inflating: real_or_drawing/train_data/9/4591.bmp  \n",
            "  inflating: real_or_drawing/train_data/9/4592.bmp  \n",
            "  inflating: real_or_drawing/train_data/9/4593.bmp  \n",
            "  inflating: real_or_drawing/train_data/9/4594.bmp  \n",
            "  inflating: real_or_drawing/train_data/9/4595.bmp  \n",
            "  inflating: real_or_drawing/train_data/9/4596.bmp  \n",
            "  inflating: real_or_drawing/train_data/9/4597.bmp  \n",
            "  inflating: real_or_drawing/train_data/9/4598.bmp  \n",
            "  inflating: real_or_drawing/train_data/9/4599.bmp  \n",
            "  inflating: real_or_drawing/train_data/9/4600.bmp  \n",
            "  inflating: real_or_drawing/train_data/9/4601.bmp  \n",
            "  inflating: real_or_drawing/train_data/9/4602.bmp  \n",
            "  inflating: real_or_drawing/train_data/9/4603.bmp  \n",
            "  inflating: real_or_drawing/train_data/9/4604.bmp  \n",
            "  inflating: real_or_drawing/train_data/9/4605.bmp  \n",
            "  inflating: real_or_drawing/train_data/9/4606.bmp  \n",
            "  inflating: real_or_drawing/train_data/9/4607.bmp  \n",
            "  inflating: real_or_drawing/train_data/9/4608.bmp  \n",
            "  inflating: real_or_drawing/train_data/9/4609.bmp  \n",
            "  inflating: real_or_drawing/train_data/9/4610.bmp  \n",
            "  inflating: real_or_drawing/train_data/9/4611.bmp  \n",
            "  inflating: real_or_drawing/train_data/9/4612.bmp  \n",
            "  inflating: real_or_drawing/train_data/9/4613.bmp  \n",
            "  inflating: real_or_drawing/train_data/9/4614.bmp  \n",
            "  inflating: real_or_drawing/train_data/9/4615.bmp  \n",
            "  inflating: real_or_drawing/train_data/9/4616.bmp  \n",
            "  inflating: real_or_drawing/train_data/9/4617.bmp  \n",
            "  inflating: real_or_drawing/train_data/9/4618.bmp  \n",
            "  inflating: real_or_drawing/train_data/9/4619.bmp  \n",
            "  inflating: real_or_drawing/train_data/9/4620.bmp  \n",
            "  inflating: real_or_drawing/train_data/9/4621.bmp  \n",
            "  inflating: real_or_drawing/train_data/9/4622.bmp  \n",
            "  inflating: real_or_drawing/train_data/9/4623.bmp  \n",
            "  inflating: real_or_drawing/train_data/9/4624.bmp  \n",
            "  inflating: real_or_drawing/train_data/9/4625.bmp  \n",
            "  inflating: real_or_drawing/train_data/9/4626.bmp  \n",
            "  inflating: real_or_drawing/train_data/9/4627.bmp  \n",
            "  inflating: real_or_drawing/train_data/9/4628.bmp  \n",
            "  inflating: real_or_drawing/train_data/9/4629.bmp  \n",
            "  inflating: real_or_drawing/train_data/9/4630.bmp  \n",
            "  inflating: real_or_drawing/train_data/9/4631.bmp  \n",
            "  inflating: real_or_drawing/train_data/9/4632.bmp  \n",
            "  inflating: real_or_drawing/train_data/9/4633.bmp  \n",
            "  inflating: real_or_drawing/train_data/9/4634.bmp  \n",
            "  inflating: real_or_drawing/train_data/9/4635.bmp  \n",
            "  inflating: real_or_drawing/train_data/9/4636.bmp  \n",
            "  inflating: real_or_drawing/train_data/9/4637.bmp  \n",
            "  inflating: real_or_drawing/train_data/9/4638.bmp  \n",
            "  inflating: real_or_drawing/train_data/9/4639.bmp  \n",
            "  inflating: real_or_drawing/train_data/9/4640.bmp  \n",
            "  inflating: real_or_drawing/train_data/9/4641.bmp  \n",
            "  inflating: real_or_drawing/train_data/9/4642.bmp  \n",
            "  inflating: real_or_drawing/train_data/9/4643.bmp  \n",
            "  inflating: real_or_drawing/train_data/9/4644.bmp  \n",
            "  inflating: real_or_drawing/train_data/9/4645.bmp  \n",
            "  inflating: real_or_drawing/train_data/9/4646.bmp  \n",
            "  inflating: real_or_drawing/train_data/9/4647.bmp  \n",
            "  inflating: real_or_drawing/train_data/9/4648.bmp  \n",
            "  inflating: real_or_drawing/train_data/9/4649.bmp  \n",
            "  inflating: real_or_drawing/train_data/9/4650.bmp  \n",
            "  inflating: real_or_drawing/train_data/9/4651.bmp  \n",
            "  inflating: real_or_drawing/train_data/9/4652.bmp  \n",
            "  inflating: real_or_drawing/train_data/9/4653.bmp  \n",
            "  inflating: real_or_drawing/train_data/9/4654.bmp  \n",
            "  inflating: real_or_drawing/train_data/9/4655.bmp  \n",
            "  inflating: real_or_drawing/train_data/9/4656.bmp  \n",
            "  inflating: real_or_drawing/train_data/9/4657.bmp  \n",
            "  inflating: real_or_drawing/train_data/9/4658.bmp  \n",
            "  inflating: real_or_drawing/train_data/9/4659.bmp  \n",
            "  inflating: real_or_drawing/train_data/9/4660.bmp  \n",
            "  inflating: real_or_drawing/train_data/9/4661.bmp  \n",
            "  inflating: real_or_drawing/train_data/9/4662.bmp  \n",
            "  inflating: real_or_drawing/train_data/9/4663.bmp  \n",
            "  inflating: real_or_drawing/train_data/9/4664.bmp  \n",
            "  inflating: real_or_drawing/train_data/9/4665.bmp  \n",
            "  inflating: real_or_drawing/train_data/9/4666.bmp  \n",
            "  inflating: real_or_drawing/train_data/9/4667.bmp  \n",
            "  inflating: real_or_drawing/train_data/9/4668.bmp  \n",
            "  inflating: real_or_drawing/train_data/9/4669.bmp  \n",
            "  inflating: real_or_drawing/train_data/9/4670.bmp  \n",
            "  inflating: real_or_drawing/train_data/9/4671.bmp  \n",
            "  inflating: real_or_drawing/train_data/9/4672.bmp  \n",
            "  inflating: real_or_drawing/train_data/9/4673.bmp  \n",
            "  inflating: real_or_drawing/train_data/9/4674.bmp  \n",
            "  inflating: real_or_drawing/train_data/9/4675.bmp  \n",
            "  inflating: real_or_drawing/train_data/9/4676.bmp  \n",
            "  inflating: real_or_drawing/train_data/9/4677.bmp  \n",
            "  inflating: real_or_drawing/train_data/9/4678.bmp  \n",
            "  inflating: real_or_drawing/train_data/9/4679.bmp  \n",
            "  inflating: real_or_drawing/train_data/9/4680.bmp  \n",
            "  inflating: real_or_drawing/train_data/9/4681.bmp  \n",
            "  inflating: real_or_drawing/train_data/9/4682.bmp  \n",
            "  inflating: real_or_drawing/train_data/9/4683.bmp  \n",
            "  inflating: real_or_drawing/train_data/9/4684.bmp  \n",
            "  inflating: real_or_drawing/train_data/9/4685.bmp  \n",
            "  inflating: real_or_drawing/train_data/9/4686.bmp  \n",
            "  inflating: real_or_drawing/train_data/9/4687.bmp  \n",
            "  inflating: real_or_drawing/train_data/9/4688.bmp  \n",
            "  inflating: real_or_drawing/train_data/9/4689.bmp  \n",
            "  inflating: real_or_drawing/train_data/9/4690.bmp  \n",
            "  inflating: real_or_drawing/train_data/9/4691.bmp  \n",
            "  inflating: real_or_drawing/train_data/9/4692.bmp  \n",
            "  inflating: real_or_drawing/train_data/9/4693.bmp  \n",
            "  inflating: real_or_drawing/train_data/9/4694.bmp  \n",
            "  inflating: real_or_drawing/train_data/9/4695.bmp  \n",
            "  inflating: real_or_drawing/train_data/9/4696.bmp  \n",
            "  inflating: real_or_drawing/train_data/9/4697.bmp  \n",
            "  inflating: real_or_drawing/train_data/9/4698.bmp  \n",
            "  inflating: real_or_drawing/train_data/9/4699.bmp  \n",
            "  inflating: real_or_drawing/train_data/9/4700.bmp  \n",
            "  inflating: real_or_drawing/train_data/9/4701.bmp  \n",
            "  inflating: real_or_drawing/train_data/9/4702.bmp  \n",
            "  inflating: real_or_drawing/train_data/9/4703.bmp  \n",
            "  inflating: real_or_drawing/train_data/9/4704.bmp  \n",
            "  inflating: real_or_drawing/train_data/9/4705.bmp  \n",
            "  inflating: real_or_drawing/train_data/9/4706.bmp  \n",
            "  inflating: real_or_drawing/train_data/9/4707.bmp  \n",
            "  inflating: real_or_drawing/train_data/9/4708.bmp  \n",
            "  inflating: real_or_drawing/train_data/9/4709.bmp  \n",
            "  inflating: real_or_drawing/train_data/9/4710.bmp  \n",
            "  inflating: real_or_drawing/train_data/9/4711.bmp  \n",
            "  inflating: real_or_drawing/train_data/9/4712.bmp  \n",
            "  inflating: real_or_drawing/train_data/9/4713.bmp  \n",
            "  inflating: real_or_drawing/train_data/9/4714.bmp  \n",
            "  inflating: real_or_drawing/train_data/9/4715.bmp  \n",
            "  inflating: real_or_drawing/train_data/9/4716.bmp  \n",
            "  inflating: real_or_drawing/train_data/9/4717.bmp  \n",
            "  inflating: real_or_drawing/train_data/9/4718.bmp  \n",
            "  inflating: real_or_drawing/train_data/9/4719.bmp  \n",
            "  inflating: real_or_drawing/train_data/9/4720.bmp  \n",
            "  inflating: real_or_drawing/train_data/9/4721.bmp  \n",
            "  inflating: real_or_drawing/train_data/9/4722.bmp  \n",
            "  inflating: real_or_drawing/train_data/9/4723.bmp  \n",
            "  inflating: real_or_drawing/train_data/9/4724.bmp  \n",
            "  inflating: real_or_drawing/train_data/9/4725.bmp  \n",
            "  inflating: real_or_drawing/train_data/9/4726.bmp  \n",
            "  inflating: real_or_drawing/train_data/9/4727.bmp  \n",
            "  inflating: real_or_drawing/train_data/9/4728.bmp  \n",
            "  inflating: real_or_drawing/train_data/9/4729.bmp  \n",
            "  inflating: real_or_drawing/train_data/9/4730.bmp  \n",
            "  inflating: real_or_drawing/train_data/9/4731.bmp  \n",
            "  inflating: real_or_drawing/train_data/9/4732.bmp  \n",
            "  inflating: real_or_drawing/train_data/9/4733.bmp  \n",
            "  inflating: real_or_drawing/train_data/9/4734.bmp  \n",
            "  inflating: real_or_drawing/train_data/9/4735.bmp  \n",
            "  inflating: real_or_drawing/train_data/9/4736.bmp  \n",
            "  inflating: real_or_drawing/train_data/9/4737.bmp  \n",
            "  inflating: real_or_drawing/train_data/9/4738.bmp  \n",
            "  inflating: real_or_drawing/train_data/9/4739.bmp  \n",
            "  inflating: real_or_drawing/train_data/9/4740.bmp  \n",
            "  inflating: real_or_drawing/train_data/9/4741.bmp  \n",
            "  inflating: real_or_drawing/train_data/9/4742.bmp  \n",
            "  inflating: real_or_drawing/train_data/9/4743.bmp  \n",
            "  inflating: real_or_drawing/train_data/9/4744.bmp  \n",
            "  inflating: real_or_drawing/train_data/9/4745.bmp  \n",
            "  inflating: real_or_drawing/train_data/9/4746.bmp  \n",
            "  inflating: real_or_drawing/train_data/9/4747.bmp  \n",
            "  inflating: real_or_drawing/train_data/9/4748.bmp  \n",
            "  inflating: real_or_drawing/train_data/9/4749.bmp  \n",
            "  inflating: real_or_drawing/train_data/9/4750.bmp  \n",
            "  inflating: real_or_drawing/train_data/9/4751.bmp  \n",
            "  inflating: real_or_drawing/train_data/9/4752.bmp  \n",
            "  inflating: real_or_drawing/train_data/9/4753.bmp  \n",
            "  inflating: real_or_drawing/train_data/9/4754.bmp  \n",
            "  inflating: real_or_drawing/train_data/9/4755.bmp  \n",
            "  inflating: real_or_drawing/train_data/9/4756.bmp  \n",
            "  inflating: real_or_drawing/train_data/9/4757.bmp  \n",
            "  inflating: real_or_drawing/train_data/9/4758.bmp  \n",
            "  inflating: real_or_drawing/train_data/9/4759.bmp  \n",
            "  inflating: real_or_drawing/train_data/9/4760.bmp  \n",
            "  inflating: real_or_drawing/train_data/9/4761.bmp  \n",
            "  inflating: real_or_drawing/train_data/9/4762.bmp  \n",
            "  inflating: real_or_drawing/train_data/9/4763.bmp  \n",
            "  inflating: real_or_drawing/train_data/9/4764.bmp  \n",
            "  inflating: real_or_drawing/train_data/9/4765.bmp  \n",
            "  inflating: real_or_drawing/train_data/9/4766.bmp  \n",
            "  inflating: real_or_drawing/train_data/9/4767.bmp  \n",
            "  inflating: real_or_drawing/train_data/9/4768.bmp  \n",
            "  inflating: real_or_drawing/train_data/9/4769.bmp  \n",
            "  inflating: real_or_drawing/train_data/9/4770.bmp  \n",
            "  inflating: real_or_drawing/train_data/9/4771.bmp  \n",
            "  inflating: real_or_drawing/train_data/9/4772.bmp  \n",
            "  inflating: real_or_drawing/train_data/9/4773.bmp  \n",
            "  inflating: real_or_drawing/train_data/9/4774.bmp  \n",
            "  inflating: real_or_drawing/train_data/9/4775.bmp  \n",
            "  inflating: real_or_drawing/train_data/9/4776.bmp  \n",
            "  inflating: real_or_drawing/train_data/9/4777.bmp  \n",
            "  inflating: real_or_drawing/train_data/9/4778.bmp  \n",
            "  inflating: real_or_drawing/train_data/9/4779.bmp  \n",
            "  inflating: real_or_drawing/train_data/9/4780.bmp  \n",
            "  inflating: real_or_drawing/train_data/9/4781.bmp  \n",
            "  inflating: real_or_drawing/train_data/9/4782.bmp  \n",
            "  inflating: real_or_drawing/train_data/9/4783.bmp  \n",
            "  inflating: real_or_drawing/train_data/9/4784.bmp  \n",
            "  inflating: real_or_drawing/train_data/9/4785.bmp  \n",
            "  inflating: real_or_drawing/train_data/9/4786.bmp  \n",
            "  inflating: real_or_drawing/train_data/9/4787.bmp  \n",
            "  inflating: real_or_drawing/train_data/9/4788.bmp  \n",
            "  inflating: real_or_drawing/train_data/9/4789.bmp  \n",
            "  inflating: real_or_drawing/train_data/9/4790.bmp  \n",
            "  inflating: real_or_drawing/train_data/9/4791.bmp  \n",
            "  inflating: real_or_drawing/train_data/9/4792.bmp  \n",
            "  inflating: real_or_drawing/train_data/9/4793.bmp  \n",
            "  inflating: real_or_drawing/train_data/9/4794.bmp  \n",
            "  inflating: real_or_drawing/train_data/9/4795.bmp  \n",
            "  inflating: real_or_drawing/train_data/9/4796.bmp  \n",
            "  inflating: real_or_drawing/train_data/9/4797.bmp  \n",
            "  inflating: real_or_drawing/train_data/9/4798.bmp  \n",
            "  inflating: real_or_drawing/train_data/9/4799.bmp  \n",
            "  inflating: real_or_drawing/train_data/9/4800.bmp  \n",
            "  inflating: real_or_drawing/train_data/9/4801.bmp  \n",
            "  inflating: real_or_drawing/train_data/9/4802.bmp  \n",
            "  inflating: real_or_drawing/train_data/9/4803.bmp  \n",
            "  inflating: real_or_drawing/train_data/9/4804.bmp  \n",
            "  inflating: real_or_drawing/train_data/9/4805.bmp  \n",
            "  inflating: real_or_drawing/train_data/9/4806.bmp  \n",
            "  inflating: real_or_drawing/train_data/9/4807.bmp  \n",
            "  inflating: real_or_drawing/train_data/9/4808.bmp  \n",
            "  inflating: real_or_drawing/train_data/9/4809.bmp  \n",
            "  inflating: real_or_drawing/train_data/9/4810.bmp  \n",
            "  inflating: real_or_drawing/train_data/9/4811.bmp  \n",
            "  inflating: real_or_drawing/train_data/9/4812.bmp  \n",
            "  inflating: real_or_drawing/train_data/9/4813.bmp  \n",
            "  inflating: real_or_drawing/train_data/9/4814.bmp  \n",
            "  inflating: real_or_drawing/train_data/9/4815.bmp  \n",
            "  inflating: real_or_drawing/train_data/9/4816.bmp  \n",
            "  inflating: real_or_drawing/train_data/9/4817.bmp  \n",
            "  inflating: real_or_drawing/train_data/9/4818.bmp  \n",
            "  inflating: real_or_drawing/train_data/9/4819.bmp  \n",
            "  inflating: real_or_drawing/train_data/9/4820.bmp  \n",
            "  inflating: real_or_drawing/train_data/9/4821.bmp  \n",
            "  inflating: real_or_drawing/train_data/9/4822.bmp  \n",
            "  inflating: real_or_drawing/train_data/9/4823.bmp  \n",
            "  inflating: real_or_drawing/train_data/9/4824.bmp  \n",
            "  inflating: real_or_drawing/train_data/9/4825.bmp  \n",
            "  inflating: real_or_drawing/train_data/9/4826.bmp  \n",
            "  inflating: real_or_drawing/train_data/9/4827.bmp  \n",
            "  inflating: real_or_drawing/train_data/9/4828.bmp  \n",
            "  inflating: real_or_drawing/train_data/9/4829.bmp  \n",
            "  inflating: real_or_drawing/train_data/9/4830.bmp  \n",
            "  inflating: real_or_drawing/train_data/9/4831.bmp  \n",
            "  inflating: real_or_drawing/train_data/9/4832.bmp  \n",
            "  inflating: real_or_drawing/train_data/9/4833.bmp  \n",
            "  inflating: real_or_drawing/train_data/9/4834.bmp  \n",
            "  inflating: real_or_drawing/train_data/9/4835.bmp  \n",
            "  inflating: real_or_drawing/train_data/9/4836.bmp  \n",
            "  inflating: real_or_drawing/train_data/9/4837.bmp  \n",
            "  inflating: real_or_drawing/train_data/9/4838.bmp  \n",
            "  inflating: real_or_drawing/train_data/9/4839.bmp  \n",
            "  inflating: real_or_drawing/train_data/9/4840.bmp  \n",
            "  inflating: real_or_drawing/train_data/9/4841.bmp  \n",
            "  inflating: real_or_drawing/train_data/9/4842.bmp  \n",
            "  inflating: real_or_drawing/train_data/9/4843.bmp  \n",
            "  inflating: real_or_drawing/train_data/9/4844.bmp  \n",
            "  inflating: real_or_drawing/train_data/9/4845.bmp  \n",
            "  inflating: real_or_drawing/train_data/9/4846.bmp  \n",
            "  inflating: real_or_drawing/train_data/9/4847.bmp  \n",
            "  inflating: real_or_drawing/train_data/9/4848.bmp  \n",
            "  inflating: real_or_drawing/train_data/9/4849.bmp  \n",
            "  inflating: real_or_drawing/train_data/9/4850.bmp  \n",
            "  inflating: real_or_drawing/train_data/9/4851.bmp  \n",
            "  inflating: real_or_drawing/train_data/9/4852.bmp  \n",
            "  inflating: real_or_drawing/train_data/9/4853.bmp  \n",
            "  inflating: real_or_drawing/train_data/9/4854.bmp  \n",
            "  inflating: real_or_drawing/train_data/9/4855.bmp  \n",
            "  inflating: real_or_drawing/train_data/9/4856.bmp  \n",
            "  inflating: real_or_drawing/train_data/9/4857.bmp  \n",
            "  inflating: real_or_drawing/train_data/9/4858.bmp  \n",
            "  inflating: real_or_drawing/train_data/9/4859.bmp  \n",
            "  inflating: real_or_drawing/train_data/9/4860.bmp  \n",
            "  inflating: real_or_drawing/train_data/9/4861.bmp  \n",
            "  inflating: real_or_drawing/train_data/9/4862.bmp  \n",
            "  inflating: real_or_drawing/train_data/9/4863.bmp  \n",
            "  inflating: real_or_drawing/train_data/9/4864.bmp  \n",
            "  inflating: real_or_drawing/train_data/9/4865.bmp  \n",
            "  inflating: real_or_drawing/train_data/9/4866.bmp  \n",
            "  inflating: real_or_drawing/train_data/9/4867.bmp  \n",
            "  inflating: real_or_drawing/train_data/9/4868.bmp  \n",
            "  inflating: real_or_drawing/train_data/9/4869.bmp  \n",
            "  inflating: real_or_drawing/train_data/9/4870.bmp  \n",
            "  inflating: real_or_drawing/train_data/9/4871.bmp  \n",
            "  inflating: real_or_drawing/train_data/9/4872.bmp  \n",
            "  inflating: real_or_drawing/train_data/9/4873.bmp  \n",
            "  inflating: real_or_drawing/train_data/9/4874.bmp  \n",
            "  inflating: real_or_drawing/train_data/9/4875.bmp  \n",
            "  inflating: real_or_drawing/train_data/9/4876.bmp  \n",
            "  inflating: real_or_drawing/train_data/9/4877.bmp  \n",
            "  inflating: real_or_drawing/train_data/9/4878.bmp  \n",
            "  inflating: real_or_drawing/train_data/9/4879.bmp  \n",
            "  inflating: real_or_drawing/train_data/9/4880.bmp  \n",
            "  inflating: real_or_drawing/train_data/9/4881.bmp  \n",
            "  inflating: real_or_drawing/train_data/9/4882.bmp  \n",
            "  inflating: real_or_drawing/train_data/9/4883.bmp  \n",
            "  inflating: real_or_drawing/train_data/9/4884.bmp  \n",
            "  inflating: real_or_drawing/train_data/9/4885.bmp  \n",
            "  inflating: real_or_drawing/train_data/9/4886.bmp  \n",
            "  inflating: real_or_drawing/train_data/9/4887.bmp  \n",
            "  inflating: real_or_drawing/train_data/9/4888.bmp  \n",
            "  inflating: real_or_drawing/train_data/9/4889.bmp  \n",
            "  inflating: real_or_drawing/train_data/9/4890.bmp  \n",
            "  inflating: real_or_drawing/train_data/9/4891.bmp  \n",
            "  inflating: real_or_drawing/train_data/9/4892.bmp  \n",
            "  inflating: real_or_drawing/train_data/9/4893.bmp  \n",
            "  inflating: real_or_drawing/train_data/9/4894.bmp  \n",
            "  inflating: real_or_drawing/train_data/9/4895.bmp  \n",
            "  inflating: real_or_drawing/train_data/9/4896.bmp  \n",
            "  inflating: real_or_drawing/train_data/9/4897.bmp  \n",
            "  inflating: real_or_drawing/train_data/9/4898.bmp  \n",
            "  inflating: real_or_drawing/train_data/9/4899.bmp  \n",
            "  inflating: real_or_drawing/train_data/9/4900.bmp  \n",
            "  inflating: real_or_drawing/train_data/9/4901.bmp  \n",
            "  inflating: real_or_drawing/train_data/9/4902.bmp  \n",
            "  inflating: real_or_drawing/train_data/9/4903.bmp  \n",
            "  inflating: real_or_drawing/train_data/9/4904.bmp  \n",
            "  inflating: real_or_drawing/train_data/9/4905.bmp  \n",
            "  inflating: real_or_drawing/train_data/9/4906.bmp  \n",
            "  inflating: real_or_drawing/train_data/9/4907.bmp  \n",
            "  inflating: real_or_drawing/train_data/9/4908.bmp  \n",
            "  inflating: real_or_drawing/train_data/9/4909.bmp  \n",
            "  inflating: real_or_drawing/train_data/9/4910.bmp  \n",
            "  inflating: real_or_drawing/train_data/9/4911.bmp  \n",
            "  inflating: real_or_drawing/train_data/9/4912.bmp  \n",
            "  inflating: real_or_drawing/train_data/9/4913.bmp  \n",
            "  inflating: real_or_drawing/train_data/9/4914.bmp  \n",
            "  inflating: real_or_drawing/train_data/9/4915.bmp  \n",
            "  inflating: real_or_drawing/train_data/9/4916.bmp  \n",
            "  inflating: real_or_drawing/train_data/9/4917.bmp  \n",
            "  inflating: real_or_drawing/train_data/9/4918.bmp  \n",
            "  inflating: real_or_drawing/train_data/9/4919.bmp  \n",
            "  inflating: real_or_drawing/train_data/9/4920.bmp  \n",
            "  inflating: real_or_drawing/train_data/9/4921.bmp  \n",
            "  inflating: real_or_drawing/train_data/9/4922.bmp  \n",
            "  inflating: real_or_drawing/train_data/9/4923.bmp  \n",
            "  inflating: real_or_drawing/train_data/9/4924.bmp  \n",
            "  inflating: real_or_drawing/train_data/9/4925.bmp  \n",
            "  inflating: real_or_drawing/train_data/9/4926.bmp  \n",
            "  inflating: real_or_drawing/train_data/9/4927.bmp  \n",
            "  inflating: real_or_drawing/train_data/9/4928.bmp  \n",
            "  inflating: real_or_drawing/train_data/9/4929.bmp  \n",
            "  inflating: real_or_drawing/train_data/9/4930.bmp  \n",
            "  inflating: real_or_drawing/train_data/9/4931.bmp  \n",
            "  inflating: real_or_drawing/train_data/9/4932.bmp  \n",
            "  inflating: real_or_drawing/train_data/9/4933.bmp  \n",
            "  inflating: real_or_drawing/train_data/9/4934.bmp  \n",
            "  inflating: real_or_drawing/train_data/9/4935.bmp  \n",
            "  inflating: real_or_drawing/train_data/9/4936.bmp  \n",
            "  inflating: real_or_drawing/train_data/9/4937.bmp  \n",
            "  inflating: real_or_drawing/train_data/9/4938.bmp  \n",
            "  inflating: real_or_drawing/train_data/9/4939.bmp  \n",
            "  inflating: real_or_drawing/train_data/9/4940.bmp  \n",
            "  inflating: real_or_drawing/train_data/9/4941.bmp  \n",
            "  inflating: real_or_drawing/train_data/9/4942.bmp  \n",
            "  inflating: real_or_drawing/train_data/9/4943.bmp  \n",
            "  inflating: real_or_drawing/train_data/9/4944.bmp  \n",
            "  inflating: real_or_drawing/train_data/9/4945.bmp  \n",
            "  inflating: real_or_drawing/train_data/9/4946.bmp  \n",
            "  inflating: real_or_drawing/train_data/9/4947.bmp  \n",
            "  inflating: real_or_drawing/train_data/9/4948.bmp  \n",
            "  inflating: real_or_drawing/train_data/9/4949.bmp  \n",
            "  inflating: real_or_drawing/train_data/9/4950.bmp  \n",
            "  inflating: real_or_drawing/train_data/9/4951.bmp  \n",
            "  inflating: real_or_drawing/train_data/9/4952.bmp  \n",
            "  inflating: real_or_drawing/train_data/9/4953.bmp  \n",
            "  inflating: real_or_drawing/train_data/9/4954.bmp  \n",
            "  inflating: real_or_drawing/train_data/9/4955.bmp  \n",
            "  inflating: real_or_drawing/train_data/9/4956.bmp  \n",
            "  inflating: real_or_drawing/train_data/9/4957.bmp  \n",
            "  inflating: real_or_drawing/train_data/9/4958.bmp  \n",
            "  inflating: real_or_drawing/train_data/9/4959.bmp  \n",
            "  inflating: real_or_drawing/train_data/9/4960.bmp  \n",
            "  inflating: real_or_drawing/train_data/9/4961.bmp  \n",
            "  inflating: real_or_drawing/train_data/9/4962.bmp  \n",
            "  inflating: real_or_drawing/train_data/9/4963.bmp  \n",
            "  inflating: real_or_drawing/train_data/9/4964.bmp  \n",
            "  inflating: real_or_drawing/train_data/9/4965.bmp  \n",
            "  inflating: real_or_drawing/train_data/9/4966.bmp  \n",
            "  inflating: real_or_drawing/train_data/9/4967.bmp  \n",
            "  inflating: real_or_drawing/train_data/9/4968.bmp  \n",
            "  inflating: real_or_drawing/train_data/9/4969.bmp  \n",
            "  inflating: real_or_drawing/train_data/9/4970.bmp  \n",
            "  inflating: real_or_drawing/train_data/9/4971.bmp  \n",
            "  inflating: real_or_drawing/train_data/9/4972.bmp  \n",
            "  inflating: real_or_drawing/train_data/9/4973.bmp  \n",
            "  inflating: real_or_drawing/train_data/9/4974.bmp  \n",
            "  inflating: real_or_drawing/train_data/9/4975.bmp  \n",
            "  inflating: real_or_drawing/train_data/9/4976.bmp  \n",
            "  inflating: real_or_drawing/train_data/9/4977.bmp  \n",
            "  inflating: real_or_drawing/train_data/9/4978.bmp  \n",
            "  inflating: real_or_drawing/train_data/9/4979.bmp  \n",
            "  inflating: real_or_drawing/train_data/9/4980.bmp  \n",
            "  inflating: real_or_drawing/train_data/9/4981.bmp  \n",
            "  inflating: real_or_drawing/train_data/9/4982.bmp  \n",
            "  inflating: real_or_drawing/train_data/9/4983.bmp  \n",
            "  inflating: real_or_drawing/train_data/9/4984.bmp  \n",
            "  inflating: real_or_drawing/train_data/9/4985.bmp  \n",
            "  inflating: real_or_drawing/train_data/9/4986.bmp  \n",
            "  inflating: real_or_drawing/train_data/9/4987.bmp  \n",
            "  inflating: real_or_drawing/train_data/9/4988.bmp  \n",
            "  inflating: real_or_drawing/train_data/9/4989.bmp  \n",
            "  inflating: real_or_drawing/train_data/9/4990.bmp  \n",
            "  inflating: real_or_drawing/train_data/9/4991.bmp  \n",
            "  inflating: real_or_drawing/train_data/9/4992.bmp  \n",
            "  inflating: real_or_drawing/train_data/9/4993.bmp  \n",
            "  inflating: real_or_drawing/train_data/9/4994.bmp  \n",
            "  inflating: real_or_drawing/train_data/9/4995.bmp  \n",
            "  inflating: real_or_drawing/train_data/9/4996.bmp  \n",
            "  inflating: real_or_drawing/train_data/9/4997.bmp  \n",
            "  inflating: real_or_drawing/train_data/9/4998.bmp  \n",
            "  inflating: real_or_drawing/train_data/9/4999.bmp  \n"
          ]
        }
      ]
    },
    {
      "cell_type": "code",
      "metadata": {
        "id": "0_uO-ZSDoR6i",
        "colab": {
          "base_uri": "https://localhost:8080/",
          "height": 143
        },
        "outputId": "72879497-ab04-4eac-9a61-aae79a399c96"
      },
      "source": [
        "import matplotlib.pyplot as plt\n",
        "\n",
        "def no_axis_show(img, title='', cmap=None):\n",
        "  # imshow, and set the interpolation mode to be \"nearest\"。\n",
        "  fig = plt.imshow(img, interpolation='nearest', cmap=cmap)\n",
        "  # do not show the axes in the images.\n",
        "  fig.axes.get_xaxis().set_visible(False)\n",
        "  fig.axes.get_yaxis().set_visible(False)\n",
        "  plt.title(title)\n",
        "\n",
        "titles = ['horse', 'bed', 'clock', 'apple', 'cat', 'plane', 'television', 'dog', 'dolphin', 'spider']\n",
        "plt.figure(figsize=(18, 18))\n",
        "for i in range(10):\n",
        "  plt.subplot(1, 10, i+1)\n",
        "  fig = no_axis_show(plt.imread(f'real_or_drawing/train_data/{i}/{500*i}.bmp'), title=titles[i])"
      ],
      "execution_count": null,
      "outputs": [
        {
          "output_type": "display_data",
          "data": {
            "text/plain": [
              "<Figure size 1800x1800 with 10 Axes>"
            ],
            "image/png": "[encoded data removed]"
          },
          "metadata": {}
        }
      ]
    },
    {
      "cell_type": "code",
      "metadata": {
        "id": "3eMs7DbVt4Ee",
        "colab": {
          "base_uri": "https://localhost:8080/",
          "height": 126
        },
        "outputId": "488467f8-66d1-4ee1-814e-46c9d9dc4ca3"
      },
      "source": [
        "plt.figure(figsize=(18, 18))\n",
        "for i in range(10):\n",
        "  plt.subplot(1, 10, i+1)\n",
        "  fig = no_axis_show(plt.imread(f'real_or_drawing/test_data/0/' + str(i).rjust(5, '0') + '.bmp'))"
      ],
      "execution_count": null,
      "outputs": [
        {
          "output_type": "display_data",
          "data": {
            "text/plain": [
              "<Figure size 1800x1800 with 10 Axes>"
            ],
            "image/png": "[encoded data removed]"
          },
          "metadata": {}
        }
      ]
    },
    {
      "cell_type": "markdown",
      "metadata": {
        "id": "moXQw9To5TqZ"
      },
      "source": [
        "# Special Domain Knowledge\n",
        "\n",
        "When we graffiti, we usually draw the outline only, therefore we can perform edge detection processing on the source data to make it more similar to the target data.\n",
        "\n",
        "\n",
        "## Canny Edge Detection\n",
        "The implementation of Canny Edge Detection is as follow.\n",
        "The algorithm will not be describe thoroughly here.  If you are interested, please refer to the wiki or [here](https://medium.com/@pomelyu5199/canny-edge-detector-%E5%AF%A6%E4%BD%9C-opencv-f7d1a0a57d19).\n",
        "\n",
        "We only need two parameters to implement Canny Edge Detection with CV2:  `low_threshold` and `high_threshold`.\n",
        "\n",
        "```cv2.Canny(image, low_threshold, high_threshold)```\n",
        "\n",
        "Simply put, when the edge value exceeds the high_threshold, we determine it as an edge. If the edge value is only above low_threshold, we will then determine whether it is an edge or not.\n",
        "\n",
        "Let's implement it on the source data."
      ]
    },
    {
      "cell_type": "code",
      "metadata": {
        "id": "mn2MkDLV7E2-",
        "colab": {
          "base_uri": "https://localhost:8080/",
          "height": 239
        },
        "outputId": "b9294566-ffa8-42da-82a6-0ac7a1c5638b"
      },
      "source": [
        "import cv2\n",
        "import matplotlib.pyplot as plt\n",
        "titles = ['horse', 'bed', 'clock', 'apple', 'cat', 'plane', 'television', 'dog', 'dolphin', 'spider']\n",
        "plt.figure(figsize=(18, 18))\n",
        "\n",
        "original_img = plt.imread(f'real_or_drawing/train_data/0/0.bmp')\n",
        "plt.subplot(1, 5, 1)\n",
        "no_axis_show(original_img, title='original')\n",
        "\n",
        "gray_img = cv2.cvtColor(original_img, cv2.COLOR_RGB2GRAY)\n",
        "plt.subplot(1, 5, 2)\n",
        "no_axis_show(gray_img, title='gray scale', cmap='gray')\n",
        "\n",
        "gray_img = cv2.cvtColor(original_img, cv2.COLOR_RGB2GRAY)\n",
        "plt.subplot(1, 5, 2)\n",
        "no_axis_show(gray_img, title='gray scale', cmap='gray')\n",
        "\n",
        "canny_50100 = cv2.Canny(gray_img, 50, 100)\n",
        "plt.subplot(1, 5, 3)\n",
        "no_axis_show(canny_50100, title='Canny(50, 100)', cmap='gray')\n",
        "\n",
        "canny_150200 = cv2.Canny(gray_img, 150, 200)\n",
        "plt.subplot(1, 5, 4)\n",
        "no_axis_show(canny_150200, title='Canny(150, 200)', cmap='gray')\n",
        "\n",
        "canny_250300 = cv2.Canny(gray_img, 250, 300)\n",
        "plt.subplot(1, 5, 5)\n",
        "no_axis_show(canny_250300, title='Canny(250, 300)', cmap='gray')\n",
        "  "
      ],
      "execution_count": null,
      "outputs": [
        {
          "output_type": "display_data",
          "data": {
            "text/plain": [
              "<Figure size 1800x1800 with 5 Axes>"
            ],
            "image/png": "[encoded data removed]"
          },
          "metadata": {}
        }
      ]
    },
    {
      "cell_type": "markdown",
      "metadata": {
        "id": "8THSdt_hmwYh"
      },
      "source": [
        "# Data Process\n",
        " \n",
        " \n",
        "The data is suitible for `torchvision.ImageFolder`. You can create a dataset with `torchvision.ImageFolder`. Details for image augmentation please refer to the comments in the following codes."
      ]
    },
    {
      "cell_type": "code",
      "metadata": {
        "id": "WZHIBGknmi8Z"
      },
      "source": [
        "import numpy as np\n",
        "import torch\n",
        "import torch.nn as nn\n",
        "import torch.nn.functional as F\n",
        "from torch.autograd import Function\n",
        " \n",
        "import torch.optim as optim\n",
        "import torchvision.transforms as transforms\n",
        "from torchvision.datasets import ImageFolder\n",
        "from torch.utils.data import DataLoader\n",
        " \n",
        "\n",
        "from rich.progress import Progress, TextColumn, BarColumn, TimeElapsedColumn, TimeRemainingColumn, track\n",
        "import time\n",
        "\n",
        "\n",
        "source_transform = transforms.Compose([\n",
        "    # Turn RGB to grayscale. (Bacause Canny do not support RGB images.)\n",
        "    transforms.Grayscale(),\n",
        "    # cv2 do not support skimage.Image, so we transform it to np.array, \n",
        "    # and then adopt cv2.Canny algorithm.\n",
        "    transforms.Lambda(lambda x: cv2.Canny(np.array(x), 170, 300)),\n",
        "    # Transform np.array back to the skimage.Image.\n",
        "    transforms.ToPILImage(),\n",
        "    # 50% Horizontal Flip. (For Augmentation)\n",
        "    transforms.RandomHorizontalFlip(),\n",
        "    # Rotate +- 15 degrees. (For Augmentation), and filled with zero \n",
        "    # if there's empty pixel after rotation.\n",
        "    transforms.RandomRotation(15, fill=(0,)),\n",
        "    # Transform to tensor for model inputs.\n",
        "    transforms.ToTensor(),\n",
        "])\n",
        "target_transform = transforms.Compose([\n",
        "    # Turn RGB to grayscale.\n",
        "    transforms.Grayscale(),\n",
        "    # Resize: size of source data is 32x32, thus we need to \n",
        "    #  enlarge the size of target data from 28x28 to 32x32。\n",
        "    transforms.Resize((32, 32)),\n",
        "    # 50% Horizontal Flip. (For Augmentation)\n",
        "    transforms.RandomHorizontalFlip(),\n",
        "    # Rotate +- 15 degrees. (For Augmentation), and filled with zero \n",
        "    # if there's empty pixel after rotation.\n",
        "    transforms.RandomRotation(15, fill=(0,)),\n",
        "    # Transform to tensor for model inputs.\n",
        "    transforms.ToTensor(),\n",
        "])\n",
        " \n",
        "source_dataset = ImageFolder('real_or_drawing/train_data', transform=source_transform)\n",
        "target_dataset = ImageFolder('real_or_drawing/test_data', transform=target_transform)\n",
        " \n",
        "source_dataloader = DataLoader(source_dataset, batch_size=32, shuffle=True)\n",
        "target_dataloader = DataLoader(target_dataset, batch_size=32, shuffle=True)\n",
        "test_dataloader = DataLoader(target_dataset, batch_size=128, shuffle=False)"
      ],
      "execution_count": null,
      "outputs": []
    },
    {
      "cell_type": "markdown",
      "metadata": {
        "id": "hdwDEMrOycs5"
      },
      "source": [
        "# Model\n",
        "\n",
        "Feature Extractor: Classic VGG-like architecture\n",
        "\n",
        "Label Predictor / Domain Classifier: Linear models."
      ]
    },
    {
      "cell_type": "code",
      "metadata": {
        "id": "3uw2eP09z-pD"
      },
      "source": [
        "class FeatureExtractor(nn.Module):\n",
        "\n",
        "    def __init__(self):\n",
        "        super(FeatureExtractor, self).__init__()\n",
        "\n",
        "        self.conv = nn.Sequential(\n",
        "            nn.Conv2d(1, 64, 3, 1, 1),\n",
        "            nn.BatchNorm2d(64),\n",
        "            nn.ReLU(),\n",
        "            nn.MaxPool2d(2),\n",
        "\n",
        "            nn.Conv2d(64, 128, 3, 1, 1),\n",
        "            nn.BatchNorm2d(128),\n",
        "            nn.ReLU(),\n",
        "            nn.MaxPool2d(2),\n",
        "\n",
        "            nn.Conv2d(128, 256, 3, 1, 1),\n",
        "            nn.BatchNorm2d(256),\n",
        "            nn.ReLU(),\n",
        "            nn.MaxPool2d(2),\n",
        "\n",
        "            nn.Conv2d(256, 256, 3, 1, 1),\n",
        "            nn.BatchNorm2d(256),\n",
        "            nn.ReLU(),\n",
        "            nn.MaxPool2d(2),\n",
        "\n",
        "            nn.Conv2d(256, 512, 3, 1, 1),\n",
        "            nn.BatchNorm2d(512),\n",
        "            nn.ReLU(),\n",
        "            nn.MaxPool2d(2)\n",
        "        )\n",
        "        \n",
        "    def forward(self, x):\n",
        "        x = self.conv(x).squeeze()\n",
        "        return x\n",
        "\n",
        "class LabelPredictor(nn.Module):\n",
        "\n",
        "    def __init__(self):\n",
        "        super(LabelPredictor, self).__init__()\n",
        "\n",
        "        self.layer = nn.Sequential(\n",
        "            nn.Linear(512, 512),\n",
        "            nn.ReLU(),\n",
        "\n",
        "            nn.Linear(512, 512),\n",
        "            nn.ReLU(),\n",
        "\n",
        "            nn.Linear(512, 10),\n",
        "        )\n",
        "\n",
        "    def forward(self, h):\n",
        "        c = self.layer(h)\n",
        "        return c\n",
        "\n",
        "class DomainClassifier(nn.Module):\n",
        "\n",
        "    def __init__(self):\n",
        "        super(DomainClassifier, self).__init__()\n",
        "\n",
        "        self.layer = nn.Sequential(\n",
        "            nn.Linear(512, 512),\n",
        "            nn.BatchNorm1d(512),\n",
        "            nn.ReLU(),\n",
        "\n",
        "            nn.Linear(512, 512),\n",
        "            nn.BatchNorm1d(512),\n",
        "            nn.ReLU(),\n",
        "\n",
        "            nn.Linear(512, 512),\n",
        "            nn.BatchNorm1d(512),\n",
        "            nn.ReLU(),\n",
        "\n",
        "            nn.Linear(512, 512),\n",
        "            nn.BatchNorm1d(512),\n",
        "            nn.ReLU(),\n",
        "\n",
        "            nn.Linear(512, 1),\n",
        "        )\n",
        "\n",
        "    def forward(self, h):\n",
        "        y = self.layer(h)\n",
        "        return y"
      ],
      "execution_count": null,
      "outputs": []
    },
    {
      "cell_type": "markdown",
      "metadata": {
        "id": "lxdBIPhF0Icb"
      },
      "source": [
        "# Pre-processing\n",
        "\n",
        "Here we use Adam as our optimizor."
      ]
    },
    {
      "cell_type": "code",
      "metadata": {
        "id": "hrxKelBy0PJ7"
      },
      "source": [
        "feature_extractor = FeatureExtractor().cuda()\n",
        "label_predictor = LabelPredictor().cuda()\n",
        "domain_classifier = DomainClassifier().cuda()\n",
        "\n",
        "class_criterion = nn.CrossEntropyLoss()\n",
        "domain_criterion = nn.BCEWithLogitsLoss()\n",
        "\n",
        "optimizer_F = optim.Adam(feature_extractor.parameters())\n",
        "optimizer_C = optim.Adam(label_predictor.parameters())\n",
        "optimizer_D = optim.Adam(domain_classifier.parameters())"
      ],
      "execution_count": null,
      "outputs": []
    },
    {
      "cell_type": "markdown",
      "metadata": {
        "id": "xuAE4cqJ0itR"
      },
      "source": [
        "# Start Training\n",
        "\n",
        "\n",
        "## DaNN Implementation\n",
        "\n",
        "In the original paper, Gradient Reversal Layer is used.\n",
        "Feature Extractor, Label Predictor, and Domain Classifier are all trained at the same time. In this code, we train Domain Classifier first, and then train our Feature Extractor (same concept as Generator and Discriminator training process in GAN).\n",
        "\n",
        "## Reminder\n",
        "* Lambda, which controls the domain adversarial loss, is adaptive in the original paper. You can refer to [the original work](https://arxiv.org/pdf/1505.07818.pdf) . Here lambda is set to 0.1.\n",
        "* We do not have the label to target data, you can only evaluate your model by uploading your result to kaggle.:)"
      ]
    },
    {
      "cell_type": "code",
      "metadata": {
        "id": "lRAFFKvX0p9y",
        "colab": {
          "base_uri": "https://localhost:8080/",
          "height": 1000,
          "referenced_widgets": [
            "2c865516acc64642862cfee4a814a3ae",
            "ea4e9e6cd3794596932e43e41caa30f9"
          ]
        },
        "outputId": "e2314aa7-0c4b-416a-913b-60298edfb865"
      },
      "source": [
        "def train_epoch(source_dataloader, target_dataloader, progress, lamb):\n",
        "    '''\n",
        "      Args:\n",
        "        source_dataloader: source data的dataloader\n",
        "        target_dataloader: target data的dataloader\n",
        "        lamb: control the balance of domain adaptatoin and classification.\n",
        "    '''\n",
        "\n",
        "    # D loss: Domain Classifier的loss\n",
        "    # F loss: Feature Extrator & Label Predictor的loss\n",
        "    running_D_loss, running_F_loss = 0.0, 0.0\n",
        "    total_hit, total_num = 0.0, 0.0\n",
        "    batch_tqdm = progress.add_task(description=f\"batch_progress\", total=len(source_dataloader))\n",
        "\n",
        "    for i, ((source_data, source_label), (target_data, _)) in enumerate(zip(source_dataloader, target_dataloader)):\n",
        "\n",
        "        source_data = source_data.cuda()\n",
        "        source_label = source_label.cuda()\n",
        "        target_data = target_data.cuda()\n",
        "        \n",
        "        # Mixed the source data and target data, or it'll mislead the running params\n",
        "        #   of batch_norm. (runnning mean/var of soucre and target data are different.)\n",
        "        mixed_data = torch.cat([source_data, target_data], dim=0)\n",
        "        domain_label = torch.zeros([source_data.shape[0] + target_data.shape[0], 1]).cuda()\n",
        "        # set domain label of source data to be 1.\n",
        "        domain_label[:source_data.shape[0]] = 1\n",
        "\n",
        "        # Step 1 : train domain classifier\n",
        "        feature = feature_extractor(mixed_data)\n",
        "        # We don't need to train feature extractor in step 1.\n",
        "        # Thus we detach the feature neuron to avoid backpropgation.\n",
        "        domain_logits = domain_classifier(feature.detach())\n",
        "        loss = domain_criterion(domain_logits, domain_label)\n",
        "        running_D_loss+= loss.item()\n",
        "        loss.backward()\n",
        "        optimizer_D.step()\n",
        "\n",
        "        # Step 2 : train feature extractor and label classifier\n",
        "        class_logits = label_predictor(feature[:source_data.shape[0]])\n",
        "        domain_logits = domain_classifier(feature)\n",
        "        # loss = cross entropy of classification - lamb * domain binary cross entropy.\n",
        "        #  The reason why using subtraction is similar to generator loss in disciminator of GAN\n",
        "        loss = class_criterion(class_logits, source_label) - lamb * domain_criterion(domain_logits, domain_label)\n",
        "        running_F_loss+= loss.item()\n",
        "        loss.backward()\n",
        "        optimizer_F.step()\n",
        "        optimizer_C.step()\n",
        "\n",
        "        optimizer_D.zero_grad()\n",
        "        optimizer_F.zero_grad()\n",
        "        optimizer_C.zero_grad()\n",
        "\n",
        "        total_hit += torch.sum(torch.argmax(class_logits, dim=1) == source_label).item()\n",
        "        total_num += source_data.shape[0]\n",
        "        progress.advance(batch_tqdm, advance=1)\n",
        "\n",
        "    progress.remove_task(batch_tqdm)\n",
        "    return running_D_loss / (i+1), running_F_loss / (i+1), total_hit / total_num\n",
        "\n",
        "num_epochs = 200\n",
        "# train 200 epochs\n",
        "\n",
        "with Progress(TextColumn(\"[progress.description]{task.description}\"),\n",
        "              BarColumn(),\n",
        "              TextColumn(\"[progress.percentage]{task.percentage:>3.0f}%\"),\n",
        "              TimeRemainingColumn(),\n",
        "              TimeElapsedColumn()) as progress:\n",
        "    epoch_tqdm = progress.add_task(description=\"epoch progress\", total=num_epochs)\n",
        "    for epoch in range(num_epochs):\n",
        "        train_D_loss, train_F_loss, train_acc = train_epoch(source_dataloader, target_dataloader, progress, lamb=0.1)\n",
        "            \n",
        "        progress.advance(epoch_tqdm, advance=1)\n",
        "        if epoch == 10:\n",
        "          torch.save(feature_extractor.state_dict(), f'extractor_model_early.bin')\n",
        "          torch.save(label_predictor.state_dict(), f'predictor_model_early.bin')\n",
        "        elif epoch == 100:\n",
        "          torch.save(feature_extractor.state_dict(), f'extractor_model_mid.bin')\n",
        "          torch.save(label_predictor.state_dict(), f'predictor_model_mid.bin')\n",
        "          \n",
        "        torch.save(feature_extractor.state_dict(), f'extractor_model.bin')\n",
        "        torch.save(label_predictor.state_dict(), f'predictor_model.bin')\n",
        "        print('epoch {:>3d}: train D loss: {:6.4f}, train F loss: {:6.4f}, acc {:6.4f}'.format(epoch, train_D_loss, train_F_loss, train_acc))\n",
        "\n",
        "\n"
      ],
      "execution_count": null,
      "outputs": [
        {
          "output_type": "display_data",
          "data": {
            "text/plain": [
              "Output()"
            ],
            "application/vnd.jupyter.widget-view+json": {
              "version_major": 2,
              "version_minor": 0,
              "model_id": "2c865516acc64642862cfee4a814a3ae"
            }
          },
          "metadata": {}
        },
        {
          "output_type": "display_data",
          "data": {
            "text/plain": [
              "epoch   0: train D loss: 0.6817, train F loss: 1.8983, acc 0.2678\n"
            ],
            "text/html": [
              "<pre style=\"white-space:pre;overflow-x:auto;line-height:normal;font-family:Menlo,'DejaVu Sans Mono',consolas,'Courier New',monospace\">epoch   0: train D loss: 0.6817, train F loss: 1.8983, acc 0.2678\n",
              "</pre>\n"
            ]
          },
          "metadata": {}
        },
        {
          "output_type": "display_data",
          "data": {
            "text/plain": [
              "epoch   1: train D loss: 0.6338, train F loss: 1.6036, acc 0.4106\n"
            ],
            "text/html": [
              "<pre style=\"white-space:pre;overflow-x:auto;line-height:normal;font-family:Menlo,'DejaVu Sans Mono',consolas,'Courier New',monospace\">epoch   1: train D loss: 0.6338, train F loss: 1.6036, acc 0.4106\n",
              "</pre>\n"
            ]
          },
          "metadata": {}
        },
        {
          "output_type": "display_data",
          "data": {
            "text/plain": [
              "epoch   2: train D loss: 0.5491, train F loss: 1.4349, acc 0.4750\n"
            ],
            "text/html": [
              "<pre style=\"white-space:pre;overflow-x:auto;line-height:normal;font-family:Menlo,'DejaVu Sans Mono',consolas,'Courier New',monospace\">epoch   2: train D loss: 0.5491, train F loss: 1.4349, acc 0.4750\n",
              "</pre>\n"
            ]
          },
          "metadata": {}
        },
        {
          "output_type": "display_data",
          "data": {
            "text/plain": [
              "epoch   3: train D loss: 0.5344, train F loss: 1.3614, acc 0.5124\n"
            ],
            "text/html": [
              "<pre style=\"white-space:pre;overflow-x:auto;line-height:normal;font-family:Menlo,'DejaVu Sans Mono',consolas,'Courier New',monospace\">epoch   3: train D loss: 0.5344, train F loss: 1.3614, acc 0.5124\n",
              "</pre>\n"
            ]
          },
          "metadata": {}
        },
        {
          "output_type": "display_data",
          "data": {
            "text/plain": [
              "epoch   4: train D loss: 0.5239, train F loss: 1.2943, acc 0.5274\n"
            ],
            "text/html": [
              "<pre style=\"white-space:pre;overflow-x:auto;line-height:normal;font-family:Menlo,'DejaVu Sans Mono',consolas,'Courier New',monospace\">epoch   4: train D loss: 0.5239, train F loss: 1.2943, acc 0.5274\n",
              "</pre>\n"
            ]
          },
          "metadata": {}
        },
        {
          "output_type": "display_data",
          "data": {
            "text/plain": [
              "epoch   5: train D loss: 0.5404, train F loss: 1.2338, acc 0.5546\n"
            ],
            "text/html": [
              "<pre style=\"white-space:pre;overflow-x:auto;line-height:normal;font-family:Menlo,'DejaVu Sans Mono',consolas,'Courier New',monospace\">epoch   5: train D loss: 0.5404, train F loss: 1.2338, acc 0.5546\n",
              "</pre>\n"
            ]
          },
          "metadata": {}
        },
        {
          "output_type": "display_data",
          "data": {
            "text/plain": [
              "epoch   6: train D loss: 0.5269, train F loss: 1.1965, acc 0.5602\n"
            ],
            "text/html": [
              "<pre style=\"white-space:pre;overflow-x:auto;line-height:normal;font-family:Menlo,'DejaVu Sans Mono',consolas,'Courier New',monospace\">epoch   6: train D loss: 0.5269, train F loss: 1.1965, acc 0.5602\n",
              "</pre>\n"
            ]
          },
          "metadata": {}
        },
        {
          "output_type": "display_data",
          "data": {
            "text/plain": [
              "epoch   7: train D loss: 0.5479, train F loss: 1.1579, acc 0.5680\n"
            ],
            "text/html": [
              "<pre style=\"white-space:pre;overflow-x:auto;line-height:normal;font-family:Menlo,'DejaVu Sans Mono',consolas,'Courier New',monospace\">epoch   7: train D loss: 0.5479, train F loss: 1.1579, acc 0.5680\n",
              "</pre>\n"
            ]
          },
          "metadata": {}
        },
        {
          "output_type": "display_data",
          "data": {
            "text/plain": [
              "epoch   8: train D loss: 0.5509, train F loss: 1.1071, acc 0.6004\n"
            ],
            "text/html": [
              "<pre style=\"white-space:pre;overflow-x:auto;line-height:normal;font-family:Menlo,'DejaVu Sans Mono',consolas,'Courier New',monospace\">epoch   8: train D loss: 0.5509, train F loss: 1.1071, acc 0.6004\n",
              "</pre>\n"
            ]
          },
          "metadata": {}
        },
        {
          "output_type": "display_data",
          "data": {
            "text/plain": [
              "epoch   9: train D loss: 0.5386, train F loss: 1.0781, acc 0.6050\n"
            ],
            "text/html": [
              "<pre style=\"white-space:pre;overflow-x:auto;line-height:normal;font-family:Menlo,'DejaVu Sans Mono',consolas,'Courier New',monospace\">epoch   9: train D loss: 0.5386, train F loss: 1.0781, acc 0.6050\n",
              "</pre>\n"
            ]
          },
          "metadata": {}
        },
        {
          "output_type": "display_data",
          "data": {
            "text/plain": [
              "epoch  10: train D loss: 0.5162, train F loss: 1.0596, acc 0.6164\n"
            ],
            "text/html": [
              "<pre style=\"white-space:pre;overflow-x:auto;line-height:normal;font-family:Menlo,'DejaVu Sans Mono',consolas,'Courier New',monospace\">epoch  10: train D loss: 0.5162, train F loss: 1.0596, acc 0.6164\n",
              "</pre>\n"
            ]
          },
          "metadata": {}
        },
        {
          "output_type": "display_data",
          "data": {
            "text/plain": [
              "epoch  11: train D loss: 0.5231, train F loss: 1.0229, acc 0.6250\n"
            ],
            "text/html": [
              "<pre style=\"white-space:pre;overflow-x:auto;line-height:normal;font-family:Menlo,'DejaVu Sans Mono',consolas,'Courier New',monospace\">epoch  11: train D loss: 0.5231, train F loss: 1.0229, acc 0.6250\n",
              "</pre>\n"
            ]
          },
          "metadata": {}
        },
        {
          "output_type": "display_data",
          "data": {
            "text/plain": [
              "epoch  12: train D loss: 0.5369, train F loss: 0.9914, acc 0.6380\n"
            ],
            "text/html": [
              "<pre style=\"white-space:pre;overflow-x:auto;line-height:normal;font-family:Menlo,'DejaVu Sans Mono',consolas,'Courier New',monospace\">epoch  12: train D loss: 0.5369, train F loss: 0.9914, acc 0.6380\n",
              "</pre>\n"
            ]
          },
          "metadata": {}
        },
        {
          "output_type": "display_data",
          "data": {
            "text/plain": [
              "epoch  13: train D loss: 0.5357, train F loss: 0.9542, acc 0.6580\n"
            ],
            "text/html": [
              "<pre style=\"white-space:pre;overflow-x:auto;line-height:normal;font-family:Menlo,'DejaVu Sans Mono',consolas,'Courier New',monospace\">epoch  13: train D loss: 0.5357, train F loss: 0.9542, acc 0.6580\n",
              "</pre>\n"
            ]
          },
          "metadata": {}
        },
        {
          "output_type": "display_data",
          "data": {
            "text/plain": [
              "epoch  14: train D loss: 0.5246, train F loss: 0.9241, acc 0.6614\n"
            ],
            "text/html": [
              "<pre style=\"white-space:pre;overflow-x:auto;line-height:normal;font-family:Menlo,'DejaVu Sans Mono',consolas,'Courier New',monospace\">epoch  14: train D loss: 0.5246, train F loss: 0.9241, acc 0.6614\n",
              "</pre>\n"
            ]
          },
          "metadata": {}
        },
        {
          "output_type": "display_data",
          "data": {
            "text/plain": [
              "epoch  15: train D loss: 0.5104, train F loss: 0.8892, acc 0.6702\n"
            ],
            "text/html": [
              "<pre style=\"white-space:pre;overflow-x:auto;line-height:normal;font-family:Menlo,'DejaVu Sans Mono',consolas,'Courier New',monospace\">epoch  15: train D loss: 0.5104, train F loss: 0.8892, acc 0.6702\n",
              "</pre>\n"
            ]
          },
          "metadata": {}
        },
        {
          "output_type": "display_data",
          "data": {
            "text/plain": [
              "epoch  16: train D loss: 0.5230, train F loss: 0.8492, acc 0.6906\n"
            ],
            "text/html": [
              "<pre style=\"white-space:pre;overflow-x:auto;line-height:normal;font-family:Menlo,'DejaVu Sans Mono',consolas,'Courier New',monospace\">epoch  16: train D loss: 0.5230, train F loss: 0.8492, acc 0.6906\n",
              "</pre>\n"
            ]
          },
          "metadata": {}
        },
        {
          "output_type": "display_data",
          "data": {
            "text/plain": [
              "epoch  17: train D loss: 0.5119, train F loss: 0.8116, acc 0.6934\n"
            ],
            "text/html": [
              "<pre style=\"white-space:pre;overflow-x:auto;line-height:normal;font-family:Menlo,'DejaVu Sans Mono',consolas,'Courier New',monospace\">epoch  17: train D loss: 0.5119, train F loss: 0.8116, acc 0.6934\n",
              "</pre>\n"
            ]
          },
          "metadata": {}
        },
        {
          "output_type": "display_data",
          "data": {
            "text/plain": [
              "epoch  18: train D loss: 0.5112, train F loss: 0.8094, acc 0.7002\n"
            ],
            "text/html": [
              "<pre style=\"white-space:pre;overflow-x:auto;line-height:normal;font-family:Menlo,'DejaVu Sans Mono',consolas,'Courier New',monospace\">epoch  18: train D loss: 0.5112, train F loss: 0.8094, acc 0.7002\n",
              "</pre>\n"
            ]
          },
          "metadata": {}
        },
        {
          "output_type": "display_data",
          "data": {
            "text/plain": [
              "epoch  19: train D loss: 0.5048, train F loss: 0.7418, acc 0.7272\n"
            ],
            "text/html": [
              "<pre style=\"white-space:pre;overflow-x:auto;line-height:normal;font-family:Menlo,'DejaVu Sans Mono',consolas,'Courier New',monospace\">epoch  19: train D loss: 0.5048, train F loss: 0.7418, acc 0.7272\n",
              "</pre>\n"
            ]
          },
          "metadata": {}
        },
        {
          "output_type": "display_data",
          "data": {
            "text/plain": [
              "epoch  20: train D loss: 0.4949, train F loss: 0.7283, acc 0.7388\n"
            ],
            "text/html": [
              "<pre style=\"white-space:pre;overflow-x:auto;line-height:normal;font-family:Menlo,'DejaVu Sans Mono',consolas,'Courier New',monospace\">epoch  20: train D loss: 0.4949, train F loss: 0.7283, acc 0.7388\n",
              "</pre>\n"
            ]
          },
          "metadata": {}
        },
        {
          "output_type": "display_data",
          "data": {
            "text/plain": [
              "epoch  21: train D loss: 0.4955, train F loss: 0.6869, acc 0.7414\n"
            ],
            "text/html": [
              "<pre style=\"white-space:pre;overflow-x:auto;line-height:normal;font-family:Menlo,'DejaVu Sans Mono',consolas,'Courier New',monospace\">epoch  21: train D loss: 0.4955, train F loss: 0.6869, acc 0.7414\n",
              "</pre>\n"
            ]
          },
          "metadata": {}
        },
        {
          "output_type": "display_data",
          "data": {
            "text/plain": [
              "epoch  22: train D loss: 0.4672, train F loss: 0.6362, acc 0.7642\n"
            ],
            "text/html": [
              "<pre style=\"white-space:pre;overflow-x:auto;line-height:normal;font-family:Menlo,'DejaVu Sans Mono',consolas,'Courier New',monospace\">epoch  22: train D loss: 0.4672, train F loss: 0.6362, acc 0.7642\n",
              "</pre>\n"
            ]
          },
          "metadata": {}
        },
        {
          "output_type": "display_data",
          "data": {
            "text/plain": [
              "epoch  23: train D loss: 0.4707, train F loss: 0.6255, acc 0.7660\n"
            ],
            "text/html": [
              "<pre style=\"white-space:pre;overflow-x:auto;line-height:normal;font-family:Menlo,'DejaVu Sans Mono',consolas,'Courier New',monospace\">epoch  23: train D loss: 0.4707, train F loss: 0.6255, acc 0.7660\n",
              "</pre>\n"
            ]
          },
          "metadata": {}
        },
        {
          "output_type": "display_data",
          "data": {
            "text/plain": [
              "epoch  24: train D loss: 0.4752, train F loss: 0.5852, acc 0.7812\n"
            ],
            "text/html": [
              "<pre style=\"white-space:pre;overflow-x:auto;line-height:normal;font-family:Menlo,'DejaVu Sans Mono',consolas,'Courier New',monospace\">epoch  24: train D loss: 0.4752, train F loss: 0.5852, acc 0.7812\n",
              "</pre>\n"
            ]
          },
          "metadata": {}
        },
        {
          "output_type": "display_data",
          "data": {
            "text/plain": [
              "epoch  25: train D loss: 0.4750, train F loss: 0.5686, acc 0.7842\n"
            ],
            "text/html": [
              "<pre style=\"white-space:pre;overflow-x:auto;line-height:normal;font-family:Menlo,'DejaVu Sans Mono',consolas,'Courier New',monospace\">epoch  25: train D loss: 0.4750, train F loss: 0.5686, acc 0.7842\n",
              "</pre>\n"
            ]
          },
          "metadata": {}
        },
        {
          "output_type": "display_data",
          "data": {
            "text/plain": [
              "epoch  26: train D loss: 0.4579, train F loss: 0.5361, acc 0.7996\n"
            ],
            "text/html": [
              "<pre style=\"white-space:pre;overflow-x:auto;line-height:normal;font-family:Menlo,'DejaVu Sans Mono',consolas,'Courier New',monospace\">epoch  26: train D loss: 0.4579, train F loss: 0.5361, acc 0.7996\n",
              "</pre>\n"
            ]
          },
          "metadata": {}
        },
        {
          "output_type": "display_data",
          "data": {
            "text/plain": [
              "epoch  27: train D loss: 0.4619, train F loss: 0.4869, acc 0.8164\n"
            ],
            "text/html": [
              "<pre style=\"white-space:pre;overflow-x:auto;line-height:normal;font-family:Menlo,'DejaVu Sans Mono',consolas,'Courier New',monospace\">epoch  27: train D loss: 0.4619, train F loss: 0.4869, acc 0.8164\n",
              "</pre>\n"
            ]
          },
          "metadata": {}
        },
        {
          "output_type": "display_data",
          "data": {
            "text/plain": [
              "epoch  28: train D loss: 0.4713, train F loss: 0.4677, acc 0.8266\n"
            ],
            "text/html": [
              "<pre style=\"white-space:pre;overflow-x:auto;line-height:normal;font-family:Menlo,'DejaVu Sans Mono',consolas,'Courier New',monospace\">epoch  28: train D loss: 0.4713, train F loss: 0.4677, acc 0.8266\n",
              "</pre>\n"
            ]
          },
          "metadata": {}
        },
        {
          "output_type": "display_data",
          "data": {
            "text/plain": [
              "epoch  29: train D loss: 0.4347, train F loss: 0.4702, acc 0.8198\n"
            ],
            "text/html": [
              "<pre style=\"white-space:pre;overflow-x:auto;line-height:normal;font-family:Menlo,'DejaVu Sans Mono',consolas,'Courier New',monospace\">epoch  29: train D loss: 0.4347, train F loss: 0.4702, acc 0.8198\n",
              "</pre>\n"
            ]
          },
          "metadata": {}
        },
        {
          "output_type": "display_data",
          "data": {
            "text/plain": [
              "epoch  30: train D loss: 0.4427, train F loss: 0.4533, acc 0.8318\n"
            ],
            "text/html": [
              "<pre style=\"white-space:pre;overflow-x:auto;line-height:normal;font-family:Menlo,'DejaVu Sans Mono',consolas,'Courier New',monospace\">epoch  30: train D loss: 0.4427, train F loss: 0.4533, acc 0.8318\n",
              "</pre>\n"
            ]
          },
          "metadata": {}
        },
        {
          "output_type": "display_data",
          "data": {
            "text/plain": [
              "epoch  31: train D loss: 0.4284, train F loss: 0.4087, acc 0.8440\n"
            ],
            "text/html": [
              "<pre style=\"white-space:pre;overflow-x:auto;line-height:normal;font-family:Menlo,'DejaVu Sans Mono',consolas,'Courier New',monospace\">epoch  31: train D loss: 0.4284, train F loss: 0.4087, acc 0.8440\n",
              "</pre>\n"
            ]
          },
          "metadata": {}
        },
        {
          "output_type": "display_data",
          "data": {
            "text/plain": [
              "epoch  32: train D loss: 0.4502, train F loss: 0.3981, acc 0.8446\n"
            ],
            "text/html": [
              "<pre style=\"white-space:pre;overflow-x:auto;line-height:normal;font-family:Menlo,'DejaVu Sans Mono',consolas,'Courier New',monospace\">epoch  32: train D loss: 0.4502, train F loss: 0.3981, acc 0.8446\n",
              "</pre>\n"
            ]
          },
          "metadata": {}
        },
        {
          "output_type": "display_data",
          "data": {
            "text/plain": [
              "epoch  33: train D loss: 0.4248, train F loss: 0.3629, acc 0.8646\n"
            ],
            "text/html": [
              "<pre style=\"white-space:pre;overflow-x:auto;line-height:normal;font-family:Menlo,'DejaVu Sans Mono',consolas,'Courier New',monospace\">epoch  33: train D loss: 0.4248, train F loss: 0.3629, acc 0.8646\n",
              "</pre>\n"
            ]
          },
          "metadata": {}
        },
        {
          "output_type": "display_data",
          "data": {
            "text/plain": [
              "epoch  34: train D loss: 0.4585, train F loss: 0.3465, acc 0.8618\n"
            ],
            "text/html": [
              "<pre style=\"white-space:pre;overflow-x:auto;line-height:normal;font-family:Menlo,'DejaVu Sans Mono',consolas,'Courier New',monospace\">epoch  34: train D loss: 0.4585, train F loss: 0.3465, acc 0.8618\n",
              "</pre>\n"
            ]
          },
          "metadata": {}
        },
        {
          "output_type": "display_data",
          "data": {
            "text/plain": [
              "epoch  35: train D loss: 0.4169, train F loss: 0.3233, acc 0.8724\n"
            ],
            "text/html": [
              "<pre style=\"white-space:pre;overflow-x:auto;line-height:normal;font-family:Menlo,'DejaVu Sans Mono',consolas,'Courier New',monospace\">epoch  35: train D loss: 0.4169, train F loss: 0.3233, acc 0.8724\n",
              "</pre>\n"
            ]
          },
          "metadata": {}
        },
        {
          "output_type": "display_data",
          "data": {
            "text/plain": [
              "epoch  36: train D loss: 0.4289, train F loss: 0.3484, acc 0.8648\n"
            ],
            "text/html": [
              "<pre style=\"white-space:pre;overflow-x:auto;line-height:normal;font-family:Menlo,'DejaVu Sans Mono',consolas,'Courier New',monospace\">epoch  36: train D loss: 0.4289, train F loss: 0.3484, acc 0.8648\n",
              "</pre>\n"
            ]
          },
          "metadata": {}
        },
        {
          "output_type": "display_data",
          "data": {
            "text/plain": [
              "epoch  37: train D loss: 0.4313, train F loss: 0.2986, acc 0.8870\n"
            ],
            "text/html": [
              "<pre style=\"white-space:pre;overflow-x:auto;line-height:normal;font-family:Menlo,'DejaVu Sans Mono',consolas,'Courier New',monospace\">epoch  37: train D loss: 0.4313, train F loss: 0.2986, acc 0.8870\n",
              "</pre>\n"
            ]
          },
          "metadata": {}
        },
        {
          "output_type": "display_data",
          "data": {
            "text/plain": [
              "epoch  38: train D loss: 0.4014, train F loss: 0.2964, acc 0.8858\n"
            ],
            "text/html": [
              "<pre style=\"white-space:pre;overflow-x:auto;line-height:normal;font-family:Menlo,'DejaVu Sans Mono',consolas,'Courier New',monospace\">epoch  38: train D loss: 0.4014, train F loss: 0.2964, acc 0.8858\n",
              "</pre>\n"
            ]
          },
          "metadata": {}
        },
        {
          "output_type": "display_data",
          "data": {
            "text/plain": [
              "epoch  39: train D loss: 0.4126, train F loss: 0.2610, acc 0.9022\n"
            ],
            "text/html": [
              "<pre style=\"white-space:pre;overflow-x:auto;line-height:normal;font-family:Menlo,'DejaVu Sans Mono',consolas,'Courier New',monospace\">epoch  39: train D loss: 0.4126, train F loss: 0.2610, acc 0.9022\n",
              "</pre>\n"
            ]
          },
          "metadata": {}
        },
        {
          "output_type": "display_data",
          "data": {
            "text/plain": [
              "epoch  40: train D loss: 0.4073, train F loss: 0.2479, acc 0.9012\n"
            ],
            "text/html": [
              "<pre style=\"white-space:pre;overflow-x:auto;line-height:normal;font-family:Menlo,'DejaVu Sans Mono',consolas,'Courier New',monospace\">epoch  40: train D loss: 0.4073, train F loss: 0.2479, acc 0.9012\n",
              "</pre>\n"
            ]
          },
          "metadata": {}
        },
        {
          "output_type": "display_data",
          "data": {
            "text/plain": [
              "epoch  41: train D loss: 0.4130, train F loss: 0.2423, acc 0.9068\n"
            ],
            "text/html": [
              "<pre style=\"white-space:pre;overflow-x:auto;line-height:normal;font-family:Menlo,'DejaVu Sans Mono',consolas,'Courier New',monospace\">epoch  41: train D loss: 0.4130, train F loss: 0.2423, acc 0.9068\n",
              "</pre>\n"
            ]
          },
          "metadata": {}
        },
        {
          "output_type": "display_data",
          "data": {
            "text/plain": [
              "epoch  42: train D loss: 0.4175, train F loss: 0.2273, acc 0.9094\n"
            ],
            "text/html": [
              "<pre style=\"white-space:pre;overflow-x:auto;line-height:normal;font-family:Menlo,'DejaVu Sans Mono',consolas,'Courier New',monospace\">epoch  42: train D loss: 0.4175, train F loss: 0.2273, acc 0.9094\n",
              "</pre>\n"
            ]
          },
          "metadata": {}
        },
        {
          "output_type": "display_data",
          "data": {
            "text/plain": [
              "epoch  43: train D loss: 0.4053, train F loss: 0.2464, acc 0.9090\n"
            ],
            "text/html": [
              "<pre style=\"white-space:pre;overflow-x:auto;line-height:normal;font-family:Menlo,'DejaVu Sans Mono',consolas,'Courier New',monospace\">epoch  43: train D loss: 0.4053, train F loss: 0.2464, acc 0.9090\n",
              "</pre>\n"
            ]
          },
          "metadata": {}
        },
        {
          "output_type": "display_data",
          "data": {
            "text/plain": [
              "epoch  44: train D loss: 0.3967, train F loss: 0.2257, acc 0.9126\n"
            ],
            "text/html": [
              "<pre style=\"white-space:pre;overflow-x:auto;line-height:normal;font-family:Menlo,'DejaVu Sans Mono',consolas,'Courier New',monospace\">epoch  44: train D loss: 0.3967, train F loss: 0.2257, acc 0.9126\n",
              "</pre>\n"
            ]
          },
          "metadata": {}
        },
        {
          "output_type": "display_data",
          "data": {
            "text/plain": [
              "epoch  45: train D loss: 0.3922, train F loss: 0.2216, acc 0.9140\n"
            ],
            "text/html": [
              "<pre style=\"white-space:pre;overflow-x:auto;line-height:normal;font-family:Menlo,'DejaVu Sans Mono',consolas,'Courier New',monospace\">epoch  45: train D loss: 0.3922, train F loss: 0.2216, acc 0.9140\n",
              "</pre>\n"
            ]
          },
          "metadata": {}
        },
        {
          "output_type": "display_data",
          "data": {
            "text/plain": [
              "epoch  46: train D loss: 0.4058, train F loss: 0.1806, acc 0.9260\n"
            ],
            "text/html": [
              "<pre style=\"white-space:pre;overflow-x:auto;line-height:normal;font-family:Menlo,'DejaVu Sans Mono',consolas,'Courier New',monospace\">epoch  46: train D loss: 0.4058, train F loss: 0.1806, acc 0.9260\n",
              "</pre>\n"
            ]
          },
          "metadata": {}
        },
        {
          "output_type": "display_data",
          "data": {
            "text/plain": [
              "epoch  47: train D loss: 0.4003, train F loss: 0.2034, acc 0.9170\n"
            ],
            "text/html": [
              "<pre style=\"white-space:pre;overflow-x:auto;line-height:normal;font-family:Menlo,'DejaVu Sans Mono',consolas,'Courier New',monospace\">epoch  47: train D loss: 0.4003, train F loss: 0.2034, acc 0.9170\n",
              "</pre>\n"
            ]
          },
          "metadata": {}
        },
        {
          "output_type": "display_data",
          "data": {
            "text/plain": [
              "epoch  48: train D loss: 0.4048, train F loss: 0.1924, acc 0.9230\n"
            ],
            "text/html": [
              "<pre style=\"white-space:pre;overflow-x:auto;line-height:normal;font-family:Menlo,'DejaVu Sans Mono',consolas,'Courier New',monospace\">epoch  48: train D loss: 0.4048, train F loss: 0.1924, acc 0.9230\n",
              "</pre>\n"
            ]
          },
          "metadata": {}
        },
        {
          "output_type": "display_data",
          "data": {
            "text/plain": [
              "epoch  49: train D loss: 0.3949, train F loss: 0.1947, acc 0.9248\n"
            ],
            "text/html": [
              "<pre style=\"white-space:pre;overflow-x:auto;line-height:normal;font-family:Menlo,'DejaVu Sans Mono',consolas,'Courier New',monospace\">epoch  49: train D loss: 0.3949, train F loss: 0.1947, acc 0.9248\n",
              "</pre>\n"
            ]
          },
          "metadata": {}
        },
        {
          "output_type": "display_data",
          "data": {
            "text/plain": [
              "epoch  50: train D loss: 0.3959, train F loss: 0.1874, acc 0.9272\n"
            ],
            "text/html": [
              "<pre style=\"white-space:pre;overflow-x:auto;line-height:normal;font-family:Menlo,'DejaVu Sans Mono',consolas,'Courier New',monospace\">epoch  50: train D loss: 0.3959, train F loss: 0.1874, acc 0.9272\n",
              "</pre>\n"
            ]
          },
          "metadata": {}
        },
        {
          "output_type": "display_data",
          "data": {
            "text/plain": [
              "epoch  51: train D loss: 0.3993, train F loss: 0.1737, acc 0.9320\n"
            ],
            "text/html": [
              "<pre style=\"white-space:pre;overflow-x:auto;line-height:normal;font-family:Menlo,'DejaVu Sans Mono',consolas,'Courier New',monospace\">epoch  51: train D loss: 0.3993, train F loss: 0.1737, acc 0.9320\n",
              "</pre>\n"
            ]
          },
          "metadata": {}
        },
        {
          "output_type": "display_data",
          "data": {
            "text/plain": [
              "epoch  52: train D loss: 0.3881, train F loss: 0.1713, acc 0.9264\n"
            ],
            "text/html": [
              "<pre style=\"white-space:pre;overflow-x:auto;line-height:normal;font-family:Menlo,'DejaVu Sans Mono',consolas,'Courier New',monospace\">epoch  52: train D loss: 0.3881, train F loss: 0.1713, acc 0.9264\n",
              "</pre>\n"
            ]
          },
          "metadata": {}
        },
        {
          "output_type": "display_data",
          "data": {
            "text/plain": [
              "epoch  53: train D loss: 0.4068, train F loss: 0.1485, acc 0.9418\n"
            ],
            "text/html": [
              "<pre style=\"white-space:pre;overflow-x:auto;line-height:normal;font-family:Menlo,'DejaVu Sans Mono',consolas,'Courier New',monospace\">epoch  53: train D loss: 0.4068, train F loss: 0.1485, acc 0.9418\n",
              "</pre>\n"
            ]
          },
          "metadata": {}
        },
        {
          "output_type": "display_data",
          "data": {
            "text/plain": [
              "epoch  54: train D loss: 0.4003, train F loss: 0.1704, acc 0.9350\n"
            ],
            "text/html": [
              "<pre style=\"white-space:pre;overflow-x:auto;line-height:normal;font-family:Menlo,'DejaVu Sans Mono',consolas,'Courier New',monospace\">epoch  54: train D loss: 0.4003, train F loss: 0.1704, acc 0.9350\n",
              "</pre>\n"
            ]
          },
          "metadata": {}
        },
        {
          "output_type": "display_data",
          "data": {
            "text/plain": [
              "epoch  55: train D loss: 0.3793, train F loss: 0.1509, acc 0.9404\n"
            ],
            "text/html": [
              "<pre style=\"white-space:pre;overflow-x:auto;line-height:normal;font-family:Menlo,'DejaVu Sans Mono',consolas,'Courier New',monospace\">epoch  55: train D loss: 0.3793, train F loss: 0.1509, acc 0.9404\n",
              "</pre>\n"
            ]
          },
          "metadata": {}
        },
        {
          "output_type": "display_data",
          "data": {
            "text/plain": [
              "epoch  56: train D loss: 0.3832, train F loss: 0.1513, acc 0.9402\n"
            ],
            "text/html": [
              "<pre style=\"white-space:pre;overflow-x:auto;line-height:normal;font-family:Menlo,'DejaVu Sans Mono',consolas,'Courier New',monospace\">epoch  56: train D loss: 0.3832, train F loss: 0.1513, acc 0.9402\n",
              "</pre>\n"
            ]
          },
          "metadata": {}
        },
        {
          "output_type": "display_data",
          "data": {
            "text/plain": [
              "epoch  57: train D loss: 0.3722, train F loss: 0.1522, acc 0.9390\n"
            ],
            "text/html": [
              "<pre style=\"white-space:pre;overflow-x:auto;line-height:normal;font-family:Menlo,'DejaVu Sans Mono',consolas,'Courier New',monospace\">epoch  57: train D loss: 0.3722, train F loss: 0.1522, acc 0.9390\n",
              "</pre>\n"
            ]
          },
          "metadata": {}
        },
        {
          "output_type": "display_data",
          "data": {
            "text/plain": [
              "epoch  58: train D loss: 0.3800, train F loss: 0.1382, acc 0.9418\n"
            ],
            "text/html": [
              "<pre style=\"white-space:pre;overflow-x:auto;line-height:normal;font-family:Menlo,'DejaVu Sans Mono',consolas,'Courier New',monospace\">epoch  58: train D loss: 0.3800, train F loss: 0.1382, acc 0.9418\n",
              "</pre>\n"
            ]
          },
          "metadata": {}
        },
        {
          "output_type": "display_data",
          "data": {
            "text/plain": [
              "epoch  59: train D loss: 0.3703, train F loss: 0.1273, acc 0.9470\n"
            ],
            "text/html": [
              "<pre style=\"white-space:pre;overflow-x:auto;line-height:normal;font-family:Menlo,'DejaVu Sans Mono',consolas,'Courier New',monospace\">epoch  59: train D loss: 0.3703, train F loss: 0.1273, acc 0.9470\n",
              "</pre>\n"
            ]
          },
          "metadata": {}
        },
        {
          "output_type": "display_data",
          "data": {
            "text/plain": [
              "epoch  60: train D loss: 0.3756, train F loss: 0.1380, acc 0.9428\n"
            ],
            "text/html": [
              "<pre style=\"white-space:pre;overflow-x:auto;line-height:normal;font-family:Menlo,'DejaVu Sans Mono',consolas,'Courier New',monospace\">epoch  60: train D loss: 0.3756, train F loss: 0.1380, acc 0.9428\n",
              "</pre>\n"
            ]
          },
          "metadata": {}
        },
        {
          "output_type": "display_data",
          "data": {
            "text/plain": [
              "epoch  61: train D loss: 0.3864, train F loss: 0.1336, acc 0.9394\n"
            ],
            "text/html": [
              "<pre style=\"white-space:pre;overflow-x:auto;line-height:normal;font-family:Menlo,'DejaVu Sans Mono',consolas,'Courier New',monospace\">epoch  61: train D loss: 0.3864, train F loss: 0.1336, acc 0.9394\n",
              "</pre>\n"
            ]
          },
          "metadata": {}
        },
        {
          "output_type": "display_data",
          "data": {
            "text/plain": [
              "epoch  62: train D loss: 0.3746, train F loss: 0.1082, acc 0.9530\n"
            ],
            "text/html": [
              "<pre style=\"white-space:pre;overflow-x:auto;line-height:normal;font-family:Menlo,'DejaVu Sans Mono',consolas,'Courier New',monospace\">epoch  62: train D loss: 0.3746, train F loss: 0.1082, acc 0.9530\n",
              "</pre>\n"
            ]
          },
          "metadata": {}
        },
        {
          "output_type": "display_data",
          "data": {
            "text/plain": [
              "epoch  63: train D loss: 0.3747, train F loss: 0.1203, acc 0.9492\n"
            ],
            "text/html": [
              "<pre style=\"white-space:pre;overflow-x:auto;line-height:normal;font-family:Menlo,'DejaVu Sans Mono',consolas,'Courier New',monospace\">epoch  63: train D loss: 0.3747, train F loss: 0.1203, acc 0.9492\n",
              "</pre>\n"
            ]
          },
          "metadata": {}
        },
        {
          "output_type": "display_data",
          "data": {
            "text/plain": [
              "epoch  64: train D loss: 0.3852, train F loss: 0.1299, acc 0.9458\n"
            ],
            "text/html": [
              "<pre style=\"white-space:pre;overflow-x:auto;line-height:normal;font-family:Menlo,'DejaVu Sans Mono',consolas,'Courier New',monospace\">epoch  64: train D loss: 0.3852, train F loss: 0.1299, acc 0.9458\n",
              "</pre>\n"
            ]
          },
          "metadata": {}
        },
        {
          "output_type": "display_data",
          "data": {
            "text/plain": [
              "epoch  65: train D loss: 0.3725, train F loss: 0.0832, acc 0.9622\n"
            ],
            "text/html": [
              "<pre style=\"white-space:pre;overflow-x:auto;line-height:normal;font-family:Menlo,'DejaVu Sans Mono',consolas,'Courier New',monospace\">epoch  65: train D loss: 0.3725, train F loss: 0.0832, acc 0.9622\n",
              "</pre>\n"
            ]
          },
          "metadata": {}
        },
        {
          "output_type": "display_data",
          "data": {
            "text/plain": [
              "epoch  66: train D loss: 0.3888, train F loss: 0.1115, acc 0.9492\n"
            ],
            "text/html": [
              "<pre style=\"white-space:pre;overflow-x:auto;line-height:normal;font-family:Menlo,'DejaVu Sans Mono',consolas,'Courier New',monospace\">epoch  66: train D loss: 0.3888, train F loss: 0.1115, acc 0.9492\n",
              "</pre>\n"
            ]
          },
          "metadata": {}
        },
        {
          "output_type": "display_data",
          "data": {
            "text/plain": [
              "epoch  67: train D loss: 0.3855, train F loss: 0.1165, acc 0.9486\n"
            ],
            "text/html": [
              "<pre style=\"white-space:pre;overflow-x:auto;line-height:normal;font-family:Menlo,'DejaVu Sans Mono',consolas,'Courier New',monospace\">epoch  67: train D loss: 0.3855, train F loss: 0.1165, acc 0.9486\n",
              "</pre>\n"
            ]
          },
          "metadata": {}
        },
        {
          "output_type": "display_data",
          "data": {
            "text/plain": [
              "epoch  68: train D loss: 0.3990, train F loss: 0.1240, acc 0.9470\n"
            ],
            "text/html": [
              "<pre style=\"white-space:pre;overflow-x:auto;line-height:normal;font-family:Menlo,'DejaVu Sans Mono',consolas,'Courier New',monospace\">epoch  68: train D loss: 0.3990, train F loss: 0.1240, acc 0.9470\n",
              "</pre>\n"
            ]
          },
          "metadata": {}
        },
        {
          "output_type": "display_data",
          "data": {
            "text/plain": [
              "epoch  69: train D loss: 0.3803, train F loss: 0.1075, acc 0.9520\n"
            ],
            "text/html": [
              "<pre style=\"white-space:pre;overflow-x:auto;line-height:normal;font-family:Menlo,'DejaVu Sans Mono',consolas,'Courier New',monospace\">epoch  69: train D loss: 0.3803, train F loss: 0.1075, acc 0.9520\n",
              "</pre>\n"
            ]
          },
          "metadata": {}
        },
        {
          "output_type": "display_data",
          "data": {
            "text/plain": [
              "epoch  70: train D loss: 0.3735, train F loss: 0.0948, acc 0.9528\n"
            ],
            "text/html": [
              "<pre style=\"white-space:pre;overflow-x:auto;line-height:normal;font-family:Menlo,'DejaVu Sans Mono',consolas,'Courier New',monospace\">epoch  70: train D loss: 0.3735, train F loss: 0.0948, acc 0.9528\n",
              "</pre>\n"
            ]
          },
          "metadata": {}
        },
        {
          "output_type": "display_data",
          "data": {
            "text/plain": [
              "epoch  71: train D loss: 0.3719, train F loss: 0.1096, acc 0.9514\n"
            ],
            "text/html": [
              "<pre style=\"white-space:pre;overflow-x:auto;line-height:normal;font-family:Menlo,'DejaVu Sans Mono',consolas,'Courier New',monospace\">epoch  71: train D loss: 0.3719, train F loss: 0.1096, acc 0.9514\n",
              "</pre>\n"
            ]
          },
          "metadata": {}
        },
        {
          "output_type": "display_data",
          "data": {
            "text/plain": [
              "epoch  72: train D loss: 0.3824, train F loss: 0.0972, acc 0.9548\n"
            ],
            "text/html": [
              "<pre style=\"white-space:pre;overflow-x:auto;line-height:normal;font-family:Menlo,'DejaVu Sans Mono',consolas,'Courier New',monospace\">epoch  72: train D loss: 0.3824, train F loss: 0.0972, acc 0.9548\n",
              "</pre>\n"
            ]
          },
          "metadata": {}
        },
        {
          "output_type": "display_data",
          "data": {
            "text/plain": [
              "epoch  73: train D loss: 0.3711, train F loss: 0.0836, acc 0.9612\n"
            ],
            "text/html": [
              "<pre style=\"white-space:pre;overflow-x:auto;line-height:normal;font-family:Menlo,'DejaVu Sans Mono',consolas,'Courier New',monospace\">epoch  73: train D loss: 0.3711, train F loss: 0.0836, acc 0.9612\n",
              "</pre>\n"
            ]
          },
          "metadata": {}
        },
        {
          "output_type": "display_data",
          "data": {
            "text/plain": [
              "epoch  74: train D loss: 0.3815, train F loss: 0.0873, acc 0.9590\n"
            ],
            "text/html": [
              "<pre style=\"white-space:pre;overflow-x:auto;line-height:normal;font-family:Menlo,'DejaVu Sans Mono',consolas,'Courier New',monospace\">epoch  74: train D loss: 0.3815, train F loss: 0.0873, acc 0.9590\n",
              "</pre>\n"
            ]
          },
          "metadata": {}
        },
        {
          "output_type": "display_data",
          "data": {
            "text/plain": [
              "epoch  75: train D loss: 0.3846, train F loss: 0.1001, acc 0.9554\n"
            ],
            "text/html": [
              "<pre style=\"white-space:pre;overflow-x:auto;line-height:normal;font-family:Menlo,'DejaVu Sans Mono',consolas,'Courier New',monospace\">epoch  75: train D loss: 0.3846, train F loss: 0.1001, acc 0.9554\n",
              "</pre>\n"
            ]
          },
          "metadata": {}
        },
        {
          "output_type": "display_data",
          "data": {
            "text/plain": [
              "epoch  76: train D loss: 0.3864, train F loss: 0.0838, acc 0.9602\n"
            ],
            "text/html": [
              "<pre style=\"white-space:pre;overflow-x:auto;line-height:normal;font-family:Menlo,'DejaVu Sans Mono',consolas,'Courier New',monospace\">epoch  76: train D loss: 0.3864, train F loss: 0.0838, acc 0.9602\n",
              "</pre>\n"
            ]
          },
          "metadata": {}
        },
        {
          "output_type": "display_data",
          "data": {
            "text/plain": [
              "epoch  77: train D loss: 0.3886, train F loss: 0.1054, acc 0.9566\n"
            ],
            "text/html": [
              "<pre style=\"white-space:pre;overflow-x:auto;line-height:normal;font-family:Menlo,'DejaVu Sans Mono',consolas,'Courier New',monospace\">epoch  77: train D loss: 0.3886, train F loss: 0.1054, acc 0.9566\n",
              "</pre>\n"
            ]
          },
          "metadata": {}
        },
        {
          "output_type": "display_data",
          "data": {
            "text/plain": [
              "epoch  78: train D loss: 0.3764, train F loss: 0.0931, acc 0.9574\n"
            ],
            "text/html": [
              "<pre style=\"white-space:pre;overflow-x:auto;line-height:normal;font-family:Menlo,'DejaVu Sans Mono',consolas,'Courier New',monospace\">epoch  78: train D loss: 0.3764, train F loss: 0.0931, acc 0.9574\n",
              "</pre>\n"
            ]
          },
          "metadata": {}
        },
        {
          "output_type": "display_data",
          "data": {
            "text/plain": [
              "epoch  79: train D loss: 0.3744, train F loss: 0.0906, acc 0.9594\n"
            ],
            "text/html": [
              "<pre style=\"white-space:pre;overflow-x:auto;line-height:normal;font-family:Menlo,'DejaVu Sans Mono',consolas,'Courier New',monospace\">epoch  79: train D loss: 0.3744, train F loss: 0.0906, acc 0.9594\n",
              "</pre>\n"
            ]
          },
          "metadata": {}
        },
        {
          "output_type": "display_data",
          "data": {
            "text/plain": [
              "epoch  80: train D loss: 0.3699, train F loss: 0.0760, acc 0.9622\n"
            ],
            "text/html": [
              "<pre style=\"white-space:pre;overflow-x:auto;line-height:normal;font-family:Menlo,'DejaVu Sans Mono',consolas,'Courier New',monospace\">epoch  80: train D loss: 0.3699, train F loss: 0.0760, acc 0.9622\n",
              "</pre>\n"
            ]
          },
          "metadata": {}
        },
        {
          "output_type": "display_data",
          "data": {
            "text/plain": [
              "epoch  81: train D loss: 0.3821, train F loss: 0.0561, acc 0.9704\n"
            ],
            "text/html": [
              "<pre style=\"white-space:pre;overflow-x:auto;line-height:normal;font-family:Menlo,'DejaVu Sans Mono',consolas,'Courier New',monospace\">epoch  81: train D loss: 0.3821, train F loss: 0.0561, acc 0.9704\n",
              "</pre>\n"
            ]
          },
          "metadata": {}
        },
        {
          "output_type": "display_data",
          "data": {
            "text/plain": [
              "epoch  82: train D loss: 0.3829, train F loss: 0.0840, acc 0.9576\n"
            ],
            "text/html": [
              "<pre style=\"white-space:pre;overflow-x:auto;line-height:normal;font-family:Menlo,'DejaVu Sans Mono',consolas,'Courier New',monospace\">epoch  82: train D loss: 0.3829, train F loss: 0.0840, acc 0.9576\n",
              "</pre>\n"
            ]
          },
          "metadata": {}
        },
        {
          "output_type": "display_data",
          "data": {
            "text/plain": [
              "epoch  83: train D loss: 0.3740, train F loss: 0.0644, acc 0.9666\n"
            ],
            "text/html": [
              "<pre style=\"white-space:pre;overflow-x:auto;line-height:normal;font-family:Menlo,'DejaVu Sans Mono',consolas,'Courier New',monospace\">epoch  83: train D loss: 0.3740, train F loss: 0.0644, acc 0.9666\n",
              "</pre>\n"
            ]
          },
          "metadata": {}
        },
        {
          "output_type": "display_data",
          "data": {
            "text/plain": [
              "epoch  84: train D loss: 0.3793, train F loss: 0.0840, acc 0.9592\n"
            ],
            "text/html": [
              "<pre style=\"white-space:pre;overflow-x:auto;line-height:normal;font-family:Menlo,'DejaVu Sans Mono',consolas,'Courier New',monospace\">epoch  84: train D loss: 0.3793, train F loss: 0.0840, acc 0.9592\n",
              "</pre>\n"
            ]
          },
          "metadata": {}
        },
        {
          "output_type": "display_data",
          "data": {
            "text/plain": [
              "epoch  85: train D loss: 0.3759, train F loss: 0.0723, acc 0.9630\n"
            ],
            "text/html": [
              "<pre style=\"white-space:pre;overflow-x:auto;line-height:normal;font-family:Menlo,'DejaVu Sans Mono',consolas,'Courier New',monospace\">epoch  85: train D loss: 0.3759, train F loss: 0.0723, acc 0.9630\n",
              "</pre>\n"
            ]
          },
          "metadata": {}
        },
        {
          "output_type": "display_data",
          "data": {
            "text/plain": [
              "epoch  86: train D loss: 0.3871, train F loss: 0.0835, acc 0.9614\n"
            ],
            "text/html": [
              "<pre style=\"white-space:pre;overflow-x:auto;line-height:normal;font-family:Menlo,'DejaVu Sans Mono',consolas,'Courier New',monospace\">epoch  86: train D loss: 0.3871, train F loss: 0.0835, acc 0.9614\n",
              "</pre>\n"
            ]
          },
          "metadata": {}
        },
        {
          "output_type": "display_data",
          "data": {
            "text/plain": [
              "epoch  87: train D loss: 0.3956, train F loss: 0.1001, acc 0.9558\n"
            ],
            "text/html": [
              "<pre style=\"white-space:pre;overflow-x:auto;line-height:normal;font-family:Menlo,'DejaVu Sans Mono',consolas,'Courier New',monospace\">epoch  87: train D loss: 0.3956, train F loss: 0.1001, acc 0.9558\n",
              "</pre>\n"
            ]
          },
          "metadata": {}
        },
        {
          "output_type": "display_data",
          "data": {
            "text/plain": [
              "epoch  88: train D loss: 0.3811, train F loss: 0.0636, acc 0.9676\n"
            ],
            "text/html": [
              "<pre style=\"white-space:pre;overflow-x:auto;line-height:normal;font-family:Menlo,'DejaVu Sans Mono',consolas,'Courier New',monospace\">epoch  88: train D loss: 0.3811, train F loss: 0.0636, acc 0.9676\n",
              "</pre>\n"
            ]
          },
          "metadata": {}
        },
        {
          "output_type": "display_data",
          "data": {
            "text/plain": [
              "epoch  89: train D loss: 0.3821, train F loss: 0.0698, acc 0.9644\n"
            ],
            "text/html": [
              "<pre style=\"white-space:pre;overflow-x:auto;line-height:normal;font-family:Menlo,'DejaVu Sans Mono',consolas,'Courier New',monospace\">epoch  89: train D loss: 0.3821, train F loss: 0.0698, acc 0.9644\n",
              "</pre>\n"
            ]
          },
          "metadata": {}
        },
        {
          "output_type": "display_data",
          "data": {
            "text/plain": [
              "epoch  90: train D loss: 0.3833, train F loss: 0.0774, acc 0.9640\n"
            ],
            "text/html": [
              "<pre style=\"white-space:pre;overflow-x:auto;line-height:normal;font-family:Menlo,'DejaVu Sans Mono',consolas,'Courier New',monospace\">epoch  90: train D loss: 0.3833, train F loss: 0.0774, acc 0.9640\n",
              "</pre>\n"
            ]
          },
          "metadata": {}
        },
        {
          "output_type": "display_data",
          "data": {
            "text/plain": [
              "epoch  91: train D loss: 0.3812, train F loss: 0.0568, acc 0.9700\n"
            ],
            "text/html": [
              "<pre style=\"white-space:pre;overflow-x:auto;line-height:normal;font-family:Menlo,'DejaVu Sans Mono',consolas,'Courier New',monospace\">epoch  91: train D loss: 0.3812, train F loss: 0.0568, acc 0.9700\n",
              "</pre>\n"
            ]
          },
          "metadata": {}
        },
        {
          "output_type": "display_data",
          "data": {
            "text/plain": [
              "epoch  92: train D loss: 0.4001, train F loss: 0.0642, acc 0.9702\n"
            ],
            "text/html": [
              "<pre style=\"white-space:pre;overflow-x:auto;line-height:normal;font-family:Menlo,'DejaVu Sans Mono',consolas,'Courier New',monospace\">epoch  92: train D loss: 0.4001, train F loss: 0.0642, acc 0.9702\n",
              "</pre>\n"
            ]
          },
          "metadata": {}
        },
        {
          "output_type": "display_data",
          "data": {
            "text/plain": [
              "epoch  93: train D loss: 0.3731, train F loss: 0.0629, acc 0.9678\n"
            ],
            "text/html": [
              "<pre style=\"white-space:pre;overflow-x:auto;line-height:normal;font-family:Menlo,'DejaVu Sans Mono',consolas,'Courier New',monospace\">epoch  93: train D loss: 0.3731, train F loss: 0.0629, acc 0.9678\n",
              "</pre>\n"
            ]
          },
          "metadata": {}
        },
        {
          "output_type": "display_data",
          "data": {
            "text/plain": [
              "epoch  94: train D loss: 0.3748, train F loss: 0.0773, acc 0.9624\n"
            ],
            "text/html": [
              "<pre style=\"white-space:pre;overflow-x:auto;line-height:normal;font-family:Menlo,'DejaVu Sans Mono',consolas,'Courier New',monospace\">epoch  94: train D loss: 0.3748, train F loss: 0.0773, acc 0.9624\n",
              "</pre>\n"
            ]
          },
          "metadata": {}
        },
        {
          "output_type": "display_data",
          "data": {
            "text/plain": [
              "epoch  95: train D loss: 0.3817, train F loss: 0.0557, acc 0.9714\n"
            ],
            "text/html": [
              "<pre style=\"white-space:pre;overflow-x:auto;line-height:normal;font-family:Menlo,'DejaVu Sans Mono',consolas,'Courier New',monospace\">epoch  95: train D loss: 0.3817, train F loss: 0.0557, acc 0.9714\n",
              "</pre>\n"
            ]
          },
          "metadata": {}
        },
        {
          "output_type": "display_data",
          "data": {
            "text/plain": [
              "epoch  96: train D loss: 0.3715, train F loss: 0.0861, acc 0.9598\n"
            ],
            "text/html": [
              "<pre style=\"white-space:pre;overflow-x:auto;line-height:normal;font-family:Menlo,'DejaVu Sans Mono',consolas,'Courier New',monospace\">epoch  96: train D loss: 0.3715, train F loss: 0.0861, acc 0.9598\n",
              "</pre>\n"
            ]
          },
          "metadata": {}
        },
        {
          "output_type": "display_data",
          "data": {
            "text/plain": [
              "epoch  97: train D loss: 0.3660, train F loss: 0.0683, acc 0.9672\n"
            ],
            "text/html": [
              "<pre style=\"white-space:pre;overflow-x:auto;line-height:normal;font-family:Menlo,'DejaVu Sans Mono',consolas,'Courier New',monospace\">epoch  97: train D loss: 0.3660, train F loss: 0.0683, acc 0.9672\n",
              "</pre>\n"
            ]
          },
          "metadata": {}
        },
        {
          "output_type": "display_data",
          "data": {
            "text/plain": [
              "epoch  98: train D loss: 0.3678, train F loss: 0.0682, acc 0.9634\n"
            ],
            "text/html": [
              "<pre style=\"white-space:pre;overflow-x:auto;line-height:normal;font-family:Menlo,'DejaVu Sans Mono',consolas,'Courier New',monospace\">epoch  98: train D loss: 0.3678, train F loss: 0.0682, acc 0.9634\n",
              "</pre>\n"
            ]
          },
          "metadata": {}
        },
        {
          "output_type": "display_data",
          "data": {
            "text/plain": [
              "epoch  99: train D loss: 0.3676, train F loss: 0.0505, acc 0.9732\n"
            ],
            "text/html": [
              "<pre style=\"white-space:pre;overflow-x:auto;line-height:normal;font-family:Menlo,'DejaVu Sans Mono',consolas,'Courier New',monospace\">epoch  99: train D loss: 0.3676, train F loss: 0.0505, acc 0.9732\n",
              "</pre>\n"
            ]
          },
          "metadata": {}
        },
        {
          "output_type": "display_data",
          "data": {
            "text/plain": [
              "epoch 100: train D loss: 0.3837, train F loss: 0.0775, acc 0.9664\n"
            ],
            "text/html": [
              "<pre style=\"white-space:pre;overflow-x:auto;line-height:normal;font-family:Menlo,'DejaVu Sans Mono',consolas,'Courier New',monospace\">epoch 100: train D loss: 0.3837, train F loss: 0.0775, acc 0.9664\n",
              "</pre>\n"
            ]
          },
          "metadata": {}
        },
        {
          "output_type": "display_data",
          "data": {
            "text/plain": [
              "epoch 101: train D loss: 0.3675, train F loss: 0.0499, acc 0.9734\n"
            ],
            "text/html": [
              "<pre style=\"white-space:pre;overflow-x:auto;line-height:normal;font-family:Menlo,'DejaVu Sans Mono',consolas,'Courier New',monospace\">epoch 101: train D loss: 0.3675, train F loss: 0.0499, acc 0.9734\n",
              "</pre>\n"
            ]
          },
          "metadata": {}
        },
        {
          "output_type": "display_data",
          "data": {
            "text/plain": [
              "epoch 102: train D loss: 0.3674, train F loss: 0.0569, acc 0.9698\n"
            ],
            "text/html": [
              "<pre style=\"white-space:pre;overflow-x:auto;line-height:normal;font-family:Menlo,'DejaVu Sans Mono',consolas,'Courier New',monospace\">epoch 102: train D loss: 0.3674, train F loss: 0.0569, acc 0.9698\n",
              "</pre>\n"
            ]
          },
          "metadata": {}
        },
        {
          "output_type": "display_data",
          "data": {
            "text/plain": [
              "epoch 103: train D loss: 0.3809, train F loss: 0.0607, acc 0.9698\n"
            ],
            "text/html": [
              "<pre style=\"white-space:pre;overflow-x:auto;line-height:normal;font-family:Menlo,'DejaVu Sans Mono',consolas,'Courier New',monospace\">epoch 103: train D loss: 0.3809, train F loss: 0.0607, acc 0.9698\n",
              "</pre>\n"
            ]
          },
          "metadata": {}
        },
        {
          "output_type": "display_data",
          "data": {
            "text/plain": [
              "epoch 104: train D loss: 0.3825, train F loss: 0.0654, acc 0.9682\n"
            ],
            "text/html": [
              "<pre style=\"white-space:pre;overflow-x:auto;line-height:normal;font-family:Menlo,'DejaVu Sans Mono',consolas,'Courier New',monospace\">epoch 104: train D loss: 0.3825, train F loss: 0.0654, acc 0.9682\n",
              "</pre>\n"
            ]
          },
          "metadata": {}
        },
        {
          "output_type": "display_data",
          "data": {
            "text/plain": [
              "epoch 105: train D loss: 0.3751, train F loss: 0.0591, acc 0.9720\n"
            ],
            "text/html": [
              "<pre style=\"white-space:pre;overflow-x:auto;line-height:normal;font-family:Menlo,'DejaVu Sans Mono',consolas,'Courier New',monospace\">epoch 105: train D loss: 0.3751, train F loss: 0.0591, acc 0.9720\n",
              "</pre>\n"
            ]
          },
          "metadata": {}
        },
        {
          "output_type": "display_data",
          "data": {
            "text/plain": [
              "epoch 106: train D loss: 0.3745, train F loss: 0.0473, acc 0.9722\n"
            ],
            "text/html": [
              "<pre style=\"white-space:pre;overflow-x:auto;line-height:normal;font-family:Menlo,'DejaVu Sans Mono',consolas,'Courier New',monospace\">epoch 106: train D loss: 0.3745, train F loss: 0.0473, acc 0.9722\n",
              "</pre>\n"
            ]
          },
          "metadata": {}
        },
        {
          "output_type": "display_data",
          "data": {
            "text/plain": [
              "epoch 107: train D loss: 0.3770, train F loss: 0.0469, acc 0.9712\n"
            ],
            "text/html": [
              "<pre style=\"white-space:pre;overflow-x:auto;line-height:normal;font-family:Menlo,'DejaVu Sans Mono',consolas,'Courier New',monospace\">epoch 107: train D loss: 0.3770, train F loss: 0.0469, acc 0.9712\n",
              "</pre>\n"
            ]
          },
          "metadata": {}
        },
        {
          "output_type": "display_data",
          "data": {
            "text/plain": [
              "epoch 108: train D loss: 0.3843, train F loss: 0.0568, acc 0.9710\n"
            ],
            "text/html": [
              "<pre style=\"white-space:pre;overflow-x:auto;line-height:normal;font-family:Menlo,'DejaVu Sans Mono',consolas,'Courier New',monospace\">epoch 108: train D loss: 0.3843, train F loss: 0.0568, acc 0.9710\n",
              "</pre>\n"
            ]
          },
          "metadata": {}
        },
        {
          "output_type": "display_data",
          "data": {
            "text/plain": [
              "epoch 109: train D loss: 0.3893, train F loss: 0.0901, acc 0.9580\n"
            ],
            "text/html": [
              "<pre style=\"white-space:pre;overflow-x:auto;line-height:normal;font-family:Menlo,'DejaVu Sans Mono',consolas,'Courier New',monospace\">epoch 109: train D loss: 0.3893, train F loss: 0.0901, acc 0.9580\n",
              "</pre>\n"
            ]
          },
          "metadata": {}
        },
        {
          "output_type": "display_data",
          "data": {
            "text/plain": [
              "epoch 110: train D loss: 0.3834, train F loss: 0.0678, acc 0.9662\n"
            ],
            "text/html": [
              "<pre style=\"white-space:pre;overflow-x:auto;line-height:normal;font-family:Menlo,'DejaVu Sans Mono',consolas,'Courier New',monospace\">epoch 110: train D loss: 0.3834, train F loss: 0.0678, acc 0.9662\n",
              "</pre>\n"
            ]
          },
          "metadata": {}
        },
        {
          "output_type": "display_data",
          "data": {
            "text/plain": [
              "epoch 111: train D loss: 0.3989, train F loss: 0.0658, acc 0.9664\n"
            ],
            "text/html": [
              "<pre style=\"white-space:pre;overflow-x:auto;line-height:normal;font-family:Menlo,'DejaVu Sans Mono',consolas,'Courier New',monospace\">epoch 111: train D loss: 0.3989, train F loss: 0.0658, acc 0.9664\n",
              "</pre>\n"
            ]
          },
          "metadata": {}
        },
        {
          "output_type": "display_data",
          "data": {
            "text/plain": [
              "epoch 112: train D loss: 0.3758, train F loss: 0.0460, acc 0.9752\n"
            ],
            "text/html": [
              "<pre style=\"white-space:pre;overflow-x:auto;line-height:normal;font-family:Menlo,'DejaVu Sans Mono',consolas,'Courier New',monospace\">epoch 112: train D loss: 0.3758, train F loss: 0.0460, acc 0.9752\n",
              "</pre>\n"
            ]
          },
          "metadata": {}
        },
        {
          "output_type": "display_data",
          "data": {
            "text/plain": [
              "epoch 113: train D loss: 0.3933, train F loss: 0.0630, acc 0.9680\n"
            ],
            "text/html": [
              "<pre style=\"white-space:pre;overflow-x:auto;line-height:normal;font-family:Menlo,'DejaVu Sans Mono',consolas,'Courier New',monospace\">epoch 113: train D loss: 0.3933, train F loss: 0.0630, acc 0.9680\n",
              "</pre>\n"
            ]
          },
          "metadata": {}
        },
        {
          "output_type": "display_data",
          "data": {
            "text/plain": [
              "epoch 114: train D loss: 0.3789, train F loss: 0.0374, acc 0.9754\n"
            ],
            "text/html": [
              "<pre style=\"white-space:pre;overflow-x:auto;line-height:normal;font-family:Menlo,'DejaVu Sans Mono',consolas,'Courier New',monospace\">epoch 114: train D loss: 0.3789, train F loss: 0.0374, acc 0.9754\n",
              "</pre>\n"
            ]
          },
          "metadata": {}
        },
        {
          "output_type": "display_data",
          "data": {
            "text/plain": [
              "epoch 115: train D loss: 0.4049, train F loss: 0.0389, acc 0.9758\n"
            ],
            "text/html": [
              "<pre style=\"white-space:pre;overflow-x:auto;line-height:normal;font-family:Menlo,'DejaVu Sans Mono',consolas,'Courier New',monospace\">epoch 115: train D loss: 0.4049, train F loss: 0.0389, acc 0.9758\n",
              "</pre>\n"
            ]
          },
          "metadata": {}
        },
        {
          "output_type": "display_data",
          "data": {
            "text/plain": [
              "epoch 116: train D loss: 0.3832, train F loss: 0.0389, acc 0.9762\n"
            ],
            "text/html": [
              "<pre style=\"white-space:pre;overflow-x:auto;line-height:normal;font-family:Menlo,'DejaVu Sans Mono',consolas,'Courier New',monospace\">epoch 116: train D loss: 0.3832, train F loss: 0.0389, acc 0.9762\n",
              "</pre>\n"
            ]
          },
          "metadata": {}
        },
        {
          "output_type": "display_data",
          "data": {
            "text/plain": [
              "epoch 117: train D loss: 0.3835, train F loss: 0.0447, acc 0.9712\n"
            ],
            "text/html": [
              "<pre style=\"white-space:pre;overflow-x:auto;line-height:normal;font-family:Menlo,'DejaVu Sans Mono',consolas,'Courier New',monospace\">epoch 117: train D loss: 0.3835, train F loss: 0.0447, acc 0.9712\n",
              "</pre>\n"
            ]
          },
          "metadata": {}
        },
        {
          "output_type": "display_data",
          "data": {
            "text/plain": [
              "epoch 118: train D loss: 0.3843, train F loss: 0.0430, acc 0.9744\n"
            ],
            "text/html": [
              "<pre style=\"white-space:pre;overflow-x:auto;line-height:normal;font-family:Menlo,'DejaVu Sans Mono',consolas,'Courier New',monospace\">epoch 118: train D loss: 0.3843, train F loss: 0.0430, acc 0.9744\n",
              "</pre>\n"
            ]
          },
          "metadata": {}
        },
        {
          "output_type": "display_data",
          "data": {
            "text/plain": [
              "epoch 119: train D loss: 0.3899, train F loss: 0.0637, acc 0.9694\n"
            ],
            "text/html": [
              "<pre style=\"white-space:pre;overflow-x:auto;line-height:normal;font-family:Menlo,'DejaVu Sans Mono',consolas,'Courier New',monospace\">epoch 119: train D loss: 0.3899, train F loss: 0.0637, acc 0.9694\n",
              "</pre>\n"
            ]
          },
          "metadata": {}
        },
        {
          "output_type": "display_data",
          "data": {
            "text/plain": [
              "epoch 120: train D loss: 0.3793, train F loss: 0.0485, acc 0.9744\n"
            ],
            "text/html": [
              "<pre style=\"white-space:pre;overflow-x:auto;line-height:normal;font-family:Menlo,'DejaVu Sans Mono',consolas,'Courier New',monospace\">epoch 120: train D loss: 0.3793, train F loss: 0.0485, acc 0.9744\n",
              "</pre>\n"
            ]
          },
          "metadata": {}
        },
        {
          "output_type": "display_data",
          "data": {
            "text/plain": [
              "epoch 121: train D loss: 0.3717, train F loss: 0.0477, acc 0.9754\n"
            ],
            "text/html": [
              "<pre style=\"white-space:pre;overflow-x:auto;line-height:normal;font-family:Menlo,'DejaVu Sans Mono',consolas,'Courier New',monospace\">epoch 121: train D loss: 0.3717, train F loss: 0.0477, acc 0.9754\n",
              "</pre>\n"
            ]
          },
          "metadata": {}
        },
        {
          "output_type": "display_data",
          "data": {
            "text/plain": [
              "epoch 122: train D loss: 0.3757, train F loss: 0.0443, acc 0.9750\n"
            ],
            "text/html": [
              "<pre style=\"white-space:pre;overflow-x:auto;line-height:normal;font-family:Menlo,'DejaVu Sans Mono',consolas,'Courier New',monospace\">epoch 122: train D loss: 0.3757, train F loss: 0.0443, acc 0.9750\n",
              "</pre>\n"
            ]
          },
          "metadata": {}
        },
        {
          "output_type": "display_data",
          "data": {
            "text/plain": [
              "epoch 123: train D loss: 0.3794, train F loss: 0.0587, acc 0.9692\n"
            ],
            "text/html": [
              "<pre style=\"white-space:pre;overflow-x:auto;line-height:normal;font-family:Menlo,'DejaVu Sans Mono',consolas,'Courier New',monospace\">epoch 123: train D loss: 0.3794, train F loss: 0.0587, acc 0.9692\n",
              "</pre>\n"
            ]
          },
          "metadata": {}
        },
        {
          "output_type": "display_data",
          "data": {
            "text/plain": [
              "epoch 124: train D loss: 0.3763, train F loss: 0.0362, acc 0.9754\n"
            ],
            "text/html": [
              "<pre style=\"white-space:pre;overflow-x:auto;line-height:normal;font-family:Menlo,'DejaVu Sans Mono',consolas,'Courier New',monospace\">epoch 124: train D loss: 0.3763, train F loss: 0.0362, acc 0.9754\n",
              "</pre>\n"
            ]
          },
          "metadata": {}
        },
        {
          "output_type": "display_data",
          "data": {
            "text/plain": [
              "epoch 125: train D loss: 0.3883, train F loss: 0.0427, acc 0.9734\n"
            ],
            "text/html": [
              "<pre style=\"white-space:pre;overflow-x:auto;line-height:normal;font-family:Menlo,'DejaVu Sans Mono',consolas,'Courier New',monospace\">epoch 125: train D loss: 0.3883, train F loss: 0.0427, acc 0.9734\n",
              "</pre>\n"
            ]
          },
          "metadata": {}
        },
        {
          "output_type": "display_data",
          "data": {
            "text/plain": [
              "epoch 126: train D loss: 0.3812, train F loss: 0.0417, acc 0.9732\n"
            ],
            "text/html": [
              "<pre style=\"white-space:pre;overflow-x:auto;line-height:normal;font-family:Menlo,'DejaVu Sans Mono',consolas,'Courier New',monospace\">epoch 126: train D loss: 0.3812, train F loss: 0.0417, acc 0.9732\n",
              "</pre>\n"
            ]
          },
          "metadata": {}
        },
        {
          "output_type": "display_data",
          "data": {
            "text/plain": [
              "epoch 127: train D loss: 0.3751, train F loss: 0.0506, acc 0.9708\n"
            ],
            "text/html": [
              "<pre style=\"white-space:pre;overflow-x:auto;line-height:normal;font-family:Menlo,'DejaVu Sans Mono',consolas,'Courier New',monospace\">epoch 127: train D loss: 0.3751, train F loss: 0.0506, acc 0.9708\n",
              "</pre>\n"
            ]
          },
          "metadata": {}
        },
        {
          "output_type": "display_data",
          "data": {
            "text/plain": [
              "epoch 128: train D loss: 0.3778, train F loss: 0.0612, acc 0.9694\n"
            ],
            "text/html": [
              "<pre style=\"white-space:pre;overflow-x:auto;line-height:normal;font-family:Menlo,'DejaVu Sans Mono',consolas,'Courier New',monospace\">epoch 128: train D loss: 0.3778, train F loss: 0.0612, acc 0.9694\n",
              "</pre>\n"
            ]
          },
          "metadata": {}
        },
        {
          "output_type": "display_data",
          "data": {
            "text/plain": [
              "epoch 129: train D loss: 0.3826, train F loss: 0.0324, acc 0.9784\n"
            ],
            "text/html": [
              "<pre style=\"white-space:pre;overflow-x:auto;line-height:normal;font-family:Menlo,'DejaVu Sans Mono',consolas,'Courier New',monospace\">epoch 129: train D loss: 0.3826, train F loss: 0.0324, acc 0.9784\n",
              "</pre>\n"
            ]
          },
          "metadata": {}
        },
        {
          "output_type": "display_data",
          "data": {
            "text/plain": [
              "epoch 130: train D loss: 0.3862, train F loss: 0.0520, acc 0.9724\n"
            ],
            "text/html": [
              "<pre style=\"white-space:pre;overflow-x:auto;line-height:normal;font-family:Menlo,'DejaVu Sans Mono',consolas,'Courier New',monospace\">epoch 130: train D loss: 0.3862, train F loss: 0.0520, acc 0.9724\n",
              "</pre>\n"
            ]
          },
          "metadata": {}
        },
        {
          "output_type": "display_data",
          "data": {
            "text/plain": [
              "epoch 131: train D loss: 0.3819, train F loss: 0.0373, acc 0.9762\n"
            ],
            "text/html": [
              "<pre style=\"white-space:pre;overflow-x:auto;line-height:normal;font-family:Menlo,'DejaVu Sans Mono',consolas,'Courier New',monospace\">epoch 131: train D loss: 0.3819, train F loss: 0.0373, acc 0.9762\n",
              "</pre>\n"
            ]
          },
          "metadata": {}
        },
        {
          "output_type": "display_data",
          "data": {
            "text/plain": [
              "epoch 132: train D loss: 0.3928, train F loss: 0.0380, acc 0.9734\n"
            ],
            "text/html": [
              "<pre style=\"white-space:pre;overflow-x:auto;line-height:normal;font-family:Menlo,'DejaVu Sans Mono',consolas,'Courier New',monospace\">epoch 132: train D loss: 0.3928, train F loss: 0.0380, acc 0.9734\n",
              "</pre>\n"
            ]
          },
          "metadata": {}
        },
        {
          "output_type": "display_data",
          "data": {
            "text/plain": [
              "epoch 133: train D loss: 0.3868, train F loss: 0.0268, acc 0.9754\n"
            ],
            "text/html": [
              "<pre style=\"white-space:pre;overflow-x:auto;line-height:normal;font-family:Menlo,'DejaVu Sans Mono',consolas,'Courier New',monospace\">epoch 133: train D loss: 0.3868, train F loss: 0.0268, acc 0.9754\n",
              "</pre>\n"
            ]
          },
          "metadata": {}
        },
        {
          "output_type": "display_data",
          "data": {
            "text/plain": [
              "epoch 134: train D loss: 0.3819, train F loss: 0.0365, acc 0.9768\n"
            ],
            "text/html": [
              "<pre style=\"white-space:pre;overflow-x:auto;line-height:normal;font-family:Menlo,'DejaVu Sans Mono',consolas,'Courier New',monospace\">epoch 134: train D loss: 0.3819, train F loss: 0.0365, acc 0.9768\n",
              "</pre>\n"
            ]
          },
          "metadata": {}
        },
        {
          "output_type": "display_data",
          "data": {
            "text/plain": [
              "epoch 135: train D loss: 0.3908, train F loss: 0.0471, acc 0.9730\n"
            ],
            "text/html": [
              "<pre style=\"white-space:pre;overflow-x:auto;line-height:normal;font-family:Menlo,'DejaVu Sans Mono',consolas,'Courier New',monospace\">epoch 135: train D loss: 0.3908, train F loss: 0.0471, acc 0.9730\n",
              "</pre>\n"
            ]
          },
          "metadata": {}
        },
        {
          "output_type": "display_data",
          "data": {
            "text/plain": [
              "epoch 136: train D loss: 0.3985, train F loss: 0.0486, acc 0.9732\n"
            ],
            "text/html": [
              "<pre style=\"white-space:pre;overflow-x:auto;line-height:normal;font-family:Menlo,'DejaVu Sans Mono',consolas,'Courier New',monospace\">epoch 136: train D loss: 0.3985, train F loss: 0.0486, acc 0.9732\n",
              "</pre>\n"
            ]
          },
          "metadata": {}
        },
        {
          "output_type": "display_data",
          "data": {
            "text/plain": [
              "epoch 137: train D loss: 0.3864, train F loss: 0.0419, acc 0.9756\n"
            ],
            "text/html": [
              "<pre style=\"white-space:pre;overflow-x:auto;line-height:normal;font-family:Menlo,'DejaVu Sans Mono',consolas,'Courier New',monospace\">epoch 137: train D loss: 0.3864, train F loss: 0.0419, acc 0.9756\n",
              "</pre>\n"
            ]
          },
          "metadata": {}
        },
        {
          "output_type": "display_data",
          "data": {
            "text/plain": [
              "epoch 138: train D loss: 0.3836, train F loss: 0.0364, acc 0.9764\n"
            ],
            "text/html": [
              "<pre style=\"white-space:pre;overflow-x:auto;line-height:normal;font-family:Menlo,'DejaVu Sans Mono',consolas,'Courier New',monospace\">epoch 138: train D loss: 0.3836, train F loss: 0.0364, acc 0.9764\n",
              "</pre>\n"
            ]
          },
          "metadata": {}
        },
        {
          "output_type": "display_data",
          "data": {
            "text/plain": [
              "epoch 139: train D loss: 0.3847, train F loss: 0.0283, acc 0.9794\n"
            ],
            "text/html": [
              "<pre style=\"white-space:pre;overflow-x:auto;line-height:normal;font-family:Menlo,'DejaVu Sans Mono',consolas,'Courier New',monospace\">epoch 139: train D loss: 0.3847, train F loss: 0.0283, acc 0.9794\n",
              "</pre>\n"
            ]
          },
          "metadata": {}
        },
        {
          "output_type": "display_data",
          "data": {
            "text/plain": [
              "epoch 140: train D loss: 0.3825, train F loss: 0.0210, acc 0.9816\n"
            ],
            "text/html": [
              "<pre style=\"white-space:pre;overflow-x:auto;line-height:normal;font-family:Menlo,'DejaVu Sans Mono',consolas,'Courier New',monospace\">epoch 140: train D loss: 0.3825, train F loss: 0.0210, acc 0.9816\n",
              "</pre>\n"
            ]
          },
          "metadata": {}
        },
        {
          "output_type": "display_data",
          "data": {
            "text/plain": [
              "epoch 141: train D loss: 0.3874, train F loss: 0.0451, acc 0.9736\n"
            ],
            "text/html": [
              "<pre style=\"white-space:pre;overflow-x:auto;line-height:normal;font-family:Menlo,'DejaVu Sans Mono',consolas,'Courier New',monospace\">epoch 141: train D loss: 0.3874, train F loss: 0.0451, acc 0.9736\n",
              "</pre>\n"
            ]
          },
          "metadata": {}
        },
        {
          "output_type": "display_data",
          "data": {
            "text/plain": [
              "epoch 142: train D loss: 0.3868, train F loss: 0.0327, acc 0.9778\n"
            ],
            "text/html": [
              "<pre style=\"white-space:pre;overflow-x:auto;line-height:normal;font-family:Menlo,'DejaVu Sans Mono',consolas,'Courier New',monospace\">epoch 142: train D loss: 0.3868, train F loss: 0.0327, acc 0.9778\n",
              "</pre>\n"
            ]
          },
          "metadata": {}
        },
        {
          "output_type": "display_data",
          "data": {
            "text/plain": [
              "epoch 143: train D loss: 0.3957, train F loss: 0.0390, acc 0.9740\n"
            ],
            "text/html": [
              "<pre style=\"white-space:pre;overflow-x:auto;line-height:normal;font-family:Menlo,'DejaVu Sans Mono',consolas,'Courier New',monospace\">epoch 143: train D loss: 0.3957, train F loss: 0.0390, acc 0.9740\n",
              "</pre>\n"
            ]
          },
          "metadata": {}
        },
        {
          "output_type": "display_data",
          "data": {
            "text/plain": [
              "epoch 144: train D loss: 0.3792, train F loss: 0.0469, acc 0.9764\n"
            ],
            "text/html": [
              "<pre style=\"white-space:pre;overflow-x:auto;line-height:normal;font-family:Menlo,'DejaVu Sans Mono',consolas,'Courier New',monospace\">epoch 144: train D loss: 0.3792, train F loss: 0.0469, acc 0.9764\n",
              "</pre>\n"
            ]
          },
          "metadata": {}
        },
        {
          "output_type": "display_data",
          "data": {
            "text/plain": [
              "epoch 145: train D loss: 0.3953, train F loss: 0.0400, acc 0.9744\n"
            ],
            "text/html": [
              "<pre style=\"white-space:pre;overflow-x:auto;line-height:normal;font-family:Menlo,'DejaVu Sans Mono',consolas,'Courier New',monospace\">epoch 145: train D loss: 0.3953, train F loss: 0.0400, acc 0.9744\n",
              "</pre>\n"
            ]
          },
          "metadata": {}
        },
        {
          "output_type": "display_data",
          "data": {
            "text/plain": [
              "epoch 146: train D loss: 0.3888, train F loss: 0.0403, acc 0.9754\n"
            ],
            "text/html": [
              "<pre style=\"white-space:pre;overflow-x:auto;line-height:normal;font-family:Menlo,'DejaVu Sans Mono',consolas,'Courier New',monospace\">epoch 146: train D loss: 0.3888, train F loss: 0.0403, acc 0.9754\n",
              "</pre>\n"
            ]
          },
          "metadata": {}
        },
        {
          "output_type": "display_data",
          "data": {
            "text/plain": [
              "epoch 147: train D loss: 0.3728, train F loss: 0.0450, acc 0.9754\n"
            ],
            "text/html": [
              "<pre style=\"white-space:pre;overflow-x:auto;line-height:normal;font-family:Menlo,'DejaVu Sans Mono',consolas,'Courier New',monospace\">epoch 147: train D loss: 0.3728, train F loss: 0.0450, acc 0.9754\n",
              "</pre>\n"
            ]
          },
          "metadata": {}
        },
        {
          "output_type": "display_data",
          "data": {
            "text/plain": [
              "epoch 148: train D loss: 0.3808, train F loss: 0.0523, acc 0.9734\n"
            ],
            "text/html": [
              "<pre style=\"white-space:pre;overflow-x:auto;line-height:normal;font-family:Menlo,'DejaVu Sans Mono',consolas,'Courier New',monospace\">epoch 148: train D loss: 0.3808, train F loss: 0.0523, acc 0.9734\n",
              "</pre>\n"
            ]
          },
          "metadata": {}
        },
        {
          "output_type": "display_data",
          "data": {
            "text/plain": [
              "epoch 149: train D loss: 0.3817, train F loss: 0.0273, acc 0.9812\n"
            ],
            "text/html": [
              "<pre style=\"white-space:pre;overflow-x:auto;line-height:normal;font-family:Menlo,'DejaVu Sans Mono',consolas,'Courier New',monospace\">epoch 149: train D loss: 0.3817, train F loss: 0.0273, acc 0.9812\n",
              "</pre>\n"
            ]
          },
          "metadata": {}
        },
        {
          "output_type": "display_data",
          "data": {
            "text/plain": [
              "epoch 150: train D loss: 0.3772, train F loss: 0.0408, acc 0.9752\n"
            ],
            "text/html": [
              "<pre style=\"white-space:pre;overflow-x:auto;line-height:normal;font-family:Menlo,'DejaVu Sans Mono',consolas,'Courier New',monospace\">epoch 150: train D loss: 0.3772, train F loss: 0.0408, acc 0.9752\n",
              "</pre>\n"
            ]
          },
          "metadata": {}
        },
        {
          "output_type": "display_data",
          "data": {
            "text/plain": [
              "epoch 151: train D loss: 0.3949, train F loss: 0.0277, acc 0.9772\n"
            ],
            "text/html": [
              "<pre style=\"white-space:pre;overflow-x:auto;line-height:normal;font-family:Menlo,'DejaVu Sans Mono',consolas,'Courier New',monospace\">epoch 151: train D loss: 0.3949, train F loss: 0.0277, acc 0.9772\n",
              "</pre>\n"
            ]
          },
          "metadata": {}
        },
        {
          "output_type": "display_data",
          "data": {
            "text/plain": [
              "epoch 152: train D loss: 0.3915, train F loss: 0.0360, acc 0.9774\n"
            ],
            "text/html": [
              "<pre style=\"white-space:pre;overflow-x:auto;line-height:normal;font-family:Menlo,'DejaVu Sans Mono',consolas,'Courier New',monospace\">epoch 152: train D loss: 0.3915, train F loss: 0.0360, acc 0.9774\n",
              "</pre>\n"
            ]
          },
          "metadata": {}
        },
        {
          "output_type": "display_data",
          "data": {
            "text/plain": [
              "epoch 153: train D loss: 0.3875, train F loss: 0.0318, acc 0.9764\n"
            ],
            "text/html": [
              "<pre style=\"white-space:pre;overflow-x:auto;line-height:normal;font-family:Menlo,'DejaVu Sans Mono',consolas,'Courier New',monospace\">epoch 153: train D loss: 0.3875, train F loss: 0.0318, acc 0.9764\n",
              "</pre>\n"
            ]
          },
          "metadata": {}
        },
        {
          "output_type": "display_data",
          "data": {
            "text/plain": [
              "epoch 154: train D loss: 0.3866, train F loss: 0.0234, acc 0.9836\n"
            ],
            "text/html": [
              "<pre style=\"white-space:pre;overflow-x:auto;line-height:normal;font-family:Menlo,'DejaVu Sans Mono',consolas,'Courier New',monospace\">epoch 154: train D loss: 0.3866, train F loss: 0.0234, acc 0.9836\n",
              "</pre>\n"
            ]
          },
          "metadata": {}
        },
        {
          "output_type": "display_data",
          "data": {
            "text/plain": [
              "epoch 155: train D loss: 0.3897, train F loss: 0.0271, acc 0.9798\n"
            ],
            "text/html": [
              "<pre style=\"white-space:pre;overflow-x:auto;line-height:normal;font-family:Menlo,'DejaVu Sans Mono',consolas,'Courier New',monospace\">epoch 155: train D loss: 0.3897, train F loss: 0.0271, acc 0.9798\n",
              "</pre>\n"
            ]
          },
          "metadata": {}
        },
        {
          "output_type": "display_data",
          "data": {
            "text/plain": [
              "epoch 156: train D loss: 0.3929, train F loss: 0.0198, acc 0.9818\n"
            ],
            "text/html": [
              "<pre style=\"white-space:pre;overflow-x:auto;line-height:normal;font-family:Menlo,'DejaVu Sans Mono',consolas,'Courier New',monospace\">epoch 156: train D loss: 0.3929, train F loss: 0.0198, acc 0.9818\n",
              "</pre>\n"
            ]
          },
          "metadata": {}
        },
        {
          "output_type": "display_data",
          "data": {
            "text/plain": [
              "epoch 157: train D loss: 0.3924, train F loss: 0.0181, acc 0.9822\n"
            ],
            "text/html": [
              "<pre style=\"white-space:pre;overflow-x:auto;line-height:normal;font-family:Menlo,'DejaVu Sans Mono',consolas,'Courier New',monospace\">epoch 157: train D loss: 0.3924, train F loss: 0.0181, acc 0.9822\n",
              "</pre>\n"
            ]
          },
          "metadata": {}
        },
        {
          "output_type": "display_data",
          "data": {
            "text/plain": [
              "epoch 158: train D loss: 0.3941, train F loss: 0.0342, acc 0.9804\n"
            ],
            "text/html": [
              "<pre style=\"white-space:pre;overflow-x:auto;line-height:normal;font-family:Menlo,'DejaVu Sans Mono',consolas,'Courier New',monospace\">epoch 158: train D loss: 0.3941, train F loss: 0.0342, acc 0.9804\n",
              "</pre>\n"
            ]
          },
          "metadata": {}
        },
        {
          "output_type": "display_data",
          "data": {
            "text/plain": [
              "epoch 159: train D loss: 0.3926, train F loss: 0.0237, acc 0.9798\n"
            ],
            "text/html": [
              "<pre style=\"white-space:pre;overflow-x:auto;line-height:normal;font-family:Menlo,'DejaVu Sans Mono',consolas,'Courier New',monospace\">epoch 159: train D loss: 0.3926, train F loss: 0.0237, acc 0.9798\n",
              "</pre>\n"
            ]
          },
          "metadata": {}
        },
        {
          "output_type": "display_data",
          "data": {
            "text/plain": [
              "epoch 160: train D loss: 0.3760, train F loss: 0.0390, acc 0.9774\n"
            ],
            "text/html": [
              "<pre style=\"white-space:pre;overflow-x:auto;line-height:normal;font-family:Menlo,'DejaVu Sans Mono',consolas,'Courier New',monospace\">epoch 160: train D loss: 0.3760, train F loss: 0.0390, acc 0.9774\n",
              "</pre>\n"
            ]
          },
          "metadata": {}
        },
        {
          "output_type": "display_data",
          "data": {
            "text/plain": [
              "epoch 161: train D loss: 0.3819, train F loss: 0.0362, acc 0.9766\n"
            ],
            "text/html": [
              "<pre style=\"white-space:pre;overflow-x:auto;line-height:normal;font-family:Menlo,'DejaVu Sans Mono',consolas,'Courier New',monospace\">epoch 161: train D loss: 0.3819, train F loss: 0.0362, acc 0.9766\n",
              "</pre>\n"
            ]
          },
          "metadata": {}
        },
        {
          "output_type": "display_data",
          "data": {
            "text/plain": [
              "epoch 162: train D loss: 0.3823, train F loss: 0.0241, acc 0.9796\n"
            ],
            "text/html": [
              "<pre style=\"white-space:pre;overflow-x:auto;line-height:normal;font-family:Menlo,'DejaVu Sans Mono',consolas,'Courier New',monospace\">epoch 162: train D loss: 0.3823, train F loss: 0.0241, acc 0.9796\n",
              "</pre>\n"
            ]
          },
          "metadata": {}
        },
        {
          "output_type": "display_data",
          "data": {
            "text/plain": [
              "epoch 163: train D loss: 0.3881, train F loss: 0.0339, acc 0.9780\n"
            ],
            "text/html": [
              "<pre style=\"white-space:pre;overflow-x:auto;line-height:normal;font-family:Menlo,'DejaVu Sans Mono',consolas,'Courier New',monospace\">epoch 163: train D loss: 0.3881, train F loss: 0.0339, acc 0.9780\n",
              "</pre>\n"
            ]
          },
          "metadata": {}
        },
        {
          "output_type": "display_data",
          "data": {
            "text/plain": [
              "epoch 164: train D loss: 0.3838, train F loss: 0.0331, acc 0.9772\n"
            ],
            "text/html": [
              "<pre style=\"white-space:pre;overflow-x:auto;line-height:normal;font-family:Menlo,'DejaVu Sans Mono',consolas,'Courier New',monospace\">epoch 164: train D loss: 0.3838, train F loss: 0.0331, acc 0.9772\n",
              "</pre>\n"
            ]
          },
          "metadata": {}
        },
        {
          "output_type": "display_data",
          "data": {
            "text/plain": [
              "epoch 165: train D loss: 0.3853, train F loss: 0.0293, acc 0.9810\n"
            ],
            "text/html": [
              "<pre style=\"white-space:pre;overflow-x:auto;line-height:normal;font-family:Menlo,'DejaVu Sans Mono',consolas,'Courier New',monospace\">epoch 165: train D loss: 0.3853, train F loss: 0.0293, acc 0.9810\n",
              "</pre>\n"
            ]
          },
          "metadata": {}
        },
        {
          "output_type": "display_data",
          "data": {
            "text/plain": [
              "epoch 166: train D loss: 0.3794, train F loss: 0.0230, acc 0.9816\n"
            ],
            "text/html": [
              "<pre style=\"white-space:pre;overflow-x:auto;line-height:normal;font-family:Menlo,'DejaVu Sans Mono',consolas,'Courier New',monospace\">epoch 166: train D loss: 0.3794, train F loss: 0.0230, acc 0.9816\n",
              "</pre>\n"
            ]
          },
          "metadata": {}
        },
        {
          "output_type": "display_data",
          "data": {
            "text/plain": [
              "epoch 167: train D loss: 0.3851, train F loss: 0.0197, acc 0.9804\n"
            ],
            "text/html": [
              "<pre style=\"white-space:pre;overflow-x:auto;line-height:normal;font-family:Menlo,'DejaVu Sans Mono',consolas,'Courier New',monospace\">epoch 167: train D loss: 0.3851, train F loss: 0.0197, acc 0.9804\n",
              "</pre>\n"
            ]
          },
          "metadata": {}
        },
        {
          "output_type": "display_data",
          "data": {
            "text/plain": [
              "epoch 168: train D loss: 0.3704, train F loss: 0.0214, acc 0.9824\n"
            ],
            "text/html": [
              "<pre style=\"white-space:pre;overflow-x:auto;line-height:normal;font-family:Menlo,'DejaVu Sans Mono',consolas,'Courier New',monospace\">epoch 168: train D loss: 0.3704, train F loss: 0.0214, acc 0.9824\n",
              "</pre>\n"
            ]
          },
          "metadata": {}
        },
        {
          "output_type": "display_data",
          "data": {
            "text/plain": [
              "epoch 169: train D loss: 0.3820, train F loss: 0.0341, acc 0.9814\n"
            ],
            "text/html": [
              "<pre style=\"white-space:pre;overflow-x:auto;line-height:normal;font-family:Menlo,'DejaVu Sans Mono',consolas,'Courier New',monospace\">epoch 169: train D loss: 0.3820, train F loss: 0.0341, acc 0.9814\n",
              "</pre>\n"
            ]
          },
          "metadata": {}
        },
        {
          "output_type": "display_data",
          "data": {
            "text/plain": [
              "epoch 170: train D loss: 0.3894, train F loss: 0.0196, acc 0.9774\n"
            ],
            "text/html": [
              "<pre style=\"white-space:pre;overflow-x:auto;line-height:normal;font-family:Menlo,'DejaVu Sans Mono',consolas,'Courier New',monospace\">epoch 170: train D loss: 0.3894, train F loss: 0.0196, acc 0.9774\n",
              "</pre>\n"
            ]
          },
          "metadata": {}
        },
        {
          "output_type": "display_data",
          "data": {
            "text/plain": [
              "epoch 171: train D loss: 0.3878, train F loss: 0.0476, acc 0.9726\n"
            ],
            "text/html": [
              "<pre style=\"white-space:pre;overflow-x:auto;line-height:normal;font-family:Menlo,'DejaVu Sans Mono',consolas,'Courier New',monospace\">epoch 171: train D loss: 0.3878, train F loss: 0.0476, acc 0.9726\n",
              "</pre>\n"
            ]
          },
          "metadata": {}
        },
        {
          "output_type": "display_data",
          "data": {
            "text/plain": [
              "epoch 172: train D loss: 0.3857, train F loss: 0.0276, acc 0.9796\n"
            ],
            "text/html": [
              "<pre style=\"white-space:pre;overflow-x:auto;line-height:normal;font-family:Menlo,'DejaVu Sans Mono',consolas,'Courier New',monospace\">epoch 172: train D loss: 0.3857, train F loss: 0.0276, acc 0.9796\n",
              "</pre>\n"
            ]
          },
          "metadata": {}
        },
        {
          "output_type": "display_data",
          "data": {
            "text/plain": [
              "epoch 173: train D loss: 0.3908, train F loss: 0.0139, acc 0.9834\n"
            ],
            "text/html": [
              "<pre style=\"white-space:pre;overflow-x:auto;line-height:normal;font-family:Menlo,'DejaVu Sans Mono',consolas,'Courier New',monospace\">epoch 173: train D loss: 0.3908, train F loss: 0.0139, acc 0.9834\n",
              "</pre>\n"
            ]
          },
          "metadata": {}
        },
        {
          "output_type": "display_data",
          "data": {
            "text/plain": [
              "epoch 174: train D loss: 0.3703, train F loss: 0.0214, acc 0.9826\n"
            ],
            "text/html": [
              "<pre style=\"white-space:pre;overflow-x:auto;line-height:normal;font-family:Menlo,'DejaVu Sans Mono',consolas,'Courier New',monospace\">epoch 174: train D loss: 0.3703, train F loss: 0.0214, acc 0.9826\n",
              "</pre>\n"
            ]
          },
          "metadata": {}
        },
        {
          "output_type": "display_data",
          "data": {
            "text/plain": [
              "epoch 175: train D loss: 0.3906, train F loss: 0.0169, acc 0.9836\n"
            ],
            "text/html": [
              "<pre style=\"white-space:pre;overflow-x:auto;line-height:normal;font-family:Menlo,'DejaVu Sans Mono',consolas,'Courier New',monospace\">epoch 175: train D loss: 0.3906, train F loss: 0.0169, acc 0.9836\n",
              "</pre>\n"
            ]
          },
          "metadata": {}
        },
        {
          "output_type": "display_data",
          "data": {
            "text/plain": [
              "epoch 176: train D loss: 0.4002, train F loss: 0.0238, acc 0.9798\n"
            ],
            "text/html": [
              "<pre style=\"white-space:pre;overflow-x:auto;line-height:normal;font-family:Menlo,'DejaVu Sans Mono',consolas,'Courier New',monospace\">epoch 176: train D loss: 0.4002, train F loss: 0.0238, acc 0.9798\n",
              "</pre>\n"
            ]
          },
          "metadata": {}
        },
        {
          "output_type": "display_data",
          "data": {
            "text/plain": [
              "epoch 177: train D loss: 0.4029, train F loss: 0.0265, acc 0.9792\n"
            ],
            "text/html": [
              "<pre style=\"white-space:pre;overflow-x:auto;line-height:normal;font-family:Menlo,'DejaVu Sans Mono',consolas,'Courier New',monospace\">epoch 177: train D loss: 0.4029, train F loss: 0.0265, acc 0.9792\n",
              "</pre>\n"
            ]
          },
          "metadata": {}
        },
        {
          "output_type": "display_data",
          "data": {
            "text/plain": [
              "epoch 178: train D loss: 0.3931, train F loss: 0.0161, acc 0.9814\n"
            ],
            "text/html": [
              "<pre style=\"white-space:pre;overflow-x:auto;line-height:normal;font-family:Menlo,'DejaVu Sans Mono',consolas,'Courier New',monospace\">epoch 178: train D loss: 0.3931, train F loss: 0.0161, acc 0.9814\n",
              "</pre>\n"
            ]
          },
          "metadata": {}
        },
        {
          "output_type": "display_data",
          "data": {
            "text/plain": [
              "epoch 179: train D loss: 0.3950, train F loss: 0.0193, acc 0.9822\n"
            ],
            "text/html": [
              "<pre style=\"white-space:pre;overflow-x:auto;line-height:normal;font-family:Menlo,'DejaVu Sans Mono',consolas,'Courier New',monospace\">epoch 179: train D loss: 0.3950, train F loss: 0.0193, acc 0.9822\n",
              "</pre>\n"
            ]
          },
          "metadata": {}
        },
        {
          "output_type": "display_data",
          "data": {
            "text/plain": [
              "epoch 180: train D loss: 0.3890, train F loss: 0.0142, acc 0.9828\n"
            ],
            "text/html": [
              "<pre style=\"white-space:pre;overflow-x:auto;line-height:normal;font-family:Menlo,'DejaVu Sans Mono',consolas,'Courier New',monospace\">epoch 180: train D loss: 0.3890, train F loss: 0.0142, acc 0.9828\n",
              "</pre>\n"
            ]
          },
          "metadata": {}
        },
        {
          "output_type": "display_data",
          "data": {
            "text/plain": [
              "epoch 181: train D loss: 0.3957, train F loss: 0.0158, acc 0.9836\n"
            ],
            "text/html": [
              "<pre style=\"white-space:pre;overflow-x:auto;line-height:normal;font-family:Menlo,'DejaVu Sans Mono',consolas,'Courier New',monospace\">epoch 181: train D loss: 0.3957, train F loss: 0.0158, acc 0.9836\n",
              "</pre>\n"
            ]
          },
          "metadata": {}
        },
        {
          "output_type": "display_data",
          "data": {
            "text/plain": [
              "epoch 182: train D loss: 0.3928, train F loss: 0.0249, acc 0.9788\n"
            ],
            "text/html": [
              "<pre style=\"white-space:pre;overflow-x:auto;line-height:normal;font-family:Menlo,'DejaVu Sans Mono',consolas,'Courier New',monospace\">epoch 182: train D loss: 0.3928, train F loss: 0.0249, acc 0.9788\n",
              "</pre>\n"
            ]
          },
          "metadata": {}
        },
        {
          "output_type": "display_data",
          "data": {
            "text/plain": [
              "epoch 183: train D loss: 0.3995, train F loss: 0.0262, acc 0.9778\n"
            ],
            "text/html": [
              "<pre style=\"white-space:pre;overflow-x:auto;line-height:normal;font-family:Menlo,'DejaVu Sans Mono',consolas,'Courier New',monospace\">epoch 183: train D loss: 0.3995, train F loss: 0.0262, acc 0.9778\n",
              "</pre>\n"
            ]
          },
          "metadata": {}
        },
        {
          "output_type": "display_data",
          "data": {
            "text/plain": [
              "epoch 184: train D loss: 0.4006, train F loss: 0.0297, acc 0.9786\n"
            ],
            "text/html": [
              "<pre style=\"white-space:pre;overflow-x:auto;line-height:normal;font-family:Menlo,'DejaVu Sans Mono',consolas,'Courier New',monospace\">epoch 184: train D loss: 0.4006, train F loss: 0.0297, acc 0.9786\n",
              "</pre>\n"
            ]
          },
          "metadata": {}
        },
        {
          "output_type": "display_data",
          "data": {
            "text/plain": [
              "epoch 185: train D loss: 0.3861, train F loss: 0.0308, acc 0.9794\n"
            ],
            "text/html": [
              "<pre style=\"white-space:pre;overflow-x:auto;line-height:normal;font-family:Menlo,'DejaVu Sans Mono',consolas,'Courier New',monospace\">epoch 185: train D loss: 0.3861, train F loss: 0.0308, acc 0.9794\n",
              "</pre>\n"
            ]
          },
          "metadata": {}
        },
        {
          "output_type": "display_data",
          "data": {
            "text/plain": [
              "epoch 186: train D loss: 0.4014, train F loss: 0.0258, acc 0.9788\n"
            ],
            "text/html": [
              "<pre style=\"white-space:pre;overflow-x:auto;line-height:normal;font-family:Menlo,'DejaVu Sans Mono',consolas,'Courier New',monospace\">epoch 186: train D loss: 0.4014, train F loss: 0.0258, acc 0.9788\n",
              "</pre>\n"
            ]
          },
          "metadata": {}
        },
        {
          "output_type": "display_data",
          "data": {
            "text/plain": [
              "epoch 187: train D loss: 0.4004, train F loss: 0.0126, acc 0.9838\n"
            ],
            "text/html": [
              "<pre style=\"white-space:pre;overflow-x:auto;line-height:normal;font-family:Menlo,'DejaVu Sans Mono',consolas,'Courier New',monospace\">epoch 187: train D loss: 0.4004, train F loss: 0.0126, acc 0.9838\n",
              "</pre>\n"
            ]
          },
          "metadata": {}
        },
        {
          "output_type": "display_data",
          "data": {
            "text/plain": [
              "epoch 188: train D loss: 0.3772, train F loss: 0.0203, acc 0.9832\n"
            ],
            "text/html": [
              "<pre style=\"white-space:pre;overflow-x:auto;line-height:normal;font-family:Menlo,'DejaVu Sans Mono',consolas,'Courier New',monospace\">epoch 188: train D loss: 0.3772, train F loss: 0.0203, acc 0.9832\n",
              "</pre>\n"
            ]
          },
          "metadata": {}
        },
        {
          "output_type": "display_data",
          "data": {
            "text/plain": [
              "epoch 189: train D loss: 0.3848, train F loss: 0.0182, acc 0.9840\n"
            ],
            "text/html": [
              "<pre style=\"white-space:pre;overflow-x:auto;line-height:normal;font-family:Menlo,'DejaVu Sans Mono',consolas,'Courier New',monospace\">epoch 189: train D loss: 0.3848, train F loss: 0.0182, acc 0.9840\n",
              "</pre>\n"
            ]
          },
          "metadata": {}
        },
        {
          "output_type": "display_data",
          "data": {
            "text/plain": [
              "epoch 190: train D loss: 0.3936, train F loss: 0.0211, acc 0.9820\n"
            ],
            "text/html": [
              "<pre style=\"white-space:pre;overflow-x:auto;line-height:normal;font-family:Menlo,'DejaVu Sans Mono',consolas,'Courier New',monospace\">epoch 190: train D loss: 0.3936, train F loss: 0.0211, acc 0.9820\n",
              "</pre>\n"
            ]
          },
          "metadata": {}
        },
        {
          "output_type": "display_data",
          "data": {
            "text/plain": [
              "epoch 191: train D loss: 0.4048, train F loss: 0.0127, acc 0.9838\n"
            ],
            "text/html": [
              "<pre style=\"white-space:pre;overflow-x:auto;line-height:normal;font-family:Menlo,'DejaVu Sans Mono',consolas,'Courier New',monospace\">epoch 191: train D loss: 0.4048, train F loss: 0.0127, acc 0.9838\n",
              "</pre>\n"
            ]
          },
          "metadata": {}
        },
        {
          "output_type": "display_data",
          "data": {
            "text/plain": [
              "epoch 192: train D loss: 0.4024, train F loss: 0.0224, acc 0.9804\n"
            ],
            "text/html": [
              "<pre style=\"white-space:pre;overflow-x:auto;line-height:normal;font-family:Menlo,'DejaVu Sans Mono',consolas,'Courier New',monospace\">epoch 192: train D loss: 0.4024, train F loss: 0.0224, acc 0.9804\n",
              "</pre>\n"
            ]
          },
          "metadata": {}
        },
        {
          "output_type": "display_data",
          "data": {
            "text/plain": [
              "epoch 193: train D loss: 0.3957, train F loss: 0.0120, acc 0.9830\n"
            ],
            "text/html": [
              "<pre style=\"white-space:pre;overflow-x:auto;line-height:normal;font-family:Menlo,'DejaVu Sans Mono',consolas,'Courier New',monospace\">epoch 193: train D loss: 0.3957, train F loss: 0.0120, acc 0.9830\n",
              "</pre>\n"
            ]
          },
          "metadata": {}
        },
        {
          "output_type": "display_data",
          "data": {
            "text/plain": [
              "epoch 194: train D loss: 0.4059, train F loss: 0.0091, acc 0.9840\n"
            ],
            "text/html": [
              "<pre style=\"white-space:pre;overflow-x:auto;line-height:normal;font-family:Menlo,'DejaVu Sans Mono',consolas,'Courier New',monospace\">epoch 194: train D loss: 0.4059, train F loss: 0.0091, acc 0.9840\n",
              "</pre>\n"
            ]
          },
          "metadata": {}
        },
        {
          "output_type": "display_data",
          "data": {
            "text/plain": [
              "epoch 195: train D loss: 0.3852, train F loss: 0.0144, acc 0.9838\n"
            ],
            "text/html": [
              "<pre style=\"white-space:pre;overflow-x:auto;line-height:normal;font-family:Menlo,'DejaVu Sans Mono',consolas,'Courier New',monospace\">epoch 195: train D loss: 0.3852, train F loss: 0.0144, acc 0.9838\n",
              "</pre>\n"
            ]
          },
          "metadata": {}
        },
        {
          "output_type": "display_data",
          "data": {
            "text/plain": [
              "epoch 196: train D loss: 0.4090, train F loss: 0.0130, acc 0.9816\n"
            ],
            "text/html": [
              "<pre style=\"white-space:pre;overflow-x:auto;line-height:normal;font-family:Menlo,'DejaVu Sans Mono',consolas,'Courier New',monospace\">epoch 196: train D loss: 0.4090, train F loss: 0.0130, acc 0.9816\n",
              "</pre>\n"
            ]
          },
          "metadata": {}
        },
        {
          "output_type": "display_data",
          "data": {
            "text/plain": [
              "epoch 197: train D loss: 0.4017, train F loss: 0.0227, acc 0.9820\n"
            ],
            "text/html": [
              "<pre style=\"white-space:pre;overflow-x:auto;line-height:normal;font-family:Menlo,'DejaVu Sans Mono',consolas,'Courier New',monospace\">epoch 197: train D loss: 0.4017, train F loss: 0.0227, acc 0.9820\n",
              "</pre>\n"
            ]
          },
          "metadata": {}
        },
        {
          "output_type": "display_data",
          "data": {
            "text/plain": [
              "epoch 198: train D loss: 0.3940, train F loss: 0.0185, acc 0.9794\n"
            ],
            "text/html": [
              "<pre style=\"white-space:pre;overflow-x:auto;line-height:normal;font-family:Menlo,'DejaVu Sans Mono',consolas,'Courier New',monospace\">epoch 198: train D loss: 0.3940, train F loss: 0.0185, acc 0.9794\n",
              "</pre>\n"
            ]
          },
          "metadata": {}
        },
        {
          "output_type": "display_data",
          "data": {
            "text/plain": [
              "epoch 199: train D loss: 0.3998, train F loss: 0.0301, acc 0.9794\n"
            ],
            "text/html": [
              "<pre style=\"white-space:pre;overflow-x:auto;line-height:normal;font-family:Menlo,'DejaVu Sans Mono',consolas,'Courier New',monospace\">epoch 199: train D loss: 0.3998, train F loss: 0.0301, acc 0.9794\n",
              "</pre>\n"
            ]
          },
          "metadata": {}
        },
        {
          "output_type": "display_data",
          "data": {
            "text/plain": [],
            "text/html": [
              "<pre style=\"white-space:pre;overflow-x:auto;line-height:normal;font-family:Menlo,'DejaVu Sans Mono',consolas,'Courier New',monospace\"></pre>\n"
            ]
          },
          "metadata": {}
        },
        {
          "output_type": "display_data",
          "data": {
            "text/plain": [
              "\n"
            ],
            "text/html": [
              "<pre style=\"white-space:pre;overflow-x:auto;line-height:normal;font-family:Menlo,'DejaVu Sans Mono',consolas,'Courier New',monospace\">\n",
              "</pre>\n"
            ]
          },
          "metadata": {}
        }
      ]
    },
    {
      "cell_type": "markdown",
      "metadata": {
        "id": "o8_-0iSSje4w"
      },
      "source": [
        "# Inference\n",
        "\n",
        "We use pandas to generate our csv file.\n",
        "\n",
        "BTW, the performance of the model trained for 200 epoches might be unstable. You can train for more epoches for a more stable performance."
      ]
    },
    {
      "cell_type": "code",
      "metadata": {
        "id": "Wly5AgH2jePv",
        "colab": {
          "base_uri": "https://localhost:8080/",
          "height": 33,
          "referenced_widgets": [
            "33f2860c16b24fc2b00024c65762cdea",
            "588fabe7b91542deb1c03fb01542f5b7"
          ]
        },
        "outputId": "915abd58-54c1-4dbf-b035-b19e266fefc8"
      },
      "source": [
        "result = []\n",
        "label_predictor.eval()\n",
        "feature_extractor.eval()\n",
        "with Progress(TextColumn(\"[progress.description]{task.description}\"),\n",
        "              BarColumn(),\n",
        "              TextColumn(\"[progress.percentage]{task.percentage:>3.0f}%\"),\n",
        "              TimeRemainingColumn(),\n",
        "              TimeElapsedColumn()) as progress:\n",
        "    test_tqdm = progress.add_task(description=\"inference progress\", total=len(test_dataloader))\n",
        "    for i, (test_data, _) in (enumerate(test_dataloader)):\n",
        "        test_data = test_data.cuda()\n",
        "\n",
        "        class_logits = label_predictor(feature_extractor(test_data))\n",
        "\n",
        "        x = torch.argmax(class_logits, dim=1).cpu().detach().numpy()\n",
        "        result.append(x)\n",
        "        progress.advance(test_tqdm)\n",
        "\n",
        "import pandas as pd\n",
        "result = np.concatenate(result)\n",
        "\n",
        "# Generate your submission\n",
        "df = pd.DataFrame({'id': np.arange(0,len(result)), 'label': result})\n",
        "df.to_csv('DaNN_submission.csv',index=False)"
      ],
      "execution_count": null,
      "outputs": [
        {
          "output_type": "display_data",
          "data": {
            "text/plain": [
              "Output()"
            ],
            "application/vnd.jupyter.widget-view+json": {
              "version_major": 2,
              "version_minor": 0,
              "model_id": "33f2860c16b24fc2b00024c65762cdea"
            }
          },
          "metadata": {}
        },
        {
          "output_type": "display_data",
          "data": {
            "text/plain": [],
            "text/html": [
              "<pre style=\"white-space:pre;overflow-x:auto;line-height:normal;font-family:Menlo,'DejaVu Sans Mono',consolas,'Courier New',monospace\"></pre>\n"
            ]
          },
          "metadata": {}
        },
        {
          "output_type": "display_data",
          "data": {
            "text/plain": [
              "\n"
            ],
            "text/html": [
              "<pre style=\"white-space:pre;overflow-x:auto;line-height:normal;font-family:Menlo,'DejaVu Sans Mono',consolas,'Courier New',monospace\">\n",
              "</pre>\n"
            ]
          },
          "metadata": {}
        }
      ]
    },
    {
      "cell_type": "markdown",
      "source": [
        "# Visualization\n",
        "We use t-SNE plot to observe the distribution of extracted features."
      ],
      "metadata": {
        "id": "_X8v0wojx1jD"
      }
    },
    {
      "cell_type": "code",
      "source": [
        "import numpy as np\n",
        "import matplotlib.pyplot as plt\n",
        "from sklearn import manifold"
      ],
      "metadata": {
        "id": "KkRtbyEOyYSN"
      },
      "execution_count": null,
      "outputs": []
    },
    {
      "cell_type": "markdown",
      "source": [
        "## Step1: Load checkpoint and evaluate to get extracted features"
      ],
      "metadata": {
        "id": "-8NNrBEUjjz3"
      }
    },
    {
      "cell_type": "code",
      "source": [
        "# Hints:\n",
        "# Set features_extractor to eval mode\n",
        "# Load saved checkpoints\n",
        "# Start evaluation and collect features and labels"
      ],
      "metadata": {
        "id": "lgO5O7uZjcCw"
      },
      "execution_count": null,
      "outputs": []
    },
    {
      "cell_type": "markdown",
      "source": [
        "## Step2: Apply t-SNE and normalize"
      ],
      "metadata": {
        "id": "Rb9TmH3Wkh5P"
      }
    },
    {
      "cell_type": "code",
      "source": [
        "# process extracted features with t-SNE\n",
        "# X_tsne = manifold.TSNE(n_components=2, init='random', random_state=5, verbose=1).fit_transform(X)\n",
        "\n",
        "# Normalization the processed features \n",
        "# x_min, x_max = X_tsne.min(0), X_tsne.max(0)\n",
        "# X_norm = (X_tsne - x_min) / (x_max - x_min)"
      ],
      "metadata": {
        "id": "edkTrdlri1MS"
      },
      "execution_count": null,
      "outputs": []
    },
    {
      "cell_type": "markdown",
      "source": [
        "## Step3: Visualization with matplotlib"
      ],
      "metadata": {
        "id": "zoujX3uxk79a"
      }
    },
    {
      "cell_type": "code",
      "source": [
        "# Data Visualization\n",
        "# Use matplotlib to plot the distribution\n",
        "# The shape of X_norm is (N,2)"
      ],
      "metadata": {
        "id": "V1dgPoDkjrLc"
      },
      "execution_count": null,
      "outputs": []
    },
    {
      "cell_type": "markdown",
      "metadata": {
        "id": "CpheoH_rvFbO"
      },
      "source": [
        "# Training Statistics\n",
        "\n",
        "- Number of parameters:\n",
        "  - Feature Extractor: 2, 142, 336\n",
        "  - Label Predictor: 530, 442\n",
        "  - Domain Classifier: 1, 055, 233\n",
        "\n",
        "- Simple\n",
        " - Training time on colab: ~ 1 hr\n",
        "- Medium\n",
        " - Training time on colab: 2 ~ 4 hr\n",
        "- Strong\n",
        " - Training time on colab: 5 ~ 6 hrs\n",
        "- Boss\n",
        " - **Unmeasurable**"
      ]
    },
    {
      "cell_type": "markdown",
      "metadata": {
        "id": "GYO8InxavGsy"
      },
      "source": [
        "# Learning Curve (Strong Baseline)\n",
        "* This method is slightly different from colab.\n",
        "\n",
        "![Loss Curve](https://i.imgur.com/vIujQyo.png)\n",
        "\n",
        "# Accuracy Curve (Strong Baseline)\n",
        "* Note that you cannot access testing accuracy. But this plot tells you that even though the model overfits the training data, the testing accuracy is still improving, and that's why you need to train more epochs.\n",
        "\n",
        "![Acc Curve](https://i.imgur.com/4W1otXG.png)\n",
        "\n"
      ]
    },
    {
      "cell_type": "markdown",
      "metadata": {
        "id": "s6UfXzef-wNl"
      },
      "source": [
        "# Q&A\n",
        "\n",
        "If there is any problem related to Domain Adaptation, please email to b08902047@ntu.edu.tw / mlta-2023-spring@googlegroups.com。\n",
        "\n"
      ]
    },
    {
      "cell_type": "code",
      "metadata": {
        "id": "C4TMXG_YCqVb"
      },
      "source": [],
      "execution_count": null,
      "outputs": []
    }
  ]
}