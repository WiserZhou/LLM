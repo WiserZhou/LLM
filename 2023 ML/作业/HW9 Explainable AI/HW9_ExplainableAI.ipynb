{
  "nbformat": 4,
  "nbformat_minor": 0,
  "metadata": {
    "colab": {
      "provenance": [],
      "private_outputs": true,
      "gpuType": "T4"
    },
    "kernelspec": {
      "name": "python3",
      "display_name": "Python 3"
    },
    "language_info": {
      "name": "python"
    },
    "accelerator": "GPU",
    "gpuClass": "standard"
  },
  "cells": [
    {
      "cell_type": "markdown",
      "source": [
        "# Explainable AI\n",
        "作業說明投影片\n",
        "\n",
        "Homework Introduction: https://reurl.cc/DmVWQE\n",
        "\n",
        "若有任何問題，歡迎來信至助教信箱： mlta-2023-spring@googlegroups.com\n",
        "\n",
        "If you have any question, TA's mail: mlta-2023-spring@googlegroups.com\n",
        "\n",
        "## Deadline\n",
        "Mandarin/English: 5/5 release, 5/26 due"
      ],
      "metadata": {
        "id": "h79sv7nH1zlE"
      }
    },
    {
      "cell_type": "markdown",
      "source": [
        "# **Homework 9 - Explainable AI (Part 1 CNN)**"
      ],
      "metadata": {
        "id": "GLm4rv5y2sBx"
      }
    },
    {
      "cell_type": "markdown",
      "source": [
        "Connect to google drive"
      ],
      "metadata": {
        "id": "ZUKTWPXW20wk"
      }
    },
    {
      "cell_type": "code",
      "execution_count": null,
      "metadata": {
        "id": "GVsbrnFf5nn1"
      },
      "outputs": [],
      "source": [
        "from google.colab import drive\n",
        "drive.mount('/content/drive', force_remount=True)"
      ]
    },
    {
      "cell_type": "code",
      "execution_count": null,
      "metadata": {
        "id": "Z6mlsay85931"
      },
      "outputs": [],
      "source": [
        "import os\n",
        "os.makedirs('/content/gdrive/My Drive/MLHW_XAI', exist_ok=True)\n",
        "os.chdir('/content/gdrive/My Drive/MLHW_XAI')\n",
        "!ls"
      ]
    },
    {
      "cell_type": "markdown",
      "source": [
        "## Environment Settings"
      ],
      "metadata": {
        "id": "N8wlNl743b6o"
      }
    },
    {
      "cell_type": "code",
      "execution_count": null,
      "metadata": {
        "id": "yFilmmPP3pRT"
      },
      "outputs": [],
      "source": [
        "# download and unzip training data\n",
        "!gdown --id '1QntUQuWJoVR8h5FoeDa56xrQSdcCwFeD' --output food.zip\n",
        "!unzip food.zip"
      ]
    },
    {
      "cell_type": "code",
      "execution_count": null,
      "metadata": {
        "id": "zhzdomRTOKoJ"
      },
      "outputs": [],
      "source": [
        "# download pretrained model\n",
        "!gdown --id '1-Qw-oIJ0cSo2iG_n_U9mcJqXc2-LCSdV' --output checkpoint.pth"
      ]
    },
    {
      "cell_type": "code",
      "execution_count": null,
      "metadata": {
        "id": "kP4zsXYaI47z"
      },
      "outputs": [],
      "source": [
        "# install lime in colab\n",
        "!pip install lime==0.1.1.37"
      ]
    },
    {
      "cell_type": "code",
      "execution_count": null,
      "metadata": {
        "id": "leWC9kKgL55n"
      },
      "outputs": [],
      "source": [
        "import os\n",
        "import sys\n",
        "import argparse\n",
        "import numpy as np\n",
        "from PIL import Image\n",
        "import matplotlib.pyplot as plt\n",
        "import torch\n",
        "import torch.nn as nn\n",
        "import torch.nn.functional as F\n",
        "from torch.optim import Adam\n",
        "from torch.utils.data import Dataset\n",
        "import torchvision.transforms as transforms\n",
        "from skimage.segmentation import slic\n",
        "from lime import lime_image\n",
        "from pdb import set_trace\n",
        "from torch.autograd import Variable"
      ]
    },
    {
      "cell_type": "markdown",
      "source": [
        "## Argument Parsing"
      ],
      "metadata": {
        "id": "GVQyXl9v_c_9"
      }
    },
    {
      "cell_type": "code",
      "execution_count": null,
      "metadata": {
        "id": "kbVhzRFp8dnu"
      },
      "outputs": [],
      "source": [
        "args = {\n",
        "      'ckptpath': './checkpoint.pth',\n",
        "      'dataset_dir': './food/'\n",
        "}\n",
        "args = argparse.Namespace(**args)"
      ]
    },
    {
      "cell_type": "markdown",
      "source": [
        "## Model Definition and Checkpoint Loading"
      ],
      "metadata": {
        "id": "HnoTVVRq_toZ"
      }
    },
    {
      "cell_type": "code",
      "execution_count": null,
      "metadata": {
        "id": "iqXQTwoxeRbO"
      },
      "outputs": [],
      "source": [
        "# Model definition\n",
        "class Classifier(nn.Module):\n",
        "  def __init__(self):\n",
        "    super(Classifier, self).__init__()\n",
        "\n",
        "    def building_block(indim, outdim):\n",
        "      return [\n",
        "        nn.Conv2d(indim, outdim, 3, 1, 1),\n",
        "        nn.BatchNorm2d(outdim),\n",
        "        nn.ReLU(),\n",
        "      ]\n",
        "    def stack_blocks(indim, outdim, block_num):\n",
        "      layers = building_block(indim, outdim)\n",
        "      for i in range(block_num - 1):\n",
        "        layers += building_block(outdim, outdim)\n",
        "      layers.append(nn.MaxPool2d(2, 2, 0))\n",
        "      return layers\n",
        "\n",
        "    cnn_list = []\n",
        "    cnn_list += stack_blocks(3, 128, 3)\n",
        "    cnn_list += stack_blocks(128, 128, 3)\n",
        "    cnn_list += stack_blocks(128, 256, 3)\n",
        "    cnn_list += stack_blocks(256, 512, 1)\n",
        "    cnn_list += stack_blocks(512, 512, 1)\n",
        "    self.cnn = nn.Sequential( * cnn_list)\n",
        "\n",
        "    dnn_list = [\n",
        "      nn.Linear(512 * 4 * 4, 1024),\n",
        "      nn.ReLU(),\n",
        "      nn.Dropout(p = 0.3),\n",
        "      nn.Linear(1024, 11),\n",
        "    ]\n",
        "    self.fc = nn.Sequential( * dnn_list)\n",
        "\n",
        "  def forward(self, x):\n",
        "    out = self.cnn(x)\n",
        "    out = out.reshape(out.size()[0], -1)\n",
        "    return self.fc(out)"
      ]
    },
    {
      "cell_type": "code",
      "execution_count": null,
      "metadata": {
        "id": "er56l_dOAKBO"
      },
      "outputs": [],
      "source": [
        "# Load trained model\n",
        "model = Classifier().cuda()\n",
        "checkpoint = torch.load(args.ckptpath)\n",
        "model.load_state_dict(checkpoint['model_state_dict'])\n",
        "# It should display: <All keys matched successfully> "
      ]
    },
    {
      "cell_type": "markdown",
      "source": [
        "## Dataset Definition and Creation"
      ],
      "metadata": {
        "id": "GFilFnNYAExt"
      }
    },
    {
      "cell_type": "code",
      "execution_count": null,
      "metadata": {
        "id": "_iKBcxwa_Rpl"
      },
      "outputs": [],
      "source": [
        "# It might take some time, if it is too long, try to reload it.\n",
        "# Dataset definition\n",
        "class FoodDataset(Dataset):\n",
        "    def __init__(self, paths, labels, mode):\n",
        "        # mode: 'train' or 'eval'\n",
        "        \n",
        "        self.paths = paths\n",
        "        self.labels = labels\n",
        "        trainTransform = transforms.Compose([\n",
        "            transforms.Resize(size=(128, 128)),\n",
        "            transforms.RandomHorizontalFlip(),\n",
        "            transforms.RandomRotation(15),\n",
        "            transforms.ToTensor(),\n",
        "        ])\n",
        "        evalTransform = transforms.Compose([\n",
        "            transforms.Resize(size=(128, 128)),\n",
        "            transforms.ToTensor(),\n",
        "        ])\n",
        "        self.transform = trainTransform if mode == 'train' else evalTransform\n",
        "\n",
        "    # pytorch dataset class\n",
        "    def __len__(self):\n",
        "        return len(self.paths)\n",
        "\n",
        "    def __getitem__(self, index):\n",
        "        X = Image.open(self.paths[index])\n",
        "        X = self.transform(X)\n",
        "        Y = self.labels[index]\n",
        "        return X, Y\n",
        "\n",
        "    # help to get images for visualizing\n",
        "    def getbatch(self, indices):\n",
        "        images = []\n",
        "        labels = []\n",
        "        for index in indices:\n",
        "          image, label = self.__getitem__(index)\n",
        "          images.append(image)\n",
        "          labels.append(label)\n",
        "        return torch.stack(images), torch.tensor(labels)\n",
        "\n",
        "# help to get data path and label\n",
        "def get_paths_labels(path):\n",
        "    def my_key(name):\n",
        "      return int(name.replace(\".jpg\",\"\").split(\"_\")[1])+1000000*int(name.split(\"_\")[0])\n",
        "    imgnames = os.listdir(path)\n",
        "    imgnames.sort(key=my_key)\n",
        "    imgpaths = []\n",
        "    labels = []\n",
        "    for name in imgnames:\n",
        "        imgpaths.append(os.path.join(path, name))\n",
        "        labels.append(int(name.split('_')[0]))\n",
        "    return imgpaths, labels\n",
        "train_paths, train_labels = get_paths_labels(args.dataset_dir)\n",
        "\n",
        "train_set = FoodDataset(train_paths, train_labels, mode='eval')"
      ]
    },
    {
      "cell_type": "markdown",
      "source": [
        "## The Images for Observation\n",
        "There are 11 categories of food: Bread, Dairy product, Dessert, Egg, Fried food, Meat, Noodles/Pasta, Rice, Seafood, Soup, and Vegetable/Fruit.\n",
        "Be sure that the images shown here are **the same as** those in the slides.\n",
        "The images are marked from 0 to 9."
      ],
      "metadata": {
        "id": "DHj9yvMsAumF"
      }
    },
    {
      "cell_type": "code",
      "execution_count": null,
      "metadata": {
        "id": "zKFmM1sacjyG"
      },
      "outputs": [],
      "source": [
        "img_indices = [i for i in range(10)]\n",
        "images, labels = train_set.getbatch(img_indices)\n",
        "fig, axs = plt.subplots(1, len(img_indices), figsize=(15, 8))\n",
        "for i, img in enumerate(images):\n",
        "  axs[i].imshow(img.cpu().permute(1, 2, 0))\n",
        "# print(labels) # this line can help you know the labels of each image"
      ]
    },
    {
      "cell_type": "markdown",
      "source": [
        "# Lime (Q1~4) \n",
        "[Lime](https://github.com/marcotcr/lime) is a package about explaining what machine learning classifiers are doing. We can first use it to observe the model."
      ],
      "metadata": {
        "id": "nGGVJx9IBe8F"
      }
    },
    {
      "cell_type": "code",
      "execution_count": null,
      "metadata": {
        "id": "RI6e9_68HvQe"
      },
      "outputs": [],
      "source": [
        "def predict(input):\n",
        "    # input: numpy array, (batches, height, width, channels)                                                                                                                                                     \n",
        "    \n",
        "    model.eval()                                                                                                                                                             \n",
        "    input = torch.FloatTensor(input).permute(0, 3, 1, 2)                                                                                                            \n",
        "    # pytorch tensor, (batches, channels, height, width)\n",
        "\n",
        "    output = model(input.cuda())                                                                                                                                             \n",
        "    return output.detach().cpu().numpy()                                                                                                                              \n",
        "                                                                                                                                                                             \n",
        "def segmentation(input):\n",
        "    # split the image into 200 pieces with the help of segmentaion from skimage                                                                                                                   \n",
        "    return slic(input, n_segments=200, compactness=1, sigma=1, start_label=1)                                                                                                              \n",
        "                                                                                                                                                                             \n",
        "\n",
        "fig, axs = plt.subplots(1, len(img_indices), figsize=(15, 8))                                                                                                                                                                 \n",
        "# fix the random seed to make it reproducible\n",
        "np.random.seed(16)                                                                                                                                                       \n",
        "for idx, (image, label) in enumerate(zip(images.permute(0, 2, 3, 1).numpy(), labels)):                                                                                                                                             \n",
        "    x = image.astype(np.double)\n",
        "    # numpy array for lime\n",
        "\n",
        "    explainer = lime_image.LimeImageExplainer()                                                                                                                              \n",
        "    explaination = explainer.explain_instance(image=x, classifier_fn=predict, segmentation_fn=segmentation)\n",
        "\n",
        "    # doc: https://lime-ml.readthedocs.io/en/latest/lime.html?highlight=explain_instance#lime.lime_image.LimeImageExplainer.explain_instance\n",
        "\n",
        "    lime_img, mask = explaination.get_image_and_mask(                                                                                                                         \n",
        "                                label=label.item(),                                                                                                                           \n",
        "                                positive_only=False,                                                                                                                         \n",
        "                                hide_rest=False,                                                                                                                             \n",
        "                                num_features=11,                                                                                                                              \n",
        "                                min_weight=0.05                                                                                                                            \n",
        "                            )\n",
        "    # turn the result from explainer to the image\n",
        "    # doc: https://lime-ml.readthedocs.io/en/latest/lime.html?highlight=get_image_and_mask#lime.lime_image.ImageExplanation.get_image_and_mask\n",
        "    \n",
        "    axs[idx].imshow(lime_img)\n",
        "\n",
        "plt.show()\n",
        "plt.close()"
      ]
    },
    {
      "cell_type": "markdown",
      "source": [
        "## Saliency Map (Q5~9)"
      ],
      "metadata": {
        "id": "zctMN1bdCTVY"
      }
    },
    {
      "cell_type": "markdown",
      "source": [
        "What is Saliency map ?\n",
        "\n",
        "Saliency: 顯著性\n",
        "\n",
        "The heatmaps that highlight pixels of the input image that contribute the most in the classification task.\n",
        "\n",
        "Ref: https://medium.com/datadriveninvestor/visualizing-neural-networks-using-saliency-maps-in-pytorch-289d8e244ab4"
      ],
      "metadata": {
        "id": "EYDU5l9PCc6B"
      }
    },
    {
      "cell_type": "markdown",
      "source": [
        "We put an image into the model, forward then calculate the loss referring to the label. Therefore, the loss is related to:\n",
        "\n",
        "\n",
        "*   image\n",
        "*   model parameters\n",
        "*   label\n",
        "\n",
        "Generally speaking, we change model parameters to fit \"image\" and \"label\". When backward, we calculate the partial differential value of **loss to model parameters**.\n",
        "\n",
        "Now, we have another look. When we change the image's pixel value, the partial differential value of **loss to image** shows the change in the loss. We can say that it means the importance of the pixel. We can visualize it to demonstrate which part of the image contribute the most to the model's judgment."
      ],
      "metadata": {
        "id": "SazwNhS4ChoO"
      }
    },
    {
      "cell_type": "code",
      "execution_count": null,
      "metadata": {
        "id": "swIZSW7O04O-"
      },
      "outputs": [],
      "source": [
        "def normalize(image):\n",
        "  return (image - image.min()) / (image.max() - image.min())\n",
        "  # return torch.log(image)/torch.log(image.max())\n",
        "\n",
        "def compute_saliency_maps(x, y, model):\n",
        "  model.eval()\n",
        "  x = x.cuda()\n",
        "\n",
        "  # we want the gradient of the input x\n",
        "  x.requires_grad_()\n",
        "  \n",
        "  y_pred = model(x)\n",
        "  loss_func = torch.nn.CrossEntropyLoss()\n",
        "  loss = loss_func(y_pred, y.cuda())\n",
        "  loss.backward()\n",
        "\n",
        "  # saliencies = x.grad.abs().detach().cpu()\n",
        "  saliencies, _ = torch.max(x.grad.data.abs().detach().cpu(),dim=1)\n",
        "\n",
        "  # We need to normalize each image, because their gradients might vary in scale\n",
        "  saliencies = torch.stack([normalize(item) for item in saliencies])\n",
        "  return saliencies"
      ]
    },
    {
      "cell_type": "code",
      "execution_count": null,
      "metadata": {
        "id": "S_w8iSe319Ws"
      },
      "outputs": [],
      "source": [
        "# images, labels = train_set.getbatch(img_indices)\n",
        "saliencies = compute_saliency_maps(images, labels, model)\n",
        "\n",
        "# visualize\n",
        "fig, axs = plt.subplots(2, len(img_indices), figsize=(15, 8))\n",
        "for row, target in enumerate([images, saliencies]):\n",
        "  for column, img in enumerate(target):\n",
        "    if row==0:\n",
        "      axs[row][column].imshow(img.permute(1, 2, 0).numpy())\n",
        "      # What is permute?\n",
        "      # In pytorch, the meaning of each dimension of image tensor is (channels, height, width)\n",
        "      # In matplotlib, the meaning of each dimension of image tensor is (height, width, channels)\n",
        "      # permute is a tool for permuting dimensions of tensors\n",
        "      # For example, img.permute(1, 2, 0) means that,\n",
        "      # - 0 dimension is the 1 dimension of the original tensor, which is height\n",
        "      # - 1 dimension is the 2 dimension of the original tensor, which is width\n",
        "      # - 2 dimension is the 0 dimension of the original tensor, which is channels\n",
        "    else:\n",
        "      axs[row][column].imshow(img.numpy(), cmap=plt.cm.hot)\n",
        "    \n",
        "plt.show()\n",
        "plt.close()"
      ]
    },
    {
      "cell_type": "markdown",
      "source": [
        "## Smooth Grad (Q10~13)\n",
        "Smooth grad 的方法是，在圖片中隨機地加入 noise，然後得到不同的 heatmap，把這些 heatmap 平均起來就得到一個比較能抵抗 noisy gradient 的結果。\n",
        "\n",
        "The method of Smooth grad is to randomly add noise to the image and get different heatmaps. The average of the heatmaps would be more robust to noisy gradient.\n",
        "\n",
        "ref: https://arxiv.org/pdf/1706.03825.pdf"
      ],
      "metadata": {
        "id": "IAslTKyuDIvq"
      }
    },
    {
      "cell_type": "code",
      "execution_count": null,
      "metadata": {
        "id": "EjusfKjISm-k"
      },
      "outputs": [],
      "source": [
        "# Smooth grad\n",
        "\n",
        "def normalize(image):\n",
        "  return (image - image.min()) / (image.max() - image.min())\n",
        "\n",
        "def smooth_grad(x, y, model, epoch, param_sigma_multiplier):\n",
        "  model.eval()\n",
        "  #x = x.cuda().unsqueeze(0)\n",
        "\n",
        "  mean = 0\n",
        "  sigma = param_sigma_multiplier / (torch.max(x) - torch.min(x)).item()\n",
        "  smooth = np.zeros(x.cuda().unsqueeze(0).size())\n",
        "  for i in range(epoch):\n",
        "    # call Variable to generate random noise\n",
        "    noise = Variable(x.data.new(x.size()).normal_(mean, sigma**2))\n",
        "    x_mod = (x+noise).unsqueeze(0).cuda()\n",
        "    x_mod.requires_grad_()\n",
        "\n",
        "    y_pred = model(x_mod)\n",
        "    loss_func = torch.nn.CrossEntropyLoss()\n",
        "    loss = loss_func(y_pred, y.cuda().unsqueeze(0))\n",
        "    loss.backward()\n",
        "\n",
        "    # like the method in saliency map\n",
        "    smooth += x_mod.grad.abs().detach().cpu().data.numpy()\n",
        "  smooth = normalize(smooth / epoch) # don't forget to normalize\n",
        "  # smooth = smooth / epoch # try this line to answer the question\n",
        "  return smooth\n",
        "\n",
        "# images, labels = train_set.getbatch(img_indices)\n",
        "smooth = []\n",
        "for i, l in zip(images, labels):\n",
        "  smooth.append(smooth_grad(i, l, model, 500, 0.4))\n",
        "smooth = np.stack(smooth)\n",
        "# print(smooth.shape)\n",
        "\n",
        "fig, axs = plt.subplots(2, len(img_indices), figsize=(15, 8))\n",
        "for row, target in enumerate([images, smooth]):\n",
        "  for column, img in enumerate(target):\n",
        "    axs[row][column].imshow(np.transpose(img.reshape(3,128,128), (1,2,0)))"
      ]
    },
    {
      "cell_type": "markdown",
      "metadata": {
        "id": "6Z9o2c3jTlwG"
      },
      "source": [
        "## Filter Explanation (Q14~17)\n",
        "\n",
        "這裡我們想要知道某一個 filter 到底認出了什麼。我們會做以下兩件事情：\n",
        "- Filter activation: 挑幾張圖片出來，看看圖片中哪些位置會 activate 該 filter\n",
        "- Filter visualization: 找出怎樣的 image 可以最大程度的 activate 該 filter\n",
        "\n",
        "In this part, we want to know what a specific filter recognize, we'll do\n",
        "- Filter activation: pick up some images, and check which part of the image activates the filter\n",
        "- Filter visualization: look for which kind of image can activate the filter the most\n",
        "\n",
        "實作上比較困難的地方是，通常我們是直接把 image 丟進 model，一路 forward 到底。如：\n",
        "\n",
        "The problem is that, in normal case, we'll directly feed the image to the model, for example,\n",
        "```\n",
        "loss = model(image)\n",
        "loss.backward()\n",
        "```\n",
        "我們要怎麼得到中間某層 CNN 的 output? \n",
        "\n",
        "當然我們可以直接修改 model definition，讓 forward 不只 return loss，也 return activation map。但這樣的寫法麻煩了，更改了 forward 的 output 可能會讓其他部分的 code 要跟著改動。因此 pytorch 提供了方便的 solution: **hook**。\n",
        "\n",
        "How can we get the output of a specific layer of CNN? \n",
        "\n",
        "We can modify the model definition, make the forward function not only return loss but also retrun the activation map. But this is difficult to maintain the code. As a result, pytorch offers a better solution: **hook**\n"
      ]
    },
    {
      "cell_type": "code",
      "execution_count": null,
      "metadata": {
        "id": "BRqCZNd7-Hjb"
      },
      "outputs": [],
      "source": [
        "model"
      ]
    },
    {
      "cell_type": "code",
      "execution_count": null,
      "metadata": {
        "id": "sVJlyj01b_A4"
      },
      "outputs": [],
      "source": [
        "def normalize(image):\n",
        "  return (image - image.min()) / (image.max() - image.min())\n",
        "\n",
        "layer_activations = None\n",
        "def filter_explanation(x, model, cnnid, filterid, iteration=100, lr=1):\n",
        "  # x: input image\n",
        "  # cnnid: cnn layer id\n",
        "  # filterid: which filter\n",
        "  model.eval()\n",
        "\n",
        "  def hook(model, input, output):\n",
        "    global layer_activations\n",
        "    layer_activations = output\n",
        "  \n",
        "  hook_handle = model.cnn[cnnid].register_forward_hook(hook)\n",
        "  # When the model forwards through the layer[cnnid], it needs to call the hook function first\n",
        "  # The hook function save the output of the layer[cnnid]\n",
        "  # After forwarding, we'll have the loss and the layer activation\n",
        "\n",
        "  # Filter activation: x passing the filter will generate the activation map\n",
        "  model(x.cuda()) # forward\n",
        "\n",
        "  # Based on the filterid given by the function argument, pick up the specific filter's activation map\n",
        "  # We just need to plot it, so we can detach from graph and save as cpu tensor\n",
        "  filter_activations = layer_activations[:, filterid, :, :].detach().cpu()\n",
        "  \n",
        "  # Filter visualization: find the image that can activate the filter the most\n",
        "  x = x.cuda()\n",
        "  x.requires_grad_()\n",
        "  # input image gradient\n",
        "  optimizer = Adam([x], lr=lr)\n",
        "  # Use optimizer to modify the input image to amplify filter activation\n",
        "  for iter in range(iteration):\n",
        "    optimizer.zero_grad()\n",
        "    model(x)\n",
        "    \n",
        "    objective = -layer_activations[:, filterid, :, :].sum()\n",
        "    # We want to maximize the filter activation's summation\n",
        "    # So we add a negative sign\n",
        "    \n",
        "    objective.backward()\n",
        "    # Calculate the partial differential value of filter activation to input image\n",
        "    optimizer.step()\n",
        "    # Modify input image to maximize filter activation\n",
        "  filter_visualizations = x.detach().cpu().squeeze()\n",
        "\n",
        "  # Don't forget to remove the hook\n",
        "  hook_handle.remove()\n",
        "  # The hook will exist after the model register it, so you have to remove it after used\n",
        "  # Just register a new hook if you want to use it\n",
        "\n",
        "  return filter_activations, filter_visualizations"
      ]
    },
    {
      "cell_type": "code",
      "execution_count": null,
      "metadata": {
        "id": "l7Q-0mxV-xoo"
      },
      "outputs": [],
      "source": [
        "images, labels = train_set.getbatch(img_indices)\n",
        "filter_activations, filter_visualizations = filter_explanation(images, model, cnnid=6, filterid=0, iteration=100, lr=0.1)\n",
        "\n",
        "fig, axs = plt.subplots(3, len(img_indices), figsize=(15, 8))\n",
        "for i, img in enumerate(images):\n",
        "  axs[0][i].imshow(img.permute(1, 2, 0))\n",
        "# Plot filter activations\n",
        "for i, img in enumerate(filter_activations):\n",
        "  axs[1][i].imshow(normalize(img))\n",
        "# Plot filter visualization\n",
        "for i, img in enumerate(filter_visualizations):\n",
        "  axs[2][i].imshow(normalize(img.permute(1, 2, 0)))\n",
        "plt.show()\n",
        "plt.close()"
      ]
    },
    {
      "cell_type": "code",
      "execution_count": null,
      "metadata": {
        "id": "FAaUtuvl7Chg"
      },
      "outputs": [],
      "source": [
        "images, labels = train_set.getbatch(img_indices)\n",
        "filter_activations, filter_visualizations = filter_explanation(images, model, cnnid=23, filterid=0, iteration=100, lr=0.1)\n",
        "\n",
        "# Plot filter activations\n",
        "fig, axs = plt.subplots(3, len(img_indices), figsize=(15, 8))\n",
        "for i, img in enumerate(images):\n",
        "  axs[0][i].imshow(img.permute(1, 2, 0))\n",
        "for i, img in enumerate(filter_activations):\n",
        "  axs[1][i].imshow(normalize(img))\n",
        "for i, img in enumerate(filter_visualizations):\n",
        "  axs[2][i].imshow(normalize(img.permute(1, 2, 0)))\n",
        "plt.show()\n",
        "plt.close()\n"
      ]
    },
    {
      "cell_type": "markdown",
      "source": [
        "##Integrated Gradients (Q18~20)"
      ],
      "metadata": {
        "id": "VgytLPR5Gw1c"
      }
    },
    {
      "cell_type": "code",
      "execution_count": null,
      "metadata": {
        "id": "SK3JVklGiqw6"
      },
      "outputs": [],
      "source": [
        "class IntegratedGradients():\n",
        "    def __init__(self, model):\n",
        "        self.model = model\n",
        "        self.gradients = None\n",
        "        # Put model in evaluation mode\n",
        "        self.model.eval()\n",
        "\n",
        "    def generate_images_on_linear_path(self, input_image, steps):\n",
        "        # Generate scaled xbar images\n",
        "        xbar_list = [input_image*step/steps for step in range(steps)]\n",
        "        return xbar_list\n",
        "\n",
        "    def generate_gradients(self, input_image, target_class):\n",
        "        # We want to get the gradients of the input image\n",
        "        input_image.requires_grad=True\n",
        "        # Forward\n",
        "        model_output = self.model(input_image)\n",
        "        # Zero grads\n",
        "        self.model.zero_grad()\n",
        "        # Target for backprop\n",
        "        one_hot_output = torch.FloatTensor(1, model_output.size()[-1]).zero_().cuda()\n",
        "        one_hot_output[0][target_class] = 1\n",
        "        # Backward\n",
        "        model_output.backward(gradient=one_hot_output)\n",
        "        self.gradients = input_image.grad\n",
        "        # Convert Pytorch variable to numpy array\n",
        "        # [0] to get rid of the first channel (1,3,128,128)\n",
        "        gradients_as_arr = self.gradients.data.cpu().numpy()[0]\n",
        "        return gradients_as_arr\n",
        "\n",
        "    def generate_integrated_gradients(self, input_image, target_class, steps):\n",
        "        # Generate xbar images\n",
        "        xbar_list = self.generate_images_on_linear_path(input_image, steps)\n",
        "        # Initialize an image composed of zeros\n",
        "        integrated_grads = np.zeros(input_image.size())\n",
        "        for xbar_image in xbar_list:\n",
        "            # Generate gradients from xbar images\n",
        "            single_integrated_grad = self.generate_gradients(xbar_image, target_class)\n",
        "            # Add rescaled grads from xbar images\n",
        "            integrated_grads = integrated_grads + single_integrated_grad/steps\n",
        "        # [0] to get rid of the first channel (1,3,128,128)\n",
        "        return integrated_grads[0]\n",
        "\n",
        "def normalize(image):\n",
        "  return (image - image.min()) / (image.max() - image.min())"
      ]
    },
    {
      "cell_type": "code",
      "execution_count": null,
      "metadata": {
        "id": "YiVRoNgFwTY1"
      },
      "outputs": [],
      "source": [
        "# put the image to cuda\n",
        "images, labels = train_set.getbatch(img_indices)\n",
        "images = images.cuda()\n",
        "\n",
        "IG = IntegratedGradients(model)\n",
        "integrated_grads = []\n",
        "for i, img in enumerate(images):\n",
        "  img = img.unsqueeze(0)\n",
        "  integrated_grads.append(IG.generate_integrated_gradients(img, labels[i], 10))\n",
        "fig, axs = plt.subplots(2, len(img_indices), figsize=(15, 8))\n",
        "for i, img in enumerate(images):\n",
        "  axs[0][i].imshow(img.cpu().permute(1, 2, 0))\n",
        "for i, img in enumerate(integrated_grads):\n",
        "  axs[1][i].imshow(np.moveaxis(normalize(img),0,-1))\n",
        "plt.show()\n",
        "plt.close()"
      ]
    },
    {
      "cell_type": "markdown",
      "source": [
        "####Congratulations for finishing Part 1 of Homework 9 !! Almost done !!!"
      ],
      "metadata": {
        "id": "9pqTWud-RBsP"
      }
    },
    {
      "cell_type": "markdown",
      "source": [
        "#**Homework 9 - Explainable AI (Part 2 BERT)**"
      ],
      "metadata": {
        "id": "E8aO_xSiHEqg"
      }
    },
    {
      "cell_type": "markdown",
      "source": [
        "##Attention Visualization (Q21~24)\n",
        "You are highly recommended to visualize on this website directly: https://exbert.net/exBERT.html\n",
        "\n",
        "If the link is broken you can use this link instead: https://huggingface.co/exbert/"
      ],
      "metadata": {
        "id": "6DGbpc88NalA"
      }
    },
    {
      "cell_type": "code",
      "execution_count": null,
      "metadata": {
        "id": "dmo6q27Eo-49"
      },
      "outputs": [],
      "source": [
        "from IPython import display\n",
        "# display.IFrame(\"https://exbert.net/exBERT.html\", width=1600, height=1600)\n",
        "display.IFrame(\"https://huggingface.co/exbert/\", width=1600, height=1600)"
      ]
    },
    {
      "cell_type": "markdown",
      "source": [
        "###Search Results for Q24\n",
        "![hw9_q24.png](data:image/png;base64,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)"
      ],
      "metadata": {
        "id": "ij_qXxlXmLBl"
      }
    },
    {
      "cell_type": "markdown",
      "source": [
        "If you want to obtain the search results for Q24 through the program yourself, you have to install and run exBERT locally.\n",
        "\n",
        "Please refer to this github repo: https://github.com/bhoov/exbert\n",
        "\n",
        "Note that after installation, you have to create the annotated corpus of the raw \"Wizard of Oz\" text for the model “bert-based-cased” first in order to use the search function of exBERT. \n",
        "\n",
        "Please refer to https://github.com/bhoov/exbert/tree/master/server/data_processing#readme"
      ],
      "metadata": {
        "id": "g779Kqu7nnhO"
      }
    },
    {
      "cell_type": "markdown",
      "metadata": {
        "id": "xzxohy5PYmbx"
      },
      "source": [
        "## Import Packages (For Questions 25 - 30)"
      ]
    },
    {
      "cell_type": "code",
      "source": [
        "# Install transformers\n",
        "!pip install transformers==4.28.1"
      ],
      "metadata": {
        "id": "B9VtEn_-ZxPD"
      },
      "execution_count": null,
      "outputs": []
    },
    {
      "cell_type": "code",
      "execution_count": null,
      "metadata": {
        "id": "4zk9AhBRa5DJ"
      },
      "outputs": [],
      "source": [
        "# Import all packages needed\n",
        "import numpy as np\n",
        "import random\n",
        "import torch\n",
        "\n",
        "from sklearn.decomposition import PCA\n",
        "from sklearn.metrics import pairwise_distances\n",
        "from transformers import BertModel, BertTokenizerFast\n",
        "\n",
        "##### For Displaying Traditional Chinese in Colab when Drawing with Matplotlib #####\n",
        "# Colab 進行matplotlib繪圖時顯示繁體中文\n",
        "# 下載台北思源黑體並命名taipei_sans_tc_beta.ttf，移至指定路徑\n",
        "!gdown --id '1JWHUSlcPwoEzmr0VE6J71jcnwinH10G6' --output taipei_sans_tc_beta.ttf\n",
        "\n",
        "from matplotlib.font_manager import FontProperties\n",
        "import matplotlib.pyplot as plt \n",
        "\n",
        "# 自定義字體變數\n",
        "myfont = FontProperties(fname=r'taipei_sans_tc_beta.ttf')\n",
        "\n",
        "# !!!!後續在相關函式中增加fontproperties=myfont屬性即可!!!!\n",
        "##### Code from https://colab.research.google.com/github/willismax/matplotlib_show_chinese_in_colab/blob/master/matplotlib_show_chinese_in_colab.ipynb #####\n",
        "\n",
        "plt.rcParams['figure.figsize'] = [12, 10]\n",
        "\n",
        "# Fix random seed for reproducibility\n",
        "def same_seeds(seed):\n",
        "\ttorch.manual_seed(seed)\n",
        "\tif torch.cuda.is_available():\n",
        "\t\ttorch.cuda.manual_seed(seed)\n",
        "\t\ttorch.cuda.manual_seed_all(seed)\n",
        "\tnp.random.seed(seed)\n",
        "\trandom.seed(seed)\n",
        "\ttorch.backends.cudnn.benchmark = False\n",
        "\ttorch.backends.cudnn.deterministic = True\n",
        "\n",
        "same_seeds(0)"
      ]
    },
    {
      "cell_type": "markdown",
      "metadata": {
        "id": "7HTp9kBsxouS"
      },
      "source": [
        "## Embedding Visualization (Q25~27)\n",
        "\n"
      ]
    },
    {
      "cell_type": "markdown",
      "source": [
        "#### 我們現在有一個預訓練好的模型，並且在閱讀理解上微調過。 \n",
        "閱讀理解需要四個步驟﹕（這些步驟並**不**按照順序排列)\n",
        "\n",
        "1. 將類似的文字分羣 (根據文字在文章中的關係)\n",
        "\n",
        "2. 提取答案\n",
        "\n",
        "3. 將類似的文字分羣 (根據文字的意思)\n",
        "\n",
        "4. 從文章中尋找與問題有關的資訊\n",
        "\n",
        "#### 你可以在只看見模型 hidden states embedding 的情況下，找出各個layer的功能嗎?\n",
        "\n",
        "<br> \n",
        "\n",
        "#### We have a pre-trained model which is fine-tuned for QA. \n",
        "Solving QA requires 4 steps:　(steps are **NOT** in order)\n",
        "\n",
        "1. Clustering similar words together (based on relation of words in context)\n",
        "\n",
        "2. Answer extraction\n",
        "\n",
        "3. Clustering similar words together (based on meaning of words)\n",
        "\n",
        "4. Matching questions with relevant information in context\n",
        "\n",
        "\n",
        "#### Can you find out the functionalities of each layer just by looking into the embedding of hidden states?"
      ],
      "metadata": {
        "id": "l7KtyciK1KW9"
      }
    },
    {
      "cell_type": "markdown",
      "metadata": {
        "id": "2E6Np-zFstOj"
      },
      "source": [
        "### Download Tokenizers and Models' hidden states"
      ]
    },
    {
      "cell_type": "code",
      "execution_count": null,
      "metadata": {
        "id": "dgEkI4N7jHxX"
      },
      "outputs": [],
      "source": [
        "!gdown --id '1h3akaNdouiIGItOqEs6kUZE-hAF0QeDk' --output hw9_bert.zip\n",
        "!unzip hw9_bert.zip"
      ]
    },
    {
      "cell_type": "markdown",
      "metadata": {
        "id": "syC4-t0Yuqp3"
      },
      "source": [
        "### Load Tokenizers"
      ]
    },
    {
      "cell_type": "code",
      "execution_count": null,
      "metadata": {
        "id": "joSq-69fkV3x"
      },
      "outputs": [],
      "source": [
        "Tokenizer = BertTokenizerFast.from_pretrained(\"hw9_bert/Tokenizer\")"
      ]
    },
    {
      "cell_type": "markdown",
      "metadata": {
        "id": "qBa0jYnNriQB"
      },
      "source": [
        "### What to Visualize?"
      ]
    },
    {
      "cell_type": "code",
      "execution_count": null,
      "metadata": {
        "id": "eOWh2Ur7nOsM"
      },
      "outputs": [],
      "source": [
        "contexts, questions, answers = [], [], []\n",
        "\n",
        "# Question 1\n",
        "contexts += [\"Nikola Tesla (Serbian Cyrillic: Никола Тесла; 10 July 1856 – 7 January 1943) was a Serbian American inventor, electrical engineer, \\\n",
        "            mechanical engineer, physicist, and futurist best known for his contributions to the design of the modern alternating current \\\n",
        "            (AC) electricity supply system.\"]\n",
        "questions += [\"In what year was Nikola Tesla born?\"]\n",
        "answers += [\"1856\"]\n",
        "\n",
        "# Question 2\n",
        "contexts += ['Currently detention is one of the most common punishments in schools in the United States, the UK, Ireland, Singapore and other countries. \\\n",
        "            It requires the pupil to remain in school at a given time in the school day (such as lunch, recess or after school); or even to attend \\\n",
        "            school on a non-school day, e.g. \"Saturday detention\" held at some schools. During detention, students normally have to sit in a classroom \\\n",
        "            and do work, write lines or a punishment essay, or sit quietly.']\n",
        "questions += ['What is a common punishment in the UK and Ireland?']\n",
        "answers += ['detention']\n",
        "\n",
        "# Question 3\n",
        "contexts += ['Wolves are afraid of cats. Sheep are afraid of wolves. Mice are afraid of sheep. Gertrude is a mouse. Jessica is a mouse. \\\n",
        "            Emily is a wolf. Cats are afraid of sheep. Winona is a wolf.']\n",
        "questions += ['What is Emily afraid of?']\n",
        "answers += ['cats']"
      ]
    },
    {
      "cell_type": "markdown",
      "metadata": {
        "id": "keDPUw6onTUz"
      },
      "source": [
        "### TODO\n",
        "This is the only part you need to modify to answer Q25~27."
      ]
    },
    {
      "cell_type": "code",
      "execution_count": null,
      "metadata": {
        "id": "q1mF0ieFrfDD"
      },
      "outputs": [],
      "source": [
        "# Choose from 1, 2, 3\n",
        "QUESTION = 1"
      ]
    },
    {
      "cell_type": "markdown",
      "metadata": {
        "id": "rJC_zL5a1A0v"
      },
      "source": [
        "### Visualization"
      ]
    },
    {
      "cell_type": "code",
      "execution_count": null,
      "metadata": {
        "id": "Wc4LAmuQarE7"
      },
      "outputs": [],
      "source": [
        "# Tokenize and encode question and paragraph into model's input format\n",
        "inputs = Tokenizer(questions[QUESTION-1], contexts[QUESTION-1], return_tensors='pt') \n",
        "\n",
        "# Get the [start, end] positions of [question, context] in encoded sequence for plotting\n",
        "question_start, question_end = 1, inputs['input_ids'][0].tolist().index(102) - 1\n",
        "context_start, context_end = question_end + 2, len(inputs['input_ids'][0]) - 2\n",
        "\n",
        "outputs_hidden_states = torch.load(f\"hw9_bert/output/model_q{QUESTION}\")\n",
        "\n",
        "##### Traverse hidden state of all layers #####\n",
        "# \"outputs_hidden_state\" is a tuple with 13 elements, the 1st element is embedding output, the other 12 elements are attention hidden states of layer 1 - 12\n",
        "for layer_index, embeddings in enumerate(outputs_hidden_states[1:]): # 1st element is skipped\n",
        " \n",
        "    # \"embeddings\" has shape [1, sequence_length, 768], where 768 is the dimension of BERT's hidden state\n",
        "    # Dimension of \"embeddings\" is reduced from 768 to 2 using PCA (Principal Component Analysis)\n",
        "    reduced_embeddings = PCA(n_components=2, random_state=0).fit_transform(embeddings[0])\n",
        "\n",
        "    ##### Draw embedding of each token ##### \n",
        "    for i, token_id in enumerate(inputs['input_ids'][0]):\n",
        "        x, y = reduced_embeddings[i] # Embedding has 2 dimensions, each corresponds to a point\n",
        "        word = Tokenizer.decode(token_id) # Decode token back to word\n",
        "        # Scatter points of answer, question and context in different colors\n",
        "        if word in answers[QUESTION-1].split(): # Check if word in answer\n",
        "            plt.scatter(x, y, color='blue', marker='d') \n",
        "        elif question_start <= i <= question_end:\n",
        "            plt.scatter(x, y, color='red')\n",
        "        elif context_start <= i <= context_end:\n",
        "            plt.scatter(x, y, color='green')\n",
        "        else: # skip special tokens [CLS], [SEP]\n",
        "            continue\n",
        "        plt.text(x + 0.1, y + 0.2, word, fontsize=12) # Plot word next to its point\n",
        "    \n",
        "    # Plot \"empty\" points to show labels\n",
        "    plt.plot([], label='answer', color='blue', marker='d')  \n",
        "    plt.plot([], label='question', color='red', marker='o')\n",
        "    plt.plot([], label='context', color='green', marker='o')\n",
        "    plt.legend(loc='best') # Display the area describing the elements in the plot\n",
        "    plt.title('Layer ' + str(layer_index + 1)) # Add title to the plot\n",
        "    plt.show() # Show the plot"
      ]
    },
    {
      "cell_type": "markdown",
      "source": [
        "##Embedding Analysis (Q28~30)"
      ],
      "metadata": {
        "id": "300HEq1VP4rN"
      }
    },
    {
      "cell_type": "code",
      "metadata": {
        "id": "Y1H-xMOn-dLv"
      },
      "source": [
        "model = BertModel.from_pretrained('bert-base-chinese', output_hidden_states=True).eval()\n",
        "tokenizer = BertTokenizerFast.from_pretrained('bert-base-chinese')"
      ],
      "execution_count": null,
      "outputs": []
    },
    {
      "cell_type": "markdown",
      "metadata": {
        "id": "7MV_qNsmHqfD"
      },
      "source": [
        "### What to Visualize?"
      ]
    },
    {
      "cell_type": "code",
      "execution_count": null,
      "metadata": {
        "id": "-WHhO1J3Hx6R"
      },
      "outputs": [],
      "source": [
        "# Sentences for visualization\n",
        "sentences = []\n",
        "sentences += [\"今天買了蘋果來吃\"]\n",
        "sentences += [\"進口蘋果（富士)平均每公斤下跌12.3%\"]\n",
        "sentences += [\"蘋果茶真難喝\"]\n",
        "sentences += [\"老饕都知道智利的蘋果季節即將到來\"]\n",
        "sentences += [\"進口蘋果因防止水分流失故添加人工果糖\"]\n",
        "sentences += [\"蘋果即將於下月發振新款iPhone\"]\n",
        "sentences += [\"蘋果獲新Face ID專利\"]\n",
        "sentences += [\"今天買了蘋果手機\"]\n",
        "sentences += [\"蘋果的股價又跌了\"]\n",
        "sentences += [\"蘋果押寶指紋辨識技術\"]"
      ]
    },
    {
      "cell_type": "markdown",
      "metadata": {
        "id": "UV3pJo85slwz"
      },
      "source": [
        "### TODO\n",
        "\n",
        "This is the only part you need to modify to answer Q28~30."
      ]
    },
    {
      "cell_type": "code",
      "execution_count": null,
      "metadata": {
        "id": "4tdX9HClgz8p"
      },
      "outputs": [],
      "source": [
        "# Index of word selected for embedding comparison. E.g. For sentence \"蘋果茶真難喝\", if index is 0, \"蘋 is selected\"\n",
        "# The first line is the indexes for 蘋; the second line is the indexes for 果\n",
        "select_word_index = [4, 2, 0, 8, 2, 0, 0, 4, 0, 0]\n",
        "# select_word_index = [5, 3, 1, 9, 3, 1, 1, 5, 1, 1]\n",
        "\n",
        "def euclidean_distance(a, b):\n",
        "    # Compute euclidean distance (L2 norm) between two numpy vectors a and b\n",
        "    return 0\n",
        "\n",
        "def cosine_similarity(a, b):\n",
        "    # Compute cosine similarity between two numpy vectors a and b\n",
        "    return 0\n",
        "\n",
        "# Metric for comparison. Choose from euclidean_distance, cosine_similarity\n",
        "METRIC = euclidean_distance\n",
        "\n",
        "def get_select_embedding(output, tokenized_sentence, select_word_index):\n",
        "    # The layer to visualize, choose from 0 to 12\n",
        "    LAYER = 12\n",
        "    # Get selected layer's hidden state\n",
        "    hidden_state = output.hidden_states[LAYER][0]\n",
        "    # Convert select_word_index in sentence to select_token_index in tokenized sentence\n",
        "    select_token_index = tokenized_sentence.word_to_tokens(select_word_index).start\n",
        "    # Return embedding of selected word\n",
        "    return hidden_state[select_token_index].numpy()"
      ]
    },
    {
      "cell_type": "markdown",
      "metadata": {
        "id": "lZFAVj7p-71l"
      },
      "source": [
        "### Visualization"
      ]
    },
    {
      "cell_type": "code",
      "execution_count": null,
      "metadata": {
        "id": "VbM2xA-e-622"
      },
      "outputs": [],
      "source": [
        "# Tokenize and encode sentences into model's input format\n",
        "tokenized_sentences = [tokenizer(sentence, return_tensors='pt') for sentence in sentences]\n",
        "\n",
        "# Input encoded sentences into model and get outputs \n",
        "with torch.no_grad():\n",
        "    outputs = [model(**tokenized_sentence) for tokenized_sentence in tokenized_sentences]\n",
        "\n",
        "# Get embedding of selected word(s) in sentences. \"embeddings\" has shape (len(sentences), 768), where 768 is the dimension of BERT's hidden state\n",
        "embeddings = [get_select_embedding(outputs[i], tokenized_sentences[i], select_word_index[i]) for i in range(len(outputs))]\n",
        "\n",
        "# Pairwse comparsion of sentences' embeddings using the metirc defined. \"similarity_matrix\" has shape [len(sentences), len(sentences)]\n",
        "similarity_matrix = pairwise_distances(embeddings, metric=METRIC) \n",
        "\n",
        "##### Plot the similarity matrix #####\n",
        "plt.rcParams['figure.figsize'] = [12, 10] # Change figure size of the plot\n",
        "plt.imshow(similarity_matrix) # Display an image in the plot\n",
        "plt.colorbar() # Add colorbar to the plot\n",
        "plt.yticks(ticks=range(len(sentences)), labels=sentences, fontproperties=myfont) # Set tick locations and labels (sentences) of y-axis\n",
        "plt.title('Comparison of BERT Word Embeddings') # Add title to the plot\n",
        "for (i,j), label in np.ndenumerate(similarity_matrix): # np.ndenumerate is 2D version of enumerate\n",
        "    plt.text(i, j, '{:.2f}'.format(label), ha='center', va='center') # Add values in similarity_matrix to the corresponding position in the plot\n",
        "plt.show() # Show the plot "
      ]
    }
  ]
}